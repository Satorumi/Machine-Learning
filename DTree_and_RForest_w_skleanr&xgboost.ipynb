{
  "nbformat": 4,
  "nbformat_minor": 0,
  "metadata": {
    "accelerator": "GPU",
    "colab": {
      "name": "DTree_and_RForest_w/skleanr&xgboost.ipynb",
      "provenance": [],
      "authorship_tag": "ABX9TyOlMQPHObCMz7dYorUI1Aff",
      "include_colab_link": true
    },
    "kernelspec": {
      "display_name": "Python 3",
      "name": "python3"
    },
    "language_info": {
      "name": "python"
    }
  },
  "cells": [
    {
      "cell_type": "markdown",
      "metadata": {
        "id": "view-in-github",
        "colab_type": "text"
      },
      "source": [
        "<a href=\"https://colab.research.google.com/github/Satorumi/Machine-Learning/blob/main/DTree_and_RForest_w_skleanr%26xgboost.ipynb\" target=\"_parent\"><img src=\"https://colab.research.google.com/assets/colab-badge.svg\" alt=\"Open In Colab\"/></a>"
      ]
    },
    {
      "cell_type": "markdown",
      "metadata": {
        "id": "MbeEaN6RddGl"
      },
      "source": [
        "## **Decision Trees and Random Forests**\n",
        "\n",
        "Course: [Machine Learning with Python: Zero to GBMs](https://jovian.ai/learn/machine-learning-with-python-zero-to-gbms/lesson/decision-trees-and-hyperparameters)\n",
        "\n",
        "In this assignment, I'll build on the previous assignment to predict the price of a house using information like its location, area, no. of rooms etc. The dataset from the [House Prices - Advanced Regression Techniques](https://www.kaggle.com/c/house-prices-advanced-regression-techniques) competition on `Kaggle`.\n",
        "\n",
        "Step-by-step process:\n",
        "\n",
        "1. Download and prepare the dataset for training\n",
        "2. Train, evaluate and interpret a decision tree\n",
        "3. Train, evaluate and interpret a random forest\n",
        "4. Tune hyperparameters to improve the model\n",
        "5. Make predictions and save the model"
      ]
    },
    {
      "cell_type": "markdown",
      "metadata": {
        "id": "PN8uoKiKDvqA"
      },
      "source": [
        "### Downloading Dataset"
      ]
    },
    {
      "cell_type": "code",
      "metadata": {
        "id": "j_ty2nwTE35k"
      },
      "source": [
        "!pip install opendatasets --upgrade --quiet\n",
        "!pip install scikit-learn --upgrade --quiet\n",
        "!pip install xgboost --upgrade --quiet"
      ],
      "execution_count": null,
      "outputs": []
    },
    {
      "cell_type": "code",
      "metadata": {
        "colab": {
          "base_uri": "https://localhost:8080/",
          "height": 35
        },
        "id": "rl-cwiM-Da8q",
        "outputId": "8948e8bb-61d0-4e05-eaf8-075b764d536a"
      },
      "source": [
        "import os\n",
        "from zipfile import ZipFile\n",
        "from urllib.request import urlretrieve\n",
        "import sklearn\n",
        "sklearn.__version__"
      ],
      "execution_count": null,
      "outputs": [
        {
          "output_type": "execute_result",
          "data": {
            "application/vnd.google.colaboratory.intrinsic+json": {
              "type": "string"
            },
            "text/plain": [
              "'0.24.2'"
            ]
          },
          "metadata": {
            "tags": []
          },
          "execution_count": 2
        }
      ]
    },
    {
      "cell_type": "markdown",
      "metadata": {
        "id": "-W_Mo8ECEk86"
      },
      "source": [
        "Using `datasets` libraries to download dataset from Kaggle"
      ]
    },
    {
      "cell_type": "code",
      "metadata": {
        "colab": {
          "base_uri": "https://localhost:8080/"
        },
        "id": "S3Xq5WBGEcTx",
        "outputId": "f8903da7-c818-4a1d-eeed-b7d64a4739aa"
      },
      "source": [
        "dataset_url = 'https://github.com/JovianML/opendatasets/raw/master/data/house-prices-advanced-regression-techniques.zip'\n",
        "urlretrieve(dataset_url, 'house-prices.zip')\n",
        "with ZipFile('house-prices.zip') as f:\n",
        "    f.extractall(path='house-prices')\n",
        "    \n",
        "os.listdir('house-prices')"
      ],
      "execution_count": null,
      "outputs": [
        {
          "output_type": "execute_result",
          "data": {
            "text/plain": [
              "['data_description.txt', 'sample_submission.csv', 'train.csv', 'test.csv']"
            ]
          },
          "metadata": {
            "tags": []
          },
          "execution_count": 3
        }
      ]
    },
    {
      "cell_type": "markdown",
      "metadata": {
        "id": "U4v1ztGuesSY"
      },
      "source": [
        "  Create dataframe for `train dataset` and `test dataset`. Note: `test_dataset` does not have SalePrice column"
      ]
    },
    {
      "cell_type": "code",
      "metadata": {
        "id": "HSeWm-SIgnD3"
      },
      "source": [
        "import pandas as pd "
      ],
      "execution_count": null,
      "outputs": []
    },
    {
      "cell_type": "code",
      "metadata": {
        "id": "x0pQ0bsBcpTn"
      },
      "source": [
        "train_dataset = pd.read_csv('house-prices/train.csv')\n",
        "test_dataset = pd.read_csv('house-prices/test.csv')"
      ],
      "execution_count": null,
      "outputs": []
    },
    {
      "cell_type": "markdown",
      "metadata": {
        "id": "bfeI39G3DZo0"
      },
      "source": [
        "### EDA - Exploratory Data Analysis\n",
        "House Prices EDA: https://www.kaggle.com/dgawlik/house-prices-eda"
      ]
    },
    {
      "cell_type": "code",
      "metadata": {
        "id": "B65e1Wn9Dpep"
      },
      "source": [
        "%matplotlib inline\n",
        "import numpy as np\n",
        "import matplotlib.pyplot as plt\n",
        "from scipy import stats\n",
        "import sklearn.linear_model as linear_model\n",
        "import seaborn as sns"
      ],
      "execution_count": null,
      "outputs": []
    },
    {
      "cell_type": "markdown",
      "metadata": {
        "id": "KVbHT0ObLRrC"
      },
      "source": [
        "Setting plotting configure"
      ]
    },
    {
      "cell_type": "code",
      "metadata": {
        "id": "n2TzVdGsKdHW"
      },
      "source": [
        "sns.color_palette(palette='light:b', as_cmap=True)\n",
        "sns.set_style('white')\n",
        "plt.rcParams['figure.figsize'] = (15, 7)\n",
        "plt.rcParams['figure.max_open_warning'] = 1"
      ],
      "execution_count": null,
      "outputs": []
    },
    {
      "cell_type": "markdown",
      "metadata": {
        "id": "mX4J2MZREhMX"
      },
      "source": [
        "Select `numerical` column and `categorical` column"
      ]
    },
    {
      "cell_type": "code",
      "metadata": {
        "id": "ElkW8uMnEHBX"
      },
      "source": [
        "# select all numerical col except for id and sale price column\n",
        "quantitative = train_dataset.select_dtypes(include=np.number).columns[1:-1]\n",
        "qualitative = train_dataset.select_dtypes(exclude=np.number).columns"
      ],
      "execution_count": null,
      "outputs": []
    },
    {
      "cell_type": "markdown",
      "metadata": {
        "id": "GCyKLML7lMe2"
      },
      "source": [
        "Identify Missing Data"
      ]
    },
    {
      "cell_type": "code",
      "metadata": {
        "id": "Rg2H_zebflxp"
      },
      "source": [
        "missing_data = train_dataset.isnull().sum()\n",
        "missing_data = missing_data[missing_data.values > 0]\n",
        "missing_data.sort_values(inplace=True)\n",
        "missing_data.plot.bar();"
      ],
      "execution_count": null,
      "outputs": []
    },
    {
      "cell_type": "markdown",
      "metadata": {
        "id": "ecYS5zpMWW-9"
      },
      "source": [
        "`SalePrice` Distribution"
      ]
    },
    {
      "cell_type": "code",
      "metadata": {
        "id": "wOLph0YvPdSW"
      },
      "source": [
        "plt.subplot(1, 3, 1)\n",
        "sns.distplot(train_dataset['SalePrice'])\n",
        "plt.title('Sale Price Distribution')\n",
        "\n",
        "plt.subplot(1, 3, 2)\n",
        "sns.distplot(train_dataset['SalePrice'], kde=False, fit=stats.norm)\n",
        "plt.title('Normal Distribution')\n",
        "\n",
        "plt.subplot(1, 3, 3)\n",
        "sns.distplot(train_dataset['SalePrice'], kde=False, fit=stats.lognorm)\n",
        "plt.title('Log Normal Distribution');"
      ],
      "execution_count": null,
      "outputs": []
    },
    {
      "cell_type": "markdown",
      "metadata": {
        "id": "4FJItwofLgPW"
      },
      "source": [
        "Correlation Matrix\n",
        "\n",
        "[Reference Code](https://towardsdatascience.com/better-heatmaps-and-correlation-matrix-plots-in-python-41445d0f2bec)"
      ]
    },
    {
      "cell_type": "code",
      "metadata": {
        "id": "vhu_IuAjLlVF"
      },
      "source": [
        "corr_matrix = train_dataset.drop(columns=['Id']).corr()\n",
        "fig = sns.heatmap(corr_matrix, cmap=sns.diverging_palette(20, 220, n=200))\n",
        "fig.set_xticklabels(fig.get_xticklabels(), rotation=80)\n",
        "plt.title('Correlation Matrix', fontsize=16);"
      ],
      "execution_count": null,
      "outputs": []
    },
    {
      "cell_type": "markdown",
      "metadata": {
        "id": "l1yHF0xhWtXb"
      },
      "source": [
        "#####Quantitive values"
      ]
    },
    {
      "cell_type": "code",
      "metadata": {
        "id": "pZG7-pjbVXUv"
      },
      "source": [
        "quantitative_df = pd.melt(train_dataset, value_vars=quantitative)\n",
        "\n",
        "# create grids\n",
        "grids = sns.FacetGrid(quantitative_df, col='variable', col_wrap=2, sharex=False, sharey=False)\n",
        "quantitaive_plot = grids.map(sns.distplot, 'value');"
      ],
      "execution_count": null,
      "outputs": []
    },
    {
      "cell_type": "code",
      "metadata": {
        "colab": {
          "base_uri": "https://localhost:8080/",
          "height": 496
        },
        "id": "FlQhiXumbKaa",
        "outputId": "e41c53a9-8355-4507-9a88-050a1905a1a9"
      },
      "source": [
        "sns.jointplot('OverallQual', 'SalePrice', train_dataset, hue='SaleCondition');"
      ],
      "execution_count": null,
      "outputs": [
        {
          "output_type": "stream",
          "text": [
            "/usr/local/lib/python3.7/dist-packages/seaborn/_decorators.py:43: FutureWarning: Pass the following variables as keyword args: x, y, data. From version 0.12, the only valid positional argument will be `data`, and passing other arguments without an explicit keyword will result in an error or misinterpretation.\n",
            "  FutureWarning\n"
          ],
          "name": "stderr"
        },
        {
          "output_type": "display_data",
          "data": {
            "image/png": "[encoded data removed]",
            "text/plain": [
              "<Figure size 432x432 with 3 Axes>"
            ]
          },
          "metadata": {
            "tags": []
          }
        }
      ]
    },
    {
      "cell_type": "code",
      "metadata": {
        "id": "I2HRc3r0yyPs"
      },
      "source": [
        "quantitative_df = pd.melt(train_dataset, id_vars=['SalePrice'], value_vars=quantitative)\n",
        "\n",
        "# create grids\n",
        "grids = sns.FacetGrid(quantitative_df, col='variable', col_wrap=3, sharex=False, sharey=False, palette='light:b')\n",
        "quantitaive_plot = grids.map(sns.regplot, 'value', 'SalePrice');"
      ],
      "execution_count": null,
      "outputs": []
    },
    {
      "cell_type": "markdown",
      "metadata": {
        "id": "j8HDhISCh88z"
      },
      "source": [
        "####Categorical Values"
      ]
    },
    {
      "cell_type": "markdown",
      "metadata": {
        "id": "IrLFoVQ-xY1V"
      },
      "source": [
        "Fill missing values with `MISSING`"
      ]
    },
    {
      "cell_type": "code",
      "metadata": {
        "id": "u8I9A4BJlXk4"
      },
      "source": [
        "for col in qualitative:\n",
        "  train_dataset[col] = train_dataset[col].astype('category')\n",
        "  test_dataset[col] = test_dataset[col].astype('category')\n",
        "  if train_dataset[col].isnull().any():\n",
        "    train_dataset[col] = train_dataset[col].cat.add_categories(['MISSING'])\n",
        "    train_dataset[col] = train_dataset[col].fillna('MISSING') # fill all null val with 'MISSING'\n",
        "  if test_dataset[col].isnull().any():\n",
        "    test_dataset[col] = test_dataset[col].cat.add_categories(['MISSING'])\n",
        "    test_dataset[col] = test_dataset[col].fillna('MISSING') # fill all null val with 'MISSING'"
      ],
      "execution_count": null,
      "outputs": []
    },
    {
      "cell_type": "code",
      "metadata": {
        "id": "4Md3PtH0mGUB"
      },
      "source": [
        "# create a catergorical df where values or categorical\n",
        "categorical_df = pd.melt(train_dataset, id_vars=['SalePrice'], value_vars=qualitative)"
      ],
      "execution_count": null,
      "outputs": []
    },
    {
      "cell_type": "code",
      "metadata": {
        "id": "yKYONBGCiA-T"
      },
      "source": [
        "sns.boxplot(x='Neighborhood', y='SalePrice', data=train_dataset);"
      ],
      "execution_count": null,
      "outputs": []
    },
    {
      "cell_type": "markdown",
      "metadata": {
        "id": "Zz2WkKIm3fIQ"
      },
      "source": [
        "Categorical Columns Distribution with `SalePrice`"
      ]
    },
    {
      "cell_type": "code",
      "metadata": {
        "id": "VVL19t2fm-R2"
      },
      "source": [
        "grids = sns.FacetGrid(categorical_df, col=\"variable\", col_wrap=3, sharex=False, sharey=False, margin_titles=True, height=5)\n",
        "catergorical_plot = grids.map(sns.stripplot, \"value\", \"SalePrice\", color=\".3\")\n",
        "[plt.setp(ax.get_xticklabels(), rotation=90) for ax in catergorical_plot.axes.flat];"
      ],
      "execution_count": null,
      "outputs": []
    },
    {
      "cell_type": "markdown",
      "metadata": {
        "id": "6m4r93BWcU10"
      },
      "source": [
        "### Data Preparation for Training"
      ]
    },
    {
      "cell_type": "markdown",
      "metadata": {
        "id": "vH9fVB2kh0d8"
      },
      "source": [
        "Identify `features` columns and `targets` - `SalePrice` column"
      ]
    },
    {
      "cell_type": "code",
      "metadata": {
        "id": "khVTsusWh6-F"
      },
      "source": [
        "# split train and test dataset into features and target columns\n",
        "features_columns = train_dataset.drop(['SalePrice', 'Id'], axis=1).columns\n",
        "target_column = 'SalePrice'\n",
        "train_features = train_dataset[features_columns].copy(deep=True)\n",
        "train_targets = train_dataset[target_column].copy()\n",
        "\n",
        "test_features = test_dataset[features_columns].copy(deep=True)"
      ],
      "execution_count": null,
      "outputs": []
    },
    {
      "cell_type": "markdown",
      "metadata": {
        "id": "3GEmi15_gCU9"
      },
      "source": [
        "There is several columns with null values. We'll drop columns with large number of nan values and use `SimpleImputer` from scikit-learn to handle missing values on the numerical columns"
      ]
    },
    {
      "cell_type": "code",
      "metadata": {
        "id": "WD1EopoxjyeH"
      },
      "source": [
        "train_features.drop(columns=['PoolQC', 'MiscFeature', 'Alley'], inplace=True)\n",
        "test_features.drop(columns=['PoolQC', 'MiscFeature', 'Alley'], inplace=True)"
      ],
      "execution_count": null,
      "outputs": []
    },
    {
      "cell_type": "code",
      "metadata": {
        "colab": {
          "base_uri": "https://localhost:8080/"
        },
        "id": "cA3BypxndI_c",
        "outputId": "c81007f1-304e-4fec-bbe5-358c29c3f56d"
      },
      "source": [
        "train_features.describe()"
      ],
      "execution_count": null,
      "outputs": [
        {
          "output_type": "execute_result",
          "data": {
            "text/html": [
              "<div>\n",
              "<style scoped>\n",
              "    .dataframe tbody tr th:only-of-type {\n",
              "        vertical-align: middle;\n",
              "    }\n",
              "\n",
              "    .dataframe tbody tr th {\n",
              "        vertical-align: top;\n",
              "    }\n",
              "\n",
              "    .dataframe thead th {\n",
              "        text-align: right;\n",
              "    }\n",
              "</style>\n",
              "<table border=\"1\" class=\"dataframe\">\n",
              "  <thead>\n",
              "    <tr style=\"text-align: right;\">\n",
              "      <th></th>\n",
              "      <th>MSSubClass</th>\n",
              "      <th>LotFrontage</th>\n",
              "      <th>LotArea</th>\n",
              "      <th>OverallQual</th>\n",
              "      <th>OverallCond</th>\n",
              "      <th>YearBuilt</th>\n",
              "      <th>YearRemodAdd</th>\n",
              "      <th>MasVnrArea</th>\n",
              "      <th>BsmtFinSF1</th>\n",
              "      <th>BsmtFinSF2</th>\n",
              "      <th>BsmtUnfSF</th>\n",
              "      <th>TotalBsmtSF</th>\n",
              "      <th>1stFlrSF</th>\n",
              "      <th>2ndFlrSF</th>\n",
              "      <th>LowQualFinSF</th>\n",
              "      <th>GrLivArea</th>\n",
              "      <th>BsmtFullBath</th>\n",
              "      <th>BsmtHalfBath</th>\n",
              "      <th>FullBath</th>\n",
              "      <th>HalfBath</th>\n",
              "      <th>BedroomAbvGr</th>\n",
              "      <th>KitchenAbvGr</th>\n",
              "      <th>TotRmsAbvGrd</th>\n",
              "      <th>Fireplaces</th>\n",
              "      <th>GarageYrBlt</th>\n",
              "      <th>GarageCars</th>\n",
              "      <th>GarageArea</th>\n",
              "      <th>WoodDeckSF</th>\n",
              "      <th>OpenPorchSF</th>\n",
              "      <th>EnclosedPorch</th>\n",
              "      <th>3SsnPorch</th>\n",
              "      <th>ScreenPorch</th>\n",
              "      <th>PoolArea</th>\n",
              "      <th>MiscVal</th>\n",
              "      <th>MoSold</th>\n",
              "      <th>YrSold</th>\n",
              "    </tr>\n",
              "  </thead>\n",
              "  <tbody>\n",
              "    <tr>\n",
              "      <th>count</th>\n",
              "      <td>1460.000000</td>\n",
              "      <td>1201.000000</td>\n",
              "      <td>1460.000000</td>\n",
              "      <td>1460.000000</td>\n",
              "      <td>1460.000000</td>\n",
              "      <td>1460.000000</td>\n",
              "      <td>1460.000000</td>\n",
              "      <td>1452.000000</td>\n",
              "      <td>1460.000000</td>\n",
              "      <td>1460.000000</td>\n",
              "      <td>1460.000000</td>\n",
              "      <td>1460.000000</td>\n",
              "      <td>1460.000000</td>\n",
              "      <td>1460.000000</td>\n",
              "      <td>1460.000000</td>\n",
              "      <td>1460.000000</td>\n",
              "      <td>1460.000000</td>\n",
              "      <td>1460.000000</td>\n",
              "      <td>1460.000000</td>\n",
              "      <td>1460.000000</td>\n",
              "      <td>1460.000000</td>\n",
              "      <td>1460.000000</td>\n",
              "      <td>1460.000000</td>\n",
              "      <td>1460.000000</td>\n",
              "      <td>1379.000000</td>\n",
              "      <td>1460.000000</td>\n",
              "      <td>1460.000000</td>\n",
              "      <td>1460.000000</td>\n",
              "      <td>1460.000000</td>\n",
              "      <td>1460.000000</td>\n",
              "      <td>1460.000000</td>\n",
              "      <td>1460.000000</td>\n",
              "      <td>1460.000000</td>\n",
              "      <td>1460.000000</td>\n",
              "      <td>1460.000000</td>\n",
              "      <td>1460.000000</td>\n",
              "    </tr>\n",
              "    <tr>\n",
              "      <th>mean</th>\n",
              "      <td>56.897260</td>\n",
              "      <td>70.049958</td>\n",
              "      <td>10516.828082</td>\n",
              "      <td>6.099315</td>\n",
              "      <td>5.575342</td>\n",
              "      <td>1971.267808</td>\n",
              "      <td>1984.865753</td>\n",
              "      <td>103.685262</td>\n",
              "      <td>443.639726</td>\n",
              "      <td>46.549315</td>\n",
              "      <td>567.240411</td>\n",
              "      <td>1057.429452</td>\n",
              "      <td>1162.626712</td>\n",
              "      <td>346.992466</td>\n",
              "      <td>5.844521</td>\n",
              "      <td>1515.463699</td>\n",
              "      <td>0.425342</td>\n",
              "      <td>0.057534</td>\n",
              "      <td>1.565068</td>\n",
              "      <td>0.382877</td>\n",
              "      <td>2.866438</td>\n",
              "      <td>1.046575</td>\n",
              "      <td>6.517808</td>\n",
              "      <td>0.613014</td>\n",
              "      <td>1978.506164</td>\n",
              "      <td>1.767123</td>\n",
              "      <td>472.980137</td>\n",
              "      <td>94.244521</td>\n",
              "      <td>46.660274</td>\n",
              "      <td>21.954110</td>\n",
              "      <td>3.409589</td>\n",
              "      <td>15.060959</td>\n",
              "      <td>2.758904</td>\n",
              "      <td>43.489041</td>\n",
              "      <td>6.321918</td>\n",
              "      <td>2007.815753</td>\n",
              "    </tr>\n",
              "    <tr>\n",
              "      <th>std</th>\n",
              "      <td>42.300571</td>\n",
              "      <td>24.284752</td>\n",
              "      <td>9981.264932</td>\n",
              "      <td>1.382997</td>\n",
              "      <td>1.112799</td>\n",
              "      <td>30.202904</td>\n",
              "      <td>20.645407</td>\n",
              "      <td>181.066207</td>\n",
              "      <td>456.098091</td>\n",
              "      <td>161.319273</td>\n",
              "      <td>441.866955</td>\n",
              "      <td>438.705324</td>\n",
              "      <td>386.587738</td>\n",
              "      <td>436.528436</td>\n",
              "      <td>48.623081</td>\n",
              "      <td>525.480383</td>\n",
              "      <td>0.518911</td>\n",
              "      <td>0.238753</td>\n",
              "      <td>0.550916</td>\n",
              "      <td>0.502885</td>\n",
              "      <td>0.815778</td>\n",
              "      <td>0.220338</td>\n",
              "      <td>1.625393</td>\n",
              "      <td>0.644666</td>\n",
              "      <td>24.689725</td>\n",
              "      <td>0.747315</td>\n",
              "      <td>213.804841</td>\n",
              "      <td>125.338794</td>\n",
              "      <td>66.256028</td>\n",
              "      <td>61.119149</td>\n",
              "      <td>29.317331</td>\n",
              "      <td>55.757415</td>\n",
              "      <td>40.177307</td>\n",
              "      <td>496.123024</td>\n",
              "      <td>2.703626</td>\n",
              "      <td>1.328095</td>\n",
              "    </tr>\n",
              "    <tr>\n",
              "      <th>min</th>\n",
              "      <td>20.000000</td>\n",
              "      <td>21.000000</td>\n",
              "      <td>1300.000000</td>\n",
              "      <td>1.000000</td>\n",
              "      <td>1.000000</td>\n",
              "      <td>1872.000000</td>\n",
              "      <td>1950.000000</td>\n",
              "      <td>0.000000</td>\n",
              "      <td>0.000000</td>\n",
              "      <td>0.000000</td>\n",
              "      <td>0.000000</td>\n",
              "      <td>0.000000</td>\n",
              "      <td>334.000000</td>\n",
              "      <td>0.000000</td>\n",
              "      <td>0.000000</td>\n",
              "      <td>334.000000</td>\n",
              "      <td>0.000000</td>\n",
              "      <td>0.000000</td>\n",
              "      <td>0.000000</td>\n",
              "      <td>0.000000</td>\n",
              "      <td>0.000000</td>\n",
              "      <td>0.000000</td>\n",
              "      <td>2.000000</td>\n",
              "      <td>0.000000</td>\n",
              "      <td>1900.000000</td>\n",
              "      <td>0.000000</td>\n",
              "      <td>0.000000</td>\n",
              "      <td>0.000000</td>\n",
              "      <td>0.000000</td>\n",
              "      <td>0.000000</td>\n",
              "      <td>0.000000</td>\n",
              "      <td>0.000000</td>\n",
              "      <td>0.000000</td>\n",
              "      <td>0.000000</td>\n",
              "      <td>1.000000</td>\n",
              "      <td>2006.000000</td>\n",
              "    </tr>\n",
              "    <tr>\n",
              "      <th>25%</th>\n",
              "      <td>20.000000</td>\n",
              "      <td>59.000000</td>\n",
              "      <td>7553.500000</td>\n",
              "      <td>5.000000</td>\n",
              "      <td>5.000000</td>\n",
              "      <td>1954.000000</td>\n",
              "      <td>1967.000000</td>\n",
              "      <td>0.000000</td>\n",
              "      <td>0.000000</td>\n",
              "      <td>0.000000</td>\n",
              "      <td>223.000000</td>\n",
              "      <td>795.750000</td>\n",
              "      <td>882.000000</td>\n",
              "      <td>0.000000</td>\n",
              "      <td>0.000000</td>\n",
              "      <td>1129.500000</td>\n",
              "      <td>0.000000</td>\n",
              "      <td>0.000000</td>\n",
              "      <td>1.000000</td>\n",
              "      <td>0.000000</td>\n",
              "      <td>2.000000</td>\n",
              "      <td>1.000000</td>\n",
              "      <td>5.000000</td>\n",
              "      <td>0.000000</td>\n",
              "      <td>1961.000000</td>\n",
              "      <td>1.000000</td>\n",
              "      <td>334.500000</td>\n",
              "      <td>0.000000</td>\n",
              "      <td>0.000000</td>\n",
              "      <td>0.000000</td>\n",
              "      <td>0.000000</td>\n",
              "      <td>0.000000</td>\n",
              "      <td>0.000000</td>\n",
              "      <td>0.000000</td>\n",
              "      <td>5.000000</td>\n",
              "      <td>2007.000000</td>\n",
              "    </tr>\n",
              "    <tr>\n",
              "      <th>50%</th>\n",
              "      <td>50.000000</td>\n",
              "      <td>69.000000</td>\n",
              "      <td>9478.500000</td>\n",
              "      <td>6.000000</td>\n",
              "      <td>5.000000</td>\n",
              "      <td>1973.000000</td>\n",
              "      <td>1994.000000</td>\n",
              "      <td>0.000000</td>\n",
              "      <td>383.500000</td>\n",
              "      <td>0.000000</td>\n",
              "      <td>477.500000</td>\n",
              "      <td>991.500000</td>\n",
              "      <td>1087.000000</td>\n",
              "      <td>0.000000</td>\n",
              "      <td>0.000000</td>\n",
              "      <td>1464.000000</td>\n",
              "      <td>0.000000</td>\n",
              "      <td>0.000000</td>\n",
              "      <td>2.000000</td>\n",
              "      <td>0.000000</td>\n",
              "      <td>3.000000</td>\n",
              "      <td>1.000000</td>\n",
              "      <td>6.000000</td>\n",
              "      <td>1.000000</td>\n",
              "      <td>1980.000000</td>\n",
              "      <td>2.000000</td>\n",
              "      <td>480.000000</td>\n",
              "      <td>0.000000</td>\n",
              "      <td>25.000000</td>\n",
              "      <td>0.000000</td>\n",
              "      <td>0.000000</td>\n",
              "      <td>0.000000</td>\n",
              "      <td>0.000000</td>\n",
              "      <td>0.000000</td>\n",
              "      <td>6.000000</td>\n",
              "      <td>2008.000000</td>\n",
              "    </tr>\n",
              "    <tr>\n",
              "      <th>75%</th>\n",
              "      <td>70.000000</td>\n",
              "      <td>80.000000</td>\n",
              "      <td>11601.500000</td>\n",
              "      <td>7.000000</td>\n",
              "      <td>6.000000</td>\n",
              "      <td>2000.000000</td>\n",
              "      <td>2004.000000</td>\n",
              "      <td>166.000000</td>\n",
              "      <td>712.250000</td>\n",
              "      <td>0.000000</td>\n",
              "      <td>808.000000</td>\n",
              "      <td>1298.250000</td>\n",
              "      <td>1391.250000</td>\n",
              "      <td>728.000000</td>\n",
              "      <td>0.000000</td>\n",
              "      <td>1776.750000</td>\n",
              "      <td>1.000000</td>\n",
              "      <td>0.000000</td>\n",
              "      <td>2.000000</td>\n",
              "      <td>1.000000</td>\n",
              "      <td>3.000000</td>\n",
              "      <td>1.000000</td>\n",
              "      <td>7.000000</td>\n",
              "      <td>1.000000</td>\n",
              "      <td>2002.000000</td>\n",
              "      <td>2.000000</td>\n",
              "      <td>576.000000</td>\n",
              "      <td>168.000000</td>\n",
              "      <td>68.000000</td>\n",
              "      <td>0.000000</td>\n",
              "      <td>0.000000</td>\n",
              "      <td>0.000000</td>\n",
              "      <td>0.000000</td>\n",
              "      <td>0.000000</td>\n",
              "      <td>8.000000</td>\n",
              "      <td>2009.000000</td>\n",
              "    </tr>\n",
              "    <tr>\n",
              "      <th>max</th>\n",
              "      <td>190.000000</td>\n",
              "      <td>313.000000</td>\n",
              "      <td>215245.000000</td>\n",
              "      <td>10.000000</td>\n",
              "      <td>9.000000</td>\n",
              "      <td>2010.000000</td>\n",
              "      <td>2010.000000</td>\n",
              "      <td>1600.000000</td>\n",
              "      <td>5644.000000</td>\n",
              "      <td>1474.000000</td>\n",
              "      <td>2336.000000</td>\n",
              "      <td>6110.000000</td>\n",
              "      <td>4692.000000</td>\n",
              "      <td>2065.000000</td>\n",
              "      <td>572.000000</td>\n",
              "      <td>5642.000000</td>\n",
              "      <td>3.000000</td>\n",
              "      <td>2.000000</td>\n",
              "      <td>3.000000</td>\n",
              "      <td>2.000000</td>\n",
              "      <td>8.000000</td>\n",
              "      <td>3.000000</td>\n",
              "      <td>14.000000</td>\n",
              "      <td>3.000000</td>\n",
              "      <td>2010.000000</td>\n",
              "      <td>4.000000</td>\n",
              "      <td>1418.000000</td>\n",
              "      <td>857.000000</td>\n",
              "      <td>547.000000</td>\n",
              "      <td>552.000000</td>\n",
              "      <td>508.000000</td>\n",
              "      <td>480.000000</td>\n",
              "      <td>738.000000</td>\n",
              "      <td>15500.000000</td>\n",
              "      <td>12.000000</td>\n",
              "      <td>2010.000000</td>\n",
              "    </tr>\n",
              "  </tbody>\n",
              "</table>\n",
              "</div>"
            ],
            "text/plain": [
              "        MSSubClass  LotFrontage  ...       MoSold       YrSold\n",
              "count  1460.000000  1201.000000  ...  1460.000000  1460.000000\n",
              "mean     56.897260    70.049958  ...     6.321918  2007.815753\n",
              "std      42.300571    24.284752  ...     2.703626     1.328095\n",
              "min      20.000000    21.000000  ...     1.000000  2006.000000\n",
              "25%      20.000000    59.000000  ...     5.000000  2007.000000\n",
              "50%      50.000000    69.000000  ...     6.000000  2008.000000\n",
              "75%      70.000000    80.000000  ...     8.000000  2009.000000\n",
              "max     190.000000   313.000000  ...    12.000000  2010.000000\n",
              "\n",
              "[8 rows x 36 columns]"
            ]
          },
          "metadata": {
            "tags": []
          },
          "execution_count": 17
        }
      ]
    },
    {
      "cell_type": "markdown",
      "metadata": {
        "id": "1y_AUsHVl6pt"
      },
      "source": [
        "Define `numerical` and `categorical` columns"
      ]
    },
    {
      "cell_type": "code",
      "metadata": {
        "id": "NZSWtG032G4H"
      },
      "source": [
        "numerical_columns = train_features.select_dtypes(include=np.number).columns\n",
        "categorical_columns = train_features.select_dtypes(exclude=np.number).columns"
      ],
      "execution_count": null,
      "outputs": []
    },
    {
      "cell_type": "code",
      "metadata": {
        "id": "Ghh1VuYthEr1"
      },
      "source": [
        "from sklearn.impute import SimpleImputer"
      ],
      "execution_count": null,
      "outputs": []
    },
    {
      "cell_type": "code",
      "metadata": {
        "id": "fWpcFesimCC8"
      },
      "source": [
        "# apply imputer to fill missing value with mean values\n",
        "train_features[numerical_columns] = SimpleImputer(strategy='mean').fit_transform(train_features[numerical_columns])\n",
        "test_features[numerical_columns] = SimpleImputer(strategy='mean').fit_transform(test_features[numerical_columns])"
      ],
      "execution_count": null,
      "outputs": []
    },
    {
      "cell_type": "markdown",
      "metadata": {
        "id": "QJBYtwb5oM69"
      },
      "source": [
        "Scalling `Numeric` Values with `MinMaxScaler` and `Encoding` `Categorical` data"
      ]
    },
    {
      "cell_type": "code",
      "metadata": {
        "id": "QpknBr6IoUkZ"
      },
      "source": [
        "from sklearn.preprocessing import MinMaxScaler, OrdinalEncoder"
      ],
      "execution_count": null,
      "outputs": []
    },
    {
      "cell_type": "code",
      "metadata": {
        "id": "95G_fvTOoSY1"
      },
      "source": [
        "# fit and transform test and train numerical values into given range\n",
        "train_features[numerical_columns] = MinMaxScaler().fit_transform(train_features[numerical_columns])\n",
        "test_features[numerical_columns] = MinMaxScaler().fit_transform(test_features[numerical_columns])"
      ],
      "execution_count": null,
      "outputs": []
    },
    {
      "cell_type": "code",
      "metadata": {
        "id": "Uz8t2j_Bnihm"
      },
      "source": [
        "# handle the nan values and encoded all other categorical data\n",
        "# encoder = OrdinalEncoder(handle_unknown='use_encoded_value', unknown_value=np.nan)\n",
        "encoder = OrdinalEncoder()\n",
        "train_features[categorical_columns] = encoder.fit_transform(train_features[categorical_columns])\n",
        "test_features[categorical_columns] = encoder.fit_transform(test_features[categorical_columns])"
      ],
      "execution_count": null,
      "outputs": []
    },
    {
      "cell_type": "markdown",
      "metadata": {
        "id": "aFNTSkUMzj_f"
      },
      "source": [
        "Creating an extra `Validation Set`"
      ]
    },
    {
      "cell_type": "code",
      "metadata": {
        "id": "0nEawWa9zjXE"
      },
      "source": [
        "from sklearn.model_selection import train_test_split"
      ],
      "execution_count": null,
      "outputs": []
    },
    {
      "cell_type": "code",
      "metadata": {
        "id": "rDY5h-7OzxMS"
      },
      "source": [
        "train_features, val_features, train_targets, val_targets = train_test_split(train_features, train_targets, test_size=0.2, random_state=42)"
      ],
      "execution_count": null,
      "outputs": []
    },
    {
      "cell_type": "markdown",
      "metadata": {
        "id": "jyjbS5fg0NEc"
      },
      "source": [
        "### Decision Tree"
      ]
    },
    {
      "cell_type": "markdown",
      "metadata": {
        "id": "z78Ay6DVtYBB"
      },
      "source": [
        "Building `DecisionTreeRegressor`"
      ]
    },
    {
      "cell_type": "code",
      "metadata": {
        "id": "tPaMUscE0MbB"
      },
      "source": [
        "from sklearn.tree import DecisionTreeRegressor\n",
        "from sklearn.model_selection import GridSearchCV"
      ],
      "execution_count": null,
      "outputs": []
    },
    {
      "cell_type": "markdown",
      "metadata": {
        "id": "HZQGTe49-oCX"
      },
      "source": [
        "Using `GridSearchCV` to tune Hyperparameters"
      ]
    },
    {
      "cell_type": "code",
      "metadata": {
        "id": "YDQ1pm6K9qxC"
      },
      "source": [
        "DecisionTree = GridSearchCV(DecisionTreeRegressor(criterion='mse', random_state=42), \n",
        "                            {'max_depth': [10, 20, 30, 35],\n",
        "                             'max_features': [8, 10, 12, 15, 18]},\n",
        "                            scoring='neg_mean_squared_error')"
      ],
      "execution_count": null,
      "outputs": []
    },
    {
      "cell_type": "code",
      "metadata": {
        "id": "rxcuU10J9XYE"
      },
      "source": [
        "%%time\n",
        "TreeRegressors = DecisionTree.fit(train_features, train_targets)"
      ],
      "execution_count": null,
      "outputs": []
    },
    {
      "cell_type": "markdown",
      "metadata": {
        "id": "p2XLI3DlBc6o"
      },
      "source": [
        "Tuning Results: `cv_results_` represent a dict which store all results for different hyperparameters tested. Other attributes like `best_score_`, `best_params_` can be used to evaluate the best parameters"
      ]
    },
    {
      "cell_type": "code",
      "metadata": {
        "id": "kP74wRzsBMON"
      },
      "source": [
        "# display results as pandas dataframe\n",
        "cv_results = pd.DataFrame(TreeRegressors.cv_results_)"
      ],
      "execution_count": null,
      "outputs": []
    },
    {
      "cell_type": "code",
      "metadata": {
        "id": "UUkmH_GpDwD1"
      },
      "source": [
        "best_params = TreeRegressors.best_params_\n",
        "best_tree = TreeRegressors.best_estimator_"
      ],
      "execution_count": null,
      "outputs": []
    },
    {
      "cell_type": "markdown",
      "metadata": {
        "id": "-ArJDWk8ELST"
      },
      "source": [
        "Calling predict on model with the best params"
      ]
    },
    {
      "cell_type": "code",
      "metadata": {
        "id": "j9TSRW7SEEOv"
      },
      "source": [
        "val_pred = best_tree.predict(val_features)\n",
        "val_pred[:10]"
      ],
      "execution_count": null,
      "outputs": []
    },
    {
      "cell_type": "markdown",
      "metadata": {
        "id": "zLZDFN1QFdxR"
      },
      "source": [
        "#### Model Evaluation"
      ]
    },
    {
      "cell_type": "code",
      "metadata": {
        "id": "iUmzm9uVFUJl"
      },
      "source": [
        "from sklearn.metrics import r2_score"
      ],
      "execution_count": null,
      "outputs": []
    },
    {
      "cell_type": "code",
      "metadata": {
        "colab": {
          "base_uri": "https://localhost:8080/",
          "height": 221
        },
        "id": "fMYSqK3sdAoc",
        "outputId": "94f8af52-2dbf-404a-b2da-e2b049bd65b0"
      },
      "source": [
        "# compute the mse for training and validation set\n",
        "mse_train = best_tree.score(train_features, train_targets)\n",
        "mse_val = best_tree.score(val_features, val_targets)\n",
        "print(f'Train MSE: {mse_train} / Validation MSE: {mse_val}')"
      ],
      "execution_count": null,
      "outputs": [
        {
          "output_type": "error",
          "ename": "NameError",
          "evalue": "ignored",
          "traceback": [
            "\u001b[0;31m---------------------------------------------------------------------------\u001b[0m",
            "\u001b[0;31mNameError\u001b[0m                                 Traceback (most recent call last)",
            "\u001b[0;32m<ipython-input-3-750bbe9d479f>\u001b[0m in \u001b[0;36m<module>\u001b[0;34m()\u001b[0m\n\u001b[1;32m      1\u001b[0m \u001b[0;31m# compute the mse for training and validation set\u001b[0m\u001b[0;34m\u001b[0m\u001b[0;34m\u001b[0m\u001b[0;34m\u001b[0m\u001b[0m\n\u001b[0;32m----> 2\u001b[0;31m \u001b[0mmse_train\u001b[0m \u001b[0;34m=\u001b[0m \u001b[0mbest_tree\u001b[0m\u001b[0;34m.\u001b[0m\u001b[0mscore\u001b[0m\u001b[0;34m(\u001b[0m\u001b[0mtrain_features\u001b[0m\u001b[0;34m,\u001b[0m \u001b[0mtrain_targets\u001b[0m\u001b[0;34m)\u001b[0m\u001b[0;34m\u001b[0m\u001b[0;34m\u001b[0m\u001b[0m\n\u001b[0m\u001b[1;32m      3\u001b[0m \u001b[0mmse_val\u001b[0m \u001b[0;34m=\u001b[0m \u001b[0mbest_tree\u001b[0m\u001b[0;34m.\u001b[0m\u001b[0mscore\u001b[0m\u001b[0;34m(\u001b[0m\u001b[0mval_features\u001b[0m\u001b[0;34m,\u001b[0m \u001b[0mval_targets\u001b[0m\u001b[0;34m)\u001b[0m\u001b[0;34m\u001b[0m\u001b[0;34m\u001b[0m\u001b[0m\n\u001b[1;32m      4\u001b[0m \u001b[0mprint\u001b[0m\u001b[0;34m(\u001b[0m\u001b[0;34mf'Train MSE: {mse_train} / Validation MSE: {mse_val}'\u001b[0m\u001b[0;34m)\u001b[0m\u001b[0;34m\u001b[0m\u001b[0;34m\u001b[0m\u001b[0m\n",
            "\u001b[0;31mNameError\u001b[0m: name 'best_tree' is not defined"
          ]
        }
      ]
    },
    {
      "cell_type": "code",
      "metadata": {
        "id": "-L1_ow3TjsuB"
      },
      "source": [
        "val_pred = best_tree.predict(val_features)\n",
        "train_pred = best_tree.predict(train_features)"
      ],
      "execution_count": null,
      "outputs": []
    },
    {
      "cell_type": "code",
      "metadata": {
        "id": "ixOfDYpgErdz"
      },
      "source": [
        "val_r2Score = r2_score(val_pred, val_targets)\n",
        "train_r2Score = r2_score(train_pred, train_targets)\n",
        "print(f'Validation Set r2 score: {val_r2Score}, Training Set: {train_r2Score}')"
      ],
      "execution_count": null,
      "outputs": []
    },
    {
      "cell_type": "markdown",
      "metadata": {
        "id": "aqzlpQvi-eg_"
      },
      "source": [
        "Plotting `Learning Curve`"
      ]
    },
    {
      "cell_type": "code",
      "metadata": {
        "id": "Wmfn78ku-hED"
      },
      "source": [
        "from sklearn.model_selection import learning_curve"
      ],
      "execution_count": null,
      "outputs": []
    },
    {
      "cell_type": "code",
      "metadata": {
        "id": "hGJkzsBB-sMS"
      },
      "source": [
        "train_sizes, train_scores, test_scores, fit_times, _ = learning_curve(best_tree, train_features, train_targets, scoring='r2', return_times=True)"
      ],
      "execution_count": null,
      "outputs": []
    },
    {
      "cell_type": "code",
      "metadata": {
        "id": "zGOnVRCjBy6G"
      },
      "source": [
        "plt.figure(figsize=(12,6))\n",
        "plt.plot(train_sizes, np.mean(train_scores, axis=1))\n",
        "plt.plot(train_sizes, np.mean(test_scores, axis=1))\n",
        "plt.title('DecisionTreeRegression Model Learning Curve')\n",
        "plt.ylabel('Score')\n",
        "plt.xlabel('Data size')\n",
        "plt.legend(['Train', 'Test']);"
      ],
      "execution_count": null,
      "outputs": []
    },
    {
      "cell_type": "markdown",
      "metadata": {
        "id": "9uN7jEbOc1mn"
      },
      "source": [
        "####Tree Visualization"
      ]
    },
    {
      "cell_type": "code",
      "metadata": {
        "id": "eqzzRxyYc0wO"
      },
      "source": [
        "from sklearn.tree import plot_tree, export_text"
      ],
      "execution_count": null,
      "outputs": []
    },
    {
      "cell_type": "code",
      "metadata": {
        "id": "cmbsNhB0BH9f"
      },
      "source": [
        "best_tree.tree.max_depth"
      ],
      "execution_count": null,
      "outputs": []
    },
    {
      "cell_type": "markdown",
      "metadata": {
        "id": "kHC3ZniJfuHx"
      },
      "source": [
        "`feature_importances_` attribute return the importance value of each feature which is used to predict the results"
      ]
    },
    {
      "cell_type": "code",
      "metadata": {
        "id": "2ZOLQKbtfjGf"
      },
      "source": [
        "feature_importances = pd.DataFrame({'features': train_features.columns,\n",
        "                                    'importance': best_tree.feature_importances_}\n",
        "                                   ).sort_values('importance', ascending=False).head(10) "
      ],
      "execution_count": null,
      "outputs": []
    },
    {
      "cell_type": "code",
      "metadata": {
        "id": "UV-4kDOumemB"
      },
      "source": [
        "sns.barplot(data=features_importance, x='importance', y='features', palette='pastel')"
      ],
      "execution_count": null,
      "outputs": []
    },
    {
      "cell_type": "markdown",
      "metadata": {
        "id": "BI05AYO5hz1l"
      },
      "source": [
        "Number of `Garage Cars` and `Remodel date` are the most importance features with Decision Tree."
      ]
    },
    {
      "cell_type": "code",
      "metadata": {
        "id": "IKB6mPKSd5Sj"
      },
      "source": [
        "plt.figure(figsize=(80,20))\n",
        "visual_tree = plot_tree(best_tree, feature_names=train_features.columns, max_depth=3, filled=True);"
      ],
      "execution_count": null,
      "outputs": []
    },
    {
      "cell_type": "code",
      "metadata": {
        "id": "zSQMhNEDegct"
      },
      "source": [
        "tree_text = export_text(best_tree, max_depth=5, feature_names=train_features.columns.to_list())"
      ],
      "execution_count": null,
      "outputs": []
    },
    {
      "cell_type": "markdown",
      "metadata": {
        "id": "I988NtRxkhtn"
      },
      "source": [
        "####**Gradient Boosting Tree**\n",
        "Grandient Boosting Machine:\n",
        "Training Decision Tree to reduce the loss and improve results from previous iteration\n",
        "\n",
        "1. Use average of target column as initial input\n",
        "2. The model is trained to compute the different between the previous predictions and target\n",
        "3. Use learning rate to scale the prediction\n",
        "4. Improved prediction will be obtained from the scaled prediction + previous prediction\n",
        "5. Repeat step 2-5 "
      ]
    },
    {
      "cell_type": "markdown",
      "metadata": {
        "id": "X0cq_ZpNrI1N"
      },
      "source": [
        "Using `xgboost` library to build Tree Boosting model"
      ]
    },
    {
      "cell_type": "code",
      "metadata": {
        "id": "H1H6XYxouXbK"
      },
      "source": [
        "from xgboost import XGBRegressor\n",
        "from sklearn import cross_val_score"
      ],
      "execution_count": null,
      "outputs": []
    },
    {
      "cell_type": "markdown",
      "metadata": {
        "id": "09v0cs2oJz5k"
      },
      "source": [
        "Hyperparameter tuning"
      ]
    },
    {
      "cell_type": "code",
      "metadata": {
        "id": "3jhZ24DSJ2z_"
      },
      "source": [
        "n_estimators = [100, 200, 300, 400, 500, 600]\n",
        "results = {}\n",
        "for n_estimator in n_estimators:\n",
        "  xgb_tree = XGBRegressor(n_estimator=n_estimator)\n",
        "  xgb_tree.fit(train_features, train_targets, \n",
        "               eval_set=[(train_features, train_targets), (test_features, test_targets)],\n",
        "               eval_metric='r2')\n",
        "  # get evaluation results dict\n",
        "  evaluation_result = xgb_tree.evals_result()\n",
        "  results[n_estimator] = {'train': (np.mean(evaluation_result['validation_0'])),\n",
        "                          'val': (np.mean(evaluation_result['validation_1']))}\n",
        "\n",
        "\n",
        "plt.plot(n_estimators, results[n_estimator]['train'] for n_estimator in n_estimators)\n",
        "plt.plot(n_estimators, results[n_estimator]['val'] for n_estimator in n_estimators)\n",
        "plt.title('R2 Score vs number of tree')\n",
        "plt.legend(['Train', 'Validation']);"
      ],
      "execution_count": null,
      "outputs": []
    },
    {
      "cell_type": "code",
      "metadata": {
        "id": "R42GlAEKrH1x"
      },
      "source": [
        "xgb_tree = XGBRegressor(n_estimator=100, max_depth=9, randome_state=42, learning_rate=1e-2, n_jobs=-1)"
      ],
      "execution_count": null,
      "outputs": []
    },
    {
      "cell_type": "code",
      "metadata": {
        "id": "OOt7Pzv9r-Sc"
      },
      "source": [
        "%%time\n",
        "xgb_tree.fit(train_features, train_targets)"
      ],
      "execution_count": null,
      "outputs": []
    },
    {
      "cell_type": "markdown",
      "metadata": {
        "id": "7RxVm5UGyOsx"
      },
      "source": [
        "**Evaluation**\n",
        "\n",
        "Using `K-fold` cross-validation methods"
      ]
    },
    {
      "cell_type": "code",
      "metadata": {
        "id": "cyT1bRRD3r4n"
      },
      "source": [
        "from sklearn.model_selection import KFold\n",
        "from sklearn.metrics import r2_score"
      ],
      "execution_count": null,
      "outputs": []
    },
    {
      "cell_type": "code",
      "metadata": {
        "id": "Vj4SuwY24ZWv"
      },
      "source": [
        "kfold = KFold(n_splits=5, random_state=42, shuffle=True)\n",
        "\n",
        "# split the current train_features into train and validation set\n",
        "for train_idx, val_idx in kfold.split(train_features):\n",
        "  X_train, y_train = train_features.iloc[train_idx], train_targets.iloc[train_idx]\n",
        "  X_val, y_val = train_features.iloc[val_idx], train_targets.iloc[val_idx]\n",
        "\n",
        "  train_pred = xgb_tree.predict(X_train)\n",
        "  val_pred = xgb_tree.predict(X_val)\n",
        "\n",
        "  # compute cross validation score\n",
        "  train_csv = cross_val_score(xgb_tree, X_train, y_train)\n",
        "  val_csv = cross_val_score(xgb_tree, X_val, y_val)\n",
        "\n",
        "  # compute r2 score\n",
        "  train_r2 = r2_score(train_pred, train_targets)\n",
        "  val_r2 = r2_score(val_pred, val_targets)\n",
        "\n",
        "  \n",
        "  print(f'Training r2 Score: {train_r2: >4f} / Test r2 Score: {val_r2: >4f}')\n",
        "  print(f'Training Cross-Validation Score: {train_csv: >4f} / Validation-set Cross-Validation Score: {val_csv: >4f}')"
      ],
      "execution_count": null,
      "outputs": []
    },
    {
      "cell_type": "markdown",
      "metadata": {
        "id": "TrchFP3_1cEh"
      },
      "source": [
        "**Visualization**\n",
        "\n",
        "We can use `plot_tree` from `xgboost` to display tree graph or `dump` tree into text"
      ]
    },
    {
      "cell_type": "code",
      "metadata": {
        "id": "rm0tpYa71dbd"
      },
      "source": [
        "!pip install graphviz --upgrade --quiet\n",
        "from xgboost import plot_tree"
      ],
      "execution_count": null,
      "outputs": []
    },
    {
      "cell_type": "code",
      "metadata": {
        "id": "7DdOfQJA1sCL"
      },
      "source": [
        "tree_graph = plot_tree(xgb_tree, rankdir='LR', num_trees=10)"
      ],
      "execution_count": null,
      "outputs": []
    },
    {
      "cell_type": "code",
      "metadata": {
        "id": "yYosB4Tb2Qio"
      },
      "source": [
        "tree_text = xgb_tree.get_booster().get_gump()\n",
        "tree_text[0]"
      ],
      "execution_count": null,
      "outputs": []
    },
    {
      "cell_type": "markdown",
      "metadata": {
        "id": "biBXMN4j22lz"
      },
      "source": [
        "getting `features_importances_` score"
      ]
    },
    {
      "cell_type": "code",
      "metadata": {
        "id": "gaD5FI0A27wT"
      },
      "source": [
        "feature_importances_df = pd.DataFrame({'features': train_features.columns,\n",
        "                              'importance': xgb_tree.feature_importances_}).sort_values('importance', ascending=False)"
      ],
      "execution_count": null,
      "outputs": []
    },
    {
      "cell_type": "markdown",
      "metadata": {
        "id": "-g6j3jxZAlXl"
      },
      "source": [
        "### Random Forest"
      ]
    },
    {
      "cell_type": "code",
      "metadata": {
        "id": "_lKzAdVPAlh0"
      },
      "source": [
        "from sklearn.ensemble import RandomForestRegressor"
      ],
      "execution_count": null,
      "outputs": []
    },
    {
      "cell_type": "markdown",
      "metadata": {
        "id": "zeb9E_d_sURn"
      },
      "source": [
        "Hyperparameters Tuning with `GridSearchCV`"
      ]
    },
    {
      "cell_type": "code",
      "metadata": {
        "id": "bRM4hipmBUS_"
      },
      "source": [
        "Forest = GridSearchCV(RandomForestRegressor(n_estimators=150, criterion='mse'),\n",
        "                             {'bootstrap': ['False', 'True'],\n",
        "                              'n_jobs': [-1, None],\n",
        "                              'max_depth' : [35, 30, 20],\n",
        "                              'max_leaf_nodes': [2**5, 2**12],\n",
        "                              'max_features': ['auto', 'log2', 'sqrt'],\n",
        "                              'min_impurity_decrease': [1e-7, 1e-5, 1e-2]},\n",
        "                              scoring='neg_mean_squared_error')"
      ],
      "execution_count": null,
      "outputs": []
    },
    {
      "cell_type": "code",
      "metadata": {
        "id": "eN-Fhs6IBYS8"
      },
      "source": [
        "%%time\n",
        "RandomForest = Forest.fit(train_features, train_targets)"
      ],
      "execution_count": null,
      "outputs": []
    },
    {
      "cell_type": "markdown",
      "metadata": {
        "id": "xQkQwPmOcbKy"
      },
      "source": [
        "#### Random Forest Visualization"
      ]
    },
    {
      "cell_type": "code",
      "metadata": {
        "id": "uo9I3Mw-vc6S"
      },
      "source": [
        "pd.DataFrame({'features': train_features.columns,\n",
        "              'importance': RandomForest.feature_importances_}).sort_values('importance').head()"
      ],
      "execution_count": null,
      "outputs": []
    },
    {
      "cell_type": "code",
      "metadata": {
        "id": "ctamrZ4wcemK"
      },
      "source": [
        "rf_mse_train = RandomForest.score(train_features, train_targets)\n",
        "rf_mse_test = RandomForest.score(test_features, test_targets)"
      ],
      "execution_count": null,
      "outputs": []
    },
    {
      "cell_type": "code",
      "metadata": {
        "id": "3Ph060BcA-oK"
      },
      "source": [
        "rf_r2Score_train = r2_score(train_features, train_targets)\n",
        "rf_r2Score_test = r2_score(test_features, test_targets)"
      ],
      "execution_count": null,
      "outputs": []
    },
    {
      "cell_type": "markdown",
      "metadata": {
        "id": "BR7x9Ip5vI2b"
      },
      "source": [
        "#### Gradient Boosting Random Forest Model"
      ]
    },
    {
      "cell_type": "code",
      "metadata": {
        "id": "uqdBd5kPvR64"
      },
      "source": [
        "from xgboost import XGBRFRegressor\n",
        "from sklearn import cross_val_score, r2_score"
      ],
      "execution_count": null,
      "outputs": []
    },
    {
      "cell_type": "code",
      "metadata": {
        "id": "y2j2xMLYvW7I"
      },
      "source": [
        "xgb_rf = XGBRFRegressor(random_state=42, learning_rate=1e-2, max_depth=8, num_parallel_tree:500)"
      ],
      "execution_count": null,
      "outputs": []
    },
    {
      "cell_type": "code",
      "metadata": {
        "id": "Ev0fsxmJwAB9"
      },
      "source": [
        "xgb_rf.fit(train_features, train_targets)"
      ],
      "execution_count": null,
      "outputs": []
    },
    {
      "cell_type": "code",
      "metadata": {
        "id": "4AqtqH5nzeDI"
      },
      "source": [
        "val_pred = xgb_rf.predict(val_features)"
      ],
      "execution_count": null,
      "outputs": []
    },
    {
      "cell_type": "code",
      "metadata": {
        "id": "ahk5hx8Lz98C"
      },
      "source": [
        "val_csv = cross_val_score(xgb_rf, val_features, val_targets)\n",
        "r2Score = r2_score(val_pred, val_targets)"
      ],
      "execution_count": null,
      "outputs": []
    },
    {
      "cell_type": "markdown",
      "metadata": {
        "id": "t0VmfNqpA-1N"
      },
      "source": [
        "### Making Prediction on `test_dataset`"
      ]
    },
    {
      "cell_type": "code",
      "metadata": {
        "id": "7Y_dzzEnuLCZ"
      },
      "source": [
        "tree_pred = best_tree.predict(test_features)\n",
        "forest_pred = RandomForest.predict(test_features)"
      ],
      "execution_count": null,
      "outputs": []
    },
    {
      "cell_type": "markdown",
      "metadata": {
        "id": "wj-yN2tfBAuW"
      },
      "source": [
        "### Saving Model"
      ]
    },
    {
      "cell_type": "code",
      "metadata": {
        "id": "8bZitv5iBDwp"
      },
      "source": [
        "import joblib"
      ],
      "execution_count": null,
      "outputs": []
    },
    {
      "cell_type": "code",
      "metadata": {
        "id": "DTNzL9DaBHiH"
      },
      "source": [
        "jonlib.dump(model, 'model.joblib')"
      ],
      "execution_count": null,
      "outputs": []
    }
  ]
}