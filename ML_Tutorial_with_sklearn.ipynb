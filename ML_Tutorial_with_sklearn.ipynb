{
  "nbformat": 4,
  "nbformat_minor": 0,
  "metadata": {
    "colab": {
      "name": "ML_Tutorial.ipynb",
      "provenance": [],
      "collapsed_sections": [],
      "authorship_tag": "ABX9TyMTmXiUewtxMvNOTbd0fuWR",
      "include_colab_link": true
    },
    "kernelspec": {
      "name": "python3",
      "display_name": "Python 3"
    },
    "language_info": {
      "name": "python"
    }
  },
  "cells": [
    {
      "cell_type": "markdown",
      "metadata": {
        "id": "view-in-github",
        "colab_type": "text"
      },
      "source": [
        "<a href=\"https://colab.research.google.com/github/Satorumi/Machine-Learning/blob/main/ML_Tutorial_with_sklearn.ipynb\" target=\"_parent\"><img src=\"https://colab.research.google.com/assets/colab-badge.svg\" alt=\"Open In Colab\"/></a>"
      ]
    },
    {
      "cell_type": "markdown",
      "metadata": {
        "id": "1ZrOPs8OLEd2"
      },
      "source": [
        "### **Load Data**"
      ]
    },
    {
      "cell_type": "code",
      "metadata": {
        "colab": {
          "base_uri": "https://localhost:8080/"
        },
        "id": "-ika4eDEJsef",
        "outputId": "b3d249db-6513-4c98-a8c7-2faf7af929cf"
      },
      "source": [
        "# Fetch a single <1MB file using the raw GitHub URL.\n",
        "!curl --remote-name \\\n",
        "     -H 'Accept: application/vnd.github.v3.raw' \\\n",
        "     --location https://raw.githubusercontent.com/Satorumi/sklearn/master/data/sentiment/Books_small_10000.json"
      ],
      "execution_count": null,
      "outputs": [
        {
          "output_type": "stream",
          "text": [
            "  % Total    % Received % Xferd  Average Speed   Time    Time     Time  Current\n",
            "                                 Dload  Upload   Total   Spent    Left  Speed\n",
            "100 7874k  100 7874k    0     0  13.7M      0 --:--:-- --:--:-- --:--:-- 13.7M\n"
          ],
          "name": "stdout"
        }
      ]
    },
    {
      "cell_type": "markdown",
      "metadata": {
        "id": "HSTBAvBqE0Zl"
      },
      "source": [
        "#### Create Classes"
      ]
    },
    {
      "cell_type": "code",
      "metadata": {
        "id": "bHTkFLjQE88b"
      },
      "source": [
        "import random \n",
        "\n",
        "class Review: # define a class to store reviews\n",
        "  def __init__(self, text, score):\n",
        "    self.text = text\n",
        "    self.score = score\n",
        "    self.feedback = self.get_feedback()\n",
        "\n",
        "  def get_feedback(self):\n",
        "    if self.score <= 2:\n",
        "      return 'Negative Feedback'\n",
        "    elif self.score < 4:\n",
        "      return 'Neutral Feedback'\n",
        "    else:\n",
        "      return 'Positive Feedback'\n",
        "\n",
        "class reviewContainer:\n",
        "  def __init__(self, reviews):\n",
        "    self.reviews = reviews\n",
        "\n",
        "  def get_text(self):\n",
        "    return [review.text for review in self.reviews]\n",
        "\n",
        "  def get_feedback(self):\n",
        "    return [review.feedback for review in self.reviews]\n",
        "\n",
        "  def evenly_distribute(self):\n",
        "    negative = list(filter(lambda x: x.feedback == 'Negative Feedback', self.reviews)) # filter out only negative feedback\n",
        "    positive = list(filter(lambda x: x.feedback == 'Positive Feedback', self.reviews))[:len(negative)] # make postive and neutral same len as negative\n",
        "    neutral = list(filter(lambda x: x.feedback == 'Neutral Feedback', self.reviews))[:len(negative)]\n",
        "    self.reviews = negative + positive + neutral\n",
        "    random.shuffle(self.reviews)"
      ],
      "execution_count": null,
      "outputs": []
    },
    {
      "cell_type": "code",
      "metadata": {
        "id": "HJCTgeu5J4dN"
      },
      "source": [
        "import json\n",
        "\n",
        "filename = 'Books_small_10000.json'\n",
        "\n",
        "reviews = [] # store review\n",
        "with open(filename) as f:\n",
        "  for line in f:\n",
        "    review = json.loads(line) # load into python obj\n",
        "    reviews.append(Review(review['reviewText'], review['overall']))\n",
        "\n"
      ],
      "execution_count": null,
      "outputs": []
    },
    {
      "cell_type": "markdown",
      "metadata": {
        "id": "r0u0iPy8OktS"
      },
      "source": [
        "## **Prep Data**"
      ]
    },
    {
      "cell_type": "code",
      "metadata": {
        "colab": {
          "base_uri": "https://localhost:8080/"
        },
        "id": "LQIA88r6OkKG",
        "outputId": "a318f6e3-3b9f-4699-fd16-edc64e1618ea"
      },
      "source": [
        "from sklearn.model_selection import train_test_split\n",
        "\n",
        "# split data for train and test part\n",
        "train, test = train_test_split(reviews, test_size=0.33, random_state=42) \n",
        "\n",
        "train_evenly_distribute = reviewContainer(train)\n",
        "test_evenly_distribute = reviewContainer(test)\n",
        "# apply to get evenly distribute negative and positive feedback\n",
        "train_evenly_distribute.evenly_distribute()\n",
        "test_evenly_distribute.evenly_distribute()\n",
        "\n",
        "# seperate data\n",
        "X_train = train_evenly_distribute.get_text() # encoding fields\n",
        "y_train = train_evenly_distribute.get_feedback() # predict target\n",
        "\n",
        "X_test = test_evenly_distribute.get_text() # encoding fields\n",
        "y_test = test_evenly_distribute.get_feedback() # predict target\n",
        "len(y_train)"
      ],
      "execution_count": null,
      "outputs": [
        {
          "output_type": "execute_result",
          "data": {
            "text/plain": [
              "1308"
            ]
          },
          "metadata": {
            "tags": []
          },
          "execution_count": 150
        }
      ]
    },
    {
      "cell_type": "markdown",
      "metadata": {
        "id": "471lq9nfTU5b"
      },
      "source": [
        "### **Bag of Words**: Count Vectorizers"
      ]
    },
    {
      "cell_type": "code",
      "metadata": {
        "colab": {
          "base_uri": "https://localhost:8080/"
        },
        "id": "9isoXwGJTUm7",
        "outputId": "04da6a89-55b5-4ae5-f688-19b1b5aef80f"
      },
      "source": [
        "from sklearn.feature_extraction.text import CountVectorizer, TfidfVectorizer\n",
        "\n",
        "vectorizer = TfidfVectorizer() # less focus on frequent words\n",
        "X_train_vectors = vectorizer.fit_transform(X_train) # create a vectorized matrix for all text review from X_train\n",
        "X_test_vectors = vectorizer.transform(X_test)\n",
        "X_train_vectors[0] # a matrix store vectorized first text from X train"
      ],
      "execution_count": null,
      "outputs": [
        {
          "output_type": "execute_result",
          "data": {
            "text/plain": [
              "<1x11465 sparse matrix of type '<class 'numpy.float64'>'\n",
              "\twith 96 stored elements in Compressed Sparse Row format>"
            ]
          },
          "metadata": {
            "tags": []
          },
          "execution_count": 151
        }
      ]
    },
    {
      "cell_type": "markdown",
      "metadata": {
        "id": "0S-KX1CvWmj8"
      },
      "source": [
        "### **Model Selection**"
      ]
    },
    {
      "cell_type": "markdown",
      "metadata": {
        "id": "6E2WjK2O0JHY"
      },
      "source": [
        "#### Support Vector Machines"
      ]
    },
    {
      "cell_type": "code",
      "metadata": {
        "id": "K0LeK5ChWmXH"
      },
      "source": [
        "from sklearn import svm\n",
        "\n",
        "clf_svm = svm.SVC(kernel='linear') # use C-Support Vector Classification\n",
        "clf_svm.fit(X_train_vectors, y_train) # fit data to predict\n",
        "svm_pred = clf_svm.predict(X_test_vectors) # predict"
      ],
      "execution_count": null,
      "outputs": []
    },
    {
      "cell_type": "markdown",
      "metadata": {
        "id": "RSb905D00O2T"
      },
      "source": [
        "#### Decision Tree Classifier"
      ]
    },
    {
      "cell_type": "code",
      "metadata": {
        "id": "yaN1g7Qxy3LK"
      },
      "source": [
        "from sklearn.tree import DecisionTreeClassifier\n",
        "\n",
        "tree = DecisionTreeClassifier()\n",
        "tree.fit(X_train_vectors, y_train)\n",
        "tree_predict = tree.predict(X_test_vectors)\n"
      ],
      "execution_count": null,
      "outputs": []
    },
    {
      "cell_type": "markdown",
      "metadata": {
        "id": "W_DvWNj70diM"
      },
      "source": [
        "#### Naive Bayes"
      ]
    },
    {
      "cell_type": "code",
      "metadata": {
        "id": "vh2oheDm0kfH"
      },
      "source": [
        "from sklearn.naive_bayes import GaussianNB\n",
        "\n",
        "gnb = GaussianNB()\n",
        "gnb.fit(X_train_vectors.toarray(), y_train) # fit data\n",
        "gnb_pred = gnb.predict(X_test_vectors.toarray()) # predict"
      ],
      "execution_count": null,
      "outputs": []
    },
    {
      "cell_type": "markdown",
      "metadata": {
        "id": "6hR9hk0f2CxX"
      },
      "source": [
        "#### Logistic Regression"
      ]
    },
    {
      "cell_type": "code",
      "metadata": {
        "id": "qSv9osGN2Gv0"
      },
      "source": [
        "from sklearn.linear_model import LogisticRegression\n",
        "\n",
        "lr = LogisticRegression(random_state=42, max_iter=200)\n",
        "lr.fit(X_train_vectors, y_train)\n",
        "lr_pred = lr.predict(X_test_vectors)"
      ],
      "execution_count": null,
      "outputs": []
    },
    {
      "cell_type": "markdown",
      "metadata": {
        "id": "ilSUtvc14boL"
      },
      "source": [
        "### **Analysis and Evaluation**"
      ]
    },
    {
      "cell_type": "code",
      "metadata": {
        "colab": {
          "base_uri": "https://localhost:8080/"
        },
        "id": "koOrlXjw4bNJ",
        "outputId": "ec36e9ee-d460-4d26-8858-4781c766a9f6"
      },
      "source": [
        "# the mean accuracy on the given test data and labels\n",
        "print(clf_svm.score(X_test_vectors, y_test))\n",
        "print(tree.score(X_test_vectors, y_test))\n",
        "print(gnb.score(X_test_vectors.toarray(), y_test))\n",
        "print(lr.score(X_test_vectors, y_test))"
      ],
      "execution_count": null,
      "outputs": [
        {
          "output_type": "stream",
          "text": [
            "0.6153846153846154\n",
            "0.4439102564102564\n",
            "0.4342948717948718\n",
            "0.6217948717948718\n"
          ],
          "name": "stdout"
        }
      ]
    },
    {
      "cell_type": "code",
      "metadata": {
        "colab": {
          "base_uri": "https://localhost:8080/"
        },
        "id": "IHxPel5p6Sjs",
        "outputId": "ad9a23af-c5ee-4a9d-969a-ec19a71f4c4b"
      },
      "source": [
        "# F1 Score\n",
        "from sklearn.metrics import f1_score\n",
        "print(f1_score(y_test, clf_svm.predict(X_test_vectors), average=None, labels=['Negative Feedback', 'Positive Feedback', 'Neutral Feedback']))\n",
        "print(f1_score(y_test, tree.predict(X_test_vectors), average=None, labels=['Negative Feedback', 'Positive Feedback', 'Neutral Feedback']))\n",
        "print(f1_score(y_test, gnb.predict(X_test_vectors.toarray()), average=None, labels=['Negative Feedback', 'Positive Feedback', 'Neutral Feedback']))\n",
        "print(f1_score(y_test, lr.predict(X_test_vectors), average=None, labels=['Negative Feedback', 'Positive Feedback', 'Neutral Feedback']))"
      ],
      "execution_count": null,
      "outputs": [
        {
          "output_type": "stream",
          "text": [
            "[0.61204819 0.69417476 0.5415677 ]\n",
            "[0.44827586 0.47115385 0.41314554]\n",
            "[0.43902439 0.46786632 0.40089087]\n",
            "[0.62102689 0.70117647 0.5410628 ]\n"
          ],
          "name": "stdout"
        }
      ]
    },
    {
      "cell_type": "markdown",
      "metadata": {
        "id": "f22dE7NoMeMl"
      },
      "source": [
        "### **Tuning Model**"
      ]
    },
    {
      "cell_type": "code",
      "metadata": {
        "colab": {
          "base_uri": "https://localhost:8080/"
        },
        "id": "A2ZB8qocMeWv",
        "outputId": "ec56d21f-55f1-41e2-967b-778e89d147c2"
      },
      "source": [
        "from sklearn.model_selection import GridSearchCV\n",
        "# to test which is the best model selection for data\n",
        "\n",
        "parameters = {'kernel': ('linear', 'rbf'),\n",
        "              'C': [1, 4, 8, 16]}\n",
        "svc = svm.SVC()              \n",
        "clf = GridSearchCV(svc, parameters, cv=5,)\n",
        "clf"
      ],
      "execution_count": null,
      "outputs": [
        {
          "output_type": "execute_result",
          "data": {
            "text/plain": [
              "GridSearchCV(cv=5, error_score=nan,\n",
              "             estimator=SVC(C=1.0, break_ties=False, cache_size=200,\n",
              "                           class_weight=None, coef0=0.0,\n",
              "                           decision_function_shape='ovr', degree=3,\n",
              "                           gamma='scale', kernel='rbf', max_iter=-1,\n",
              "                           probability=False, random_state=None, shrinking=True,\n",
              "                           tol=0.001, verbose=False),\n",
              "             iid='deprecated', n_jobs=None,\n",
              "             param_grid={'C': [1, 4, 8, 16], 'kernel': ('linear', 'rbf')},\n",
              "             pre_dispatch='2*n_jobs', refit=True, return_train_score=False,\n",
              "             scoring=None, verbose=0)"
            ]
          },
          "metadata": {
            "tags": []
          },
          "execution_count": 163
        }
      ]
    },
    {
      "cell_type": "markdown",
      "metadata": {
        "id": "oE_JD3mQQoxm"
      },
      "source": [
        "### **Saving and Loading Model**"
      ]
    },
    {
      "cell_type": "code",
      "metadata": {
        "id": "M7eQytr6Qtlb"
      },
      "source": [
        "import pickle\n",
        "\n",
        "# using pickle librabry to save model\n",
        "with open('mode_name', 'wb') as f:\n",
        "  pickle.dump(model, f)"
      ],
      "execution_count": null,
      "outputs": []
    },
    {
      "cell_type": "code",
      "metadata": {
        "id": "xXTVT_M_RLZl"
      },
      "source": [
        "# load model\n",
        "with open('file_name', 'rb') as f:\n",
        "  model_name = pickle.load(f)\n",
        "\n",
        "# apply model\n",
        "model_name.predict(X, y)"
      ],
      "execution_count": null,
      "outputs": []
    }
  ]
}