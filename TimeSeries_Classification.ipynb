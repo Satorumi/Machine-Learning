{
  "nbformat": 4,
  "nbformat_minor": 0,
  "metadata": {
    "colab": {
      "name": "TimeSeries_Classification.ipynb",
      "provenance": [],
      "collapsed_sections": [
        "BCwa-aNAANHH"
      ],
      "authorship_tag": "ABX9TyP4HqIFVfZKlwsF+Cg/OaU6",
      "include_colab_link": true
    },
    "kernelspec": {
      "name": "python3",
      "display_name": "Python 3"
    },
    "language_info": {
      "name": "python"
    }
  },
  "cells": [
    {
      "cell_type": "markdown",
      "metadata": {
        "id": "view-in-github",
        "colab_type": "text"
      },
      "source": [
        "<a href=\"https://colab.research.google.com/github/Satorumi/Machine-Learning/blob/main/TimeSeries_Classification.ipynb\" target=\"_parent\"><img src=\"https://colab.research.google.com/assets/colab-badge.svg\" alt=\"Open In Colab\"/></a>"
      ]
    },
    {
      "cell_type": "code",
      "metadata": {
        "id": "8Hy2KgBfbjEa"
      },
      "source": [
        "from google.colab import files\n",
        "\n",
        "uploaded = files.upload()\n",
        "\n",
        "for fn in uploaded.keys():\n",
        "  print('User uploaded file \"{name}\" with length {length} bytes'.format(\n",
        "      name=fn, length=len(uploaded[fn])))"
      ],
      "execution_count": null,
      "outputs": []
    },
    {
      "cell_type": "markdown",
      "metadata": {
        "id": "L1T8DfC_fIEt"
      },
      "source": [
        "#### Dataset Context\n",
        "> This dataset contains temporal data from a Wireless Sensor Network deployed in real-world office environments. The task is intended as real-life benchmark in the area of Ambient Assisted Living \n",
        "\n",
        "from: [ics.edu/ml](https://archive.ics.uci.edu/ml/datasets/Indoor+User+Movement+Prediction+from+RSS+data)\n",
        "\n",
        "\n",
        "\n",
        "> Our dataset comprises of 316 files:\n",
        "\n",
        "- 314 MovementAAL csv files containing the readings from motion sensors placed in the environment\n",
        "- A `Target.csv`  contains the target variable for each MovementAAL file\n",
        "- `DatasetGroup.csv` identify which MovementAAL file belongs to which setup group, which can be use to split data into **train, test and validation sets**\n",
        "- The `Path.csv` contains the path which the object took\n"
      ]
    },
    {
      "cell_type": "code",
      "metadata": {
        "id": "BkbExUibcKOZ",
        "colab": {
          "base_uri": "https://localhost:8080/"
        },
        "outputId": "0716994d-34bc-4699-f610-fa9e228f7fd7"
      },
      "source": [
        "!unzip -q MovementAAL.zip"
      ],
      "execution_count": 550,
      "outputs": [
        {
          "output_type": "stream",
          "text": [
            "replace dataset/MovementAAL_RSS_1.csv? [y]es, [n]o, [A]ll, [N]one, [r]ename: "
          ],
          "name": "stdout"
        }
      ]
    },
    {
      "cell_type": "code",
      "metadata": {
        "id": "ZtJ7fPZPbsgj"
      },
      "source": [
        "import pandas as pd"
      ],
      "execution_count": 551,
      "outputs": []
    },
    {
      "cell_type": "markdown",
      "metadata": {
        "id": "FLJE07RriPNm"
      },
      "source": [
        "Each `MovementAAL_RSS.csv` contain normalized data from the four sensors – A1, A2, A3, A4. The length of the csv files (number of rows) vary, since the data corresponding to each csv is for a different duration. **We will suppose the sensor data is collected every second**"
      ]
    },
    {
      "cell_type": "code",
      "metadata": {
        "id": "Xb6KfYZOcO0b"
      },
      "source": [
        "path = '/content/dataset/MovementAAL_RSS_'\n",
        "sequences = list()\n",
        "for i in range(1, 315):\n",
        "    file_path = f'{path}{str(i)}.csv'\n",
        "    # print(file_path)\n",
        "    df = pd.read_csv(file_path, header=0, dtype='float32')\n",
        "    values = df.values\n",
        "    sequences.append(values)"
      ],
      "execution_count": 552,
      "outputs": []
    },
    {
      "cell_type": "code",
      "metadata": {
        "colab": {
          "base_uri": "https://localhost:8080/"
        },
        "id": "Cj8avOMJjEFk",
        "outputId": "38b63f2d-7328-47c1-9af8-e1b24304d504"
      },
      "source": [
        "len(sequences)"
      ],
      "execution_count": 553,
      "outputs": [
        {
          "output_type": "execute_result",
          "data": {
            "text/plain": [
              "314"
            ]
          },
          "metadata": {},
          "execution_count": 553
        }
      ]
    },
    {
      "cell_type": "markdown",
      "metadata": {
        "id": "pLKm3g78kh42"
      },
      "source": [
        "Load in the `target.csv` file and select the clasification labels"
      ]
    },
    {
      "cell_type": "code",
      "metadata": {
        "colab": {
          "base_uri": "https://localhost:8080/",
          "height": 206
        },
        "id": "kR2-88zdhQ4l",
        "outputId": "c765f155-157d-4ee8-b696-a11458d49845"
      },
      "source": [
        "targets_csv = '/content/dataset/MovementAAL_target.csv'\n",
        "targets = pd.read_csv(targets_csv, dtype='float32')\n",
        "targets.head()"
      ],
      "execution_count": 554,
      "outputs": [
        {
          "output_type": "execute_result",
          "data": {
            "text/html": [
              "<div>\n",
              "<style scoped>\n",
              "    .dataframe tbody tr th:only-of-type {\n",
              "        vertical-align: middle;\n",
              "    }\n",
              "\n",
              "    .dataframe tbody tr th {\n",
              "        vertical-align: top;\n",
              "    }\n",
              "\n",
              "    .dataframe thead th {\n",
              "        text-align: right;\n",
              "    }\n",
              "</style>\n",
              "<table border=\"1\" class=\"dataframe\">\n",
              "  <thead>\n",
              "    <tr style=\"text-align: right;\">\n",
              "      <th></th>\n",
              "      <th>#sequence_ID</th>\n",
              "      <th>class_label</th>\n",
              "    </tr>\n",
              "  </thead>\n",
              "  <tbody>\n",
              "    <tr>\n",
              "      <th>0</th>\n",
              "      <td>1.0</td>\n",
              "      <td>1.0</td>\n",
              "    </tr>\n",
              "    <tr>\n",
              "      <th>1</th>\n",
              "      <td>2.0</td>\n",
              "      <td>1.0</td>\n",
              "    </tr>\n",
              "    <tr>\n",
              "      <th>2</th>\n",
              "      <td>3.0</td>\n",
              "      <td>1.0</td>\n",
              "    </tr>\n",
              "    <tr>\n",
              "      <th>3</th>\n",
              "      <td>4.0</td>\n",
              "      <td>1.0</td>\n",
              "    </tr>\n",
              "    <tr>\n",
              "      <th>4</th>\n",
              "      <td>5.0</td>\n",
              "      <td>1.0</td>\n",
              "    </tr>\n",
              "  </tbody>\n",
              "</table>\n",
              "</div>"
            ],
            "text/plain": [
              "   #sequence_ID   class_label\n",
              "0           1.0           1.0\n",
              "1           2.0           1.0\n",
              "2           3.0           1.0\n",
              "3           4.0           1.0\n",
              "4           5.0           1.0"
            ]
          },
          "metadata": {},
          "execution_count": 554
        }
      ]
    },
    {
      "cell_type": "code",
      "metadata": {
        "colab": {
          "base_uri": "https://localhost:8080/"
        },
        "id": "cTxYMwwQjPVY",
        "outputId": "56d94571-3733-469d-f4b0-d474fec887b2"
      },
      "source": [
        "targets = targets.values[:,1]\n",
        "targets[:10]"
      ],
      "execution_count": 555,
      "outputs": [
        {
          "output_type": "execute_result",
          "data": {
            "text/plain": [
              "array([1., 1., 1., 1., 1., 1., 1., 1., 1., 1.], dtype=float32)"
            ]
          },
          "metadata": {},
          "execution_count": 555
        }
      ]
    },
    {
      "cell_type": "markdown",
      "metadata": {
        "id": "TXImeUIQk-RJ"
      },
      "source": [
        "Load in the `DatasetGroup.csv` file and select `dataset_ID`"
      ]
    },
    {
      "cell_type": "code",
      "metadata": {
        "colab": {
          "base_uri": "https://localhost:8080/"
        },
        "id": "PGQvoaR1lEuj",
        "outputId": "9e4aecb9-f1a2-4480-e7b4-9177962a82f1"
      },
      "source": [
        "group_csv = '/content/groups/MovementAAL_DatasetGroup.csv'\n",
        "groups = pd.read_csv(group_csv, header=0)\n",
        "groups = groups.values[:,1]\n",
        "groups[:10], len(groups)"
      ],
      "execution_count": 556,
      "outputs": [
        {
          "output_type": "execute_result",
          "data": {
            "text/plain": [
              "(array([1, 1, 1, 1, 1, 1, 1, 1, 1, 1]), 314)"
            ]
          },
          "metadata": {},
          "execution_count": 556
        }
      ]
    },
    {
      "cell_type": "markdown",
      "metadata": {
        "id": "N6m5AdiJcZBt"
      },
      "source": [
        "### 2. Data Visualization"
      ]
    },
    {
      "cell_type": "code",
      "metadata": {
        "id": "c6cnXIEHclRf"
      },
      "source": [
        "import numpy as np\n",
        "import matplotlib.pyplot as plt\n",
        "import seaborn as sns\n",
        "\n",
        "%matplotlib inline"
      ],
      "execution_count": 557,
      "outputs": []
    },
    {
      "cell_type": "code",
      "metadata": {
        "id": "AtpoWhEKckLF"
      },
      "source": [
        "sns.set_palette('vlag')\n",
        "sns.set_style('whitegrid')\n",
        "plt.rcParams['figure.figsize'] = (15, 7)\n",
        "plt.rcParams['figure.max_open_warning'] = 1\n",
        "plt.rc('figure', titlesize = 16)"
      ],
      "execution_count": 558,
      "outputs": []
    },
    {
      "cell_type": "code",
      "metadata": {
        "colab": {
          "base_uri": "https://localhost:8080/",
          "height": 206
        },
        "id": "DxnU45eunLED",
        "outputId": "ce84b39d-2e7b-48f2-cea3-dd5519ae27ba"
      },
      "source": [
        "pd.DataFrame(sequences[0]).head()"
      ],
      "execution_count": 559,
      "outputs": [
        {
          "output_type": "execute_result",
          "data": {
            "text/html": [
              "<div>\n",
              "<style scoped>\n",
              "    .dataframe tbody tr th:only-of-type {\n",
              "        vertical-align: middle;\n",
              "    }\n",
              "\n",
              "    .dataframe tbody tr th {\n",
              "        vertical-align: top;\n",
              "    }\n",
              "\n",
              "    .dataframe thead th {\n",
              "        text-align: right;\n",
              "    }\n",
              "</style>\n",
              "<table border=\"1\" class=\"dataframe\">\n",
              "  <thead>\n",
              "    <tr style=\"text-align: right;\">\n",
              "      <th></th>\n",
              "      <th>0</th>\n",
              "      <th>1</th>\n",
              "      <th>2</th>\n",
              "      <th>3</th>\n",
              "    </tr>\n",
              "  </thead>\n",
              "  <tbody>\n",
              "    <tr>\n",
              "      <th>0</th>\n",
              "      <td>-0.90476</td>\n",
              "      <td>-0.48</td>\n",
              "      <td>0.28571</td>\n",
              "      <td>0.30</td>\n",
              "    </tr>\n",
              "    <tr>\n",
              "      <th>1</th>\n",
              "      <td>-0.57143</td>\n",
              "      <td>-0.32</td>\n",
              "      <td>0.14286</td>\n",
              "      <td>0.30</td>\n",
              "    </tr>\n",
              "    <tr>\n",
              "      <th>2</th>\n",
              "      <td>-0.38095</td>\n",
              "      <td>-0.28</td>\n",
              "      <td>-0.14286</td>\n",
              "      <td>0.35</td>\n",
              "    </tr>\n",
              "    <tr>\n",
              "      <th>3</th>\n",
              "      <td>-0.28571</td>\n",
              "      <td>-0.20</td>\n",
              "      <td>-0.47619</td>\n",
              "      <td>0.35</td>\n",
              "    </tr>\n",
              "    <tr>\n",
              "      <th>4</th>\n",
              "      <td>-0.14286</td>\n",
              "      <td>-0.20</td>\n",
              "      <td>0.14286</td>\n",
              "      <td>-0.20</td>\n",
              "    </tr>\n",
              "  </tbody>\n",
              "</table>\n",
              "</div>"
            ],
            "text/plain": [
              "         0     1        2     3\n",
              "0 -0.90476 -0.48  0.28571  0.30\n",
              "1 -0.57143 -0.32  0.14286  0.30\n",
              "2 -0.38095 -0.28 -0.14286  0.35\n",
              "3 -0.28571 -0.20 -0.47619  0.35\n",
              "4 -0.14286 -0.20  0.14286 -0.20"
            ]
          },
          "metadata": {},
          "execution_count": 559
        }
      ]
    },
    {
      "cell_type": "code",
      "metadata": {
        "id": "yLO749S2cUru",
        "colab": {
          "base_uri": "https://localhost:8080/",
          "height": 444
        },
        "outputId": "8421ac82-1f62-4bef-f92a-f6217e9df61e"
      },
      "source": [
        "idx = np.random.randint(0, len(sequences))\n",
        "plt.title(f'Sequence {idx}')\n",
        "plt.plot(sequences[idx]);"
      ],
      "execution_count": 746,
      "outputs": [
        {
          "output_type": "display_data",
          "data": {
            "image/png": "[encoded data removed]",
            "text/plain": [
              "<Figure size 1080x504 with 1 Axes>"
            ]
          },
          "metadata": {}
        }
      ]
    },
    {
      "cell_type": "code",
      "metadata": {
        "colab": {
          "base_uri": "https://localhost:8080/",
          "height": 445
        },
        "id": "9C3A3nyvnVRh",
        "outputId": "e9207241-279f-4055-ae2f-5515c24e0c1d"
      },
      "source": [
        "sns.countplot(x=targets)"
      ],
      "execution_count": 561,
      "outputs": [
        {
          "output_type": "execute_result",
          "data": {
            "text/plain": [
              "<matplotlib.axes._subplots.AxesSubplot at 0x7fd0b071ba90>"
            ]
          },
          "metadata": {},
          "execution_count": 561
        },
        {
          "output_type": "display_data",
          "data": {
            "image/png": "[encoded data removed]",
            "text/plain": [
              "<Figure size 1080x504 with 1 Axes>"
            ]
          },
          "metadata": {}
        }
      ]
    },
    {
      "cell_type": "code",
      "metadata": {
        "colab": {
          "base_uri": "https://localhost:8080/",
          "height": 500
        },
        "id": "kXFcdCC7nbx9",
        "outputId": "8e7d61be-7d2f-42ec-8953-a607f2d50198"
      },
      "source": [
        "sns.countplot(x=groups)"
      ],
      "execution_count": 562,
      "outputs": [
        {
          "output_type": "stream",
          "text": [
            "/usr/local/lib/python3.7/dist-packages/seaborn/_decorators.py:43: FutureWarning: Pass the following variable as a keyword arg: x. From version 0.12, the only valid positional argument will be `data`, and passing other arguments without an explicit keyword will result in an error or misinterpretation.\n",
            "  FutureWarning\n"
          ],
          "name": "stderr"
        },
        {
          "output_type": "execute_result",
          "data": {
            "text/plain": [
              "<matplotlib.axes._subplots.AxesSubplot at 0x7fd0ae568410>"
            ]
          },
          "metadata": {},
          "execution_count": 562
        },
        {
          "output_type": "display_data",
          "data": {
            "image/png": "[encoded data removed]",
            "text/plain": [
              "<Figure size 1080x504 with 1 Axes>"
            ]
          },
          "metadata": {}
        }
      ]
    },
    {
      "cell_type": "markdown",
      "metadata": {
        "id": "oMSVVQKUc5gD"
      },
      "source": [
        "### 3. Preprocessing"
      ]
    },
    {
      "cell_type": "code",
      "metadata": {
        "id": "TRQJtLV-onbR"
      },
      "source": [
        "import numpy as np"
      ],
      "execution_count": 614,
      "outputs": []
    },
    {
      "cell_type": "markdown",
      "metadata": {
        "id": "NMv_q0TTEUsx"
      },
      "source": [
        "#### 3.1 Padding"
      ]
    },
    {
      "cell_type": "code",
      "metadata": {
        "colab": {
          "base_uri": "https://localhost:8080/"
        },
        "id": "3SGV2LJnlqaN",
        "outputId": "444e1182-aa1f-4e59-e72b-03dbdeb2ef8b"
      },
      "source": [
        "seqs_length = []\n",
        "for sequence in sequences:\n",
        "    seqs_length.append(len(sequence))\n",
        "pd.Series(seqs_length).describe()"
      ],
      "execution_count": 615,
      "outputs": [
        {
          "output_type": "execute_result",
          "data": {
            "text/plain": [
              "count    314.000000\n",
              "mean      42.028662\n",
              "std       16.185303\n",
              "min       19.000000\n",
              "25%       26.000000\n",
              "50%       41.000000\n",
              "75%       56.000000\n",
              "max      129.000000\n",
              "dtype: float64"
            ]
          },
          "metadata": {},
          "execution_count": 615
        }
      ]
    },
    {
      "cell_type": "markdown",
      "metadata": {
        "id": "h_p5nZWDmIsO"
      },
      "source": [
        "Most files are between 40 to 60, 3 files habe length more than 100. The 90th quartile is 60 and should be taken as the sequence length\n",
        "\n",
        "> Padding the sequence with the values in last row to max length"
      ]
    },
    {
      "cell_type": "code",
      "metadata": {
        "id": "P8qsv0kxmA7o"
      },
      "source": [
        "to_pad = 129\n",
        "new_seqs = []\n",
        "for sequence in sequences:\n",
        "    seq_len = len(sequence)\n",
        "    last_val = sequence[-1]\n",
        "    n = to_pad - seq_len\n",
        "   \n",
        "    to_concat = np.repeat(sequence[-1], n).reshape(4, n).transpose()\n",
        "    new_seq = np.concatenate([sequence, to_concat])\n",
        "    new_seqs.append(new_seq)\n",
        "\n",
        "final_seq = np.stack(new_seqs)\n",
        "\n",
        "# truncate the sequence to length 60\n",
        "from keras.preprocessing import sequence\n",
        "seq_len = 60\n",
        "final_seq = sequence.pad_sequences(final_seq, maxlen=seq_len, padding='post', dtype='float', truncating='post')"
      ],
      "execution_count": 616,
      "outputs": []
    },
    {
      "cell_type": "markdown",
      "metadata": {
        "id": "ReH0MBAwn3th"
      },
      "source": [
        "#### 3.2 Data Splitting\n",
        "> Split data into `train, validation, test` set based on groups"
      ]
    },
    {
      "cell_type": "code",
      "metadata": {
        "colab": {
          "base_uri": "https://localhost:8080/"
        },
        "id": "sRustnKAodui",
        "outputId": "31c5a520-6327-458c-e9c9-74750d77826f"
      },
      "source": [
        "X_train, y_train = [], []\n",
        "X_test, y_test = [], []\n",
        "X_val, y_val = [], []\n",
        "\n",
        "for i in range(len(groups)):\n",
        "  if groups[i] == 1:\n",
        "    X_val.append(final_seq[i])\n",
        "    y_val.append(targets[i])\n",
        "\n",
        "  elif groups[i] == 2:\n",
        "    X_train.append(final_seq[i])\n",
        "    y_train.append(targets[i])\n",
        "\n",
        "  elif groups[i] == 3:\n",
        "    X_test.append(final_seq[i])\n",
        "    y_test.append(targets[i])\n",
        "\n",
        "X_train, y_train = np.array(X_train), (np.array(y_train) + 1) / 2\n",
        "X_test, y_test = np.array(X_test), (np.array(y_test) + 1) / 2\n",
        "X_val, y_val = np.array(X_val), (np.array(y_val) + 1) / 2\n",
        "\n",
        "X_train.shape, y_train.shape"
      ],
      "execution_count": 617,
      "outputs": [
        {
          "output_type": "execute_result",
          "data": {
            "text/plain": [
              "((106, 60, 4), (106,))"
            ]
          },
          "metadata": {},
          "execution_count": 617
        }
      ]
    },
    {
      "cell_type": "markdown",
      "metadata": {
        "id": "uEDWdH4zffB5"
      },
      "source": [
        "#### 3.3 Normalized Data"
      ]
    },
    {
      "cell_type": "code",
      "metadata": {
        "id": "VZyvPFzFfhf8"
      },
      "source": [
        "from sklearn.preprocessing import normalize"
      ],
      "execution_count": 618,
      "outputs": []
    },
    {
      "cell_type": "code",
      "metadata": {
        "id": "h3fJ-QTmgAZR"
      },
      "source": [
        "X_train = np.array([normalize(X) for X in X_train])\n",
        "X_test = np.array([normalize(X) for X in X_test])\n",
        "X_val = np.array([normalize(X) for X in X_val])"
      ],
      "execution_count": 619,
      "outputs": []
    },
    {
      "cell_type": "markdown",
      "metadata": {
        "id": "lbodRPRecynS"
      },
      "source": [
        "### 4. Model"
      ]
    },
    {
      "cell_type": "code",
      "metadata": {
        "id": "pEGxrHClqhgC"
      },
      "source": [
        "! pip install scikit-plot --quiet"
      ],
      "execution_count": 569,
      "outputs": []
    },
    {
      "cell_type": "code",
      "metadata": {
        "id": "1hzQr5OO8U26"
      },
      "source": [
        "from sklearn.metrics import classification_report\n",
        "\n",
        "import scikitplot"
      ],
      "execution_count": 570,
      "outputs": []
    },
    {
      "cell_type": "code",
      "metadata": {
        "id": "KTr4XvnFYx2W"
      },
      "source": [
        "def visualize_performance(history, metric):\n",
        "  plt.title(f'Model {metric}')\n",
        "  plt.plot(history[metric])\n",
        "  plt.plot(history['val_'+ metric], '')\n",
        "  plt.xlabel(\"Epochs\")\n",
        "  plt.ylabel(metric)\n",
        "  plt.legend(['train_' + metric, 'val_' + metric])\n",
        "  plt.title(f'Model {metric}')"
      ],
      "execution_count": 571,
      "outputs": []
    },
    {
      "cell_type": "markdown",
      "metadata": {
        "id": "_HNVVZ3F1IpD"
      },
      "source": [
        "#### 4.1 LSTM Neural Network - TensorFlow"
      ]
    },
    {
      "cell_type": "code",
      "metadata": {
        "id": "t_JQMEJ07Qdm"
      },
      "source": [
        "import tensorflow as tf\n",
        "from tensorflow import keras\n",
        "from tensorflow.keras import layers\n",
        "import tensorflow as tf\n",
        "print(tf.__version__)"
      ],
      "execution_count": 713,
      "outputs": []
    },
    {
      "cell_type": "code",
      "metadata": {
        "id": "tsDHH5nZ7dEn"
      },
      "source": [
        "def build_model(input_shape):\n",
        "  model = keras.Sequential()\n",
        "  model.add(layers.LSTM(256, input_shape=input_shape, return_sequences=True))\n",
        "  model.add(layers.BatchNormalization())\n",
        "  model.add(layers.Dropout(0.2))\n",
        "  model.add(layers.LSTM(128))\n",
        "  model.add(layers.Dense(64, activation='relu'))\n",
        "  model.add(layers.BatchNormalization())\n",
        "  model.add(layers.Dropout(0.2))\n",
        "  model.add(layers.Dense(1, activation='sigmoid'))\n",
        "  return model"
      ],
      "execution_count": 727,
      "outputs": []
    },
    {
      "cell_type": "code",
      "metadata": {
        "id": "hO5qI_Hz7kEh"
      },
      "source": [
        "input_shape = (X_train.shape[1], X_train.shape[2])\n",
        "LSTM_model = build_model(input_shape)\n",
        "\n",
        "lr = 1e-3\n",
        "optimizer = keras.optimizers.Adam(learning_rate=lr)\n",
        "loss = keras.losses.BinaryCrossentropy()\n",
        "metric = ['accuracy']\n",
        "LSTM_model.compile(loss=loss, optimizer=optimizer, metrics=metric)"
      ],
      "execution_count": 728,
      "outputs": []
    },
    {
      "cell_type": "code",
      "metadata": {
        "id": "r6eyVu6ZAr9U",
        "colab": {
          "base_uri": "https://localhost:8080/"
        },
        "outputId": "7ccc7aff-e309-406c-8d2c-2ec40ad1c868"
      },
      "source": [
        "epochs = 10\n",
        "batch_size = 32\n",
        "history = LSTM_model.fit(X_train, y_train, batch_size=batch_size, epochs=epochs, validation_data=(X_val, y_val))"
      ],
      "execution_count": 729,
      "outputs": [
        {
          "output_type": "stream",
          "text": [
            "Epoch 1/10\n",
            "4/4 [==============================] - 6s 648ms/step - loss: 0.7129 - accuracy: 0.6132 - val_loss: 0.6799 - val_accuracy: 0.6058\n",
            "Epoch 2/10\n",
            "4/4 [==============================] - 1s 380ms/step - loss: 0.5205 - accuracy: 0.7453 - val_loss: 0.6738 - val_accuracy: 0.5865\n",
            "Epoch 3/10\n",
            "4/4 [==============================] - 1s 386ms/step - loss: 0.4462 - accuracy: 0.7642 - val_loss: 0.6652 - val_accuracy: 0.6442\n",
            "Epoch 4/10\n",
            "4/4 [==============================] - 1s 382ms/step - loss: 0.3340 - accuracy: 0.8679 - val_loss: 0.6621 - val_accuracy: 0.6827\n",
            "Epoch 5/10\n",
            "4/4 [==============================] - 1s 389ms/step - loss: 0.2618 - accuracy: 0.8679 - val_loss: 0.6599 - val_accuracy: 0.6731\n",
            "Epoch 6/10\n",
            "4/4 [==============================] - 1s 388ms/step - loss: 0.2403 - accuracy: 0.8868 - val_loss: 0.6587 - val_accuracy: 0.6250\n",
            "Epoch 7/10\n",
            "4/4 [==============================] - 1s 378ms/step - loss: 0.2463 - accuracy: 0.9057 - val_loss: 0.6423 - val_accuracy: 0.6827\n",
            "Epoch 8/10\n",
            "4/4 [==============================] - 1s 380ms/step - loss: 0.2165 - accuracy: 0.9245 - val_loss: 0.6361 - val_accuracy: 0.6442\n",
            "Epoch 9/10\n",
            "4/4 [==============================] - 1s 389ms/step - loss: 0.2337 - accuracy: 0.9245 - val_loss: 0.6430 - val_accuracy: 0.6154\n",
            "Epoch 10/10\n",
            "4/4 [==============================] - 1s 380ms/step - loss: 0.1750 - accuracy: 0.9434 - val_loss: 0.6457 - val_accuracy: 0.6346\n"
          ],
          "name": "stdout"
        }
      ]
    },
    {
      "cell_type": "code",
      "metadata": {
        "id": "HczD07VkYzP_",
        "colab": {
          "base_uri": "https://localhost:8080/",
          "height": 458
        },
        "outputId": "c3b45f1b-22f9-4a2e-a851-f45d979610e4"
      },
      "source": [
        "plt.subplot(1, 2, 1)\n",
        "visualize_performance(history.history, 'loss')\n",
        "\n",
        "plt.subplot(1, 2, 2)\n",
        "visualize_performance(history.history, metric[0])"
      ],
      "execution_count": 576,
      "outputs": [
        {
          "output_type": "display_data",
          "data": {
            "image/png": "[encoded data removed]",
            "text/plain": [
              "<Figure size 1080x504 with 2 Axes>"
            ]
          },
          "metadata": {}
        }
      ]
    },
    {
      "cell_type": "code",
      "metadata": {
        "id": "UKvFQIDBP9PI"
      },
      "source": [
        "pred_proba = LSTM_model.predict(X_test)\n",
        "pred = (pred_proba>0.5).astype('int32')"
      ],
      "execution_count": 577,
      "outputs": []
    },
    {
      "cell_type": "code",
      "metadata": {
        "id": "blPJxnSXWN1M",
        "colab": {
          "base_uri": "https://localhost:8080/"
        },
        "outputId": "8e6d2820-cadd-414c-d96e-d690fc5c919f"
      },
      "source": [
        "print(classification_report(y_test.reshape(-1, 1), pred))"
      ],
      "execution_count": 578,
      "outputs": [
        {
          "output_type": "stream",
          "text": [
            "              precision    recall  f1-score   support\n",
            "\n",
            "         0.0       0.48      1.00      0.65        50\n",
            "         1.0       0.00      0.00      0.00        54\n",
            "\n",
            "    accuracy                           0.48       104\n",
            "   macro avg       0.24      0.50      0.32       104\n",
            "weighted avg       0.23      0.48      0.31       104\n",
            "\n"
          ],
          "name": "stdout"
        },
        {
          "output_type": "stream",
          "text": [
            "/usr/local/lib/python3.7/dist-packages/sklearn/metrics/_classification.py:1272: UndefinedMetricWarning: Precision and F-score are ill-defined and being set to 0.0 in labels with no predicted samples. Use `zero_division` parameter to control this behavior.\n",
            "  _warn_prf(average, modifier, msg_start, len(result))\n"
          ],
          "name": "stderr"
        }
      ]
    },
    {
      "cell_type": "code",
      "metadata": {
        "id": "j_-R9aGeWl_2",
        "colab": {
          "base_uri": "https://localhost:8080/",
          "height": 475
        },
        "outputId": "64b00f2b-004e-4198-dc6a-4d00a327380d"
      },
      "source": [
        "scikitplot.metrics.plot_confusion_matrix(y_test, pred)"
      ],
      "execution_count": 579,
      "outputs": [
        {
          "output_type": "execute_result",
          "data": {
            "text/plain": [
              "<matplotlib.axes._subplots.AxesSubplot at 0x7fd0aa577950>"
            ]
          },
          "metadata": {},
          "execution_count": 579
        },
        {
          "output_type": "display_data",
          "data": {
            "image/png": "[encoded data removed]",
            "text/plain": [
              "<Figure size 1080x504 with 2 Axes>"
            ]
          },
          "metadata": {}
        }
      ]
    },
    {
      "cell_type": "markdown",
      "metadata": {
        "id": "uxLT9Bqik4gJ"
      },
      "source": [
        "#### 4.2 CNN-LSTM Network Model - TensorFlow"
      ]
    },
    {
      "cell_type": "code",
      "metadata": {
        "id": "Hovg8lFmo_nT"
      },
      "source": [
        "from keras.layers import TimeDistributed, Conv1D"
      ],
      "execution_count": 580,
      "outputs": []
    },
    {
      "cell_type": "markdown",
      "metadata": {
        "id": "MIdZLdpfwng9"
      },
      "source": [
        "Input shape of CNN - LSTM Model\n",
        "> `(n_row, n_steps, n_length, n_features)`"
      ]
    },
    {
      "cell_type": "code",
      "metadata": {
        "id": "MEecRhuqroTI"
      },
      "source": [
        "timesteps, n_features = X_train.shape[1], X_train.shape[2]\n",
        "n_steps, seq_len = 1, X_train.shape[1]\n",
        "\n",
        "X_train = X_train.reshape((X_train.shape[0], n_steps, seq_len, n_features))\n",
        "X_val = X_val.reshape((X_val.shape[0], n_steps, seq_len, n_features))"
      ],
      "execution_count": 581,
      "outputs": []
    },
    {
      "cell_type": "code",
      "metadata": {
        "id": "5vHNlsjQngsb"
      },
      "source": [
        "CNN_LSTM = keras.Sequential([\n",
        "                             TimeDistributed(Conv1D(512, 2, activation='relu', input_shape=(None, seq_len, n_features))),\n",
        "                             TimeDistributed(layers.MaxPool1D(pool_size=2)),                           \n",
        "                             TimeDistributed(Conv1D(128, 2, activation='relu')),\n",
        "                             TimeDistributed(layers.MaxPool1D(pool_size=2)),   \n",
        "                             TimeDistributed(Conv1D(64, 2, activation='relu')),\n",
        "                             TimeDistributed(layers.Dropout(0.2)),\n",
        "\n",
        "                             TimeDistributed(layers.Flatten()),\n",
        "                             layers.LSTM(128, return_sequences=True),\n",
        "                             layers.Dropout(0.2),\n",
        "                             layers.LSTM(64),\n",
        "                             layers.Dense(64, activation='relu'),\n",
        "                             layers.Dense(1, activation='sigmoid')\n",
        "])"
      ],
      "execution_count": 582,
      "outputs": []
    },
    {
      "cell_type": "code",
      "metadata": {
        "id": "3bzf9QSIp_W5"
      },
      "source": [
        "lr = 1e-3\n",
        "optimizer = keras.optimizers.Adam(learning_rate=lr)\n",
        "loss_fn = keras.losses.BinaryCrossentropy()\n",
        "metric = ['accuracy']\n",
        "\n",
        "CNN_LSTM.compile(loss=loss_fn, optimizer=optimizer, metrics=metric)"
      ],
      "execution_count": 702,
      "outputs": []
    },
    {
      "cell_type": "code",
      "metadata": {
        "colab": {
          "base_uri": "https://localhost:8080/"
        },
        "id": "vXdmInKHqG7p",
        "outputId": "7367ca3b-a724-4c57-e065-068da7a71d5e"
      },
      "source": [
        "epochs = 20\n",
        "history = CNN_LSTM.fit(X_train, y_train, epochs=epochs, validation_data=(X_val, y_val))"
      ],
      "execution_count": 584,
      "outputs": [
        {
          "output_type": "stream",
          "text": [
            "Epoch 1/20\n",
            "4/4 [==============================] - 6s 350ms/step - loss: 0.6933 - accuracy: 0.4434 - val_loss: 0.6926 - val_accuracy: 0.6250\n",
            "Epoch 2/20\n",
            "4/4 [==============================] - 0s 59ms/step - loss: 0.6917 - accuracy: 0.4906 - val_loss: 0.6903 - val_accuracy: 0.5673\n",
            "Epoch 3/20\n",
            "4/4 [==============================] - 0s 61ms/step - loss: 0.6808 - accuracy: 0.5000 - val_loss: 0.6839 - val_accuracy: 0.7115\n",
            "Epoch 4/20\n",
            "4/4 [==============================] - 0s 63ms/step - loss: 0.6518 - accuracy: 0.7358 - val_loss: 0.6689 - val_accuracy: 0.6250\n",
            "Epoch 5/20\n",
            "4/4 [==============================] - 0s 60ms/step - loss: 0.5731 - accuracy: 0.8302 - val_loss: 0.6306 - val_accuracy: 0.6731\n",
            "Epoch 6/20\n",
            "4/4 [==============================] - 0s 59ms/step - loss: 0.5091 - accuracy: 0.7547 - val_loss: 0.7441 - val_accuracy: 0.5288\n",
            "Epoch 7/20\n",
            "4/4 [==============================] - 0s 62ms/step - loss: 0.4292 - accuracy: 0.8208 - val_loss: 0.7051 - val_accuracy: 0.6058\n",
            "Epoch 8/20\n",
            "4/4 [==============================] - 0s 64ms/step - loss: 0.3026 - accuracy: 0.8774 - val_loss: 0.9628 - val_accuracy: 0.5481\n",
            "Epoch 9/20\n",
            "4/4 [==============================] - 0s 60ms/step - loss: 0.2710 - accuracy: 0.8868 - val_loss: 1.1816 - val_accuracy: 0.5481\n",
            "Epoch 10/20\n",
            "4/4 [==============================] - 0s 61ms/step - loss: 0.3133 - accuracy: 0.8774 - val_loss: 1.1378 - val_accuracy: 0.5962\n",
            "Epoch 11/20\n",
            "4/4 [==============================] - 0s 58ms/step - loss: 0.2076 - accuracy: 0.9340 - val_loss: 1.2588 - val_accuracy: 0.5481\n",
            "Epoch 12/20\n",
            "4/4 [==============================] - 0s 63ms/step - loss: 0.1930 - accuracy: 0.9245 - val_loss: 1.3030 - val_accuracy: 0.5481\n",
            "Epoch 13/20\n",
            "4/4 [==============================] - 0s 64ms/step - loss: 0.2039 - accuracy: 0.9340 - val_loss: 1.2512 - val_accuracy: 0.5865\n",
            "Epoch 14/20\n",
            "4/4 [==============================] - 0s 57ms/step - loss: 0.1881 - accuracy: 0.9057 - val_loss: 1.6344 - val_accuracy: 0.5096\n",
            "Epoch 15/20\n",
            "4/4 [==============================] - 0s 60ms/step - loss: 0.1921 - accuracy: 0.9245 - val_loss: 1.0698 - val_accuracy: 0.5865\n",
            "Epoch 16/20\n",
            "4/4 [==============================] - 0s 58ms/step - loss: 0.1335 - accuracy: 0.9528 - val_loss: 1.2010 - val_accuracy: 0.6250\n",
            "Epoch 17/20\n",
            "4/4 [==============================] - 0s 61ms/step - loss: 0.1353 - accuracy: 0.9623 - val_loss: 1.3818 - val_accuracy: 0.6058\n",
            "Epoch 18/20\n",
            "4/4 [==============================] - 0s 61ms/step - loss: 0.0727 - accuracy: 0.9811 - val_loss: 1.3975 - val_accuracy: 0.5865\n",
            "Epoch 19/20\n",
            "4/4 [==============================] - 0s 59ms/step - loss: 0.0461 - accuracy: 1.0000 - val_loss: 1.4289 - val_accuracy: 0.6058\n",
            "Epoch 20/20\n",
            "4/4 [==============================] - 0s 59ms/step - loss: 0.0832 - accuracy: 0.9623 - val_loss: 1.8119 - val_accuracy: 0.5577\n"
          ],
          "name": "stdout"
        }
      ]
    },
    {
      "cell_type": "code",
      "metadata": {
        "id": "uiai2iAzsF7u",
        "colab": {
          "base_uri": "https://localhost:8080/"
        },
        "outputId": "837ca23a-4de4-4ce2-b33c-4e4b61ff419e"
      },
      "source": [
        "CNN_LSTM.summary()"
      ],
      "execution_count": 585,
      "outputs": [
        {
          "output_type": "stream",
          "text": [
            "Model: \"sequential_23\"\n",
            "_________________________________________________________________\n",
            "Layer (type)                 Output Shape              Param #   \n",
            "=================================================================\n",
            "time_distributed_96 (TimeDis (None, 1, 59, 512)        4608      \n",
            "_________________________________________________________________\n",
            "time_distributed_97 (TimeDis (None, 1, 29, 512)        0         \n",
            "_________________________________________________________________\n",
            "time_distributed_98 (TimeDis (None, 1, 28, 128)        131200    \n",
            "_________________________________________________________________\n",
            "time_distributed_99 (TimeDis (None, 1, 14, 128)        0         \n",
            "_________________________________________________________________\n",
            "time_distributed_100 (TimeDi (None, 1, 13, 64)         16448     \n",
            "_________________________________________________________________\n",
            "time_distributed_101 (TimeDi (None, 1, 13, 64)         0         \n",
            "_________________________________________________________________\n",
            "time_distributed_102 (TimeDi (None, 1, 832)            0         \n",
            "_________________________________________________________________\n",
            "lstm_21 (LSTM)               (None, 1, 128)            492032    \n",
            "_________________________________________________________________\n",
            "dropout_39 (Dropout)         (None, 1, 128)            0         \n",
            "_________________________________________________________________\n",
            "lstm_22 (LSTM)               (None, 64)                49408     \n",
            "_________________________________________________________________\n",
            "dense_38 (Dense)             (None, 64)                4160      \n",
            "_________________________________________________________________\n",
            "dense_39 (Dense)             (None, 1)                 65        \n",
            "=================================================================\n",
            "Total params: 697,921\n",
            "Trainable params: 697,921\n",
            "Non-trainable params: 0\n",
            "_________________________________________________________________\n"
          ],
          "name": "stdout"
        }
      ]
    },
    {
      "cell_type": "code",
      "metadata": {
        "id": "eK_3ADMAqemf",
        "colab": {
          "base_uri": "https://localhost:8080/",
          "height": 458
        },
        "outputId": "c8b4e0ef-bd10-4ba5-bdff-d2880b5d4295"
      },
      "source": [
        "plt.subplot(1, 2, 1)\n",
        "visualize_performance(history.history, 'accuracy')\n",
        "plt.subplot(1, 2, 2)\n",
        "visualize_performance(history.history, 'loss')"
      ],
      "execution_count": 586,
      "outputs": [
        {
          "output_type": "display_data",
          "data": {
            "image/png": "[encoded data removed]",
            "text/plain": [
              "<Figure size 1080x504 with 2 Axes>"
            ]
          },
          "metadata": {}
        }
      ]
    },
    {
      "cell_type": "markdown",
      "metadata": {
        "id": "BCwa-aNAANHH"
      },
      "source": [
        "#### 4.3 LSTM Neural Network Model - PyTorch"
      ]
    },
    {
      "cell_type": "code",
      "metadata": {
        "id": "sBZgEOLrxS7b"
      },
      "source": [
        "! pip install torch --quiet"
      ],
      "execution_count": 587,
      "outputs": []
    },
    {
      "cell_type": "code",
      "metadata": {
        "id": "4FfCEIdRaKAi"
      },
      "source": [
        "import torch\n",
        "from torch import nn\n",
        "from torch.utils.data import DataLoader"
      ],
      "execution_count": 622,
      "outputs": []
    },
    {
      "cell_type": "code",
      "metadata": {
        "id": "pXyJsitycPVH"
      },
      "source": [
        "class TorchLSTM_Model(nn.Module):\n",
        "  def __init__(self, n_feature, n_hidden, n_layers):\n",
        "    super().__init__()\n",
        "\n",
        "    self.lstm_layer = nn.LSTM(\n",
        "        input_size=n_feature,\n",
        "        hidden_size=n_hidden,\n",
        "        num_layers=n_layers,\n",
        "        batch_first=True,\n",
        "        dropout=0.7\n",
        "    )\n",
        "\n",
        "    self.classication_layer = nn.Sequential(\n",
        "        nn.Linear(n_hidden, n_hidden),\n",
        "        nn.ReLU(),\n",
        "        # nn.Dropout(0.2),\n",
        "        nn.Linear(n_hidden, 1),\n",
        "        nn.Sigmoid()\n",
        "    )\n",
        "\n",
        "  def forward(self, X):\n",
        "    self.lstm_layer.flatten_parameters()\n",
        "    # output batch_size, seq_len, hidden_size\n",
        "    _, (hidden, _) = self.lstm_layer(X)\n",
        "    return self.classication_layer(hidden[-1])"
      ],
      "execution_count": 675,
      "outputs": []
    },
    {
      "cell_type": "code",
      "metadata": {
        "id": "obU5O5_I6sNJ"
      },
      "source": [
        "def fit(dataloader, model, loss_fn, optim, lr_scheduler):\n",
        "  data_size = len(dataloader.dataset)\n",
        "  n_batch = len(dataloader)\n",
        "  total_loss, accuracy = 0, 0\n",
        "  lrs = []\n",
        "\n",
        "  for batch, (X, y) in enumerate(dataloader):\n",
        "    pred = model(X.float())\n",
        "\n",
        "    optim.zero_grad()\n",
        "    loss = loss_fn(pred.squeeze(1), y)\n",
        "    loss.backward()\n",
        "    optim.step()\n",
        "    \n",
        "    lrs.append(lr_scheduler.get_last_lr())\n",
        "    lr_scheduler.step()\n",
        "\n",
        "    total_loss += loss.item()\n",
        "    accuracy += ((pred.squeeze(1) > 0.5) == y).sum().float().item()\n",
        "\n",
        "    if batch % 10 == 0:\n",
        "      print(f\"Train Loss: {loss:.3f}  [{(batch+1)*data_size}/{data_size*n_batch}]\")\n",
        "  \n",
        "  avg_loss = total_loss / n_batch\n",
        "  accuracy_ = accuracy / data_size * 100\n",
        "\n",
        "  return avg_loss, accuracy, lrs"
      ],
      "execution_count": 677,
      "outputs": []
    },
    {
      "cell_type": "code",
      "metadata": {
        "id": "fU--gJTk-ETh"
      },
      "source": [
        "def valid(dataloader, model, loss_function):\n",
        "  data_size = len(dataloader.dataset)\n",
        "  n_batch = len(dataloader)\n",
        "  total_loss, accuracy = 0, 0\n",
        "\n",
        "  with torch.no_grad(): \n",
        "    for batch, (X, y) in enumerate(dataloader):\n",
        "      pred = model(X.float())\n",
        "      total_loss += loss_function(pred.squeeze(1), y).item()\n",
        "      # compute number of correct answer\n",
        "      accuracy += ((pred.squeeze(1) > 0.5) == y).sum().float().item()\n",
        "        \n",
        "  avg_loss = total_loss / n_batch\n",
        "  accuracy = accuracy / data_size * 100 \n",
        "\n",
        "  print(f'Accuracy: {accuracy:.2f}%, Average Loss: {avg_loss:.3f} \\n')    \n",
        "  return avg_loss, accuracy"
      ],
      "execution_count": 678,
      "outputs": []
    },
    {
      "cell_type": "code",
      "metadata": {
        "id": "VOnS93KV6-a4"
      },
      "source": [
        "device = 'cuda' if torch.cuda.is_available() else 'cpu'\n",
        "\n",
        "LSTM_torch = TorchLSTM_Model(X_train.shape[2], 256, 3).to(device)\n",
        "\n",
        "train_dataloader = DataLoader([[X_train[i], y_train[i]] for i in range(len(X_train))])\n",
        "val_dataloader = DataLoader([[X_val[i], y_val[i]] for i in range(len(X_val))])\n",
        "\n",
        "epochs = 12\n",
        "max_lr = 1e-3\n",
        "optimizer = torch.optim.Adam(LSTM_torch.parameters(), lr=max_lr)\n",
        "lr_scheduler = torch.optim.lr_scheduler.OneCycleLR(optimizer, max_lr, epochs=epochs, steps_per_epoch=len(X_train))\n",
        "loss_function = nn.BCELoss()\n",
        "\n",
        "history = {'val_loss' : [], 'val_accuracy': [], 'loss': [], 'accuracy': []}"
      ],
      "execution_count": 679,
      "outputs": []
    },
    {
      "cell_type": "code",
      "metadata": {
        "colab": {
          "base_uri": "https://localhost:8080/"
        },
        "id": "w0x1WwTe_KEr",
        "outputId": "53a47d2e-bb70-44a4-925f-a11c084860b6"
      },
      "source": [
        "for epoch in range(epochs):\n",
        "  print(f'Epoch {epoch+1}\\n-------------------------------')\n",
        "  train_loss, train_acc, lrs = fit(train_dataloader, LSTM_torch, loss_function, optimizer, lr_scheduler)\n",
        "  val_loss, val_acc = valid(val_dataloader, LSTM_torch, loss_function)\n",
        "  history['val_loss'].append(val_loss)\n",
        "  history['val_accuracy'].append(val_loss)\n",
        "  history['loss'].append(train_loss)\n",
        "  history['accuracy'].append(train_acc)\n",
        "  history['lrs'] = lrs"
      ],
      "execution_count": 680,
      "outputs": [
        {
          "output_type": "stream",
          "text": [
            "Epoch 1\n",
            "-------------------------------\n",
            "Train Loss: 0.673  [106/11236]\n",
            "Train Loss: 0.663  [1166/11236]\n",
            "Train Loss: 0.652  [2226/11236]\n",
            "Train Loss: 0.745  [3286/11236]\n",
            "Train Loss: 0.744  [4346/11236]\n",
            "Train Loss: 0.735  [5406/11236]\n",
            "Train Loss: 0.725  [6466/11236]\n",
            "Train Loss: 0.677  [7526/11236]\n",
            "Train Loss: 0.678  [8586/11236]\n",
            "Train Loss: 0.668  [9646/11236]\n",
            "Train Loss: 0.725  [10706/11236]\n",
            "Accuracy: 50.00%, Average Loss: 0.693 \n",
            "\n",
            "Epoch 2\n",
            "-------------------------------\n",
            "Train Loss: 0.667  [106/11236]\n",
            "Train Loss: 0.666  [1166/11236]\n",
            "Train Loss: 0.651  [2226/11236]\n",
            "Train Loss: 0.764  [3286/11236]\n",
            "Train Loss: 0.741  [4346/11236]\n",
            "Train Loss: 0.704  [5406/11236]\n",
            "Train Loss: 0.184  [6466/11236]\n",
            "Train Loss: 3.606  [7526/11236]\n",
            "Train Loss: 0.720  [8586/11236]\n",
            "Train Loss: 0.443  [9646/11236]\n",
            "Train Loss: 0.939  [10706/11236]\n",
            "Accuracy: 50.00%, Average Loss: 0.694 \n",
            "\n",
            "Epoch 3\n",
            "-------------------------------\n",
            "Train Loss: 0.663  [106/11236]\n",
            "Train Loss: 0.657  [1166/11236]\n",
            "Train Loss: 0.512  [2226/11236]\n",
            "Train Loss: 1.140  [3286/11236]\n",
            "Train Loss: 0.847  [4346/11236]\n",
            "Train Loss: 0.705  [5406/11236]\n",
            "Train Loss: 0.544  [6466/11236]\n",
            "Train Loss: 1.087  [7526/11236]\n",
            "Train Loss: 0.728  [8586/11236]\n",
            "Train Loss: 0.451  [9646/11236]\n",
            "Train Loss: 0.938  [10706/11236]\n",
            "Accuracy: 50.00%, Average Loss: 0.693 \n",
            "\n",
            "Epoch 4\n",
            "-------------------------------\n",
            "Train Loss: 0.596  [106/11236]\n",
            "Train Loss: 0.626  [1166/11236]\n",
            "Train Loss: 0.602  [2226/11236]\n",
            "Train Loss: 0.930  [3286/11236]\n",
            "Train Loss: 0.782  [4346/11236]\n",
            "Train Loss: 0.666  [5406/11236]\n",
            "Train Loss: 0.522  [6466/11236]\n",
            "Train Loss: 1.170  [7526/11236]\n",
            "Train Loss: 0.810  [8586/11236]\n",
            "Train Loss: 0.652  [9646/11236]\n",
            "Train Loss: 0.730  [10706/11236]\n",
            "Accuracy: 50.00%, Average Loss: 0.695 \n",
            "\n",
            "Epoch 5\n",
            "-------------------------------\n",
            "Train Loss: 0.718  [106/11236]\n",
            "Train Loss: 0.704  [1166/11236]\n",
            "Train Loss: 0.657  [2226/11236]\n",
            "Train Loss: 0.782  [3286/11236]\n",
            "Train Loss: 0.733  [4346/11236]\n",
            "Train Loss: 0.693  [5406/11236]\n",
            "Train Loss: 0.664  [6466/11236]\n",
            "Train Loss: 0.744  [7526/11236]\n",
            "Train Loss: 0.726  [8586/11236]\n",
            "Train Loss: 0.701  [9646/11236]\n",
            "Train Loss: 0.690  [10706/11236]\n",
            "Accuracy: 50.00%, Average Loss: 0.693 \n",
            "\n",
            "Epoch 6\n",
            "-------------------------------\n",
            "Train Loss: 0.705  [106/11236]\n",
            "Train Loss: 0.702  [1166/11236]\n",
            "Train Loss: 0.688  [2226/11236]\n",
            "Train Loss: 0.713  [3286/11236]\n",
            "Train Loss: 0.702  [4346/11236]\n",
            "Train Loss: 0.687  [5406/11236]\n",
            "Train Loss: 0.673  [6466/11236]\n",
            "Train Loss: 0.725  [7526/11236]\n",
            "Train Loss: 0.716  [8586/11236]\n",
            "Train Loss: 0.705  [9646/11236]\n",
            "Train Loss: 0.685  [10706/11236]\n",
            "Accuracy: 50.00%, Average Loss: 0.693 \n",
            "\n",
            "Epoch 7\n",
            "-------------------------------\n",
            "Train Loss: 0.706  [106/11236]\n",
            "Train Loss: 0.703  [1166/11236]\n",
            "Train Loss: 0.694  [2226/11236]\n",
            "Train Loss: 0.700  [3286/11236]\n",
            "Train Loss: 0.695  [4346/11236]\n",
            "Train Loss: 0.685  [5406/11236]\n",
            "Train Loss: 0.677  [6466/11236]\n",
            "Train Loss: 0.718  [7526/11236]\n",
            "Train Loss: 0.716  [8586/11236]\n",
            "Train Loss: 0.706  [9646/11236]\n",
            "Train Loss: 0.685  [10706/11236]\n",
            "Accuracy: 50.00%, Average Loss: 0.693 \n",
            "\n",
            "Epoch 8\n",
            "-------------------------------\n",
            "Train Loss: 0.707  [106/11236]\n",
            "Train Loss: 0.704  [1166/11236]\n",
            "Train Loss: 0.697  [2226/11236]\n",
            "Train Loss: 0.694  [3286/11236]\n",
            "Train Loss: 0.693  [4346/11236]\n",
            "Train Loss: 0.687  [5406/11236]\n",
            "Train Loss: 0.680  [6466/11236]\n",
            "Train Loss: 0.711  [7526/11236]\n",
            "Train Loss: 0.710  [8586/11236]\n",
            "Train Loss: 0.705  [9646/11236]\n",
            "Train Loss: 0.684  [10706/11236]\n",
            "Accuracy: 50.00%, Average Loss: 0.693 \n",
            "\n",
            "Epoch 9\n",
            "-------------------------------\n",
            "Train Loss: 0.704  [106/11236]\n",
            "Train Loss: 0.703  [1166/11236]\n",
            "Train Loss: 0.699  [2226/11236]\n",
            "Train Loss: 0.691  [3286/11236]\n",
            "Train Loss: 0.690  [4346/11236]\n",
            "Train Loss: 0.686  [5406/11236]\n",
            "Train Loss: 0.683  [6466/11236]\n",
            "Train Loss: 0.709  [7526/11236]\n",
            "Train Loss: 0.707  [8586/11236]\n",
            "Train Loss: 0.705  [9646/11236]\n",
            "Train Loss: 0.683  [10706/11236]\n",
            "Accuracy: 50.00%, Average Loss: 0.693 \n",
            "\n",
            "Epoch 10\n",
            "-------------------------------\n",
            "Train Loss: 0.702  [106/11236]\n",
            "Train Loss: 0.703  [1166/11236]\n",
            "Train Loss: 0.701  [2226/11236]\n",
            "Train Loss: 0.686  [3286/11236]\n",
            "Train Loss: 0.687  [4346/11236]\n",
            "Train Loss: 0.686  [5406/11236]\n",
            "Train Loss: 0.683  [6466/11236]\n",
            "Train Loss: 0.704  [7526/11236]\n",
            "Train Loss: 0.706  [8586/11236]\n",
            "Train Loss: 0.704  [9646/11236]\n",
            "Train Loss: 0.683  [10706/11236]\n",
            "Accuracy: 50.00%, Average Loss: 0.693 \n",
            "\n",
            "Epoch 11\n",
            "-------------------------------\n",
            "Train Loss: 0.706  [106/11236]\n",
            "Train Loss: 0.704  [1166/11236]\n",
            "Train Loss: 0.702  [2226/11236]\n",
            "Train Loss: 0.685  [3286/11236]\n",
            "Train Loss: 0.685  [4346/11236]\n",
            "Train Loss: 0.684  [5406/11236]\n",
            "Train Loss: 0.684  [6466/11236]\n",
            "Train Loss: 0.703  [7526/11236]\n",
            "Train Loss: 0.704  [8586/11236]\n",
            "Train Loss: 0.708  [9646/11236]\n",
            "Train Loss: 0.682  [10706/11236]\n",
            "Accuracy: 50.00%, Average Loss: 0.693 \n",
            "\n",
            "Epoch 12\n",
            "-------------------------------\n",
            "Train Loss: 0.705  [106/11236]\n",
            "Train Loss: 0.703  [1166/11236]\n",
            "Train Loss: 0.702  [2226/11236]\n",
            "Train Loss: 0.684  [3286/11236]\n",
            "Train Loss: 0.683  [4346/11236]\n",
            "Train Loss: 0.684  [5406/11236]\n",
            "Train Loss: 0.684  [6466/11236]\n",
            "Train Loss: 0.703  [7526/11236]\n",
            "Train Loss: 0.702  [8586/11236]\n",
            "Train Loss: 0.702  [9646/11236]\n",
            "Train Loss: 0.683  [10706/11236]\n",
            "Accuracy: 50.00%, Average Loss: 0.693 \n",
            "\n"
          ],
          "name": "stdout"
        }
      ]
    },
    {
      "cell_type": "code",
      "metadata": {
        "colab": {
          "base_uri": "https://localhost:8080/",
          "height": 327
        },
        "id": "k4NhomOnLljC",
        "outputId": "b17c29ee-483c-4e47-a4eb-eaaf4d4369f4"
      },
      "source": [
        "visualize_performance(history, 'loss')"
      ],
      "execution_count": 685,
      "outputs": [
        {
          "output_type": "display_data",
          "data": {
            "image/png": "[encoded data removed]",
            "text/plain": [
              "<Figure size 1080x504 with 1 Axes>"
            ]
          },
          "metadata": {}
        }
      ]
    },
    {
      "cell_type": "markdown",
      "metadata": {
        "id": "hTK1tb7s1yIC"
      },
      "source": [
        "#### 5. Making Prediction on Test Dataset"
      ]
    },
    {
      "cell_type": "markdown",
      "metadata": {
        "id": "_HPSfKRyO3Iy"
      },
      "source": [
        "#### 5.1 LSTM "
      ]
    },
    {
      "cell_type": "code",
      "metadata": {
        "colab": {
          "base_uri": "https://localhost:8080/"
        },
        "id": "IsRI-2IDIQal",
        "outputId": "02e8bf52-c007-4a4f-ac8c-13f9ad6ef3c5"
      },
      "source": [
        "probs = LSTM_model.predict(X_test) \n",
        "pred = (probs > 0.5).astype(np.float32)\n",
        "print(classification_report(y_test.reshape(-1, 1), pred))"
      ],
      "execution_count": 733,
      "outputs": [
        {
          "output_type": "stream",
          "text": [
            "              precision    recall  f1-score   support\n",
            "\n",
            "         0.0       0.81      0.42      0.55        50\n",
            "         1.0       0.63      0.91      0.74        54\n",
            "\n",
            "    accuracy                           0.67       104\n",
            "   macro avg       0.72      0.66      0.65       104\n",
            "weighted avg       0.71      0.67      0.65       104\n",
            "\n"
          ],
          "name": "stdout"
        }
      ]
    },
    {
      "cell_type": "code",
      "metadata": {
        "colab": {
          "base_uri": "https://localhost:8080/",
          "height": 475
        },
        "id": "pR-p1d7ZNEN4",
        "outputId": "8925bb06-3782-4c12-e30a-d05d3ab6a3dc"
      },
      "source": [
        "scikitplot.metrics.plot_confusion_matrix(y_test, pred)"
      ],
      "execution_count": 732,
      "outputs": [
        {
          "output_type": "execute_result",
          "data": {
            "text/plain": [
              "<matplotlib.axes._subplots.AxesSubplot at 0x7fd09da90a10>"
            ]
          },
          "metadata": {},
          "execution_count": 732
        },
        {
          "output_type": "display_data",
          "data": {
            "image/png": "[encoded data removed]",
            "text/plain": [
              "<Figure size 1080x504 with 2 Axes>"
            ]
          },
          "metadata": {}
        }
      ]
    },
    {
      "cell_type": "markdown",
      "metadata": {
        "id": "0dgNltsLPZFl"
      },
      "source": [
        "#### 5.2 Pytorch LSTM"
      ]
    },
    {
      "cell_type": "code",
      "metadata": {
        "colab": {
          "base_uri": "https://localhost:8080/"
        },
        "id": "-vAr0RVEFQXU",
        "outputId": "9d50f4a5-ac08-4e11-d37f-9200d768b30a"
      },
      "source": [
        "test_dataloader = DataLoader([[X_test[i], y_test[i]] for i in range(len(X_test))])\n",
        "accuracy, loss = valid(test_dataloader, LSTM_torch, loss_function)"
      ],
      "execution_count": 736,
      "outputs": [
        {
          "output_type": "stream",
          "text": [
            "Accuracy: 48.08%, Average Loss: 0.693 \n",
            "\n"
          ],
          "name": "stdout"
        }
      ]
    },
    {
      "cell_type": "markdown",
      "metadata": {
        "id": "motAIbvSP9xz"
      },
      "source": [
        "#### 5.3 CNN - LSTM"
      ]
    },
    {
      "cell_type": "markdown",
      "metadata": {
        "id": "fZiVySzNQC50"
      },
      "source": [
        "Reshape test_data to correct input shape"
      ]
    },
    {
      "cell_type": "code",
      "metadata": {
        "id": "6k9r48r7QBzk"
      },
      "source": [
        "X_test = X_test.reshape((X_test.shape[0], n_steps, seq_len, n_features))"
      ],
      "execution_count": 739,
      "outputs": []
    },
    {
      "cell_type": "code",
      "metadata": {
        "colab": {
          "base_uri": "https://localhost:8080/"
        },
        "id": "2ZbYRqsNQg3d",
        "outputId": "71855cd2-b9aa-4a2f-ae4f-1984c7757980"
      },
      "source": [
        "probs = CNN_LSTM.predict(X_test)\n",
        "pred = (probs > 0.5).astype(np.float32)\n",
        "print(classification_report(y_test, pred))"
      ],
      "execution_count": 742,
      "outputs": [
        {
          "output_type": "stream",
          "text": [
            "              precision    recall  f1-score   support\n",
            "\n",
            "         0.0       0.66      0.84      0.74        50\n",
            "         1.0       0.80      0.59      0.68        54\n",
            "\n",
            "    accuracy                           0.71       104\n",
            "   macro avg       0.73      0.72      0.71       104\n",
            "weighted avg       0.73      0.71      0.71       104\n",
            "\n"
          ],
          "name": "stdout"
        }
      ]
    },
    {
      "cell_type": "code",
      "metadata": {
        "colab": {
          "base_uri": "https://localhost:8080/",
          "height": 475
        },
        "id": "A06V1NFMRZcJ",
        "outputId": "dda47bda-8d39-4f1b-8091-733510923b5a"
      },
      "source": [
        "scikitplot.metrics.plot_confusion_matrix(y_test, pred)"
      ],
      "execution_count": 743,
      "outputs": [
        {
          "output_type": "execute_result",
          "data": {
            "text/plain": [
              "<matplotlib.axes._subplots.AxesSubplot at 0x7fd0b2477650>"
            ]
          },
          "metadata": {},
          "execution_count": 743
        },
        {
          "output_type": "display_data",
          "data": {
            "image/png": "[encoded data removed]",
            "text/plain": [
              "<Figure size 1080x504 with 2 Axes>"
            ]
          },
          "metadata": {}
        }
      ]
    },
    {
      "cell_type": "markdown",
      "metadata": {
        "id": "SGhy3GPiNAMg"
      },
      "source": [
        "### Reference"
      ]
    },
    {
      "cell_type": "code",
      "metadata": {
        "id": "4YXlaUPu8w5y"
      },
      "source": [
        "# https://www.analyticsvidhya.com/blog/2019/01/introduction-time-series-classification/\n",
        "# https://www.kaggle.com/meaninglesslives/simple-neural-net-for-time-series-classification/comments#Defining-simple-model-in-keras\n",
        "# https://www.analyticsvidhya.com/blog/2021/06/binary-image-classifier-using-pytorch/\n",
        "# https://machinelearningmastery.com/how-to-develop-rnn-models-for-human-activity-recognition-time-series-classification/\n",
        "# https://machinelearningmastery.com/develop-bidirectional-lstm-sequence-classification-python-keras/\n",
        "# https://youtu.be/PCgrgHgy26c\n",
        "# https://github.com/curiousily/Getting-Things-Done-with-Pytorch\n",
        "# https://github.com/Arturus/kaggle-web-traffic/blob/master/model.py"
      ],
      "execution_count": 744,
      "outputs": []
    }
  ]
}