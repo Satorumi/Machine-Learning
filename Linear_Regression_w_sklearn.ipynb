{
  "nbformat": 4,
  "nbformat_minor": 0,
  "metadata": {
    "colab": {
      "name": "Linear_Regression_w/sklearn.ipynb",
      "provenance": [],
      "authorship_tag": "ABX9TyOwqT+E2r6+5eMLRF2EZfek",
      "include_colab_link": true
    },
    "kernelspec": {
      "name": "python3",
      "display_name": "Python 3"
    },
    "language_info": {
      "name": "python"
    }
  },
  "cells": [
    {
      "cell_type": "markdown",
      "metadata": {
        "id": "view-in-github",
        "colab_type": "text"
      },
      "source": [
        "<a href=\"https://colab.research.google.com/github/Satorumi/Machine-Learning/blob/main/Linear_Regression_w_sklearn.ipynb\" target=\"_parent\"><img src=\"https://colab.research.google.com/assets/colab-badge.svg\" alt=\"Open In Colab\"/></a>"
      ]
    },
    {
      "cell_type": "markdown",
      "metadata": {
        "id": "oN3dueNjE1Ct"
      },
      "source": [
        "## **Linear Regression with Scikit Learn**\n",
        "Course: [ Machine Learning with Python: Zero to GBMs](https://jovian.ai/learn/machine-learning-with-python-zero-to-gbms)\n",
        "\n",
        "Notebook: [Linear Regression with Scikit Learn - Machine Learning with Python](https://jovian.ai/learn/machine-learning-with-python-zero-to-gbms/lesson/linear-regression-with-scikit-learn)"
      ]
    },
    {
      "cell_type": "markdown",
      "metadata": {
        "id": "tPcL5mt4G9qL"
      },
      "source": [
        "#### Problem Statement\n",
        "\n",
        "\n",
        "> **QUESTION**: ACME Insurance Inc. offers affordable health insurance to thousands of customer all over the United States. As the lead data scientist at ACME, you're tasked with creating an automated system to estimate the annual medical expenditure for new customers, using information such as their age, sex, BMI, children, smoking habits and region of residence.\n",
        "\n",
        "Estimates from your system will be used to determine the annual insurance premium (amount paid every month) offered to the customer. Due to regulatory requirements, you must be able to explain why your system outputs a certain prediction.\n",
        "\n",
        "You're given a CSV file containing verified historical data, consisting of the aforementioned information and the actual medical charges incurred by over 1300 customers.\n",
        "\n"
      ]
    },
    {
      "cell_type": "markdown",
      "metadata": {
        "id": "ae-nDZIVFLaL"
      },
      "source": [
        "### Import Libraries"
      ]
    },
    {
      "cell_type": "code",
      "metadata": {
        "id": "Q_GNv0hJEJ8C"
      },
      "source": [
        "import pandas as pd\n",
        "import numpy as np\n",
        "from urllib.request import urlretrieve\n",
        "from sklearn.linear_model import LinearRegression\n",
        "from sklearn.model_selection import train_test_split\n",
        "from sklearn import preprocessing\n",
        "from sklearn.pipeline import Pipeline\n",
        "\n",
        "import plotly.express as px\n",
        "import plotly.graph_objects as go\n",
        "import matplotlib\n",
        "import matplotlib.pyplot as plt\n",
        "import seaborn as sns\n",
        "%matplotlib inline"
      ],
      "execution_count": null,
      "outputs": []
    },
    {
      "cell_type": "markdown",
      "metadata": {
        "id": "1tJE4V-YFmjp"
      },
      "source": [
        "### Download dataset"
      ]
    },
    {
      "cell_type": "markdown",
      "metadata": {
        "id": "XoITKP7tGNLm"
      },
      "source": [
        "Using `urlretrive` from `urllib.request` to download data from github url"
      ]
    },
    {
      "cell_type": "code",
      "metadata": {
        "id": "NC2GBcnmFpt9"
      },
      "source": [
        "csv_url = 'https://raw.githubusercontent.com/JovianML/opendatasets/master/data/medical-charges.csv'"
      ],
      "execution_count": null,
      "outputs": []
    },
    {
      "cell_type": "code",
      "metadata": {
        "colab": {
          "base_uri": "https://localhost:8080/"
        },
        "id": "QP9SJsVyFwN2",
        "outputId": "40d905bc-afdf-4ec8-aa45-91ba3f5e1759"
      },
      "source": [
        "urlretrieve(csv_url, 'medical_charges.csv')"
      ],
      "execution_count": null,
      "outputs": [
        {
          "output_type": "execute_result",
          "data": {
            "text/plain": [
              "('medical_charges.csv', <http.client.HTTPMessage at 0x7f09881df590>)"
            ]
          },
          "metadata": {
            "tags": []
          },
          "execution_count": 89
        }
      ]
    },
    {
      "cell_type": "markdown",
      "metadata": {
        "id": "W2Q0a4XnGdO8"
      },
      "source": [
        "The dataset contains 1338 rows and 7 columns. Each row of the dataset contains information about one customer.\n",
        "Create a dataframe from the csv file.  "
      ]
    },
    {
      "cell_type": "code",
      "metadata": {
        "colab": {
          "base_uri": "https://localhost:8080/",
          "height": 200
        },
        "id": "XOil1ScKGWcH",
        "outputId": "bee969c0-9a37-4768-b189-0aeb43b82de1"
      },
      "source": [
        "medical_df = pd.read_csv('medical_charges.csv')\n",
        "medical_df.head() # show the first 5 rows"
      ],
      "execution_count": null,
      "outputs": [
        {
          "output_type": "execute_result",
          "data": {
            "text/html": [
              "<div>\n",
              "<style scoped>\n",
              "    .dataframe tbody tr th:only-of-type {\n",
              "        vertical-align: middle;\n",
              "    }\n",
              "\n",
              "    .dataframe tbody tr th {\n",
              "        vertical-align: top;\n",
              "    }\n",
              "\n",
              "    .dataframe thead th {\n",
              "        text-align: right;\n",
              "    }\n",
              "</style>\n",
              "<table border=\"1\" class=\"dataframe\">\n",
              "  <thead>\n",
              "    <tr style=\"text-align: right;\">\n",
              "      <th></th>\n",
              "      <th>age</th>\n",
              "      <th>sex</th>\n",
              "      <th>bmi</th>\n",
              "      <th>children</th>\n",
              "      <th>smoker</th>\n",
              "      <th>region</th>\n",
              "      <th>charges</th>\n",
              "    </tr>\n",
              "  </thead>\n",
              "  <tbody>\n",
              "    <tr>\n",
              "      <th>0</th>\n",
              "      <td>19</td>\n",
              "      <td>female</td>\n",
              "      <td>27.900</td>\n",
              "      <td>0</td>\n",
              "      <td>yes</td>\n",
              "      <td>southwest</td>\n",
              "      <td>16884.92400</td>\n",
              "    </tr>\n",
              "    <tr>\n",
              "      <th>1</th>\n",
              "      <td>18</td>\n",
              "      <td>male</td>\n",
              "      <td>33.770</td>\n",
              "      <td>1</td>\n",
              "      <td>no</td>\n",
              "      <td>southeast</td>\n",
              "      <td>1725.55230</td>\n",
              "    </tr>\n",
              "    <tr>\n",
              "      <th>2</th>\n",
              "      <td>28</td>\n",
              "      <td>male</td>\n",
              "      <td>33.000</td>\n",
              "      <td>3</td>\n",
              "      <td>no</td>\n",
              "      <td>southeast</td>\n",
              "      <td>4449.46200</td>\n",
              "    </tr>\n",
              "    <tr>\n",
              "      <th>3</th>\n",
              "      <td>33</td>\n",
              "      <td>male</td>\n",
              "      <td>22.705</td>\n",
              "      <td>0</td>\n",
              "      <td>no</td>\n",
              "      <td>northwest</td>\n",
              "      <td>21984.47061</td>\n",
              "    </tr>\n",
              "    <tr>\n",
              "      <th>4</th>\n",
              "      <td>32</td>\n",
              "      <td>male</td>\n",
              "      <td>28.880</td>\n",
              "      <td>0</td>\n",
              "      <td>no</td>\n",
              "      <td>northwest</td>\n",
              "      <td>3866.85520</td>\n",
              "    </tr>\n",
              "  </tbody>\n",
              "</table>\n",
              "</div>"
            ],
            "text/plain": [
              "   age     sex     bmi  children smoker     region      charges\n",
              "0   19  female  27.900         0    yes  southwest  16884.92400\n",
              "1   18    male  33.770         1     no  southeast   1725.55230\n",
              "2   28    male  33.000         3     no  southeast   4449.46200\n",
              "3   33    male  22.705         0     no  northwest  21984.47061\n",
              "4   32    male  28.880         0     no  northwest   3866.85520"
            ]
          },
          "metadata": {
            "tags": []
          },
          "execution_count": 90
        }
      ]
    },
    {
      "cell_type": "code",
      "metadata": {
        "colab": {
          "base_uri": "https://localhost:8080/"
        },
        "id": "hEwCZsoPHsWV",
        "outputId": "984d7969-efe9-40e7-d424-148540957288"
      },
      "source": [
        "medical_df.info()"
      ],
      "execution_count": null,
      "outputs": [
        {
          "output_type": "stream",
          "text": [
            "<class 'pandas.core.frame.DataFrame'>\n",
            "RangeIndex: 1338 entries, 0 to 1337\n",
            "Data columns (total 7 columns):\n",
            " #   Column    Non-Null Count  Dtype  \n",
            "---  ------    --------------  -----  \n",
            " 0   age       1338 non-null   int64  \n",
            " 1   sex       1338 non-null   object \n",
            " 2   bmi       1338 non-null   float64\n",
            " 3   children  1338 non-null   int64  \n",
            " 4   smoker    1338 non-null   object \n",
            " 5   region    1338 non-null   object \n",
            " 6   charges   1338 non-null   float64\n",
            "dtypes: float64(2), int64(2), object(3)\n",
            "memory usage: 73.3+ KB\n"
          ],
          "name": "stdout"
        }
      ]
    },
    {
      "cell_type": "markdown",
      "metadata": {
        "id": "PL7GjLlbHn3m"
      },
      "source": [
        "###Exploratory Analysis and Visualization"
      ]
    },
    {
      "cell_type": "code",
      "metadata": {
        "id": "GF6gPycoId38"
      },
      "source": [
        "# set up default theme and config\n",
        "sns.set_style('darkgrid')\n",
        "matplotlib.rcParams['font.size'] = 14\n",
        "matplotlib.rcParams['figure.figsize'] = (15, 8)\n",
        "matplotlib.rcParams['figure.facecolor'] = '#00000000'"
      ],
      "execution_count": null,
      "outputs": []
    },
    {
      "cell_type": "code",
      "metadata": {
        "colab": {
          "base_uri": "https://localhost:8080/",
          "height": 291
        },
        "id": "60BywWGvH8nN",
        "outputId": "3aa8a63d-fa93-4e9b-9205-831f12a90ee5"
      },
      "source": [
        "medical_df.describe()"
      ],
      "execution_count": null,
      "outputs": [
        {
          "output_type": "execute_result",
          "data": {
            "text/html": [
              "<div>\n",
              "<style scoped>\n",
              "    .dataframe tbody tr th:only-of-type {\n",
              "        vertical-align: middle;\n",
              "    }\n",
              "\n",
              "    .dataframe tbody tr th {\n",
              "        vertical-align: top;\n",
              "    }\n",
              "\n",
              "    .dataframe thead th {\n",
              "        text-align: right;\n",
              "    }\n",
              "</style>\n",
              "<table border=\"1\" class=\"dataframe\">\n",
              "  <thead>\n",
              "    <tr style=\"text-align: right;\">\n",
              "      <th></th>\n",
              "      <th>age</th>\n",
              "      <th>bmi</th>\n",
              "      <th>children</th>\n",
              "      <th>charges</th>\n",
              "    </tr>\n",
              "  </thead>\n",
              "  <tbody>\n",
              "    <tr>\n",
              "      <th>count</th>\n",
              "      <td>1338.000000</td>\n",
              "      <td>1338.000000</td>\n",
              "      <td>1338.000000</td>\n",
              "      <td>1338.000000</td>\n",
              "    </tr>\n",
              "    <tr>\n",
              "      <th>mean</th>\n",
              "      <td>39.207025</td>\n",
              "      <td>30.663397</td>\n",
              "      <td>1.094918</td>\n",
              "      <td>13270.422265</td>\n",
              "    </tr>\n",
              "    <tr>\n",
              "      <th>std</th>\n",
              "      <td>14.049960</td>\n",
              "      <td>6.098187</td>\n",
              "      <td>1.205493</td>\n",
              "      <td>12110.011237</td>\n",
              "    </tr>\n",
              "    <tr>\n",
              "      <th>min</th>\n",
              "      <td>18.000000</td>\n",
              "      <td>15.960000</td>\n",
              "      <td>0.000000</td>\n",
              "      <td>1121.873900</td>\n",
              "    </tr>\n",
              "    <tr>\n",
              "      <th>25%</th>\n",
              "      <td>27.000000</td>\n",
              "      <td>26.296250</td>\n",
              "      <td>0.000000</td>\n",
              "      <td>4740.287150</td>\n",
              "    </tr>\n",
              "    <tr>\n",
              "      <th>50%</th>\n",
              "      <td>39.000000</td>\n",
              "      <td>30.400000</td>\n",
              "      <td>1.000000</td>\n",
              "      <td>9382.033000</td>\n",
              "    </tr>\n",
              "    <tr>\n",
              "      <th>75%</th>\n",
              "      <td>51.000000</td>\n",
              "      <td>34.693750</td>\n",
              "      <td>2.000000</td>\n",
              "      <td>16639.912515</td>\n",
              "    </tr>\n",
              "    <tr>\n",
              "      <th>max</th>\n",
              "      <td>64.000000</td>\n",
              "      <td>53.130000</td>\n",
              "      <td>5.000000</td>\n",
              "      <td>63770.428010</td>\n",
              "    </tr>\n",
              "  </tbody>\n",
              "</table>\n",
              "</div>"
            ],
            "text/plain": [
              "               age          bmi     children       charges\n",
              "count  1338.000000  1338.000000  1338.000000   1338.000000\n",
              "mean     39.207025    30.663397     1.094918  13270.422265\n",
              "std      14.049960     6.098187     1.205493  12110.011237\n",
              "min      18.000000    15.960000     0.000000   1121.873900\n",
              "25%      27.000000    26.296250     0.000000   4740.287150\n",
              "50%      39.000000    30.400000     1.000000   9382.033000\n",
              "75%      51.000000    34.693750     2.000000  16639.912515\n",
              "max      64.000000    53.130000     5.000000  63770.428010"
            ]
          },
          "metadata": {
            "tags": []
          },
          "execution_count": 12
        }
      ]
    },
    {
      "cell_type": "markdown",
      "metadata": {
        "id": "Xvd3IeJ_I2bO"
      },
      "source": [
        "There is no missing or anomalous data from this dataset"
      ]
    },
    {
      "cell_type": "markdown",
      "metadata": {
        "id": "zTsncDJLLjUf"
      },
      "source": [
        "#### General Data"
      ]
    },
    {
      "cell_type": "code",
      "metadata": {
        "id": "nVVV_m7xLbvA"
      },
      "source": [
        "fig = px.scatter_3d(medical_df, \n",
        "              x='age', \n",
        "              y='charges',\n",
        "              z='bmi', \n",
        "              color='smoker')"
      ],
      "execution_count": null,
      "outputs": []
    },
    {
      "cell_type": "code",
      "metadata": {
        "id": "oTboD8w7O1OG"
      },
      "source": [
        "fig = px.scatter(medical_df, x='bmi', y='charges', animation_frame='age', \n",
        "                 size='charges', color='smoker')\n",
        "fig.show()"
      ],
      "execution_count": null,
      "outputs": []
    },
    {
      "cell_type": "markdown",
      "metadata": {
        "id": "SNOBCc5oLeR6"
      },
      "source": [
        "#### Age Distribution"
      ]
    },
    {
      "cell_type": "code",
      "metadata": {
        "colab": {
          "base_uri": "https://localhost:8080/"
        },
        "id": "EWM9mgr_JWjq",
        "outputId": "68e6d2b4-928c-4bea-df47-954465e9fd6b"
      },
      "source": [
        "bins = len(medical_df['age'].unique())"
      ],
      "execution_count": null,
      "outputs": [
        {
          "output_type": "execute_result",
          "data": {
            "text/plain": [
              "47"
            ]
          },
          "metadata": {
            "tags": []
          },
          "execution_count": 17
        }
      ]
    },
    {
      "cell_type": "code",
      "metadata": {
        "id": "7xmIsL-ZIx1_"
      },
      "source": [
        "figure = px.histogram(medical_df, x='age', marginal='box', \n",
        "                      nbins=bins, title='Age Distribution')\n",
        "figure.update_layout(bargap=0.08)"
      ],
      "execution_count": null,
      "outputs": []
    },
    {
      "cell_type": "markdown",
      "metadata": {
        "id": "eBSEbju6Knv8"
      },
      "source": [
        "Overall, the age of the dataset is uniform with evenly distribution of 22-38 customers each. However, the amount of 18 and 19 years old are twice as much other ages "
      ]
    },
    {
      "cell_type": "markdown",
      "metadata": {
        "id": "f9g9R9yZQ5gr"
      },
      "source": [
        "#### Age vs. Charges"
      ]
    },
    {
      "cell_type": "code",
      "metadata": {
        "colab": {
          "base_uri": "https://localhost:8080/",
          "height": 542
        },
        "id": "2DncSSbURC4z",
        "outputId": "cc898074-ad68-4ef7-8dc3-2261f776eff3"
      },
      "source": [
        "figure = px.scatter(medical_df, 'age', 'charges', color='smoker', \n",
        "                    opacity=0.9, hover_data=['sex', 'bmi'], title='Ages vs. Charges')\n",
        "figure.update_traces(marker_size=6)"
      ],
      "execution_count": null,
      "outputs": [
        {
          "output_type": "display_data",
          "data": {
            "text/html": [
              "<html>\n",
              "<head><meta charset=\"utf-8\" /></head>\n",
              "<body>\n",
              "    <div>\n",
              "            <script src=\"https://cdnjs.cloudflare.com/ajax/libs/mathjax/2.7.5/MathJax.js?config=TeX-AMS-MML_SVG\"></script><script type=\"text/javascript\">if (window.MathJax) {MathJax.Hub.Config({SVG: {font: \"STIX-Web\"}});}</script>\n",
              "                <script type=\"text/javascript\">window.PlotlyConfig = {MathJaxConfig: 'local'};</script>\n",
              "        <script src=\"https://cdn.plot.ly/plotly-latest.min.js\"></script>    \n",
              "            <div id=\"51e73230-19a9-4550-a393-bde04ba73124\" class=\"plotly-graph-div\" style=\"height:525px; width:100%;\"></div>\n",
              "            <script type=\"text/javascript\">\n",
              "                \n",
              "                    window.PLOTLYENV=window.PLOTLYENV || {};\n",
              "                    \n",
              "                if (document.getElementById(\"51e73230-19a9-4550-a393-bde04ba73124\")) {\n",
              "                    Plotly.newPlot(\n",
              "                        '51e73230-19a9-4550-a393-bde04ba73124',\n",
              "                        [{\"customdata\": [[\"female\", 27.9], [\"female\", 26.29], [\"male\", 42.13], [\"male\", 35.3], [\"female\", 31.92], [\"male\", 36.3], [\"male\", 35.6], [\"male\", 36.4], [\"male\", 36.67], [\"male\", 39.9], [\"male\", 35.2], [\"male\", 28.0], [\"male\", 34.43], [\"male\", 36.955], [\"male\", 31.68], [\"female\", 22.88], [\"female\", 22.42], [\"male\", 23.98], [\"female\", 24.75], [\"male\", 37.62], [\"female\", 34.8], [\"male\", 22.895], [\"female\", 31.16], [\"male\", 29.83], [\"female\", 31.3], [\"male\", 19.95], [\"male\", 19.3], [\"female\", 29.92], [\"male\", 28.025], [\"male\", 35.09], [\"female\", 27.94], [\"male\", 31.35], [\"female\", 28.3], [\"female\", 17.765], [\"male\", 25.3], [\"male\", 28.69], [\"male\", 30.495], [\"female\", 23.37], [\"male\", 24.42], [\"male\", 25.175], [\"male\", 35.53], [\"female\", 26.6], [\"female\", 36.85], [\"female\", 37.7], [\"male\", 41.895], [\"female\", 36.08], [\"male\", 27.74], [\"male\", 34.8], [\"male\", 24.64], [\"female\", 22.22], [\"male\", 29.07], [\"female\", 36.67], [\"female\", 27.74], [\"male\", 17.29], [\"female\", 32.2], [\"male\", 34.21], [\"male\", 31.825], [\"male\", 33.63], [\"male\", 31.92], [\"female\", 26.84], [\"male\", 24.32], [\"male\", 36.955], [\"male\", 42.35], [\"male\", 19.8], [\"male\", 34.2], [\"female\", 28.12], [\"male\", 40.565], [\"female\", 36.765], [\"male\", 45.54], [\"male\", 27.7], [\"male\", 25.41], [\"male\", 34.39], [\"female\", 22.61], [\"male\", 35.97], [\"female\", 31.4], [\"male\", 30.8], [\"male\", 36.48], [\"female\", 33.8], [\"female\", 36.385], [\"male\", 27.36], [\"male\", 32.3], [\"female\", 21.7], [\"male\", 32.9], [\"female\", 28.31], [\"female\", 24.89], [\"male\", 40.15], [\"female\", 17.955], [\"male\", 30.685], [\"female\", 20.235], [\"female\", 17.195], [\"female\", 22.6], [\"female\", 26.98], [\"male\", 33.88], [\"male\", 35.86], [\"male\", 32.775], [\"female\", 33.5], [\"male\", 26.695], [\"male\", 30.0], [\"female\", 28.38], [\"male\", 25.1], [\"male\", 28.31], [\"male\", 28.5], [\"female\", 38.06], [\"male\", 25.7], [\"male\", 34.4], [\"male\", 23.21], [\"male\", 30.25], [\"male\", 28.3], [\"male\", 26.07], [\"male\", 42.13], [\"female\", 47.41], [\"male\", 25.84], [\"female\", 46.2], [\"female\", 34.105], [\"male\", 40.565], [\"female\", 38.095], [\"female\", 30.21], [\"female\", 21.85], [\"female\", 28.31], [\"female\", 23.655], [\"male\", 37.8], [\"female\", 36.63], [\"male\", 25.6], [\"female\", 33.11], [\"male\", 34.1], [\"male\", 33.535], [\"female\", 38.95], [\"male\", 26.41], [\"male\", 28.31], [\"female\", 25.3], [\"female\", 22.99], [\"male\", 38.06], [\"female\", 32.775], [\"male\", 32.015], [\"female\", 43.89], [\"male\", 31.35], [\"male\", 35.3], [\"male\", 31.13], [\"male\", 35.75], [\"female\", 38.06], [\"female\", 39.05], [\"female\", 21.755], [\"male\", 24.42], [\"female\", 38.39], [\"male\", 31.73], [\"male\", 35.5], [\"male\", 29.15], [\"male\", 34.105], [\"female\", 26.4], [\"female\", 27.83], [\"male\", 38.17], [\"male\", 27.1], [\"female\", 28.88], [\"male\", 24.4], [\"female\", 27.6], [\"male\", 20.9], [\"male\", 28.5], [\"male\", 24.795], [\"female\", 42.24], [\"female\", 26.125], [\"female\", 35.53], [\"male\", 31.79], [\"male\", 28.025], [\"male\", 30.78], [\"female\", 32.78], [\"female\", 29.81], [\"female\", 32.45], [\"female\", 30.78], [\"female\", 35.53], [\"female\", 23.845], [\"female\", 33.11], [\"male\", 24.13], [\"female\", 47.6], [\"female\", 37.05], [\"male\", 28.93], [\"male\", 28.975], [\"female\", 26.885], [\"male\", 38.94], [\"female\", 20.045], [\"male\", 40.92], [\"female\", 24.6], [\"male\", 31.73], [\"female\", 26.885], [\"male\", 22.895], [\"male\", 34.2], [\"male\", 29.7], [\"male\", 42.9], [\"male\", 30.2], [\"male\", 27.835], [\"male\", 30.8], [\"male\", 34.96], [\"male\", 24.795], [\"male\", 22.895], [\"male\", 25.9], [\"female\", 20.52], [\"female\", 20.045], [\"male\", 22.99], [\"male\", 32.7], [\"male\", 28.215], [\"male\", 20.13], [\"female\", 31.02], [\"male\", 36.08], [\"male\", 26.03], [\"female\", 23.655], [\"female\", 35.2], [\"male\", 21.565], [\"male\", 37.07], [\"female\", 30.495], [\"female\", 28.025], [\"male\", 30.685], [\"female\", 24.7], [\"male\", 52.58], [\"male\", 30.9], [\"male\", 29.8], [\"male\", 41.14], [\"male\", 37.07], [\"male\", 31.68], [\"female\", 18.3], [\"male\", 36.19], [\"female\", 30.4], [\"female\", 34.96], [\"female\", 19.095], [\"male\", 38.39], [\"female\", 25.85], [\"male\", 33.33], [\"male\", 35.75], [\"female\", 31.4], [\"female\", 36.86], [\"female\", 42.75], [\"female\", 32.49], [\"male\", 32.8], [\"female\", 32.56], [\"male\", 44.88], [\"male\", 27.36], [\"female\", 26.7], [\"female\", 24.13], [\"male\", 29.81], [\"female\", 28.49], [\"male\", 35.625], [\"female\", 25.27], [\"female\", 30.02], [\"female\", 27.28], [\"male\", 33.4], [\"female\", 25.555], [\"female\", 34.6], [\"female\", 24.42], [\"male\", 34.485], [\"female\", 21.8], [\"male\", 41.8], [\"male\", 36.96], [\"male\", 33.63], [\"male\", 29.83], [\"male\", 27.3], [\"male\", 23.76], [\"male\", 31.065], [\"male\", 27.06], [\"male\", 29.925], [\"female\", 27.645], [\"female\", 21.66], [\"male\", 36.3], [\"male\", 39.4], [\"male\", 34.9], [\"male\", 30.36], [\"male\", 30.875], [\"male\", 27.8], [\"male\", 24.605], [\"female\", 21.85], [\"male\", 28.12], [\"female\", 30.2], [\"female\", 34.7], [\"female\", 23.655], [\"male\", 26.695], [\"female\", 40.37], [\"female\", 29.07]], \"hoverlabel\": {\"namelength\": 0}, \"hovertemplate\": \"smoker=yes<br>age=%{x}<br>charges=%{y}<br>sex=%{customdata[0]}<br>bmi=%{customdata[1]}\", \"legendgroup\": \"smoker=yes\", \"marker\": {\"color\": \"#636efa\", \"opacity\": 0.9, \"size\": 6, \"symbol\": \"circle\"}, \"mode\": \"markers\", \"name\": \"smoker=yes\", \"showlegend\": true, \"type\": \"scattergl\", \"x\": [19, 62, 27, 30, 34, 31, 22, 28, 35, 60, 36, 48, 36, 58, 18, 53, 20, 28, 27, 22, 37, 45, 57, 59, 64, 56, 38, 61, 20, 63, 29, 44, 19, 32, 34, 30, 46, 42, 48, 18, 30, 42, 18, 63, 36, 27, 35, 19, 42, 40, 19, 23, 63, 18, 63, 54, 50, 56, 19, 20, 52, 19, 46, 40, 50, 40, 54, 59, 25, 19, 47, 31, 53, 43, 27, 34, 45, 64, 61, 52, 50, 19, 26, 23, 39, 24, 27, 55, 44, 26, 36, 63, 64, 61, 40, 33, 56, 42, 30, 54, 61, 24, 44, 21, 29, 51, 19, 39, 42, 57, 54, 49, 43, 35, 48, 31, 34, 21, 19, 59, 30, 47, 49, 19, 37, 18, 44, 39, 42, 52, 64, 43, 40, 62, 44, 60, 39, 27, 41, 51, 30, 29, 35, 37, 23, 29, 27, 53, 37, 47, 18, 33, 19, 30, 50, 53, 27, 33, 18, 47, 33, 56, 36, 41, 23, 57, 60, 37, 46, 49, 48, 25, 37, 51, 32, 57, 64, 47, 43, 60, 32, 18, 43, 45, 37, 25, 51, 44, 34, 54, 43, 51, 29, 31, 24, 27, 30, 24, 47, 43, 22, 47, 19, 46, 55, 18, 22, 45, 35, 20, 43, 22, 49, 47, 59, 37, 28, 39, 47, 22, 51, 33, 38, 48, 25, 33, 23, 53, 23, 19, 60, 43, 19, 18, 43, 52, 31, 23, 20, 43, 19, 18, 36, 37, 46, 20, 52, 20, 52, 64, 32, 24, 20, 64, 24, 26, 39, 47, 18, 61, 20, 19, 45, 62, 43, 42, 29, 32, 25, 19, 30, 62, 42, 61], \"xaxis\": \"x\", \"y\": [16884.924, 27808.7251, 39611.7577, 36837.467000000004, 37701.8768, 38711.0, 35585.576, 51194.55914, 39774.2763, 48173.361, 38709.176, 23568.272, 37742.5757, 47496.49445, 34303.1672, 23244.7902, 14711.7438, 17663.1442, 16577.7795, 37165.1638, 39836.519, 21098.55405, 43578.9394, 30184.9367, 47291.055, 22412.6485, 15820.698999999999, 30942.1918, 17560.37975, 47055.5321, 19107.7796, 39556.4945, 17081.08, 32734.1863, 18972.495, 20745.9891, 40720.55105, 19964.7463, 21223.6758, 15518.18025, 36950.2567, 21348.706000000002, 36149.4835, 48824.45, 43753.33705, 37133.8982, 20984.0936, 34779.615, 19515.5416, 19444.2658, 17352.6803, 38511.6283, 29523.1656, 12829.4551, 47305.305, 44260.7499, 41097.16175, 43921.1837, 33750.2918, 17085.2676, 24869.8368, 36219.40545, 46151.1245, 17179.522, 42856.837999999996, 22331.5668, 48549.17835, 47896.79135, 42112.2356, 16297.846000000001, 21978.6769, 38746.3551, 24873.3849, 42124.5153, 34838.873, 35491.64, 42760.5022, 47928.03, 48517.56315, 24393.6224, 41919.097, 13844.506000000001, 36085.219, 18033.9679, 21659.9301, 38126.2465, 15006.57945, 42303.69215, 19594.80965, 14455.64405, 18608.262, 28950.4692, 46889.2612, 46599.1084, 39125.33225, 37079.372, 26109.32905, 22144.032000000003, 19521.9682, 25382.297000000002, 28868.6639, 35147.52848, 48885.135610000005, 17942.106, 36197.699, 22218.1149, 32548.3405, 21082.16, 38245.59327, 48675.5177, 63770.42801, 23807.2406, 45863.205, 39983.42595, 45702.02235, 58571.074479999996, 43943.8761, 15359.1045, 17468.9839, 25678.77845, 39241.442, 42969.8527, 23306.547000000002, 34439.8559, 40182.246, 34617.84065, 42983.4585, 20149.3229, 32787.458589999995, 24667.418999999998, 27037.9141, 42560.4304, 40003.33225, 45710.20785, 46200.9851, 46130.5265, 40103.89, 34806.4677, 40273.6455, 44400.4064, 40932.4295, 16657.71745, 19361.9988, 40419.0191, 36189.1017, 44585.45587, 18246.4955, 43254.41795, 19539.243000000002, 23065.4207, 36307.7983, 19040.876, 17748.5062, 18259.216, 24520.264, 21195.818, 18310.742, 17904.52705, 38792.6856, 23401.30575, 55135.402089999996, 43813.8661, 20773.62775, 39597.4072, 36021.0112, 27533.9129, 45008.9555, 37270.1512, 42111.6647, 24106.91255, 40974.1649, 15817.9857, 46113.511, 46255.1125, 19719.6947, 27218.43725, 29330.98315, 44202.6536, 19798.05455, 48673.5588, 17496.306, 33732.6867, 21774.32215, 35069.37452, 39047.285, 19933.458, 47462.894, 38998.546, 20009.63365, 41999.52, 41034.2214, 23967.38305, 16138.76205, 19199.944, 14571.8908, 16420.49455, 17361.7661, 34472.841, 24915.22085, 18767.7377, 35595.5898, 42211.1382, 16450.8947, 21677.28345, 44423.803, 13747.87235, 37484.4493, 39725.51805, 20234.85475, 33475.81715, 21880.82, 44501.3982, 39727.614, 25309.488999999998, 48970.2476, 39871.7043, 34672.1472, 19023.26, 41676.0811, 33907.547999999995, 44641.1974, 16776.30405, 41949.2441, 24180.9335, 36124.5737, 38282.7495, 34166.273, 46661.4424, 40904.1995, 36898.73308, 52590.82939, 40941.2854, 39722.7462, 17178.6824, 22478.6, 23887.6627, 19350.3689, 18328.2381, 37465.34375, 21771.3423, 33307.5508, 18223.4512, 38415.474, 20296.86345, 41661.602, 26125.674769999998, 60021.39897, 20167.336030000002, 47269.85400000001, 49577.6624, 37607.5277, 18648.4217, 16232.847, 26926.5144, 34254.05335, 17043.3414, 22462.04375, 24535.69855, 14283.4594, 47403.88, 38344.566, 34828.654, 62592.87309, 46718.16325, 37829.7242, 21259.37795, 16115.3045, 21472.4788, 33900.653, 36397.576, 18765.87545, 28101.33305, 43896.3763, 29141.3603], \"yaxis\": \"y\"}, {\"customdata\": [[\"male\", 33.77], [\"male\", 33.0], [\"male\", 22.705], [\"male\", 28.88], [\"female\", 25.74], [\"female\", 33.44], [\"female\", 27.74], [\"male\", 29.83], [\"female\", 25.84], [\"male\", 26.22], [\"male\", 34.4], [\"female\", 39.82], [\"male\", 24.6], [\"female\", 30.78], [\"male\", 23.845], [\"male\", 40.3], [\"female\", 36.005], [\"female\", 32.4], [\"male\", 34.1], [\"male\", 28.025], [\"female\", 27.72], [\"female\", 23.085], [\"female\", 32.775], [\"male\", 17.385], [\"female\", 26.315], [\"female\", 28.6], [\"male\", 28.31], [\"male\", 20.425], [\"female\", 32.965], [\"male\", 20.8], [\"female\", 26.6], [\"female\", 36.63], [\"male\", 21.78], [\"female\", 30.8], [\"male\", 37.05], [\"male\", 37.3], [\"female\", 38.665], [\"female\", 34.77], [\"female\", 24.53], [\"female\", 35.625], [\"female\", 33.63], [\"female\", 28.69], [\"female\", 31.825], [\"female\", 37.335], [\"male\", 27.36], [\"male\", 33.66], [\"male\", 24.7], [\"female\", 25.935], [\"female\", 28.9], [\"female\", 39.1], [\"male\", 26.315], [\"female\", 36.19], [\"male\", 28.5], [\"female\", 28.1], [\"male\", 32.01], [\"male\", 27.4], [\"male\", 34.01], [\"female\", 29.59], [\"male\", 35.53], [\"female\", 39.805], [\"female\", 32.965], [\"male\", 26.885], [\"female\", 38.285], [\"female\", 41.23], [\"female\", 27.2], [\"female\", 27.74], [\"female\", 26.98], [\"female\", 39.49], [\"female\", 24.795], [\"male\", 34.77], [\"female\", 37.62], [\"female\", 30.8], [\"male\", 38.28], [\"female\", 31.6], [\"male\", 25.46], [\"female\", 30.115], [\"female\", 27.5], [\"female\", 28.4], [\"male\", 30.875], [\"male\", 27.94], [\"male\", 33.63], [\"female\", 29.7], [\"male\", 30.8], [\"female\", 35.72], [\"male\", 32.205], [\"male\", 28.595], [\"male\", 49.06], [\"female\", 27.17], [\"female\", 23.37], [\"male\", 37.1], [\"male\", 23.75], [\"female\", 28.975], [\"female\", 33.915], [\"female\", 28.785], [\"female\", 37.4], [\"male\", 34.7], [\"female\", 26.505], [\"female\", 22.04], [\"female\", 35.9], [\"male\", 25.555], [\"female\", 28.785], [\"female\", 28.05], [\"male\", 34.1], [\"male\", 25.175], [\"female\", 31.9], [\"female\", 36.0], [\"male\", 22.42], [\"male\", 32.49], [\"male\", 29.735], [\"female\", 38.83], [\"female\", 37.73], [\"female\", 37.43], [\"male\", 28.4], [\"male\", 24.13], [\"male\", 29.7], [\"female\", 37.145], [\"female\", 25.46], [\"male\", 39.52], [\"female\", 27.83], [\"male\", 39.6], [\"female\", 29.8], [\"male\", 29.64], [\"male\", 28.215], [\"female\", 37.0], [\"female\", 33.155], [\"female\", 31.825], [\"male\", 18.905], [\"male\", 41.47], [\"male\", 30.3], [\"male\", 15.96], [\"female\", 34.8], [\"female\", 33.345], [\"male\", 27.835], [\"male\", 29.2], [\"female\", 28.9], [\"female\", 33.155], [\"male\", 28.595], [\"female\", 38.28], [\"male\", 19.95], [\"female\", 26.41], [\"male\", 30.69], [\"female\", 29.92], [\"female\", 30.9], [\"female\", 32.2], [\"female\", 32.11], [\"male\", 31.57], [\"female\", 26.2], [\"male\", 25.74], [\"female\", 26.6], [\"male\", 34.43], [\"male\", 30.59], [\"female\", 32.8], [\"female\", 28.6], [\"female\", 18.05], [\"female\", 39.33], [\"female\", 32.11], [\"female\", 32.23], [\"female\", 24.035], [\"male\", 22.3], [\"female\", 28.88], [\"male\", 26.4], [\"female\", 31.8], [\"male\", 41.23], [\"male\", 33.0], [\"male\", 30.875], [\"male\", 28.5], [\"female\", 26.73], [\"female\", 30.9], [\"female\", 37.1], [\"female\", 26.6], [\"male\", 23.1], [\"female\", 29.92], [\"female\", 23.21], [\"female\", 33.7], [\"female\", 33.25], [\"male\", 30.8], [\"male\", 33.88], [\"male\", 38.06], [\"female\", 41.91], [\"female\", 31.635], [\"male\", 25.46], [\"female\", 36.195], [\"female\", 27.83], [\"female\", 17.8], [\"male\", 27.5], [\"male\", 24.51], [\"female\", 26.73], [\"male\", 38.39], [\"male\", 38.06], [\"female\", 22.135], [\"female\", 26.8], [\"male\", 35.3], [\"male\", 30.02], [\"female\", 38.06], [\"male\", 35.86], [\"male\", 20.9], [\"male\", 28.975], [\"male\", 30.3], [\"female\", 25.365], [\"female\", 40.15], [\"male\", 24.415], [\"female\", 25.2], [\"female\", 38.06], [\"female\", 32.395], [\"male\", 30.2], [\"male\", 25.84], [\"male\", 29.37], [\"male\", 37.05], [\"male\", 27.455], [\"male\", 27.55], [\"female\", 26.6], [\"male\", 20.615], [\"female\", 24.3], [\"male\", 31.79], [\"female\", 21.56], [\"male\", 27.645], [\"female\", 32.395], [\"female\", 31.2], [\"male\", 26.62], [\"female\", 48.07], [\"female\", 26.22], [\"male\", 26.4], [\"female\", 33.4], [\"male\", 29.64], [\"female\", 28.82], [\"male\", 26.8], [\"male\", 22.99], [\"female\", 28.88], [\"male\", 27.55], [\"female\", 37.51], [\"female\", 33.0], [\"female\", 38.0], [\"male\", 33.345], [\"female\", 27.5], [\"female\", 33.33], [\"male\", 34.865], [\"female\", 33.06], [\"male\", 26.6], [\"female\", 24.7], [\"male\", 35.86], [\"male\", 33.25], [\"male\", 32.205], [\"male\", 32.775], [\"female\", 27.645], [\"male\", 37.335], [\"male\", 25.27], [\"female\", 29.64], [\"male\", 40.945], [\"male\", 27.2], [\"male\", 34.105], [\"female\", 23.21], [\"male\", 36.7], [\"female\", 31.16], [\"female\", 28.785], [\"female\", 35.72], [\"male\", 34.5], [\"male\", 25.74], [\"male\", 27.55], [\"female\", 27.72], [\"female\", 27.6], [\"male\", 30.02], [\"female\", 27.55], [\"male\", 36.765], [\"female\", 41.47], [\"female\", 29.26], [\"male\", 35.75], [\"male\", 33.345], [\"female\", 29.92], [\"male\", 27.835], [\"female\", 23.18], [\"female\", 25.6], [\"female\", 27.7], [\"male\", 35.245], [\"female\", 38.28], [\"male\", 27.6], [\"male\", 43.89], [\"male\", 29.83], [\"male\", 41.91], [\"female\", 20.79], [\"female\", 32.3], [\"male\", 30.5], [\"female\", 26.4], [\"female\", 21.89], [\"female\", 30.78], [\"female\", 32.3], [\"female\", 24.985], [\"male\", 32.015], [\"male\", 30.4], [\"female\", 21.09], [\"female\", 22.23], [\"female\", 33.155], [\"male\", 33.33], [\"female\", 30.115], [\"male\", 31.46], [\"male\", 33.0], [\"female\", 43.34], [\"male\", 22.135], [\"male\", 34.4], [\"female\", 39.05], [\"male\", 25.365], [\"female\", 22.61], [\"female\", 30.21], [\"male\", 35.625], [\"female\", 37.43], [\"male\", 31.445], [\"male\", 31.35], [\"female\", 32.3], [\"male\", 19.855], [\"female\", 34.4], [\"male\", 31.02], [\"male\", 25.6], [\"female\", 38.17], [\"female\", 20.6], [\"male\", 47.52], [\"female\", 32.965], [\"male\", 32.3], [\"male\", 20.4], [\"female\", 38.38], [\"female\", 24.31], [\"female\", 23.6], [\"male\", 21.12], [\"male\", 30.03], [\"male\", 17.48], [\"male\", 23.9], [\"female\", 35.15], [\"female\", 35.64], [\"male\", 34.1], [\"male\", 39.16], [\"male\", 30.59], [\"male\", 30.2], [\"male\", 24.31], [\"female\", 27.265], [\"female\", 29.165], [\"female\", 16.815], [\"female\", 30.4], [\"male\", 33.1], [\"female\", 20.235], [\"male\", 26.9], [\"female\", 30.5], [\"male\", 28.595], [\"male\", 33.11], [\"male\", 31.73], [\"male\", 28.9], [\"female\", 46.75], [\"male\", 29.45], [\"female\", 32.68], [\"male\", 43.01], [\"female\", 36.52], [\"female\", 33.1], [\"male\", 29.64], [\"female\", 25.65], [\"female\", 29.6], [\"male\", 38.6], [\"male\", 29.6], [\"male\", 24.13], [\"male\", 23.4], [\"male\", 29.735], [\"male\", 46.53], [\"male\", 37.4], [\"female\", 30.14], [\"female\", 30.495], [\"male\", 39.6], [\"female\", 33.0], [\"female\", 36.63], [\"female\", 38.095], [\"male\", 25.935], [\"male\", 25.175], [\"female\", 28.7], [\"female\", 33.82], [\"female\", 24.32], [\"female\", 24.09], [\"male\", 32.67], [\"female\", 30.115], [\"female\", 29.8], [\"female\", 33.345], [\"male\", 35.625], [\"male\", 36.85], [\"male\", 32.56], [\"male\", 41.325], [\"male\", 37.51], [\"female\", 31.35], [\"female\", 39.5], [\"male\", 34.3], [\"female\", 31.065], [\"female\", 21.47], [\"male\", 28.7], [\"male\", 31.16], [\"female\", 32.9], [\"female\", 25.08], [\"female\", 25.08], [\"male\", 43.4], [\"male\", 27.93], [\"female\", 23.6], [\"male\", 28.7], [\"female\", 23.98], [\"female\", 39.2], [\"male\", 26.03], [\"female\", 28.93], [\"male\", 30.875], [\"male\", 31.35], [\"male\", 23.75], [\"female\", 25.27], [\"female\", 28.7], [\"male\", 32.11], [\"male\", 33.66], [\"male\", 22.42], [\"male\", 30.4], [\"male\", 35.7], [\"male\", 35.31], [\"male\", 30.495], [\"female\", 31.0], [\"male\", 30.875], [\"female\", 27.36], [\"female\", 44.22], [\"female\", 33.915], [\"female\", 37.73], [\"female\", 33.88], [\"female\", 30.59], [\"female\", 25.8], [\"male\", 39.425], [\"male\", 25.46], [\"female\", 31.73], [\"male\", 29.7], [\"male\", 36.19], [\"male\", 40.48], [\"male\", 28.025], [\"female\", 38.9], [\"female\", 30.2], [\"female\", 28.05], [\"male\", 31.35], [\"female\", 38.0], [\"female\", 31.79], [\"female\", 36.3], [\"male\", 30.21], [\"male\", 35.435], [\"female\", 46.7], [\"female\", 28.595], [\"male\", 30.8], [\"female\", 28.93], [\"male\", 21.4], [\"female\", 31.73], [\"female\", 41.325], [\"male\", 23.8], [\"male\", 33.44], [\"male\", 34.21], [\"male\", 35.53], [\"female\", 19.95], [\"female\", 32.68], [\"male\", 30.5], [\"male\", 44.77], [\"female\", 32.12], [\"female\", 30.495], [\"female\", 40.565], [\"male\", 30.59], [\"female\", 31.9], [\"female\", 29.1], [\"female\", 37.29], [\"female\", 43.12], [\"female\", 36.86], [\"female\", 34.295], [\"female\", 27.17], [\"male\", 26.84], [\"male\", 30.2], [\"female\", 23.465], [\"male\", 25.46], [\"male\", 30.59], [\"male\", 45.43], [\"female\", 23.65], [\"male\", 20.7], [\"female\", 28.27], [\"male\", 20.235], [\"female\", 35.91], [\"female\", 30.69], [\"female\", 29.0], [\"male\", 19.57], [\"male\", 31.13], [\"male\", 40.26], [\"female\", 33.725], [\"female\", 29.48], [\"female\", 33.25], [\"male\", 32.6], [\"female\", 37.525], [\"female\", 39.16], [\"male\", 31.635], [\"female\", 25.3], [\"female\", 39.05], [\"female\", 34.1], [\"female\", 25.175], [\"male\", 26.98], [\"female\", 29.37], [\"female\", 34.8], [\"female\", 33.155], [\"female\", 19.0], [\"female\", 33.0], [\"female\", 28.595], [\"female\", 37.1], [\"male\", 31.4], [\"female\", 21.3], [\"male\", 28.785], [\"female\", 26.03], [\"male\", 28.88], [\"male\", 42.46], [\"male\", 38.0], [\"male\", 36.1], [\"male\", 29.3], [\"female\", 35.53], [\"male\", 22.705], [\"male\", 39.7], [\"male\", 38.19], [\"female\", 24.51], [\"female\", 38.095], [\"male\", 33.66], [\"male\", 42.4], [\"male\", 33.915], [\"female\", 34.96], [\"male\", 35.31], [\"male\", 30.78], [\"male\", 26.22], [\"female\", 23.37], [\"male\", 28.5], [\"female\", 32.965], [\"female\", 42.68], [\"female\", 39.6], [\"female\", 31.13], [\"female\", 36.3], [\"female\", 35.2], [\"female\", 42.4], [\"male\", 33.155], [\"female\", 35.91], [\"female\", 28.785], [\"male\", 46.53], [\"female\", 23.98], [\"female\", 31.54], [\"male\", 33.66], [\"male\", 28.7], [\"female\", 29.81], [\"male\", 31.57], [\"female\", 31.16], [\"male\", 29.7], [\"female\", 31.02], [\"male\", 21.375], [\"female\", 40.81], [\"male\", 36.1], [\"female\", 23.18], [\"female\", 17.4], [\"male\", 20.3], [\"male\", 24.32], [\"female\", 18.5], [\"male\", 26.41], [\"male\", 26.125], [\"male\", 41.69], [\"female\", 24.1], [\"male\", 27.36], [\"male\", 36.2], [\"male\", 32.395], [\"male\", 23.655], [\"female\", 34.8], [\"female\", 40.185], [\"female\", 32.3], [\"male\", 33.725], [\"female\", 39.27], [\"female\", 34.87], [\"female\", 44.745], [\"male\", 41.47], [\"female\", 26.41], [\"female\", 29.545], [\"female\", 32.9], [\"male\", 28.69], [\"female\", 30.495], [\"female\", 27.74], [\"male\", 35.2], [\"female\", 23.54], [\"female\", 30.685], [\"male\", 40.47], [\"female\", 22.6], [\"male\", 28.9], [\"female\", 22.61], [\"male\", 24.32], [\"female\", 36.67], [\"female\", 33.44], [\"female\", 40.66], [\"male\", 36.6], [\"male\", 37.4], [\"male\", 35.4], [\"female\", 27.075], [\"male\", 28.405], [\"female\", 40.28], [\"female\", 36.08], [\"male\", 21.4], [\"female\", 30.1], [\"female\", 27.265], [\"female\", 32.1], [\"female\", 34.77], [\"male\", 23.7], [\"male\", 24.035], [\"female\", 26.62], [\"male\", 26.41], [\"female\", 30.115], [\"male\", 27.0], [\"male\", 21.755], [\"female\", 36.0], [\"male\", 30.875], [\"male\", 28.975], [\"male\", 37.905], [\"female\", 22.77], [\"male\", 33.63], [\"male\", 27.645], [\"female\", 22.8], [\"male\", 37.43], [\"female\", 34.58], [\"male\", 35.2], [\"male\", 26.03], [\"female\", 25.175], [\"female\", 31.825], [\"male\", 32.3], [\"female\", 29.0], [\"female\", 39.7], [\"female\", 19.475], [\"male\", 36.1], [\"female\", 26.7], [\"female\", 36.48], [\"male\", 34.2], [\"male\", 33.33], [\"male\", 32.3], [\"male\", 39.805], [\"male\", 34.32], [\"male\", 28.88], [\"male\", 41.14], [\"male\", 35.97], [\"female\", 29.26], [\"female\", 27.7], [\"male\", 36.955], [\"male\", 36.86], [\"male\", 22.515], [\"female\", 29.92], [\"female\", 41.8], [\"male\", 27.6], [\"female\", 23.18], [\"female\", 31.92], [\"male\", 44.22], [\"female\", 22.895], [\"female\", 33.1], [\"female\", 26.18], [\"female\", 35.97], [\"male\", 22.3], [\"male\", 26.51], [\"female\", 35.815], [\"female\", 41.42], [\"female\", 36.575], [\"male\", 30.14], [\"male\", 25.84], [\"female\", 30.8], [\"female\", 42.94], [\"male\", 21.01], [\"male\", 22.515], [\"male\", 34.43], [\"female\", 31.46], [\"female\", 24.225], [\"male\", 37.1], [\"male\", 33.7], [\"male\", 17.67], [\"female\", 31.13], [\"female\", 29.81], [\"male\", 24.32], [\"female\", 31.825], [\"male\", 21.85], [\"male\", 33.1], [\"female\", 25.84], [\"female\", 23.845], [\"male\", 34.39], [\"male\", 33.82], [\"male\", 35.97], [\"male\", 31.5], [\"female\", 28.31], [\"female\", 23.465], [\"female\", 31.35], [\"male\", 31.1], [\"male\", 24.7], [\"male\", 30.495], [\"female\", 34.2], [\"male\", 50.38], [\"female\", 24.1], [\"male\", 32.775], [\"male\", 32.3], [\"female\", 23.75], [\"female\", 29.6], [\"female\", 32.23], [\"male\", 28.1], [\"female\", 28.0], [\"female\", 33.535], [\"female\", 19.855], [\"male\", 25.4], [\"male\", 29.9], [\"male\", 37.29], [\"male\", 43.7], [\"male\", 23.655], [\"female\", 24.3], [\"male\", 36.2], [\"female\", 29.48], [\"male\", 24.86], [\"male\", 30.1], [\"male\", 21.85], [\"female\", 28.12], [\"female\", 27.1], [\"male\", 33.44], [\"male\", 28.8], [\"female\", 29.5], [\"male\", 34.8], [\"male\", 27.36], [\"female\", 22.135], [\"male\", 26.695], [\"female\", 30.02], [\"male\", 39.5], [\"male\", 33.63], [\"female\", 29.04], [\"male\", 24.035], [\"male\", 32.11], [\"female\", 44.0], [\"male\", 25.555], [\"female\", 40.26], [\"female\", 22.515], [\"male\", 22.515], [\"male\", 27.265], [\"male\", 36.85], [\"female\", 35.1], [\"female\", 29.355], [\"male\", 32.585], [\"female\", 32.34], [\"male\", 39.8], [\"male\", 28.31], [\"female\", 26.695], [\"female\", 27.5], [\"male\", 24.605], [\"female\", 33.99], [\"female\", 28.2], [\"female\", 34.21], [\"female\", 25.0], [\"female\", 33.2], [\"male\", 31.0], [\"male\", 35.815], [\"male\", 23.2], [\"male\", 32.11], [\"female\", 23.4], [\"female\", 20.1], [\"female\", 39.16], [\"male\", 34.21], [\"male\", 46.53], [\"female\", 32.5], [\"male\", 25.8], [\"female\", 35.3], [\"male\", 37.18], [\"female\", 27.5], [\"male\", 29.735], [\"female\", 24.225], [\"male\", 26.18], [\"male\", 29.48], [\"male\", 23.21], [\"female\", 46.09], [\"female\", 40.185], [\"male\", 22.61], [\"male\", 39.93], [\"female\", 35.8], [\"male\", 35.8], [\"male\", 31.255], [\"male\", 18.335], [\"female\", 28.405], [\"male\", 39.49], [\"male\", 26.79], [\"male\", 36.67], [\"female\", 39.615], [\"female\", 25.9], [\"female\", 35.2], [\"male\", 24.795], [\"male\", 36.765], [\"male\", 27.1], [\"male\", 25.365], [\"male\", 25.745], [\"female\", 34.32], [\"female\", 28.16], [\"female\", 23.56], [\"female\", 20.235], [\"female\", 40.5], [\"male\", 35.42], [\"male\", 40.15], [\"male\", 29.15], [\"female\", 39.995], [\"female\", 29.92], [\"male\", 25.46], [\"male\", 21.375], [\"female\", 30.59], [\"male\", 30.115], [\"female\", 25.8], [\"male\", 30.115], [\"female\", 27.645], [\"male\", 34.675], [\"female\", 19.8], [\"female\", 27.835], [\"female\", 31.6], [\"male\", 28.27], [\"female\", 23.275], [\"female\", 34.1], [\"female\", 36.85], [\"female\", 36.29], [\"female\", 26.885], [\"male\", 25.8], [\"male\", 29.6], [\"male\", 19.19], [\"male\", 31.73], [\"male\", 29.26], [\"male\", 24.985], [\"male\", 27.74], [\"female\", 22.8], [\"female\", 33.33], [\"male\", 32.3], [\"female\", 27.6], [\"male\", 25.46], [\"female\", 24.605], [\"female\", 34.2], [\"female\", 35.815], [\"female\", 32.68], [\"male\", 37.0], [\"male\", 23.32], [\"female\", 45.32], [\"female\", 34.6], [\"male\", 18.715], [\"male\", 31.6], [\"female\", 17.29], [\"female\", 27.93], [\"male\", 38.38], [\"female\", 23.0], [\"male\", 28.88], [\"male\", 27.265], [\"male\", 23.085], [\"female\", 25.8], [\"male\", 35.245], [\"female\", 25.08], [\"female\", 22.515], [\"female\", 36.955], [\"male\", 26.41], [\"male\", 29.83], [\"female\", 21.47], [\"male\", 27.645], [\"female\", 28.9], [\"female\", 31.79], [\"female\", 39.49], [\"male\", 33.82], [\"male\", 32.01], [\"male\", 27.94], [\"male\", 28.595], [\"female\", 25.6], [\"female\", 25.3], [\"male\", 37.29], [\"male\", 42.655], [\"male\", 21.66], [\"female\", 31.9], [\"male\", 31.445], [\"male\", 31.255], [\"female\", 28.88], [\"female\", 18.335], [\"female\", 29.59], [\"female\", 32.0], [\"male\", 26.03], [\"male\", 33.66], [\"male\", 21.78], [\"male\", 27.835], [\"male\", 19.95], [\"male\", 31.5], [\"female\", 30.495], [\"male\", 28.975], [\"male\", 31.54], [\"male\", 47.74], [\"male\", 22.1], [\"female\", 29.83], [\"male\", 32.7], [\"female\", 33.7], [\"female\", 31.35], [\"male\", 33.77], [\"female\", 30.875], [\"female\", 33.99], [\"male\", 28.6], [\"male\", 38.94], [\"male\", 36.08], [\"male\", 29.8], [\"female\", 31.24], [\"female\", 29.925], [\"female\", 26.22], [\"male\", 30.0], [\"male\", 20.35], [\"female\", 32.3], [\"female\", 26.315], [\"male\", 24.51], [\"male\", 32.67], [\"male\", 29.64], [\"female\", 19.95], [\"male\", 38.17], [\"female\", 32.395], [\"female\", 25.08], [\"male\", 29.9], [\"female\", 35.86], [\"male\", 32.8], [\"female\", 18.6], [\"female\", 23.87], [\"male\", 45.9], [\"male\", 40.28], [\"female\", 18.335], [\"male\", 33.82], [\"female\", 28.12], [\"female\", 25.0], [\"female\", 22.23], [\"male\", 30.25], [\"male\", 37.07], [\"female\", 32.6], [\"female\", 24.86], [\"male\", 32.34], [\"male\", 32.3], [\"male\", 32.775], [\"female\", 31.92], [\"male\", 21.5], [\"male\", 34.1], [\"female\", 30.305], [\"female\", 36.48], [\"female\", 35.815], [\"female\", 27.93], [\"female\", 22.135], [\"female\", 23.18], [\"female\", 30.59], [\"female\", 41.1], [\"female\", 34.58], [\"male\", 42.13], [\"male\", 38.83], [\"female\", 28.215], [\"female\", 28.31], [\"female\", 26.125], [\"male\", 40.37], [\"female\", 24.6], [\"male\", 35.2], [\"female\", 34.105], [\"female\", 41.91], [\"male\", 29.26], [\"male\", 32.11], [\"female\", 27.1], [\"female\", 27.4], [\"female\", 34.865], [\"female\", 41.325], [\"female\", 29.925], [\"female\", 30.3], [\"female\", 27.36], [\"male\", 23.56], [\"female\", 32.68], [\"female\", 28.0], [\"female\", 32.775], [\"female\", 21.755], [\"female\", 32.395], [\"female\", 36.575], [\"female\", 21.755], [\"female\", 27.93], [\"male\", 33.55], [\"male\", 29.355], [\"female\", 25.8], [\"male\", 24.32], [\"male\", 40.375], [\"male\", 32.11], [\"male\", 32.3], [\"male\", 17.86], [\"female\", 34.8], [\"male\", 37.1], [\"male\", 30.875], [\"male\", 34.1], [\"male\", 21.47], [\"female\", 33.3], [\"female\", 31.255], [\"male\", 39.14], [\"male\", 25.08], [\"male\", 37.29], [\"female\", 30.21], [\"female\", 21.945], [\"male\", 24.97], [\"male\", 25.3], [\"male\", 23.94], [\"female\", 39.82], [\"male\", 16.815], [\"male\", 37.18], [\"male\", 34.43], [\"male\", 30.305], [\"female\", 24.605], [\"male\", 23.3], [\"female\", 27.83], [\"male\", 31.065], [\"female\", 21.66], [\"female\", 28.215], [\"male\", 22.705], [\"female\", 42.13], [\"female\", 21.28], [\"female\", 33.11], [\"male\", 33.33], [\"male\", 24.3], [\"female\", 25.7], [\"male\", 29.4], [\"female\", 39.82], [\"male\", 19.8], [\"female\", 29.3], [\"female\", 27.72], [\"female\", 37.9], [\"female\", 36.385], [\"female\", 27.645], [\"male\", 37.715], [\"female\", 23.18], [\"female\", 20.52], [\"male\", 37.1], [\"female\", 28.05], [\"female\", 29.9], [\"female\", 33.345], [\"female\", 30.5], [\"female\", 33.3], [\"male\", 27.5], [\"male\", 33.915], [\"female\", 34.485], [\"male\", 25.52], [\"male\", 27.61], [\"male\", 23.7], [\"female\", 30.4], [\"female\", 29.735], [\"female\", 26.79], [\"female\", 33.33], [\"male\", 30.03], [\"female\", 24.32], [\"female\", 17.29], [\"female\", 25.9], [\"male\", 34.32], [\"female\", 19.95], [\"male\", 23.21], [\"male\", 25.745], [\"male\", 25.175], [\"male\", 22.0], [\"male\", 26.125], [\"female\", 26.51], [\"male\", 27.455], [\"female\", 25.745], [\"female\", 20.8], [\"female\", 27.72], [\"male\", 32.2], [\"male\", 26.315], [\"female\", 26.695], [\"male\", 42.9], [\"male\", 28.31], [\"female\", 20.6], [\"male\", 53.13], [\"male\", 39.71], [\"female\", 26.315], [\"male\", 31.065], [\"male\", 38.83], [\"male\", 25.935], [\"male\", 33.535], [\"female\", 32.87], [\"male\", 30.03], [\"female\", 24.225], [\"male\", 38.6], [\"female\", 25.74], [\"female\", 33.4], [\"female\", 44.7], [\"male\", 30.97], [\"female\", 31.92], [\"female\", 36.85], [\"female\", 25.8]], \"hoverlabel\": {\"namelength\": 0}, \"hovertemplate\": \"smoker=no<br>age=%{x}<br>charges=%{y}<br>sex=%{customdata[0]}<br>bmi=%{customdata[1]}\", \"legendgroup\": \"smoker=no\", \"marker\": {\"color\": \"#EF553B\", \"opacity\": 0.9, \"size\": 6, \"symbol\": \"circle\"}, \"mode\": \"markers\", \"name\": \"smoker=no\", \"showlegend\": true, \"type\": \"scattergl\", \"x\": [18, 28, 33, 32, 31, 46, 37, 37, 60, 25, 23, 56, 19, 52, 23, 56, 60, 30, 18, 37, 59, 63, 55, 23, 18, 19, 63, 19, 62, 26, 24, 31, 41, 37, 38, 55, 18, 28, 60, 18, 21, 40, 58, 34, 43, 25, 64, 28, 19, 61, 40, 40, 31, 53, 58, 44, 57, 29, 21, 22, 41, 31, 45, 48, 56, 46, 55, 21, 53, 35, 28, 54, 55, 41, 30, 18, 34, 19, 26, 29, 54, 55, 37, 21, 52, 60, 58, 49, 37, 44, 18, 20, 47, 26, 52, 38, 59, 61, 53, 19, 20, 22, 19, 22, 54, 22, 34, 26, 29, 29, 51, 53, 19, 35, 48, 32, 40, 44, 50, 54, 32, 37, 47, 20, 32, 19, 27, 63, 49, 18, 35, 24, 38, 54, 46, 41, 58, 18, 22, 44, 44, 26, 30, 41, 29, 61, 36, 25, 56, 18, 19, 39, 45, 51, 64, 19, 48, 60, 46, 28, 59, 63, 40, 20, 40, 24, 34, 45, 41, 53, 27, 26, 24, 34, 53, 32, 55, 28, 58, 41, 47, 42, 59, 19, 59, 39, 18, 31, 44, 33, 55, 40, 54, 60, 24, 19, 29, 27, 55, 38, 51, 58, 53, 59, 45, 49, 18, 41, 50, 25, 47, 19, 22, 59, 51, 30, 55, 52, 46, 46, 63, 52, 28, 29, 22, 25, 18, 48, 36, 56, 28, 57, 29, 28, 30, 58, 41, 50, 19, 49, 52, 50, 54, 44, 32, 34, 26, 57, 29, 40, 27, 52, 61, 56, 43, 64, 60, 62, 46, 24, 62, 60, 63, 49, 34, 33, 46, 36, 19, 57, 50, 30, 33, 18, 46, 46, 47, 23, 18, 48, 35, 21, 21, 49, 56, 42, 44, 18, 61, 57, 42, 20, 64, 62, 55, 35, 44, 19, 58, 50, 26, 24, 48, 19, 48, 49, 46, 46, 43, 21, 64, 18, 51, 47, 64, 49, 31, 52, 33, 47, 38, 32, 19, 25, 19, 43, 52, 64, 25, 48, 45, 38, 18, 21, 27, 19, 29, 42, 60, 31, 60, 22, 35, 52, 26, 31, 18, 59, 45, 60, 56, 40, 35, 39, 30, 24, 20, 32, 59, 55, 57, 56, 40, 49, 62, 56, 19, 60, 56, 28, 18, 27, 18, 19, 47, 25, 21, 23, 63, 49, 18, 51, 48, 31, 54, 19, 53, 19, 61, 18, 61, 20, 31, 45, 44, 62, 43, 38, 37, 22, 21, 24, 57, 56, 27, 51, 19, 58, 20, 45, 35, 31, 50, 32, 51, 38, 18, 19, 51, 46, 18, 62, 59, 37, 64, 38, 33, 46, 46, 53, 34, 20, 63, 54, 28, 54, 25, 63, 32, 62, 52, 25, 28, 46, 34, 19, 46, 54, 27, 50, 18, 19, 38, 41, 49, 31, 18, 30, 62, 57, 58, 22, 52, 25, 59, 19, 39, 32, 19, 33, 21, 61, 38, 58, 47, 20, 41, 46, 42, 34, 43, 52, 18, 51, 56, 64, 51, 27, 28, 47, 38, 18, 34, 20, 56, 55, 30, 49, 59, 29, 36, 33, 58, 53, 24, 29, 40, 51, 64, 19, 35, 56, 33, 61, 23, 43, 48, 39, 40, 18, 58, 49, 53, 48, 45, 59, 26, 27, 48, 57, 37, 57, 32, 18, 49, 40, 30, 29, 36, 41, 45, 55, 56, 49, 21, 19, 53, 33, 53, 42, 40, 47, 21, 47, 20, 24, 27, 26, 53, 56, 23, 21, 50, 53, 34, 47, 33, 49, 31, 36, 18, 50, 43, 20, 24, 60, 49, 60, 51, 58, 51, 53, 62, 19, 50, 41, 18, 41, 53, 24, 48, 59, 49, 26, 45, 31, 50, 50, 34, 19, 47, 28, 21, 64, 58, 24, 31, 39, 30, 22, 23, 27, 45, 57, 47, 42, 64, 38, 61, 53, 44, 41, 51, 40, 45, 35, 53, 18, 51, 31, 35, 60, 21, 29, 62, 39, 19, 22, 39, 30, 30, 58, 42, 64, 21, 23, 45, 40, 19, 18, 25, 46, 33, 54, 28, 36, 20, 24, 23, 45, 26, 18, 44, 60, 64, 39, 63, 36, 28, 58, 36, 42, 36, 56, 35, 59, 21, 59, 53, 51, 23, 27, 55, 61, 53, 20, 25, 57, 38, 55, 36, 51, 40, 18, 57, 61, 25, 50, 26, 42, 43, 44, 23, 49, 33, 41, 37, 22, 23, 21, 25, 36, 22, 57, 36, 54, 62, 61, 19, 18, 19, 49, 26, 49, 60, 26, 27, 44, 63, 22, 59, 44, 33, 24, 61, 35, 62, 62, 38, 34, 43, 50, 19, 57, 62, 41, 26, 39, 46, 45, 32, 59, 44, 39, 18, 53, 18, 50, 18, 19, 62, 56, 42, 42, 57, 30, 31, 24, 48, 19, 29, 63, 46, 52, 35, 44, 21, 39, 50, 34, 22, 19, 26, 48, 26, 45, 36, 54, 34, 27, 20, 44, 43, 45, 34, 26, 38, 50, 38, 39, 39, 63, 33, 36, 24, 48, 47, 29, 28, 25, 51, 48, 61, 48, 38, 59, 19, 26, 54, 21, 51, 18, 47, 21, 23, 54, 37, 30, 61, 54, 22, 19, 18, 28, 55, 43, 25, 44, 64, 49, 27, 55, 48, 45, 24, 32, 24, 57, 36, 29, 42, 48, 39, 63, 54, 63, 21, 54, 60, 32, 47, 21, 63, 18, 32, 38, 32, 62, 55, 57, 52, 56, 55, 23, 50, 18, 22, 52, 25, 53, 29, 58, 37, 54, 49, 50, 26, 45, 54, 28, 23, 55, 41, 30, 46, 27, 63, 55, 35, 34, 19, 39, 27, 57, 52, 28, 50, 44, 26, 33, 50, 41, 52, 39, 50, 52, 20, 55, 42, 18, 58, 35, 48, 36, 23, 20, 32, 43, 34, 30, 18, 41, 35, 57, 29, 32, 37, 56, 38, 29, 22, 40, 23, 42, 24, 25, 48, 45, 62, 23, 31, 41, 58, 48, 31, 19, 41, 40, 31, 37, 46, 22, 51, 35, 59, 59, 36, 39, 18, 52, 27, 18, 40, 29, 38, 30, 40, 50, 41, 33, 38, 42, 56, 58, 54, 58, 45, 26, 63, 58, 37, 25, 22, 28, 18, 28, 45, 33, 18, 19, 40, 34, 42, 51, 54, 55, 52, 32, 28, 41, 43, 49, 55, 20, 45, 26, 25, 43, 35, 57, 22, 32, 25, 48, 18, 47, 28, 36, 44, 38, 21, 46, 58, 20, 18, 28, 33, 19, 25, 24, 41, 42, 33, 34, 18, 19, 18, 35, 39, 31, 62, 31, 61, 42, 51, 23, 52, 57, 23, 52, 50, 18, 18, 21], \"xaxis\": \"x\", \"y\": [1725.5523, 4449.462, 21984.47061, 3866.8552, 3756.6216, 8240.5896, 7281.5056, 6406.4107, 28923.136919999997, 2721.3208, 1826.8429999999998, 11090.7178, 1837.237, 10797.3362, 2395.17155, 10602.385, 13228.84695, 4149.736, 1137.011, 6203.90175, 14001.1338, 14451.83515, 12268.63225, 2775.19215, 2198.18985, 4687.7970000000005, 13770.0979, 1625.43375, 15612.19335, 2302.3, 3046.062, 4949.7587, 6272.4772, 6313.759, 6079.6715, 20630.28351, 3393.35635, 3556.9223, 12629.8967, 2211.13075, 3579.8287, 8059.6791, 13607.36875, 5989.52365, 8606.2174, 4504.6624, 30166.618169999998, 4133.64165, 1743.214, 14235.072, 6389.37785, 5920.1041, 6799.4580000000005, 11741.726, 11946.6259, 7726.854, 11356.6609, 3947.4131, 1532.4697, 2755.02095, 6571.02435, 4441.21315, 7935.29115, 11033.6617, 11073.176000000001, 8026.6666, 11082.5772, 2026.9741, 10942.13205, 5729.0053, 3766.8838, 12105.32, 10226.2842, 6186.1269999999995, 3645.0894, 21344.8467, 5003.853, 2331.519, 3877.30425, 2867.1196, 10825.2537, 11881.358, 4646.759, 2404.7338, 11488.31695, 30259.995560000003, 11381.3254, 8601.3293, 6686.4313, 7740.3369999999995, 1705.6245, 2257.47525, 10115.00885, 3385.39915, 9634.538, 6082.405, 12815.44495, 13616.3586, 11163.568000000001, 1632.56445, 2457.21115, 2155.6815, 1261.442, 2045.68525, 27322.733860000004, 2166.732, 27375.90478, 3490.5491, 18157.876, 5138.2567, 9877.6077, 10959.6947, 1842.519, 5125.2157, 7789.635, 6334.34355, 7077.1894, 6948.7008, 19749.383380000003, 10450.552, 5152.134, 5028.1466, 10407.08585, 4830.63, 6128.79745, 2719.27975, 4827.90495, 13405.3903, 8116.68, 1694.7964, 5246.047, 2855.43755, 6455.86265, 10436.096, 8823.279, 8538.28845, 11735.87905, 1631.8212, 4005.4225, 7419.4779, 7731.4271, 3981.9768, 5325.651, 6775.960999999999, 4922.9159, 12557.6053, 4883.866, 2137.6536, 12044.341999999999, 1137.4697, 1639.5631, 5649.715, 8516.829, 9644.2525, 14901.5167, 2130.6759, 8871.1517, 13012.20865, 7147.105, 4337.7352, 11743.298999999999, 13880.948999999999, 6610.1097, 1980.07, 8162.71625, 3537.703, 5002.7827, 8520.026, 7371.772, 10355.641, 2483.736, 3392.9768, 25081.76784, 5012.471, 10564.8845, 5253.524, 11987.1682, 2689.4954, 24227.33724, 7358.17565, 9225.2564, 7443.64305, 14001.2867, 1727.785, 12333.828000000001, 6710.1919, 1615.7667, 4463.2051, 7152.6714, 5354.07465, 35160.13457, 7196.866999999999, 24476.47851, 12648.7034, 1986.9334, 1832.094, 4040.55825, 4260.744000000001, 13047.33235, 5400.9805, 11520.09985, 11837.16, 20462.99766, 14590.63205, 7441.053000000001, 9282.4806, 1719.4363, 7265.7025, 9617.66245, 2523.1695, 9715.841, 2803.69785, 2150.469, 12928.7911, 9855.1314, 4237.12655, 11879.10405, 9625.92, 7742.1098, 9432.9253, 14256.1928, 25992.82104, 3172.018, 20277.80751, 2156.7518, 3906.127, 1704.5681, 9249.4952, 6746.7425, 12265.5069, 4349.462, 12646.207, 19442.3535, 20177.671130000002, 4151.0287, 11944.59435, 7749.1564, 8444.474, 1737.376, 8124.4084, 9722.7695, 8835.26495, 10435.06525, 7421.19455, 4667.60765, 4894.7533, 24671.66334, 11566.30055, 2866.091, 6600.20595, 3561.8889, 9144.565, 13429.0354, 11658.37915, 19144.57652, 13822.803, 12142.5786, 13937.6665, 8232.6388, 18955.22017, 13352.0998, 13217.0945, 13981.85035, 10977.2063, 6184.2994, 4889.9995, 8334.45755, 5478.0368, 1635.73365, 11830.6072, 8932.084, 3554.203, 12404.8791, 14133.03775, 24603.04837, 8944.1151, 9620.3307, 1837.2819, 1607.5101, 10043.249, 4751.07, 2597.779, 3180.5101, 9778.3472, 13430.265, 8017.06115, 8116.26885, 3481.868, 13415.0381, 12029.2867, 7639.41745, 1391.5287, 16455.70785, 27000.98473, 20781.48892, 5846.9176, 8302.53565, 1261.859, 11856.4115, 30284.642939999998, 3176.8159, 4618.0799, 10736.87075, 2138.0707, 8964.06055, 9290.1395, 9411.005, 7526.70645, 8522.003, 16586.49771, 14988.431999999999, 1631.6683, 9264.796999999999, 8083.9198, 14692.66935, 10269.46, 3260.199, 11396.9002, 4185.0979, 8539.671, 6652.5288, 4074.4537, 1621.3402, 5080.096, 2134.9015, 7345.7266, 9140.951, 14418.2804, 2727.3951, 8968.33, 9788.8659, 6555.07035, 7323.734818999999, 3167.45585, 18804.7524, 23082.95533, 4906.40965, 5969.723000000001, 12638.195, 4243.59005, 13919.8229, 2254.7967, 5926.846, 12592.5345, 2897.3235, 4738.2682, 1149.3959, 28287.897660000002, 7345.084, 12730.9996, 11454.0215, 5910.944, 4762.329000000001, 7512.267, 4032.2407, 1969.614, 1769.53165, 4686.3887, 21797.0004, 11881.9696, 11840.77505, 10601.412, 7682.67, 10381.4787, 15230.32405, 11165.41765, 1632.03625, 13224.693000000001, 12643.3778, 23288.9284, 2201.0971, 2497.0383, 2203.47185, 1744.465, 20878.78443, 2534.39375, 1534.3045, 1824.2854, 15555.18875, 9304.7019, 1622.1885, 9880.068000000001, 9563.029, 4347.02335, 12475.3513, 1253.9360000000001, 10461.9794, 1748.774, 24513.09126, 2196.4732, 12574.048999999999, 1967.0227, 4931.647, 8027.968000000001, 8211.1002, 13470.86, 6837.3687, 5974.3847, 6796.86325, 2643.2685, 3077.0955, 3044.2133, 11455.28, 11763.0009, 2498.4144, 9361.3268, 1256.299, 11362.755, 27724.28875, 8413.46305, 5240.765, 3857.75925, 25656.575259999998, 3994.1778, 9866.30485, 5397.6167, 11482.63485, 24059.68019, 9861.025, 8342.90875, 1708.0014, 14043.4767, 12925.886, 19214.705530000003, 13831.1152, 6067.12675, 5972.378000000001, 8825.086, 8233.0975, 27346.04207, 6196.448, 3056.3881, 13887.204, 10231.4999, 3268.84665, 11538.421, 3213.62205, 13390.559, 3972.9247, 12957.118, 11187.6567, 17878.900680000002, 3847.6740000000004, 8334.5896, 3935.1799, 1646.4297, 9193.8385, 10923.9332, 2494.022, 9058.7303, 2801.2588, 2128.43105, 6373.55735, 7256.7231, 11552.903999999999, 3761.292, 2219.4451, 4753.6368, 31620.001060000002, 13224.05705, 12222.8983, 1664.9996, 9724.53, 3206.49135, 12913.9924, 1639.5631, 6356.2707, 17626.23951, 1242.816, 4779.6023, 3861.20965, 13635.6379, 5976.8311, 11842.442, 8428.0693, 2566.4707, 5709.1644, 8823.98575, 7640.3092, 5594.8455, 7441.501, 33471.97189, 1633.0444, 9174.13565, 11070.535, 16085.1275, 9283.562, 3558.62025, 4435.0942, 8547.6913, 6571.544, 2207.69745, 6753.0380000000005, 1880.07, 11658.11505, 10713.643999999998, 3659.3459999999995, 9182.17, 12129.61415, 3736.4647, 6748.5912, 11326.71487, 11365.952, 10085.846, 1977.815, 3366.6697, 7173.35995, 9391.346, 14410.9321, 2709.1119, 24915.04626, 12949.1554, 6666.243, 13143.86485, 4466.6214, 18806.14547, 10141.1362, 6123.5688, 8252.2843, 1712.227, 12430.95335, 9800.8882, 10579.711000000001, 8280.6227, 8527.532, 12244.531, 3410.324, 4058.71245, 26392.260290000002, 14394.39815, 6435.6237, 22192.43711, 5148.5526, 1136.3994, 8703.456, 6500.2359, 4837.5823, 3943.5954, 4399.731, 6185.3208, 7222.78625, 12485.8009, 12363.546999999999, 10156.7832, 2585.269, 1242.26, 9863.4718, 4766.022, 11244.3769, 7729.64575, 5438.7491, 26236.57997, 2104.1134, 8068.185, 2362.22905, 2352.96845, 3577.9990000000003, 3201.24515, 29186.48236, 10976.24575, 3500.6123, 2020.5523, 9541.69555, 9504.3103, 5385.3379, 8930.93455, 5375.0380000000005, 10264.4421, 6113.23105, 5469.0066, 1727.54, 10107.2206, 8310.83915, 1984.4533, 2457.502, 12146.971000000001, 9566.9909, 13112.6048, 10848.1343, 12231.6136, 9875.6804, 11264.541000000001, 12979.358, 1263.249, 10106.13425, 6664.68595, 2217.6012, 6781.3542, 10065.413, 4234.927, 9447.25035, 14007.222, 9583.8933, 3484.3309999999997, 8604.48365, 3757.8448, 8827.2099, 9910.35985, 11737.84884, 1627.28245, 8556.907, 3062.50825, 1906.35825, 14210.53595, 11833.7823, 17128.42608, 5031.26955, 7985.815, 5428.7277, 3925.7582, 2416.955, 3070.8087, 9095.06825, 11842.62375, 8062.764, 7050.642, 14319.031, 6933.24225, 27941.28758, 11150.78, 12797.20962, 7261.741, 10560.4917, 6986.696999999999, 7448.40395, 5934.3798, 9869.8102, 1146.7966, 9386.1613, 4350.5144, 6414.178000000001, 12741.16745, 1917.3184, 5209.57885, 13457.9608, 5662.225, 1252.407, 2731.9122, 7209.4918, 4266.1658, 4719.52405, 11848.141000000001, 7046.7222, 14313.8463, 2103.08, 1815.8759, 7731.85785, 28476.734989999997, 2136.88225, 1131.5066, 3309.7926, 9414.92, 6360.9936, 11013.7119, 4428.88785, 5584.3057, 1877.9294, 2842.76075, 3597.5959999999995, 7445.918000000001, 2680.9493, 1621.8827, 8219.2039, 12523.6048, 16069.08475, 6117.4945, 13393.756000000001, 5266.3656, 4719.73655, 11743.9341, 5377.4578, 7160.3303, 4402.233, 11657.7189, 6402.29135, 12622.1795, 1526.3120000000001, 12323.936000000002, 10072.05505, 9872.701, 2438.0552, 2974.1259999999997, 10601.63225, 14119.62, 11729.6795, 1875.344, 18218.16139, 10965.446000000002, 7151.092, 12269.68865, 5458.04645, 8782.469000000001, 6600.361, 1141.4451, 11576.13, 13129.60345, 4391.652, 8457.818000000001, 3392.3652, 5966.8874, 6849.026, 8891.1395, 2690.1138, 26140.3603, 6653.7886, 6282.235, 6311.951999999999, 3443.0640000000003, 2789.0574, 2585.85065, 4877.98105, 5272.1758, 1682.5970000000002, 11945.1327, 7243.8136, 10422.91665, 13555.0049, 13063.883, 2221.56445, 1634.5734, 2117.33885, 8688.85885, 4661.28635, 8125.7845, 12644.589, 4564.19145, 4846.92015, 7633.7206, 15170.069, 2639.0429, 14382.70905, 7626.993, 5257.50795, 2473.3341, 13041.921, 5245.2269, 13451.122, 13462.52, 5488.262, 4320.41085, 6250.435, 25333.33284, 2913.5690000000004, 12032.326000000001, 13470.8044, 6289.7549, 2927.0647, 6238.298000000001, 10096.97, 7348.142, 4673.3922, 12233.828000000001, 32108.662819999998, 8965.79575, 2304.0022, 9487.6442, 1121.8739, 9549.5651, 2217.46915, 1628.4709, 12982.8747, 11674.13, 7160.094, 6358.77645, 11534.87265, 4527.18295, 3875.7341, 12609.88702, 28468.91901, 2730.10785, 3353.284, 14474.675, 9500.57305, 26467.09737, 4746.344, 7518.02535, 3279.86855, 8596.8278, 10702.6424, 4992.3764, 2527.81865, 1759.338, 2322.6218, 7804.1605, 2902.9065, 9704.66805, 4889.0368, 25517.11363, 4500.33925, 16796.41194, 4915.05985, 7624.63, 8410.04685, 28340.18885, 4518.82625, 3378.91, 7144.86265, 10118.424, 5484.4673, 7986.47525, 7418.522, 13887.9685, 6551.7501, 5267.81815, 1972.95, 21232.182259999998, 8627.5411, 4433.3877, 4438.2634, 23241.47453, 9957.7216, 8269.044, 36580.28216, 8765.249, 5383.536, 12124.9924, 2709.24395, 3987.926, 12495.29085, 26018.95052, 8798.593, 1711.0268, 8569.8618, 2020.1770000000001, 21595.38229, 9850.431999999999, 6877.9801, 4137.5227, 12950.0712, 12094.478000000001, 2250.8352, 22493.65964, 1704.70015, 3161.454, 11394.06555, 7325.0482, 3594.17085, 8023.13545, 14394.5579, 9288.0267, 3353.4703, 10594.50155, 8277.523000000001, 17929.303369999998, 2480.9791, 4462.7218, 1981.5819, 11554.2236, 6548.19505, 5708.866999999999, 7045.499, 8978.1851, 5757.41345, 14349.8544, 10928.848999999998, 13974.45555, 1909.52745, 12096.6512, 13204.28565, 4562.8421, 8551.347, 2102.2647, 15161.5344, 11884.04858, 4454.40265, 5855.9025, 4076.4970000000003, 15019.76005, 10796.35025, 11353.2276, 9748.9106, 10577.087, 11286.5387, 3591.48, 11299.343, 4561.1885, 1674.6323, 23045.56616, 3227.1211, 11253.421, 3471.4096, 11363.2832, 20420.60465, 10338.9316, 8988.15875, 10493.9458, 2904.0879999999997, 8605.3615, 11512.405, 5312.16985, 2396.0959, 10807.4863, 9222.4026, 5693.4305, 8347.1643, 18903.49141, 14254.6082, 10214.636, 5836.5204, 14358.36437, 1728.8970000000002, 8582.3023, 3693.428, 20709.02034, 9991.03765, 19673.335730000003, 11085.5868, 7623.518, 3176.2877, 3704.3545, 9048.0273, 7954.517, 27117.99378, 6338.0756, 9630.396999999999, 11289.10925, 2261.5688, 10791.96, 5979.731, 2203.73595, 12235.8392, 5630.45785, 11015.1747, 7228.21565, 14426.07385, 2459.7201, 3989.841, 7727.2532, 5124.1887, 18963.171919999997, 2200.83085, 7153.5539, 5227.98875, 10982.5013, 4529.477, 4670.64, 6112.35295, 11093.6229, 6457.8434, 4433.9159, 2154.361, 6496.8859999999995, 2899.48935, 7650.77375, 2850.68375, 2632.992, 9447.3824, 8603.8234, 13844.7972, 13126.67745, 5327.40025, 13725.47184, 13019.16105, 8671.19125, 4134.08245, 18838.70366, 5699.8375, 6393.60345, 4934.705, 6198.7518, 8733.22925, 2055.3249, 9964.06, 5116.5004, 36910.60803, 12347.171999999999, 5373.36425, 23563.016180000002, 1702.4553, 10806.839, 3956.07145, 12890.05765, 5415.6612, 4058.1161, 7537.1639, 4718.20355, 6593.5083, 8442.667, 6858.4796, 4795.6568, 6640.54485, 7162.0122, 10594.2257, 11938.25595, 12479.70895, 11345.518999999998, 8515.7587, 2699.56835, 14449.8544, 12224.35085, 6985.50695, 3238.4357, 4296.2712, 3171.6149, 1135.9407, 5615.369000000001, 9101.798, 6059.173000000001, 1633.9618, 1241.565, 15828.821730000001, 4415.1588, 6474.013000000001, 11436.73815, 11305.93455, 30063.58055, 10197.7722, 4544.2348, 3277.1609999999996, 6770.1925, 7337.7480000000005, 10370.91255, 10704.47, 1880.487, 8615.3, 3292.52985, 3021.80915, 14478.33015, 4747.0529, 10959.33, 2741.948, 4357.04365, 4189.1131, 8283.6807, 1720.3537, 8534.6718, 3732.6251, 5472.4490000000005, 7147.4728, 7133.9025, 1515.3449, 9301.89355, 11931.12525, 1964.78, 1708.92575, 4340.4409, 5261.46945, 2710.82855, 3208.7870000000003, 2464.6188, 6875.960999999999, 6940.90985, 4571.41305, 4536.259, 11272.331390000001, 1731.6770000000001, 1163.4627, 19496.71917, 7201.70085, 5425.02335, 12981.3457, 4239.89265, 13143.33665, 7050.0213, 9377.9047, 22395.74424, 10325.206, 12629.1656, 10795.937329999999, 11411.685, 10600.5483, 2205.9808, 1629.8335, 2007.945], \"yaxis\": \"y\"}],\n",
              "                        {\"legend\": {\"tracegroupgap\": 0}, \"template\": {\"data\": {\"bar\": [{\"error_x\": {\"color\": \"#2a3f5f\"}, \"error_y\": {\"color\": \"#2a3f5f\"}, \"marker\": {\"line\": {\"color\": \"#E5ECF6\", \"width\": 0.5}}, \"type\": \"bar\"}], \"barpolar\": [{\"marker\": {\"line\": {\"color\": \"#E5ECF6\", \"width\": 0.5}}, \"type\": \"barpolar\"}], \"carpet\": [{\"aaxis\": {\"endlinecolor\": \"#2a3f5f\", \"gridcolor\": \"white\", \"linecolor\": \"white\", \"minorgridcolor\": \"white\", \"startlinecolor\": \"#2a3f5f\"}, \"baxis\": {\"endlinecolor\": \"#2a3f5f\", \"gridcolor\": \"white\", \"linecolor\": \"white\", \"minorgridcolor\": \"white\", \"startlinecolor\": \"#2a3f5f\"}, \"type\": \"carpet\"}], \"choropleth\": [{\"colorbar\": {\"outlinewidth\": 0, \"ticks\": \"\"}, \"type\": \"choropleth\"}], \"contour\": [{\"colorbar\": {\"outlinewidth\": 0, \"ticks\": \"\"}, \"colorscale\": [[0.0, \"#0d0887\"], [0.1111111111111111, \"#46039f\"], [0.2222222222222222, \"#7201a8\"], [0.3333333333333333, \"#9c179e\"], [0.4444444444444444, \"#bd3786\"], [0.5555555555555556, \"#d8576b\"], [0.6666666666666666, \"#ed7953\"], [0.7777777777777778, \"#fb9f3a\"], [0.8888888888888888, \"#fdca26\"], [1.0, \"#f0f921\"]], \"type\": \"contour\"}], \"contourcarpet\": [{\"colorbar\": {\"outlinewidth\": 0, \"ticks\": \"\"}, \"type\": \"contourcarpet\"}], \"heatmap\": [{\"colorbar\": {\"outlinewidth\": 0, \"ticks\": \"\"}, \"colorscale\": [[0.0, \"#0d0887\"], [0.1111111111111111, \"#46039f\"], [0.2222222222222222, \"#7201a8\"], [0.3333333333333333, \"#9c179e\"], [0.4444444444444444, \"#bd3786\"], [0.5555555555555556, \"#d8576b\"], [0.6666666666666666, \"#ed7953\"], [0.7777777777777778, \"#fb9f3a\"], [0.8888888888888888, \"#fdca26\"], [1.0, \"#f0f921\"]], \"type\": \"heatmap\"}], \"heatmapgl\": [{\"colorbar\": {\"outlinewidth\": 0, \"ticks\": \"\"}, \"colorscale\": [[0.0, \"#0d0887\"], [0.1111111111111111, \"#46039f\"], [0.2222222222222222, \"#7201a8\"], [0.3333333333333333, \"#9c179e\"], [0.4444444444444444, \"#bd3786\"], [0.5555555555555556, \"#d8576b\"], [0.6666666666666666, \"#ed7953\"], [0.7777777777777778, \"#fb9f3a\"], [0.8888888888888888, \"#fdca26\"], [1.0, \"#f0f921\"]], \"type\": \"heatmapgl\"}], \"histogram\": [{\"marker\": {\"colorbar\": {\"outlinewidth\": 0, \"ticks\": \"\"}}, \"type\": \"histogram\"}], \"histogram2d\": [{\"colorbar\": {\"outlinewidth\": 0, \"ticks\": \"\"}, \"colorscale\": [[0.0, \"#0d0887\"], [0.1111111111111111, \"#46039f\"], [0.2222222222222222, \"#7201a8\"], [0.3333333333333333, \"#9c179e\"], [0.4444444444444444, \"#bd3786\"], [0.5555555555555556, \"#d8576b\"], [0.6666666666666666, \"#ed7953\"], [0.7777777777777778, \"#fb9f3a\"], [0.8888888888888888, \"#fdca26\"], [1.0, \"#f0f921\"]], \"type\": \"histogram2d\"}], \"histogram2dcontour\": [{\"colorbar\": {\"outlinewidth\": 0, \"ticks\": \"\"}, \"colorscale\": [[0.0, \"#0d0887\"], [0.1111111111111111, \"#46039f\"], [0.2222222222222222, \"#7201a8\"], [0.3333333333333333, \"#9c179e\"], [0.4444444444444444, \"#bd3786\"], [0.5555555555555556, \"#d8576b\"], [0.6666666666666666, \"#ed7953\"], [0.7777777777777778, \"#fb9f3a\"], [0.8888888888888888, \"#fdca26\"], [1.0, \"#f0f921\"]], \"type\": \"histogram2dcontour\"}], \"mesh3d\": [{\"colorbar\": {\"outlinewidth\": 0, \"ticks\": \"\"}, \"type\": \"mesh3d\"}], \"parcoords\": [{\"line\": {\"colorbar\": {\"outlinewidth\": 0, \"ticks\": \"\"}}, \"type\": \"parcoords\"}], \"pie\": [{\"automargin\": true, \"type\": \"pie\"}], \"scatter\": [{\"marker\": {\"colorbar\": {\"outlinewidth\": 0, \"ticks\": \"\"}}, \"type\": \"scatter\"}], \"scatter3d\": [{\"line\": {\"colorbar\": {\"outlinewidth\": 0, \"ticks\": \"\"}}, \"marker\": {\"colorbar\": {\"outlinewidth\": 0, \"ticks\": \"\"}}, \"type\": \"scatter3d\"}], \"scattercarpet\": [{\"marker\": {\"colorbar\": {\"outlinewidth\": 0, \"ticks\": \"\"}}, \"type\": \"scattercarpet\"}], \"scattergeo\": [{\"marker\": {\"colorbar\": {\"outlinewidth\": 0, \"ticks\": \"\"}}, \"type\": \"scattergeo\"}], \"scattergl\": [{\"marker\": {\"colorbar\": {\"outlinewidth\": 0, \"ticks\": \"\"}}, \"type\": \"scattergl\"}], \"scattermapbox\": [{\"marker\": {\"colorbar\": {\"outlinewidth\": 0, \"ticks\": \"\"}}, \"type\": \"scattermapbox\"}], \"scatterpolar\": [{\"marker\": {\"colorbar\": {\"outlinewidth\": 0, \"ticks\": \"\"}}, \"type\": \"scatterpolar\"}], \"scatterpolargl\": [{\"marker\": {\"colorbar\": {\"outlinewidth\": 0, \"ticks\": \"\"}}, \"type\": \"scatterpolargl\"}], \"scatterternary\": [{\"marker\": {\"colorbar\": {\"outlinewidth\": 0, \"ticks\": \"\"}}, \"type\": \"scatterternary\"}], \"surface\": [{\"colorbar\": {\"outlinewidth\": 0, \"ticks\": \"\"}, \"colorscale\": [[0.0, \"#0d0887\"], [0.1111111111111111, \"#46039f\"], [0.2222222222222222, \"#7201a8\"], [0.3333333333333333, \"#9c179e\"], [0.4444444444444444, \"#bd3786\"], [0.5555555555555556, \"#d8576b\"], [0.6666666666666666, \"#ed7953\"], [0.7777777777777778, \"#fb9f3a\"], [0.8888888888888888, \"#fdca26\"], [1.0, \"#f0f921\"]], \"type\": \"surface\"}], \"table\": [{\"cells\": {\"fill\": {\"color\": \"#EBF0F8\"}, \"line\": {\"color\": \"white\"}}, \"header\": {\"fill\": {\"color\": \"#C8D4E3\"}, \"line\": {\"color\": \"white\"}}, \"type\": \"table\"}]}, \"layout\": {\"annotationdefaults\": {\"arrowcolor\": \"#2a3f5f\", \"arrowhead\": 0, \"arrowwidth\": 1}, \"coloraxis\": {\"colorbar\": {\"outlinewidth\": 0, \"ticks\": \"\"}}, \"colorscale\": {\"diverging\": [[0, \"#8e0152\"], [0.1, \"#c51b7d\"], [0.2, \"#de77ae\"], [0.3, \"#f1b6da\"], [0.4, \"#fde0ef\"], [0.5, \"#f7f7f7\"], [0.6, \"#e6f5d0\"], [0.7, \"#b8e186\"], [0.8, \"#7fbc41\"], [0.9, \"#4d9221\"], [1, \"#276419\"]], \"sequential\": [[0.0, \"#0d0887\"], [0.1111111111111111, \"#46039f\"], [0.2222222222222222, \"#7201a8\"], [0.3333333333333333, \"#9c179e\"], [0.4444444444444444, \"#bd3786\"], [0.5555555555555556, \"#d8576b\"], [0.6666666666666666, \"#ed7953\"], [0.7777777777777778, \"#fb9f3a\"], [0.8888888888888888, \"#fdca26\"], [1.0, \"#f0f921\"]], \"sequentialminus\": [[0.0, \"#0d0887\"], [0.1111111111111111, \"#46039f\"], [0.2222222222222222, \"#7201a8\"], [0.3333333333333333, \"#9c179e\"], [0.4444444444444444, \"#bd3786\"], [0.5555555555555556, \"#d8576b\"], [0.6666666666666666, \"#ed7953\"], [0.7777777777777778, \"#fb9f3a\"], [0.8888888888888888, \"#fdca26\"], [1.0, \"#f0f921\"]]}, \"colorway\": [\"#636efa\", \"#EF553B\", \"#00cc96\", \"#ab63fa\", \"#FFA15A\", \"#19d3f3\", \"#FF6692\", \"#B6E880\", \"#FF97FF\", \"#FECB52\"], \"font\": {\"color\": \"#2a3f5f\"}, \"geo\": {\"bgcolor\": \"white\", \"lakecolor\": \"white\", \"landcolor\": \"#E5ECF6\", \"showlakes\": true, \"showland\": true, \"subunitcolor\": \"white\"}, \"hoverlabel\": {\"align\": \"left\"}, \"hovermode\": \"closest\", \"mapbox\": {\"style\": \"light\"}, \"paper_bgcolor\": \"white\", \"plot_bgcolor\": \"#E5ECF6\", \"polar\": {\"angularaxis\": {\"gridcolor\": \"white\", \"linecolor\": \"white\", \"ticks\": \"\"}, \"bgcolor\": \"#E5ECF6\", \"radialaxis\": {\"gridcolor\": \"white\", \"linecolor\": \"white\", \"ticks\": \"\"}}, \"scene\": {\"xaxis\": {\"backgroundcolor\": \"#E5ECF6\", \"gridcolor\": \"white\", \"gridwidth\": 2, \"linecolor\": \"white\", \"showbackground\": true, \"ticks\": \"\", \"zerolinecolor\": \"white\"}, \"yaxis\": {\"backgroundcolor\": \"#E5ECF6\", \"gridcolor\": \"white\", \"gridwidth\": 2, \"linecolor\": \"white\", \"showbackground\": true, \"ticks\": \"\", \"zerolinecolor\": \"white\"}, \"zaxis\": {\"backgroundcolor\": \"#E5ECF6\", \"gridcolor\": \"white\", \"gridwidth\": 2, \"linecolor\": \"white\", \"showbackground\": true, \"ticks\": \"\", \"zerolinecolor\": \"white\"}}, \"shapedefaults\": {\"line\": {\"color\": \"#2a3f5f\"}}, \"ternary\": {\"aaxis\": {\"gridcolor\": \"white\", \"linecolor\": \"white\", \"ticks\": \"\"}, \"baxis\": {\"gridcolor\": \"white\", \"linecolor\": \"white\", \"ticks\": \"\"}, \"bgcolor\": \"#E5ECF6\", \"caxis\": {\"gridcolor\": \"white\", \"linecolor\": \"white\", \"ticks\": \"\"}}, \"title\": {\"x\": 0.05}, \"xaxis\": {\"automargin\": true, \"gridcolor\": \"white\", \"linecolor\": \"white\", \"ticks\": \"\", \"title\": {\"standoff\": 15}, \"zerolinecolor\": \"white\", \"zerolinewidth\": 2}, \"yaxis\": {\"automargin\": true, \"gridcolor\": \"white\", \"linecolor\": \"white\", \"ticks\": \"\", \"title\": {\"standoff\": 15}, \"zerolinecolor\": \"white\", \"zerolinewidth\": 2}}}, \"title\": {\"text\": \"Ages vs. Charges\"}, \"xaxis\": {\"anchor\": \"y\", \"domain\": [0.0, 1.0], \"title\": {\"text\": \"age\"}}, \"yaxis\": {\"anchor\": \"x\", \"domain\": [0.0, 1.0], \"title\": {\"text\": \"charges\"}}},\n",
              "                        {\"responsive\": true}\n",
              "                    ).then(function(){\n",
              "                            \n",
              "var gd = document.getElementById('51e73230-19a9-4550-a393-bde04ba73124');\n",
              "var x = new MutationObserver(function (mutations, observer) {{\n",
              "        var display = window.getComputedStyle(gd).display;\n",
              "        if (!display || display === 'none') {{\n",
              "            console.log([gd, 'removed!']);\n",
              "            Plotly.purge(gd);\n",
              "            observer.disconnect();\n",
              "        }}\n",
              "}});\n",
              "\n",
              "// Listen for the removal of the full notebook cells\n",
              "var notebookContainer = gd.closest('#notebook-container');\n",
              "if (notebookContainer) {{\n",
              "    x.observe(notebookContainer, {childList: true});\n",
              "}}\n",
              "\n",
              "// Listen for the clearing of the current output cell\n",
              "var outputEl = gd.closest('.output');\n",
              "if (outputEl) {{\n",
              "    x.observe(outputEl, {childList: true});\n",
              "}}\n",
              "\n",
              "                        })\n",
              "                };\n",
              "                \n",
              "            </script>\n",
              "        </div>\n",
              "</body>\n",
              "</html>"
            ]
          },
          "metadata": {
            "tags": []
          }
        }
      ]
    },
    {
      "cell_type": "markdown",
      "metadata": {
        "id": "la2HLwQvTI_k"
      },
      "source": [
        "The dataset split into 3 groups strongly correlate with smoking status. Lower charges group are non-smoker from every ages. The second group consist of both smoker and non-smoker with charges range in the middle. There seem to be smoker without serious medical issues and non-smoker with medium medical charges. The last group are people with smoking status with charges main range from 40k-50."
      ]
    },
    {
      "cell_type": "markdown",
      "metadata": {
        "id": "ypLZuZklUNFt"
      },
      "source": [
        "#### BMI vs. Charges"
      ]
    },
    {
      "cell_type": "code",
      "metadata": {
        "colab": {
          "base_uri": "https://localhost:8080/",
          "height": 542
        },
        "id": "VISDWVFkUMVN",
        "outputId": "a0112f3b-7c92-4602-cb00-5b45e2a14347"
      },
      "source": [
        "figure = px.scatter(medical_df, 'bmi', 'charges', color='smoker', hover_data=['sex', 'age'], \n",
        "                    opacity=0.9, title='BMI vs. Charges')\n",
        "figure.show()"
      ],
      "execution_count": null,
      "outputs": [
        {
          "output_type": "display_data",
          "data": {
            "text/html": [
              "<html>\n",
              "<head><meta charset=\"utf-8\" /></head>\n",
              "<body>\n",
              "    <div>\n",
              "            <script src=\"https://cdnjs.cloudflare.com/ajax/libs/mathjax/2.7.5/MathJax.js?config=TeX-AMS-MML_SVG\"></script><script type=\"text/javascript\">if (window.MathJax) {MathJax.Hub.Config({SVG: {font: \"STIX-Web\"}});}</script>\n",
              "                <script type=\"text/javascript\">window.PlotlyConfig = {MathJaxConfig: 'local'};</script>\n",
              "        <script src=\"https://cdn.plot.ly/plotly-latest.min.js\"></script>    \n",
              "            <div id=\"36b0ca63-c45a-4823-ac2c-bfa3b2fccad6\" class=\"plotly-graph-div\" style=\"height:525px; width:100%;\"></div>\n",
              "            <script type=\"text/javascript\">\n",
              "                \n",
              "                    window.PLOTLYENV=window.PLOTLYENV || {};\n",
              "                    \n",
              "                if (document.getElementById(\"36b0ca63-c45a-4823-ac2c-bfa3b2fccad6\")) {\n",
              "                    Plotly.newPlot(\n",
              "                        '36b0ca63-c45a-4823-ac2c-bfa3b2fccad6',\n",
              "                        [{\"customdata\": [[\"female\", 19], [\"female\", 62], [\"male\", 27], [\"male\", 30], [\"female\", 34], [\"male\", 31], [\"male\", 22], [\"male\", 28], [\"male\", 35], [\"male\", 60], [\"male\", 36], [\"male\", 48], [\"male\", 36], [\"male\", 58], [\"male\", 18], [\"female\", 53], [\"female\", 20], [\"male\", 28], [\"female\", 27], [\"male\", 22], [\"female\", 37], [\"male\", 45], [\"female\", 57], [\"male\", 59], [\"female\", 64], [\"male\", 56], [\"male\", 38], [\"female\", 61], [\"male\", 20], [\"male\", 63], [\"female\", 29], [\"male\", 44], [\"female\", 19], [\"female\", 32], [\"male\", 34], [\"male\", 30], [\"male\", 46], [\"female\", 42], [\"male\", 48], [\"male\", 18], [\"male\", 30], [\"female\", 42], [\"female\", 18], [\"female\", 63], [\"male\", 36], [\"female\", 27], [\"male\", 35], [\"male\", 19], [\"male\", 42], [\"female\", 40], [\"male\", 19], [\"female\", 23], [\"female\", 63], [\"male\", 18], [\"female\", 63], [\"male\", 54], [\"male\", 50], [\"male\", 56], [\"male\", 19], [\"female\", 20], [\"male\", 52], [\"male\", 19], [\"male\", 46], [\"male\", 40], [\"male\", 50], [\"female\", 40], [\"male\", 54], [\"female\", 59], [\"male\", 25], [\"male\", 19], [\"male\", 47], [\"male\", 31], [\"female\", 53], [\"male\", 43], [\"female\", 27], [\"male\", 34], [\"male\", 45], [\"female\", 64], [\"female\", 61], [\"male\", 52], [\"male\", 50], [\"female\", 19], [\"male\", 26], [\"female\", 23], [\"female\", 39], [\"male\", 24], [\"female\", 27], [\"male\", 55], [\"female\", 44], [\"female\", 26], [\"female\", 36], [\"female\", 63], [\"male\", 64], [\"male\", 61], [\"male\", 40], [\"female\", 33], [\"male\", 56], [\"male\", 42], [\"female\", 30], [\"male\", 54], [\"male\", 61], [\"male\", 24], [\"female\", 44], [\"male\", 21], [\"male\", 29], [\"male\", 51], [\"male\", 19], [\"male\", 39], [\"male\", 42], [\"male\", 57], [\"female\", 54], [\"male\", 49], [\"female\", 43], [\"female\", 35], [\"male\", 48], [\"female\", 31], [\"female\", 34], [\"female\", 21], [\"female\", 19], [\"female\", 59], [\"male\", 30], [\"female\", 47], [\"male\", 49], [\"female\", 19], [\"male\", 37], [\"male\", 18], [\"female\", 44], [\"male\", 39], [\"male\", 42], [\"female\", 52], [\"female\", 64], [\"male\", 43], [\"female\", 40], [\"male\", 62], [\"female\", 44], [\"male\", 60], [\"male\", 39], [\"male\", 27], [\"male\", 41], [\"female\", 51], [\"female\", 30], [\"female\", 29], [\"male\", 35], [\"female\", 37], [\"male\", 23], [\"male\", 29], [\"male\", 27], [\"male\", 53], [\"female\", 37], [\"female\", 47], [\"male\", 18], [\"male\", 33], [\"female\", 19], [\"male\", 30], [\"female\", 50], [\"male\", 53], [\"male\", 27], [\"male\", 33], [\"female\", 18], [\"female\", 47], [\"female\", 33], [\"male\", 56], [\"male\", 36], [\"male\", 41], [\"female\", 23], [\"female\", 57], [\"female\", 60], [\"female\", 37], [\"female\", 46], [\"female\", 49], [\"female\", 48], [\"male\", 25], [\"female\", 37], [\"female\", 51], [\"male\", 32], [\"male\", 57], [\"female\", 64], [\"male\", 47], [\"female\", 43], [\"male\", 60], [\"female\", 32], [\"male\", 18], [\"female\", 43], [\"male\", 45], [\"male\", 37], [\"male\", 25], [\"male\", 51], [\"male\", 44], [\"male\", 34], [\"male\", 54], [\"male\", 43], [\"male\", 51], [\"male\", 29], [\"male\", 31], [\"female\", 24], [\"female\", 27], [\"male\", 30], [\"male\", 24], [\"male\", 47], [\"male\", 43], [\"female\", 22], [\"male\", 47], [\"male\", 19], [\"female\", 46], [\"female\", 55], [\"male\", 18], [\"male\", 22], [\"female\", 45], [\"female\", 35], [\"male\", 20], [\"female\", 43], [\"male\", 22], [\"male\", 49], [\"male\", 47], [\"male\", 59], [\"male\", 37], [\"male\", 28], [\"female\", 39], [\"male\", 47], [\"female\", 22], [\"female\", 51], [\"female\", 33], [\"male\", 38], [\"female\", 48], [\"male\", 25], [\"male\", 33], [\"female\", 23], [\"female\", 53], [\"female\", 23], [\"female\", 19], [\"male\", 60], [\"female\", 43], [\"male\", 19], [\"male\", 18], [\"female\", 43], [\"female\", 52], [\"male\", 31], [\"female\", 23], [\"male\", 20], [\"female\", 43], [\"female\", 19], [\"female\", 18], [\"male\", 36], [\"female\", 37], [\"female\", 46], [\"female\", 20], [\"male\", 52], [\"female\", 20], [\"male\", 52], [\"male\", 64], [\"male\", 32], [\"male\", 24], [\"male\", 20], [\"male\", 64], [\"male\", 24], [\"male\", 26], [\"male\", 39], [\"female\", 47], [\"female\", 18], [\"male\", 61], [\"male\", 20], [\"male\", 19], [\"male\", 45], [\"male\", 62], [\"male\", 43], [\"male\", 42], [\"female\", 29], [\"male\", 32], [\"female\", 25], [\"female\", 19], [\"female\", 30], [\"male\", 62], [\"female\", 42], [\"female\", 61]], \"hoverlabel\": {\"namelength\": 0}, \"hovertemplate\": \"smoker=yes<br>bmi=%{x}<br>charges=%{y}<br>sex=%{customdata[0]}<br>age=%{customdata[1]}\", \"legendgroup\": \"smoker=yes\", \"marker\": {\"color\": \"#636efa\", \"opacity\": 0.9, \"symbol\": \"circle\"}, \"mode\": \"markers\", \"name\": \"smoker=yes\", \"showlegend\": true, \"type\": \"scattergl\", \"x\": [27.9, 26.29, 42.13, 35.3, 31.92, 36.3, 35.6, 36.4, 36.67, 39.9, 35.2, 28.0, 34.43, 36.955, 31.68, 22.88, 22.42, 23.98, 24.75, 37.62, 34.8, 22.895, 31.16, 29.83, 31.3, 19.95, 19.3, 29.92, 28.025, 35.09, 27.94, 31.35, 28.3, 17.765, 25.3, 28.69, 30.495, 23.37, 24.42, 25.175, 35.53, 26.6, 36.85, 37.7, 41.895, 36.08, 27.74, 34.8, 24.64, 22.22, 29.07, 36.67, 27.74, 17.29, 32.2, 34.21, 31.825, 33.63, 31.92, 26.84, 24.32, 36.955, 42.35, 19.8, 34.2, 28.12, 40.565, 36.765, 45.54, 27.7, 25.41, 34.39, 22.61, 35.97, 31.4, 30.8, 36.48, 33.8, 36.385, 27.36, 32.3, 21.7, 32.9, 28.31, 24.89, 40.15, 17.955, 30.685, 20.235, 17.195, 22.6, 26.98, 33.88, 35.86, 32.775, 33.5, 26.695, 30.0, 28.38, 25.1, 28.31, 28.5, 38.06, 25.7, 34.4, 23.21, 30.25, 28.3, 26.07, 42.13, 47.41, 25.84, 46.2, 34.105, 40.565, 38.095, 30.21, 21.85, 28.31, 23.655, 37.8, 36.63, 25.6, 33.11, 34.1, 33.535, 38.95, 26.41, 28.31, 25.3, 22.99, 38.06, 32.775, 32.015, 43.89, 31.35, 35.3, 31.13, 35.75, 38.06, 39.05, 21.755, 24.42, 38.39, 31.73, 35.5, 29.15, 34.105, 26.4, 27.83, 38.17, 27.1, 28.88, 24.4, 27.6, 20.9, 28.5, 24.795, 42.24, 26.125, 35.53, 31.79, 28.025, 30.78, 32.78, 29.81, 32.45, 30.78, 35.53, 23.845, 33.11, 24.13, 47.6, 37.05, 28.93, 28.975, 26.885, 38.94, 20.045, 40.92, 24.6, 31.73, 26.885, 22.895, 34.2, 29.7, 42.9, 30.2, 27.835, 30.8, 34.96, 24.795, 22.895, 25.9, 20.52, 20.045, 22.99, 32.7, 28.215, 20.13, 31.02, 36.08, 26.03, 23.655, 35.2, 21.565, 37.07, 30.495, 28.025, 30.685, 24.7, 52.58, 30.9, 29.8, 41.14, 37.07, 31.68, 18.3, 36.19, 30.4, 34.96, 19.095, 38.39, 25.85, 33.33, 35.75, 31.4, 36.86, 42.75, 32.49, 32.8, 32.56, 44.88, 27.36, 26.7, 24.13, 29.81, 28.49, 35.625, 25.27, 30.02, 27.28, 33.4, 25.555, 34.6, 24.42, 34.485, 21.8, 41.8, 36.96, 33.63, 29.83, 27.3, 23.76, 31.065, 27.06, 29.925, 27.645, 21.66, 36.3, 39.4, 34.9, 30.36, 30.875, 27.8, 24.605, 21.85, 28.12, 30.2, 34.7, 23.655, 26.695, 40.37, 29.07], \"xaxis\": \"x\", \"y\": [16884.924, 27808.7251, 39611.7577, 36837.467000000004, 37701.8768, 38711.0, 35585.576, 51194.55914, 39774.2763, 48173.361, 38709.176, 23568.272, 37742.5757, 47496.49445, 34303.1672, 23244.7902, 14711.7438, 17663.1442, 16577.7795, 37165.1638, 39836.519, 21098.55405, 43578.9394, 30184.9367, 47291.055, 22412.6485, 15820.698999999999, 30942.1918, 17560.37975, 47055.5321, 19107.7796, 39556.4945, 17081.08, 32734.1863, 18972.495, 20745.9891, 40720.55105, 19964.7463, 21223.6758, 15518.18025, 36950.2567, 21348.706000000002, 36149.4835, 48824.45, 43753.33705, 37133.8982, 20984.0936, 34779.615, 19515.5416, 19444.2658, 17352.6803, 38511.6283, 29523.1656, 12829.4551, 47305.305, 44260.7499, 41097.16175, 43921.1837, 33750.2918, 17085.2676, 24869.8368, 36219.40545, 46151.1245, 17179.522, 42856.837999999996, 22331.5668, 48549.17835, 47896.79135, 42112.2356, 16297.846000000001, 21978.6769, 38746.3551, 24873.3849, 42124.5153, 34838.873, 35491.64, 42760.5022, 47928.03, 48517.56315, 24393.6224, 41919.097, 13844.506000000001, 36085.219, 18033.9679, 21659.9301, 38126.2465, 15006.57945, 42303.69215, 19594.80965, 14455.64405, 18608.262, 28950.4692, 46889.2612, 46599.1084, 39125.33225, 37079.372, 26109.32905, 22144.032000000003, 19521.9682, 25382.297000000002, 28868.6639, 35147.52848, 48885.135610000005, 17942.106, 36197.699, 22218.1149, 32548.3405, 21082.16, 38245.59327, 48675.5177, 63770.42801, 23807.2406, 45863.205, 39983.42595, 45702.02235, 58571.074479999996, 43943.8761, 15359.1045, 17468.9839, 25678.77845, 39241.442, 42969.8527, 23306.547000000002, 34439.8559, 40182.246, 34617.84065, 42983.4585, 20149.3229, 32787.458589999995, 24667.418999999998, 27037.9141, 42560.4304, 40003.33225, 45710.20785, 46200.9851, 46130.5265, 40103.89, 34806.4677, 40273.6455, 44400.4064, 40932.4295, 16657.71745, 19361.9988, 40419.0191, 36189.1017, 44585.45587, 18246.4955, 43254.41795, 19539.243000000002, 23065.4207, 36307.7983, 19040.876, 17748.5062, 18259.216, 24520.264, 21195.818, 18310.742, 17904.52705, 38792.6856, 23401.30575, 55135.402089999996, 43813.8661, 20773.62775, 39597.4072, 36021.0112, 27533.9129, 45008.9555, 37270.1512, 42111.6647, 24106.91255, 40974.1649, 15817.9857, 46113.511, 46255.1125, 19719.6947, 27218.43725, 29330.98315, 44202.6536, 19798.05455, 48673.5588, 17496.306, 33732.6867, 21774.32215, 35069.37452, 39047.285, 19933.458, 47462.894, 38998.546, 20009.63365, 41999.52, 41034.2214, 23967.38305, 16138.76205, 19199.944, 14571.8908, 16420.49455, 17361.7661, 34472.841, 24915.22085, 18767.7377, 35595.5898, 42211.1382, 16450.8947, 21677.28345, 44423.803, 13747.87235, 37484.4493, 39725.51805, 20234.85475, 33475.81715, 21880.82, 44501.3982, 39727.614, 25309.488999999998, 48970.2476, 39871.7043, 34672.1472, 19023.26, 41676.0811, 33907.547999999995, 44641.1974, 16776.30405, 41949.2441, 24180.9335, 36124.5737, 38282.7495, 34166.273, 46661.4424, 40904.1995, 36898.73308, 52590.82939, 40941.2854, 39722.7462, 17178.6824, 22478.6, 23887.6627, 19350.3689, 18328.2381, 37465.34375, 21771.3423, 33307.5508, 18223.4512, 38415.474, 20296.86345, 41661.602, 26125.674769999998, 60021.39897, 20167.336030000002, 47269.85400000001, 49577.6624, 37607.5277, 18648.4217, 16232.847, 26926.5144, 34254.05335, 17043.3414, 22462.04375, 24535.69855, 14283.4594, 47403.88, 38344.566, 34828.654, 62592.87309, 46718.16325, 37829.7242, 21259.37795, 16115.3045, 21472.4788, 33900.653, 36397.576, 18765.87545, 28101.33305, 43896.3763, 29141.3603], \"yaxis\": \"y\"}, {\"customdata\": [[\"male\", 18], [\"male\", 28], [\"male\", 33], [\"male\", 32], [\"female\", 31], [\"female\", 46], [\"female\", 37], [\"male\", 37], [\"female\", 60], [\"male\", 25], [\"male\", 23], [\"female\", 56], [\"male\", 19], [\"female\", 52], [\"male\", 23], [\"male\", 56], [\"female\", 60], [\"female\", 30], [\"male\", 18], [\"male\", 37], [\"female\", 59], [\"female\", 63], [\"female\", 55], [\"male\", 23], [\"female\", 18], [\"female\", 19], [\"male\", 63], [\"male\", 19], [\"female\", 62], [\"male\", 26], [\"female\", 24], [\"female\", 31], [\"male\", 41], [\"female\", 37], [\"male\", 38], [\"male\", 55], [\"female\", 18], [\"female\", 28], [\"female\", 60], [\"female\", 18], [\"female\", 21], [\"female\", 40], [\"female\", 58], [\"female\", 34], [\"male\", 43], [\"male\", 25], [\"male\", 64], [\"female\", 28], [\"female\", 19], [\"female\", 61], [\"male\", 40], [\"female\", 40], [\"male\", 31], [\"female\", 53], [\"male\", 58], [\"male\", 44], [\"male\", 57], [\"female\", 29], [\"male\", 21], [\"female\", 22], [\"female\", 41], [\"male\", 31], [\"female\", 45], [\"female\", 48], [\"female\", 56], [\"female\", 46], [\"female\", 55], [\"female\", 21], [\"female\", 53], [\"male\", 35], [\"female\", 28], [\"female\", 54], [\"male\", 55], [\"female\", 41], [\"male\", 30], [\"female\", 18], [\"female\", 34], [\"female\", 19], [\"male\", 26], [\"male\", 29], [\"male\", 54], [\"female\", 55], [\"male\", 37], [\"female\", 21], [\"male\", 52], [\"male\", 60], [\"male\", 58], [\"female\", 49], [\"female\", 37], [\"male\", 44], [\"male\", 18], [\"female\", 20], [\"female\", 47], [\"female\", 26], [\"female\", 52], [\"male\", 38], [\"female\", 59], [\"female\", 61], [\"female\", 53], [\"male\", 19], [\"female\", 20], [\"female\", 22], [\"male\", 19], [\"male\", 22], [\"female\", 54], [\"female\", 22], [\"male\", 34], [\"male\", 26], [\"male\", 29], [\"female\", 29], [\"female\", 51], [\"female\", 53], [\"male\", 19], [\"male\", 35], [\"male\", 48], [\"female\", 32], [\"female\", 40], [\"male\", 44], [\"female\", 50], [\"male\", 54], [\"female\", 32], [\"male\", 37], [\"male\", 47], [\"female\", 20], [\"female\", 32], [\"female\", 19], [\"male\", 27], [\"male\", 63], [\"male\", 49], [\"male\", 18], [\"female\", 35], [\"female\", 24], [\"male\", 38], [\"male\", 54], [\"female\", 46], [\"female\", 41], [\"male\", 58], [\"female\", 18], [\"male\", 22], [\"female\", 44], [\"male\", 44], [\"female\", 26], [\"female\", 30], [\"female\", 41], [\"female\", 29], [\"male\", 61], [\"female\", 36], [\"male\", 25], [\"female\", 56], [\"male\", 18], [\"male\", 19], [\"female\", 39], [\"female\", 45], [\"female\", 51], [\"female\", 64], [\"female\", 19], [\"female\", 48], [\"female\", 60], [\"male\", 46], [\"female\", 28], [\"male\", 59], [\"female\", 63], [\"male\", 40], [\"male\", 20], [\"male\", 40], [\"male\", 24], [\"female\", 34], [\"female\", 45], [\"female\", 41], [\"female\", 53], [\"male\", 27], [\"female\", 26], [\"female\", 24], [\"female\", 34], [\"female\", 53], [\"male\", 32], [\"male\", 55], [\"male\", 28], [\"female\", 58], [\"female\", 41], [\"male\", 47], [\"female\", 42], [\"female\", 59], [\"female\", 19], [\"male\", 59], [\"male\", 39], [\"female\", 18], [\"male\", 31], [\"male\", 44], [\"female\", 33], [\"female\", 55], [\"male\", 40], [\"male\", 54], [\"female\", 60], [\"male\", 24], [\"male\", 19], [\"male\", 29], [\"male\", 27], [\"female\", 55], [\"female\", 38], [\"male\", 51], [\"female\", 58], [\"female\", 53], [\"female\", 59], [\"male\", 45], [\"male\", 49], [\"male\", 18], [\"male\", 41], [\"male\", 50], [\"male\", 25], [\"female\", 47], [\"male\", 19], [\"female\", 22], [\"male\", 59], [\"female\", 51], [\"male\", 30], [\"female\", 55], [\"female\", 52], [\"male\", 46], [\"female\", 46], [\"female\", 63], [\"male\", 52], [\"female\", 28], [\"male\", 29], [\"female\", 22], [\"male\", 25], [\"male\", 18], [\"female\", 48], [\"male\", 36], [\"female\", 56], [\"female\", 28], [\"female\", 57], [\"male\", 29], [\"female\", 28], [\"female\", 30], [\"male\", 58], [\"female\", 41], [\"male\", 50], [\"female\", 19], [\"male\", 49], [\"male\", 52], [\"male\", 50], [\"male\", 54], [\"female\", 44], [\"male\", 32], [\"male\", 34], [\"female\", 26], [\"male\", 57], [\"male\", 29], [\"male\", 40], [\"female\", 27], [\"male\", 52], [\"female\", 61], [\"female\", 56], [\"female\", 43], [\"male\", 64], [\"male\", 60], [\"male\", 62], [\"female\", 46], [\"female\", 24], [\"male\", 62], [\"female\", 60], [\"male\", 63], [\"female\", 49], [\"female\", 34], [\"male\", 33], [\"male\", 46], [\"female\", 36], [\"male\", 19], [\"female\", 57], [\"female\", 50], [\"female\", 30], [\"male\", 33], [\"female\", 18], [\"male\", 46], [\"male\", 46], [\"male\", 47], [\"male\", 23], [\"female\", 18], [\"female\", 48], [\"male\", 35], [\"female\", 21], [\"female\", 21], [\"female\", 49], [\"female\", 56], [\"female\", 42], [\"male\", 44], [\"male\", 18], [\"female\", 61], [\"female\", 57], [\"female\", 42], [\"male\", 20], [\"female\", 64], [\"male\", 62], [\"male\", 55], [\"female\", 35], [\"male\", 44], [\"male\", 19], [\"female\", 58], [\"male\", 50], [\"female\", 26], [\"female\", 24], [\"male\", 48], [\"female\", 19], [\"male\", 48], [\"male\", 49], [\"female\", 46], [\"male\", 46], [\"female\", 43], [\"male\", 21], [\"male\", 64], [\"female\", 18], [\"female\", 51], [\"male\", 47], [\"female\", 64], [\"male\", 49], [\"male\", 31], [\"female\", 52], [\"female\", 33], [\"female\", 47], [\"male\", 38], [\"male\", 32], [\"male\", 19], [\"male\", 25], [\"female\", 19], [\"female\", 43], [\"male\", 52], [\"male\", 64], [\"male\", 25], [\"male\", 48], [\"male\", 45], [\"female\", 38], [\"female\", 18], [\"female\", 21], [\"female\", 27], [\"male\", 19], [\"female\", 29], [\"male\", 42], [\"female\", 60], [\"male\", 31], [\"male\", 60], [\"male\", 22], [\"male\", 35], [\"female\", 52], [\"male\", 26], [\"female\", 31], [\"male\", 18], [\"female\", 59], [\"female\", 45], [\"male\", 60], [\"female\", 56], [\"female\", 40], [\"male\", 35], [\"male\", 39], [\"male\", 30], [\"male\", 24], [\"male\", 20], [\"male\", 32], [\"male\", 59], [\"female\", 55], [\"female\", 57], [\"male\", 56], [\"female\", 40], [\"female\", 49], [\"female\", 62], [\"male\", 56], [\"male\", 19], [\"female\", 60], [\"female\", 56], [\"female\", 28], [\"female\", 18], [\"male\", 27], [\"female\", 18], [\"female\", 19], [\"female\", 47], [\"male\", 25], [\"male\", 21], [\"male\", 23], [\"male\", 63], [\"male\", 49], [\"female\", 18], [\"female\", 51], [\"male\", 48], [\"female\", 31], [\"female\", 54], [\"male\", 19], [\"male\", 53], [\"female\", 19], [\"female\", 61], [\"female\", 18], [\"male\", 61], [\"male\", 20], [\"female\", 31], [\"male\", 45], [\"female\", 44], [\"female\", 62], [\"male\", 43], [\"female\", 38], [\"male\", 37], [\"male\", 22], [\"male\", 21], [\"female\", 24], [\"female\", 57], [\"male\", 56], [\"male\", 27], [\"male\", 51], [\"male\", 19], [\"male\", 58], [\"male\", 20], [\"male\", 45], [\"female\", 35], [\"male\", 31], [\"female\", 50], [\"female\", 32], [\"female\", 51], [\"female\", 38], [\"female\", 18], [\"female\", 19], [\"female\", 51], [\"male\", 46], [\"male\", 18], [\"female\", 62], [\"male\", 59], [\"male\", 37], [\"male\", 64], [\"male\", 38], [\"female\", 33], [\"female\", 46], [\"female\", 46], [\"male\", 53], [\"female\", 34], [\"female\", 20], [\"female\", 63], [\"male\", 54], [\"male\", 28], [\"female\", 54], [\"female\", 25], [\"male\", 63], [\"female\", 32], [\"male\", 62], [\"female\", 52], [\"female\", 25], [\"male\", 28], [\"male\", 46], [\"male\", 34], [\"male\", 19], [\"female\", 46], [\"female\", 54], [\"male\", 27], [\"male\", 50], [\"female\", 18], [\"female\", 19], [\"female\", 38], [\"male\", 41], [\"female\", 49], [\"female\", 31], [\"female\", 18], [\"female\", 30], [\"female\", 62], [\"female\", 57], [\"female\", 58], [\"male\", 22], [\"male\", 52], [\"female\", 25], [\"male\", 59], [\"male\", 19], [\"male\", 39], [\"female\", 32], [\"male\", 19], [\"female\", 33], [\"male\", 21], [\"female\", 61], [\"female\", 38], [\"female\", 58], [\"male\", 47], [\"male\", 20], [\"male\", 41], [\"female\", 46], [\"female\", 42], [\"female\", 34], [\"male\", 43], [\"female\", 52], [\"female\", 18], [\"male\", 51], [\"female\", 56], [\"female\", 64], [\"female\", 51], [\"female\", 27], [\"male\", 28], [\"female\", 47], [\"female\", 38], [\"female\", 18], [\"female\", 34], [\"female\", 20], [\"female\", 56], [\"female\", 55], [\"male\", 30], [\"female\", 49], [\"male\", 59], [\"female\", 29], [\"male\", 36], [\"male\", 33], [\"male\", 58], [\"male\", 53], [\"male\", 24], [\"female\", 29], [\"male\", 40], [\"male\", 51], [\"male\", 64], [\"female\", 19], [\"female\", 35], [\"male\", 56], [\"male\", 33], [\"male\", 61], [\"female\", 23], [\"male\", 43], [\"male\", 48], [\"male\", 39], [\"female\", 40], [\"male\", 18], [\"female\", 58], [\"female\", 49], [\"female\", 53], [\"female\", 48], [\"female\", 45], [\"female\", 59], [\"female\", 26], [\"male\", 27], [\"female\", 48], [\"female\", 57], [\"male\", 37], [\"female\", 57], [\"female\", 32], [\"male\", 18], [\"male\", 49], [\"female\", 40], [\"male\", 30], [\"female\", 29], [\"male\", 36], [\"female\", 41], [\"male\", 45], [\"female\", 55], [\"male\", 56], [\"female\", 49], [\"female\", 21], [\"male\", 19], [\"male\", 53], [\"female\", 33], [\"male\", 53], [\"male\", 42], [\"male\", 40], [\"female\", 47], [\"male\", 21], [\"male\", 47], [\"male\", 20], [\"male\", 24], [\"female\", 27], [\"female\", 26], [\"female\", 53], [\"male\", 56], [\"female\", 23], [\"female\", 21], [\"female\", 50], [\"male\", 53], [\"female\", 34], [\"female\", 47], [\"female\", 33], [\"male\", 49], [\"female\", 31], [\"female\", 36], [\"male\", 18], [\"female\", 50], [\"female\", 43], [\"male\", 20], [\"female\", 24], [\"male\", 60], [\"female\", 49], [\"male\", 60], [\"female\", 51], [\"female\", 58], [\"female\", 51], [\"male\", 53], [\"male\", 62], [\"male\", 19], [\"female\", 50], [\"male\", 41], [\"female\", 18], [\"female\", 41], [\"male\", 53], [\"female\", 24], [\"female\", 48], [\"female\", 59], [\"female\", 49], [\"male\", 26], [\"male\", 45], [\"female\", 31], [\"male\", 50], [\"female\", 50], [\"male\", 34], [\"male\", 19], [\"female\", 47], [\"male\", 28], [\"male\", 21], [\"male\", 64], [\"female\", 58], [\"male\", 24], [\"male\", 31], [\"female\", 39], [\"male\", 30], [\"female\", 22], [\"male\", 23], [\"male\", 27], [\"female\", 45], [\"female\", 57], [\"male\", 47], [\"female\", 42], [\"female\", 64], [\"female\", 38], [\"male\", 61], [\"female\", 53], [\"female\", 44], [\"male\", 41], [\"male\", 51], [\"male\", 40], [\"male\", 45], [\"male\", 35], [\"male\", 53], [\"male\", 18], [\"male\", 51], [\"female\", 31], [\"female\", 35], [\"male\", 60], [\"male\", 21], [\"male\", 29], [\"female\", 62], [\"female\", 39], [\"male\", 19], [\"female\", 22], [\"female\", 39], [\"male\", 30], [\"female\", 30], [\"female\", 58], [\"female\", 42], [\"female\", 64], [\"male\", 21], [\"male\", 23], [\"female\", 45], [\"female\", 40], [\"female\", 19], [\"male\", 18], [\"male\", 25], [\"female\", 46], [\"female\", 33], [\"male\", 54], [\"male\", 28], [\"male\", 36], [\"female\", 20], [\"female\", 24], [\"male\", 23], [\"male\", 45], [\"male\", 26], [\"female\", 18], [\"female\", 44], [\"male\", 60], [\"female\", 64], [\"male\", 39], [\"male\", 63], [\"female\", 36], [\"female\", 28], [\"male\", 58], [\"male\", 36], [\"male\", 42], [\"male\", 36], [\"female\", 56], [\"female\", 35], [\"female\", 59], [\"male\", 21], [\"male\", 59], [\"male\", 53], [\"female\", 51], [\"male\", 23], [\"female\", 27], [\"male\", 55], [\"male\", 61], [\"female\", 53], [\"female\", 20], [\"female\", 25], [\"male\", 57], [\"female\", 38], [\"female\", 55], [\"female\", 36], [\"male\", 51], [\"male\", 40], [\"male\", 18], [\"male\", 57], [\"male\", 61], [\"female\", 25], [\"male\", 50], [\"female\", 26], [\"male\", 42], [\"male\", 43], [\"male\", 44], [\"female\", 23], [\"female\", 49], [\"male\", 33], [\"male\", 41], [\"female\", 37], [\"male\", 22], [\"male\", 23], [\"female\", 21], [\"male\", 25], [\"female\", 36], [\"male\", 22], [\"male\", 57], [\"female\", 36], [\"male\", 54], [\"male\", 62], [\"female\", 61], [\"male\", 19], [\"female\", 18], [\"female\", 19], [\"male\", 49], [\"male\", 26], [\"male\", 49], [\"female\", 60], [\"female\", 26], [\"male\", 27], [\"female\", 44], [\"male\", 63], [\"male\", 22], [\"female\", 59], [\"female\", 44], [\"male\", 33], [\"female\", 24], [\"female\", 61], [\"female\", 35], [\"female\", 62], [\"female\", 62], [\"male\", 38], [\"male\", 34], [\"male\", 43], [\"male\", 50], [\"female\", 19], [\"female\", 57], [\"female\", 62], [\"male\", 41], [\"male\", 26], [\"female\", 39], [\"male\", 46], [\"female\", 45], [\"male\", 32], [\"female\", 59], [\"male\", 44], [\"female\", 39], [\"male\", 18], [\"male\", 53], [\"male\", 18], [\"female\", 50], [\"female\", 18], [\"male\", 19], [\"male\", 62], [\"female\", 56], [\"male\", 42], [\"male\", 42], [\"male\", 57], [\"female\", 30], [\"male\", 31], [\"male\", 24], [\"male\", 48], [\"female\", 19], [\"female\", 29], [\"female\", 63], [\"male\", 46], [\"male\", 52], [\"male\", 35], [\"male\", 44], [\"male\", 21], [\"female\", 39], [\"female\", 50], [\"female\", 34], [\"female\", 22], [\"female\", 19], [\"male\", 26], [\"male\", 48], [\"male\", 26], [\"female\", 45], [\"female\", 36], [\"male\", 54], [\"male\", 34], [\"female\", 27], [\"male\", 20], [\"female\", 44], [\"male\", 43], [\"female\", 45], [\"male\", 34], [\"female\", 26], [\"female\", 38], [\"female\", 50], [\"male\", 38], [\"female\", 39], [\"female\", 39], [\"female\", 63], [\"female\", 33], [\"female\", 36], [\"male\", 24], [\"male\", 48], [\"male\", 47], [\"male\", 29], [\"male\", 28], [\"male\", 25], [\"male\", 51], [\"female\", 48], [\"female\", 61], [\"male\", 48], [\"female\", 38], [\"male\", 59], [\"female\", 19], [\"female\", 26], [\"female\", 54], [\"female\", 21], [\"male\", 51], [\"male\", 18], [\"female\", 47], [\"female\", 21], [\"male\", 23], [\"male\", 54], [\"female\", 37], [\"female\", 30], [\"male\", 61], [\"female\", 54], [\"male\", 22], [\"male\", 19], [\"male\", 18], [\"female\", 28], [\"male\", 55], [\"female\", 43], [\"female\", 25], [\"female\", 44], [\"male\", 64], [\"male\", 49], [\"female\", 27], [\"male\", 55], [\"female\", 48], [\"female\", 45], [\"female\", 24], [\"male\", 32], [\"male\", 24], [\"male\", 57], [\"male\", 36], [\"female\", 29], [\"female\", 42], [\"male\", 48], [\"male\", 39], [\"male\", 63], [\"female\", 54], [\"male\", 63], [\"male\", 21], [\"female\", 54], [\"female\", 60], [\"female\", 32], [\"female\", 47], [\"male\", 21], [\"male\", 63], [\"male\", 18], [\"male\", 32], [\"male\", 38], [\"male\", 32], [\"female\", 62], [\"male\", 55], [\"male\", 57], [\"male\", 52], [\"male\", 56], [\"female\", 55], [\"male\", 23], [\"female\", 50], [\"female\", 18], [\"male\", 22], [\"female\", 52], [\"female\", 25], [\"male\", 53], [\"male\", 29], [\"male\", 58], [\"male\", 37], [\"female\", 54], [\"female\", 49], [\"female\", 50], [\"male\", 26], [\"male\", 45], [\"female\", 54], [\"female\", 28], [\"male\", 23], [\"male\", 55], [\"male\", 41], [\"female\", 30], [\"male\", 46], [\"female\", 27], [\"female\", 63], [\"male\", 55], [\"female\", 35], [\"male\", 34], [\"female\", 19], [\"female\", 39], [\"male\", 27], [\"male\", 57], [\"female\", 52], [\"male\", 28], [\"female\", 50], [\"female\", 44], [\"female\", 26], [\"male\", 33], [\"male\", 50], [\"female\", 41], [\"female\", 52], [\"male\", 39], [\"male\", 50], [\"male\", 52], [\"female\", 20], [\"male\", 55], [\"male\", 42], [\"female\", 18], [\"female\", 58], [\"female\", 35], [\"female\", 48], [\"female\", 36], [\"female\", 23], [\"female\", 20], [\"female\", 32], [\"female\", 43], [\"male\", 34], [\"male\", 30], [\"female\", 18], [\"female\", 41], [\"female\", 35], [\"male\", 57], [\"female\", 29], [\"male\", 32], [\"female\", 37], [\"female\", 56], [\"male\", 38], [\"male\", 29], [\"female\", 22], [\"female\", 40], [\"female\", 23], [\"female\", 42], [\"female\", 24], [\"female\", 25], [\"female\", 48], [\"male\", 45], [\"female\", 62], [\"female\", 23], [\"female\", 31], [\"female\", 41], [\"female\", 58], [\"female\", 48], [\"female\", 31], [\"female\", 19], [\"male\", 41], [\"male\", 40], [\"female\", 31], [\"male\", 37], [\"male\", 46], [\"male\", 22], [\"male\", 51], [\"male\", 35], [\"female\", 59], [\"male\", 59], [\"male\", 36], [\"male\", 39], [\"male\", 18], [\"female\", 52], [\"female\", 27], [\"male\", 18], [\"male\", 40], [\"male\", 29], [\"female\", 38], [\"female\", 30], [\"male\", 40], [\"male\", 50], [\"male\", 41], [\"female\", 33], [\"male\", 38], [\"male\", 42], [\"male\", 56], [\"male\", 58], [\"female\", 54], [\"male\", 58], [\"female\", 45], [\"male\", 26], [\"female\", 63], [\"female\", 58], [\"male\", 37], [\"female\", 25], [\"female\", 22], [\"female\", 28], [\"male\", 18], [\"male\", 28], [\"female\", 45], [\"male\", 33], [\"female\", 18], [\"male\", 19], [\"female\", 40], [\"female\", 34], [\"female\", 42], [\"female\", 51], [\"female\", 54], [\"male\", 55], [\"female\", 52], [\"female\", 32], [\"male\", 28], [\"female\", 41], [\"female\", 43], [\"female\", 49], [\"female\", 55], [\"female\", 20], [\"male\", 45], [\"male\", 26], [\"female\", 25], [\"male\", 43], [\"male\", 35], [\"male\", 57], [\"female\", 22], [\"female\", 32], [\"female\", 25], [\"female\", 48], [\"male\", 18], [\"female\", 47], [\"female\", 28], [\"female\", 36], [\"male\", 44], [\"female\", 38], [\"male\", 21], [\"male\", 46], [\"male\", 58], [\"male\", 20], [\"male\", 18], [\"female\", 28], [\"male\", 33], [\"female\", 19], [\"female\", 25], [\"female\", 24], [\"male\", 41], [\"male\", 42], [\"female\", 33], [\"male\", 34], [\"male\", 18], [\"female\", 19], [\"male\", 18], [\"male\", 35], [\"female\", 39], [\"male\", 31], [\"male\", 62], [\"male\", 31], [\"male\", 61], [\"female\", 42], [\"male\", 51], [\"female\", 23], [\"male\", 52], [\"female\", 57], [\"female\", 23], [\"female\", 52], [\"male\", 50], [\"female\", 18], [\"female\", 18], [\"female\", 21]], \"hoverlabel\": {\"namelength\": 0}, \"hovertemplate\": \"smoker=no<br>bmi=%{x}<br>charges=%{y}<br>sex=%{customdata[0]}<br>age=%{customdata[1]}\", \"legendgroup\": \"smoker=no\", \"marker\": {\"color\": \"#EF553B\", \"opacity\": 0.9, \"symbol\": \"circle\"}, \"mode\": \"markers\", \"name\": \"smoker=no\", \"showlegend\": true, \"type\": \"scattergl\", \"x\": [33.77, 33.0, 22.705, 28.88, 25.74, 33.44, 27.74, 29.83, 25.84, 26.22, 34.4, 39.82, 24.6, 30.78, 23.845, 40.3, 36.005, 32.4, 34.1, 28.025, 27.72, 23.085, 32.775, 17.385, 26.315, 28.6, 28.31, 20.425, 32.965, 20.8, 26.6, 36.63, 21.78, 30.8, 37.05, 37.3, 38.665, 34.77, 24.53, 35.625, 33.63, 28.69, 31.825, 37.335, 27.36, 33.66, 24.7, 25.935, 28.9, 39.1, 26.315, 36.19, 28.5, 28.1, 32.01, 27.4, 34.01, 29.59, 35.53, 39.805, 32.965, 26.885, 38.285, 41.23, 27.2, 27.74, 26.98, 39.49, 24.795, 34.77, 37.62, 30.8, 38.28, 31.6, 25.46, 30.115, 27.5, 28.4, 30.875, 27.94, 33.63, 29.7, 30.8, 35.72, 32.205, 28.595, 49.06, 27.17, 23.37, 37.1, 23.75, 28.975, 33.915, 28.785, 37.4, 34.7, 26.505, 22.04, 35.9, 25.555, 28.785, 28.05, 34.1, 25.175, 31.9, 36.0, 22.42, 32.49, 29.735, 38.83, 37.73, 37.43, 28.4, 24.13, 29.7, 37.145, 25.46, 39.52, 27.83, 39.6, 29.8, 29.64, 28.215, 37.0, 33.155, 31.825, 18.905, 41.47, 30.3, 15.96, 34.8, 33.345, 27.835, 29.2, 28.9, 33.155, 28.595, 38.28, 19.95, 26.41, 30.69, 29.92, 30.9, 32.2, 32.11, 31.57, 26.2, 25.74, 26.6, 34.43, 30.59, 32.8, 28.6, 18.05, 39.33, 32.11, 32.23, 24.035, 22.3, 28.88, 26.4, 31.8, 41.23, 33.0, 30.875, 28.5, 26.73, 30.9, 37.1, 26.6, 23.1, 29.92, 23.21, 33.7, 33.25, 30.8, 33.88, 38.06, 41.91, 31.635, 25.46, 36.195, 27.83, 17.8, 27.5, 24.51, 26.73, 38.39, 38.06, 22.135, 26.8, 35.3, 30.02, 38.06, 35.86, 20.9, 28.975, 30.3, 25.365, 40.15, 24.415, 25.2, 38.06, 32.395, 30.2, 25.84, 29.37, 37.05, 27.455, 27.55, 26.6, 20.615, 24.3, 31.79, 21.56, 27.645, 32.395, 31.2, 26.62, 48.07, 26.22, 26.4, 33.4, 29.64, 28.82, 26.8, 22.99, 28.88, 27.55, 37.51, 33.0, 38.0, 33.345, 27.5, 33.33, 34.865, 33.06, 26.6, 24.7, 35.86, 33.25, 32.205, 32.775, 27.645, 37.335, 25.27, 29.64, 40.945, 27.2, 34.105, 23.21, 36.7, 31.16, 28.785, 35.72, 34.5, 25.74, 27.55, 27.72, 27.6, 30.02, 27.55, 36.765, 41.47, 29.26, 35.75, 33.345, 29.92, 27.835, 23.18, 25.6, 27.7, 35.245, 38.28, 27.6, 43.89, 29.83, 41.91, 20.79, 32.3, 30.5, 26.4, 21.89, 30.78, 32.3, 24.985, 32.015, 30.4, 21.09, 22.23, 33.155, 33.33, 30.115, 31.46, 33.0, 43.34, 22.135, 34.4, 39.05, 25.365, 22.61, 30.21, 35.625, 37.43, 31.445, 31.35, 32.3, 19.855, 34.4, 31.02, 25.6, 38.17, 20.6, 47.52, 32.965, 32.3, 20.4, 38.38, 24.31, 23.6, 21.12, 30.03, 17.48, 23.9, 35.15, 35.64, 34.1, 39.16, 30.59, 30.2, 24.31, 27.265, 29.165, 16.815, 30.4, 33.1, 20.235, 26.9, 30.5, 28.595, 33.11, 31.73, 28.9, 46.75, 29.45, 32.68, 43.01, 36.52, 33.1, 29.64, 25.65, 29.6, 38.6, 29.6, 24.13, 23.4, 29.735, 46.53, 37.4, 30.14, 30.495, 39.6, 33.0, 36.63, 38.095, 25.935, 25.175, 28.7, 33.82, 24.32, 24.09, 32.67, 30.115, 29.8, 33.345, 35.625, 36.85, 32.56, 41.325, 37.51, 31.35, 39.5, 34.3, 31.065, 21.47, 28.7, 31.16, 32.9, 25.08, 25.08, 43.4, 27.93, 23.6, 28.7, 23.98, 39.2, 26.03, 28.93, 30.875, 31.35, 23.75, 25.27, 28.7, 32.11, 33.66, 22.42, 30.4, 35.7, 35.31, 30.495, 31.0, 30.875, 27.36, 44.22, 33.915, 37.73, 33.88, 30.59, 25.8, 39.425, 25.46, 31.73, 29.7, 36.19, 40.48, 28.025, 38.9, 30.2, 28.05, 31.35, 38.0, 31.79, 36.3, 30.21, 35.435, 46.7, 28.595, 30.8, 28.93, 21.4, 31.73, 41.325, 23.8, 33.44, 34.21, 35.53, 19.95, 32.68, 30.5, 44.77, 32.12, 30.495, 40.565, 30.59, 31.9, 29.1, 37.29, 43.12, 36.86, 34.295, 27.17, 26.84, 30.2, 23.465, 25.46, 30.59, 45.43, 23.65, 20.7, 28.27, 20.235, 35.91, 30.69, 29.0, 19.57, 31.13, 40.26, 33.725, 29.48, 33.25, 32.6, 37.525, 39.16, 31.635, 25.3, 39.05, 34.1, 25.175, 26.98, 29.37, 34.8, 33.155, 19.0, 33.0, 28.595, 37.1, 31.4, 21.3, 28.785, 26.03, 28.88, 42.46, 38.0, 36.1, 29.3, 35.53, 22.705, 39.7, 38.19, 24.51, 38.095, 33.66, 42.4, 33.915, 34.96, 35.31, 30.78, 26.22, 23.37, 28.5, 32.965, 42.68, 39.6, 31.13, 36.3, 35.2, 42.4, 33.155, 35.91, 28.785, 46.53, 23.98, 31.54, 33.66, 28.7, 29.81, 31.57, 31.16, 29.7, 31.02, 21.375, 40.81, 36.1, 23.18, 17.4, 20.3, 24.32, 18.5, 26.41, 26.125, 41.69, 24.1, 27.36, 36.2, 32.395, 23.655, 34.8, 40.185, 32.3, 33.725, 39.27, 34.87, 44.745, 41.47, 26.41, 29.545, 32.9, 28.69, 30.495, 27.74, 35.2, 23.54, 30.685, 40.47, 22.6, 28.9, 22.61, 24.32, 36.67, 33.44, 40.66, 36.6, 37.4, 35.4, 27.075, 28.405, 40.28, 36.08, 21.4, 30.1, 27.265, 32.1, 34.77, 23.7, 24.035, 26.62, 26.41, 30.115, 27.0, 21.755, 36.0, 30.875, 28.975, 37.905, 22.77, 33.63, 27.645, 22.8, 37.43, 34.58, 35.2, 26.03, 25.175, 31.825, 32.3, 29.0, 39.7, 19.475, 36.1, 26.7, 36.48, 34.2, 33.33, 32.3, 39.805, 34.32, 28.88, 41.14, 35.97, 29.26, 27.7, 36.955, 36.86, 22.515, 29.92, 41.8, 27.6, 23.18, 31.92, 44.22, 22.895, 33.1, 26.18, 35.97, 22.3, 26.51, 35.815, 41.42, 36.575, 30.14, 25.84, 30.8, 42.94, 21.01, 22.515, 34.43, 31.46, 24.225, 37.1, 33.7, 17.67, 31.13, 29.81, 24.32, 31.825, 21.85, 33.1, 25.84, 23.845, 34.39, 33.82, 35.97, 31.5, 28.31, 23.465, 31.35, 31.1, 24.7, 30.495, 34.2, 50.38, 24.1, 32.775, 32.3, 23.75, 29.6, 32.23, 28.1, 28.0, 33.535, 19.855, 25.4, 29.9, 37.29, 43.7, 23.655, 24.3, 36.2, 29.48, 24.86, 30.1, 21.85, 28.12, 27.1, 33.44, 28.8, 29.5, 34.8, 27.36, 22.135, 26.695, 30.02, 39.5, 33.63, 29.04, 24.035, 32.11, 44.0, 25.555, 40.26, 22.515, 22.515, 27.265, 36.85, 35.1, 29.355, 32.585, 32.34, 39.8, 28.31, 26.695, 27.5, 24.605, 33.99, 28.2, 34.21, 25.0, 33.2, 31.0, 35.815, 23.2, 32.11, 23.4, 20.1, 39.16, 34.21, 46.53, 32.5, 25.8, 35.3, 37.18, 27.5, 29.735, 24.225, 26.18, 29.48, 23.21, 46.09, 40.185, 22.61, 39.93, 35.8, 35.8, 31.255, 18.335, 28.405, 39.49, 26.79, 36.67, 39.615, 25.9, 35.2, 24.795, 36.765, 27.1, 25.365, 25.745, 34.32, 28.16, 23.56, 20.235, 40.5, 35.42, 40.15, 29.15, 39.995, 29.92, 25.46, 21.375, 30.59, 30.115, 25.8, 30.115, 27.645, 34.675, 19.8, 27.835, 31.6, 28.27, 23.275, 34.1, 36.85, 36.29, 26.885, 25.8, 29.6, 19.19, 31.73, 29.26, 24.985, 27.74, 22.8, 33.33, 32.3, 27.6, 25.46, 24.605, 34.2, 35.815, 32.68, 37.0, 23.32, 45.32, 34.6, 18.715, 31.6, 17.29, 27.93, 38.38, 23.0, 28.88, 27.265, 23.085, 25.8, 35.245, 25.08, 22.515, 36.955, 26.41, 29.83, 21.47, 27.645, 28.9, 31.79, 39.49, 33.82, 32.01, 27.94, 28.595, 25.6, 25.3, 37.29, 42.655, 21.66, 31.9, 31.445, 31.255, 28.88, 18.335, 29.59, 32.0, 26.03, 33.66, 21.78, 27.835, 19.95, 31.5, 30.495, 28.975, 31.54, 47.74, 22.1, 29.83, 32.7, 33.7, 31.35, 33.77, 30.875, 33.99, 28.6, 38.94, 36.08, 29.8, 31.24, 29.925, 26.22, 30.0, 20.35, 32.3, 26.315, 24.51, 32.67, 29.64, 19.95, 38.17, 32.395, 25.08, 29.9, 35.86, 32.8, 18.6, 23.87, 45.9, 40.28, 18.335, 33.82, 28.12, 25.0, 22.23, 30.25, 37.07, 32.6, 24.86, 32.34, 32.3, 32.775, 31.92, 21.5, 34.1, 30.305, 36.48, 35.815, 27.93, 22.135, 23.18, 30.59, 41.1, 34.58, 42.13, 38.83, 28.215, 28.31, 26.125, 40.37, 24.6, 35.2, 34.105, 41.91, 29.26, 32.11, 27.1, 27.4, 34.865, 41.325, 29.925, 30.3, 27.36, 23.56, 32.68, 28.0, 32.775, 21.755, 32.395, 36.575, 21.755, 27.93, 33.55, 29.355, 25.8, 24.32, 40.375, 32.11, 32.3, 17.86, 34.8, 37.1, 30.875, 34.1, 21.47, 33.3, 31.255, 39.14, 25.08, 37.29, 30.21, 21.945, 24.97, 25.3, 23.94, 39.82, 16.815, 37.18, 34.43, 30.305, 24.605, 23.3, 27.83, 31.065, 21.66, 28.215, 22.705, 42.13, 21.28, 33.11, 33.33, 24.3, 25.7, 29.4, 39.82, 19.8, 29.3, 27.72, 37.9, 36.385, 27.645, 37.715, 23.18, 20.52, 37.1, 28.05, 29.9, 33.345, 30.5, 33.3, 27.5, 33.915, 34.485, 25.52, 27.61, 23.7, 30.4, 29.735, 26.79, 33.33, 30.03, 24.32, 17.29, 25.9, 34.32, 19.95, 23.21, 25.745, 25.175, 22.0, 26.125, 26.51, 27.455, 25.745, 20.8, 27.72, 32.2, 26.315, 26.695, 42.9, 28.31, 20.6, 53.13, 39.71, 26.315, 31.065, 38.83, 25.935, 33.535, 32.87, 30.03, 24.225, 38.6, 25.74, 33.4, 44.7, 30.97, 31.92, 36.85, 25.8], \"xaxis\": \"x\", \"y\": [1725.5523, 4449.462, 21984.47061, 3866.8552, 3756.6216, 8240.5896, 7281.5056, 6406.4107, 28923.136919999997, 2721.3208, 1826.8429999999998, 11090.7178, 1837.237, 10797.3362, 2395.17155, 10602.385, 13228.84695, 4149.736, 1137.011, 6203.90175, 14001.1338, 14451.83515, 12268.63225, 2775.19215, 2198.18985, 4687.7970000000005, 13770.0979, 1625.43375, 15612.19335, 2302.3, 3046.062, 4949.7587, 6272.4772, 6313.759, 6079.6715, 20630.28351, 3393.35635, 3556.9223, 12629.8967, 2211.13075, 3579.8287, 8059.6791, 13607.36875, 5989.52365, 8606.2174, 4504.6624, 30166.618169999998, 4133.64165, 1743.214, 14235.072, 6389.37785, 5920.1041, 6799.4580000000005, 11741.726, 11946.6259, 7726.854, 11356.6609, 3947.4131, 1532.4697, 2755.02095, 6571.02435, 4441.21315, 7935.29115, 11033.6617, 11073.176000000001, 8026.6666, 11082.5772, 2026.9741, 10942.13205, 5729.0053, 3766.8838, 12105.32, 10226.2842, 6186.1269999999995, 3645.0894, 21344.8467, 5003.853, 2331.519, 3877.30425, 2867.1196, 10825.2537, 11881.358, 4646.759, 2404.7338, 11488.31695, 30259.995560000003, 11381.3254, 8601.3293, 6686.4313, 7740.3369999999995, 1705.6245, 2257.47525, 10115.00885, 3385.39915, 9634.538, 6082.405, 12815.44495, 13616.3586, 11163.568000000001, 1632.56445, 2457.21115, 2155.6815, 1261.442, 2045.68525, 27322.733860000004, 2166.732, 27375.90478, 3490.5491, 18157.876, 5138.2567, 9877.6077, 10959.6947, 1842.519, 5125.2157, 7789.635, 6334.34355, 7077.1894, 6948.7008, 19749.383380000003, 10450.552, 5152.134, 5028.1466, 10407.08585, 4830.63, 6128.79745, 2719.27975, 4827.90495, 13405.3903, 8116.68, 1694.7964, 5246.047, 2855.43755, 6455.86265, 10436.096, 8823.279, 8538.28845, 11735.87905, 1631.8212, 4005.4225, 7419.4779, 7731.4271, 3981.9768, 5325.651, 6775.960999999999, 4922.9159, 12557.6053, 4883.866, 2137.6536, 12044.341999999999, 1137.4697, 1639.5631, 5649.715, 8516.829, 9644.2525, 14901.5167, 2130.6759, 8871.1517, 13012.20865, 7147.105, 4337.7352, 11743.298999999999, 13880.948999999999, 6610.1097, 1980.07, 8162.71625, 3537.703, 5002.7827, 8520.026, 7371.772, 10355.641, 2483.736, 3392.9768, 25081.76784, 5012.471, 10564.8845, 5253.524, 11987.1682, 2689.4954, 24227.33724, 7358.17565, 9225.2564, 7443.64305, 14001.2867, 1727.785, 12333.828000000001, 6710.1919, 1615.7667, 4463.2051, 7152.6714, 5354.07465, 35160.13457, 7196.866999999999, 24476.47851, 12648.7034, 1986.9334, 1832.094, 4040.55825, 4260.744000000001, 13047.33235, 5400.9805, 11520.09985, 11837.16, 20462.99766, 14590.63205, 7441.053000000001, 9282.4806, 1719.4363, 7265.7025, 9617.66245, 2523.1695, 9715.841, 2803.69785, 2150.469, 12928.7911, 9855.1314, 4237.12655, 11879.10405, 9625.92, 7742.1098, 9432.9253, 14256.1928, 25992.82104, 3172.018, 20277.80751, 2156.7518, 3906.127, 1704.5681, 9249.4952, 6746.7425, 12265.5069, 4349.462, 12646.207, 19442.3535, 20177.671130000002, 4151.0287, 11944.59435, 7749.1564, 8444.474, 1737.376, 8124.4084, 9722.7695, 8835.26495, 10435.06525, 7421.19455, 4667.60765, 4894.7533, 24671.66334, 11566.30055, 2866.091, 6600.20595, 3561.8889, 9144.565, 13429.0354, 11658.37915, 19144.57652, 13822.803, 12142.5786, 13937.6665, 8232.6388, 18955.22017, 13352.0998, 13217.0945, 13981.85035, 10977.2063, 6184.2994, 4889.9995, 8334.45755, 5478.0368, 1635.73365, 11830.6072, 8932.084, 3554.203, 12404.8791, 14133.03775, 24603.04837, 8944.1151, 9620.3307, 1837.2819, 1607.5101, 10043.249, 4751.07, 2597.779, 3180.5101, 9778.3472, 13430.265, 8017.06115, 8116.26885, 3481.868, 13415.0381, 12029.2867, 7639.41745, 1391.5287, 16455.70785, 27000.98473, 20781.48892, 5846.9176, 8302.53565, 1261.859, 11856.4115, 30284.642939999998, 3176.8159, 4618.0799, 10736.87075, 2138.0707, 8964.06055, 9290.1395, 9411.005, 7526.70645, 8522.003, 16586.49771, 14988.431999999999, 1631.6683, 9264.796999999999, 8083.9198, 14692.66935, 10269.46, 3260.199, 11396.9002, 4185.0979, 8539.671, 6652.5288, 4074.4537, 1621.3402, 5080.096, 2134.9015, 7345.7266, 9140.951, 14418.2804, 2727.3951, 8968.33, 9788.8659, 6555.07035, 7323.734818999999, 3167.45585, 18804.7524, 23082.95533, 4906.40965, 5969.723000000001, 12638.195, 4243.59005, 13919.8229, 2254.7967, 5926.846, 12592.5345, 2897.3235, 4738.2682, 1149.3959, 28287.897660000002, 7345.084, 12730.9996, 11454.0215, 5910.944, 4762.329000000001, 7512.267, 4032.2407, 1969.614, 1769.53165, 4686.3887, 21797.0004, 11881.9696, 11840.77505, 10601.412, 7682.67, 10381.4787, 15230.32405, 11165.41765, 1632.03625, 13224.693000000001, 12643.3778, 23288.9284, 2201.0971, 2497.0383, 2203.47185, 1744.465, 20878.78443, 2534.39375, 1534.3045, 1824.2854, 15555.18875, 9304.7019, 1622.1885, 9880.068000000001, 9563.029, 4347.02335, 12475.3513, 1253.9360000000001, 10461.9794, 1748.774, 24513.09126, 2196.4732, 12574.048999999999, 1967.0227, 4931.647, 8027.968000000001, 8211.1002, 13470.86, 6837.3687, 5974.3847, 6796.86325, 2643.2685, 3077.0955, 3044.2133, 11455.28, 11763.0009, 2498.4144, 9361.3268, 1256.299, 11362.755, 27724.28875, 8413.46305, 5240.765, 3857.75925, 25656.575259999998, 3994.1778, 9866.30485, 5397.6167, 11482.63485, 24059.68019, 9861.025, 8342.90875, 1708.0014, 14043.4767, 12925.886, 19214.705530000003, 13831.1152, 6067.12675, 5972.378000000001, 8825.086, 8233.0975, 27346.04207, 6196.448, 3056.3881, 13887.204, 10231.4999, 3268.84665, 11538.421, 3213.62205, 13390.559, 3972.9247, 12957.118, 11187.6567, 17878.900680000002, 3847.6740000000004, 8334.5896, 3935.1799, 1646.4297, 9193.8385, 10923.9332, 2494.022, 9058.7303, 2801.2588, 2128.43105, 6373.55735, 7256.7231, 11552.903999999999, 3761.292, 2219.4451, 4753.6368, 31620.001060000002, 13224.05705, 12222.8983, 1664.9996, 9724.53, 3206.49135, 12913.9924, 1639.5631, 6356.2707, 17626.23951, 1242.816, 4779.6023, 3861.20965, 13635.6379, 5976.8311, 11842.442, 8428.0693, 2566.4707, 5709.1644, 8823.98575, 7640.3092, 5594.8455, 7441.501, 33471.97189, 1633.0444, 9174.13565, 11070.535, 16085.1275, 9283.562, 3558.62025, 4435.0942, 8547.6913, 6571.544, 2207.69745, 6753.0380000000005, 1880.07, 11658.11505, 10713.643999999998, 3659.3459999999995, 9182.17, 12129.61415, 3736.4647, 6748.5912, 11326.71487, 11365.952, 10085.846, 1977.815, 3366.6697, 7173.35995, 9391.346, 14410.9321, 2709.1119, 24915.04626, 12949.1554, 6666.243, 13143.86485, 4466.6214, 18806.14547, 10141.1362, 6123.5688, 8252.2843, 1712.227, 12430.95335, 9800.8882, 10579.711000000001, 8280.6227, 8527.532, 12244.531, 3410.324, 4058.71245, 26392.260290000002, 14394.39815, 6435.6237, 22192.43711, 5148.5526, 1136.3994, 8703.456, 6500.2359, 4837.5823, 3943.5954, 4399.731, 6185.3208, 7222.78625, 12485.8009, 12363.546999999999, 10156.7832, 2585.269, 1242.26, 9863.4718, 4766.022, 11244.3769, 7729.64575, 5438.7491, 26236.57997, 2104.1134, 8068.185, 2362.22905, 2352.96845, 3577.9990000000003, 3201.24515, 29186.48236, 10976.24575, 3500.6123, 2020.5523, 9541.69555, 9504.3103, 5385.3379, 8930.93455, 5375.0380000000005, 10264.4421, 6113.23105, 5469.0066, 1727.54, 10107.2206, 8310.83915, 1984.4533, 2457.502, 12146.971000000001, 9566.9909, 13112.6048, 10848.1343, 12231.6136, 9875.6804, 11264.541000000001, 12979.358, 1263.249, 10106.13425, 6664.68595, 2217.6012, 6781.3542, 10065.413, 4234.927, 9447.25035, 14007.222, 9583.8933, 3484.3309999999997, 8604.48365, 3757.8448, 8827.2099, 9910.35985, 11737.84884, 1627.28245, 8556.907, 3062.50825, 1906.35825, 14210.53595, 11833.7823, 17128.42608, 5031.26955, 7985.815, 5428.7277, 3925.7582, 2416.955, 3070.8087, 9095.06825, 11842.62375, 8062.764, 7050.642, 14319.031, 6933.24225, 27941.28758, 11150.78, 12797.20962, 7261.741, 10560.4917, 6986.696999999999, 7448.40395, 5934.3798, 9869.8102, 1146.7966, 9386.1613, 4350.5144, 6414.178000000001, 12741.16745, 1917.3184, 5209.57885, 13457.9608, 5662.225, 1252.407, 2731.9122, 7209.4918, 4266.1658, 4719.52405, 11848.141000000001, 7046.7222, 14313.8463, 2103.08, 1815.8759, 7731.85785, 28476.734989999997, 2136.88225, 1131.5066, 3309.7926, 9414.92, 6360.9936, 11013.7119, 4428.88785, 5584.3057, 1877.9294, 2842.76075, 3597.5959999999995, 7445.918000000001, 2680.9493, 1621.8827, 8219.2039, 12523.6048, 16069.08475, 6117.4945, 13393.756000000001, 5266.3656, 4719.73655, 11743.9341, 5377.4578, 7160.3303, 4402.233, 11657.7189, 6402.29135, 12622.1795, 1526.3120000000001, 12323.936000000002, 10072.05505, 9872.701, 2438.0552, 2974.1259999999997, 10601.63225, 14119.62, 11729.6795, 1875.344, 18218.16139, 10965.446000000002, 7151.092, 12269.68865, 5458.04645, 8782.469000000001, 6600.361, 1141.4451, 11576.13, 13129.60345, 4391.652, 8457.818000000001, 3392.3652, 5966.8874, 6849.026, 8891.1395, 2690.1138, 26140.3603, 6653.7886, 6282.235, 6311.951999999999, 3443.0640000000003, 2789.0574, 2585.85065, 4877.98105, 5272.1758, 1682.5970000000002, 11945.1327, 7243.8136, 10422.91665, 13555.0049, 13063.883, 2221.56445, 1634.5734, 2117.33885, 8688.85885, 4661.28635, 8125.7845, 12644.589, 4564.19145, 4846.92015, 7633.7206, 15170.069, 2639.0429, 14382.70905, 7626.993, 5257.50795, 2473.3341, 13041.921, 5245.2269, 13451.122, 13462.52, 5488.262, 4320.41085, 6250.435, 25333.33284, 2913.5690000000004, 12032.326000000001, 13470.8044, 6289.7549, 2927.0647, 6238.298000000001, 10096.97, 7348.142, 4673.3922, 12233.828000000001, 32108.662819999998, 8965.79575, 2304.0022, 9487.6442, 1121.8739, 9549.5651, 2217.46915, 1628.4709, 12982.8747, 11674.13, 7160.094, 6358.77645, 11534.87265, 4527.18295, 3875.7341, 12609.88702, 28468.91901, 2730.10785, 3353.284, 14474.675, 9500.57305, 26467.09737, 4746.344, 7518.02535, 3279.86855, 8596.8278, 10702.6424, 4992.3764, 2527.81865, 1759.338, 2322.6218, 7804.1605, 2902.9065, 9704.66805, 4889.0368, 25517.11363, 4500.33925, 16796.41194, 4915.05985, 7624.63, 8410.04685, 28340.18885, 4518.82625, 3378.91, 7144.86265, 10118.424, 5484.4673, 7986.47525, 7418.522, 13887.9685, 6551.7501, 5267.81815, 1972.95, 21232.182259999998, 8627.5411, 4433.3877, 4438.2634, 23241.47453, 9957.7216, 8269.044, 36580.28216, 8765.249, 5383.536, 12124.9924, 2709.24395, 3987.926, 12495.29085, 26018.95052, 8798.593, 1711.0268, 8569.8618, 2020.1770000000001, 21595.38229, 9850.431999999999, 6877.9801, 4137.5227, 12950.0712, 12094.478000000001, 2250.8352, 22493.65964, 1704.70015, 3161.454, 11394.06555, 7325.0482, 3594.17085, 8023.13545, 14394.5579, 9288.0267, 3353.4703, 10594.50155, 8277.523000000001, 17929.303369999998, 2480.9791, 4462.7218, 1981.5819, 11554.2236, 6548.19505, 5708.866999999999, 7045.499, 8978.1851, 5757.41345, 14349.8544, 10928.848999999998, 13974.45555, 1909.52745, 12096.6512, 13204.28565, 4562.8421, 8551.347, 2102.2647, 15161.5344, 11884.04858, 4454.40265, 5855.9025, 4076.4970000000003, 15019.76005, 10796.35025, 11353.2276, 9748.9106, 10577.087, 11286.5387, 3591.48, 11299.343, 4561.1885, 1674.6323, 23045.56616, 3227.1211, 11253.421, 3471.4096, 11363.2832, 20420.60465, 10338.9316, 8988.15875, 10493.9458, 2904.0879999999997, 8605.3615, 11512.405, 5312.16985, 2396.0959, 10807.4863, 9222.4026, 5693.4305, 8347.1643, 18903.49141, 14254.6082, 10214.636, 5836.5204, 14358.36437, 1728.8970000000002, 8582.3023, 3693.428, 20709.02034, 9991.03765, 19673.335730000003, 11085.5868, 7623.518, 3176.2877, 3704.3545, 9048.0273, 7954.517, 27117.99378, 6338.0756, 9630.396999999999, 11289.10925, 2261.5688, 10791.96, 5979.731, 2203.73595, 12235.8392, 5630.45785, 11015.1747, 7228.21565, 14426.07385, 2459.7201, 3989.841, 7727.2532, 5124.1887, 18963.171919999997, 2200.83085, 7153.5539, 5227.98875, 10982.5013, 4529.477, 4670.64, 6112.35295, 11093.6229, 6457.8434, 4433.9159, 2154.361, 6496.8859999999995, 2899.48935, 7650.77375, 2850.68375, 2632.992, 9447.3824, 8603.8234, 13844.7972, 13126.67745, 5327.40025, 13725.47184, 13019.16105, 8671.19125, 4134.08245, 18838.70366, 5699.8375, 6393.60345, 4934.705, 6198.7518, 8733.22925, 2055.3249, 9964.06, 5116.5004, 36910.60803, 12347.171999999999, 5373.36425, 23563.016180000002, 1702.4553, 10806.839, 3956.07145, 12890.05765, 5415.6612, 4058.1161, 7537.1639, 4718.20355, 6593.5083, 8442.667, 6858.4796, 4795.6568, 6640.54485, 7162.0122, 10594.2257, 11938.25595, 12479.70895, 11345.518999999998, 8515.7587, 2699.56835, 14449.8544, 12224.35085, 6985.50695, 3238.4357, 4296.2712, 3171.6149, 1135.9407, 5615.369000000001, 9101.798, 6059.173000000001, 1633.9618, 1241.565, 15828.821730000001, 4415.1588, 6474.013000000001, 11436.73815, 11305.93455, 30063.58055, 10197.7722, 4544.2348, 3277.1609999999996, 6770.1925, 7337.7480000000005, 10370.91255, 10704.47, 1880.487, 8615.3, 3292.52985, 3021.80915, 14478.33015, 4747.0529, 10959.33, 2741.948, 4357.04365, 4189.1131, 8283.6807, 1720.3537, 8534.6718, 3732.6251, 5472.4490000000005, 7147.4728, 7133.9025, 1515.3449, 9301.89355, 11931.12525, 1964.78, 1708.92575, 4340.4409, 5261.46945, 2710.82855, 3208.7870000000003, 2464.6188, 6875.960999999999, 6940.90985, 4571.41305, 4536.259, 11272.331390000001, 1731.6770000000001, 1163.4627, 19496.71917, 7201.70085, 5425.02335, 12981.3457, 4239.89265, 13143.33665, 7050.0213, 9377.9047, 22395.74424, 10325.206, 12629.1656, 10795.937329999999, 11411.685, 10600.5483, 2205.9808, 1629.8335, 2007.945], \"yaxis\": \"y\"}],\n",
              "                        {\"legend\": {\"tracegroupgap\": 0}, \"template\": {\"data\": {\"bar\": [{\"error_x\": {\"color\": \"#2a3f5f\"}, \"error_y\": {\"color\": \"#2a3f5f\"}, \"marker\": {\"line\": {\"color\": \"#E5ECF6\", \"width\": 0.5}}, \"type\": \"bar\"}], \"barpolar\": [{\"marker\": {\"line\": {\"color\": \"#E5ECF6\", \"width\": 0.5}}, \"type\": \"barpolar\"}], \"carpet\": [{\"aaxis\": {\"endlinecolor\": \"#2a3f5f\", \"gridcolor\": \"white\", \"linecolor\": \"white\", \"minorgridcolor\": \"white\", \"startlinecolor\": \"#2a3f5f\"}, \"baxis\": {\"endlinecolor\": \"#2a3f5f\", \"gridcolor\": \"white\", \"linecolor\": \"white\", \"minorgridcolor\": \"white\", \"startlinecolor\": \"#2a3f5f\"}, \"type\": \"carpet\"}], \"choropleth\": [{\"colorbar\": {\"outlinewidth\": 0, \"ticks\": \"\"}, \"type\": \"choropleth\"}], \"contour\": [{\"colorbar\": {\"outlinewidth\": 0, \"ticks\": \"\"}, \"colorscale\": [[0.0, \"#0d0887\"], [0.1111111111111111, \"#46039f\"], [0.2222222222222222, \"#7201a8\"], [0.3333333333333333, \"#9c179e\"], [0.4444444444444444, \"#bd3786\"], [0.5555555555555556, \"#d8576b\"], [0.6666666666666666, \"#ed7953\"], [0.7777777777777778, \"#fb9f3a\"], [0.8888888888888888, \"#fdca26\"], [1.0, \"#f0f921\"]], \"type\": \"contour\"}], \"contourcarpet\": [{\"colorbar\": {\"outlinewidth\": 0, \"ticks\": \"\"}, \"type\": \"contourcarpet\"}], \"heatmap\": [{\"colorbar\": {\"outlinewidth\": 0, \"ticks\": \"\"}, \"colorscale\": [[0.0, \"#0d0887\"], [0.1111111111111111, \"#46039f\"], [0.2222222222222222, \"#7201a8\"], [0.3333333333333333, \"#9c179e\"], [0.4444444444444444, \"#bd3786\"], [0.5555555555555556, \"#d8576b\"], [0.6666666666666666, \"#ed7953\"], [0.7777777777777778, \"#fb9f3a\"], [0.8888888888888888, \"#fdca26\"], [1.0, \"#f0f921\"]], \"type\": \"heatmap\"}], \"heatmapgl\": [{\"colorbar\": {\"outlinewidth\": 0, \"ticks\": \"\"}, \"colorscale\": [[0.0, \"#0d0887\"], [0.1111111111111111, \"#46039f\"], [0.2222222222222222, \"#7201a8\"], [0.3333333333333333, \"#9c179e\"], [0.4444444444444444, \"#bd3786\"], [0.5555555555555556, \"#d8576b\"], [0.6666666666666666, \"#ed7953\"], [0.7777777777777778, \"#fb9f3a\"], [0.8888888888888888, \"#fdca26\"], [1.0, \"#f0f921\"]], \"type\": \"heatmapgl\"}], \"histogram\": [{\"marker\": {\"colorbar\": {\"outlinewidth\": 0, \"ticks\": \"\"}}, \"type\": \"histogram\"}], \"histogram2d\": [{\"colorbar\": {\"outlinewidth\": 0, \"ticks\": \"\"}, \"colorscale\": [[0.0, \"#0d0887\"], [0.1111111111111111, \"#46039f\"], [0.2222222222222222, \"#7201a8\"], [0.3333333333333333, \"#9c179e\"], [0.4444444444444444, \"#bd3786\"], [0.5555555555555556, \"#d8576b\"], [0.6666666666666666, \"#ed7953\"], [0.7777777777777778, \"#fb9f3a\"], [0.8888888888888888, \"#fdca26\"], [1.0, \"#f0f921\"]], \"type\": \"histogram2d\"}], \"histogram2dcontour\": [{\"colorbar\": {\"outlinewidth\": 0, \"ticks\": \"\"}, \"colorscale\": [[0.0, \"#0d0887\"], [0.1111111111111111, \"#46039f\"], [0.2222222222222222, \"#7201a8\"], [0.3333333333333333, \"#9c179e\"], [0.4444444444444444, \"#bd3786\"], [0.5555555555555556, \"#d8576b\"], [0.6666666666666666, \"#ed7953\"], [0.7777777777777778, \"#fb9f3a\"], [0.8888888888888888, \"#fdca26\"], [1.0, \"#f0f921\"]], \"type\": \"histogram2dcontour\"}], \"mesh3d\": [{\"colorbar\": {\"outlinewidth\": 0, \"ticks\": \"\"}, \"type\": \"mesh3d\"}], \"parcoords\": [{\"line\": {\"colorbar\": {\"outlinewidth\": 0, \"ticks\": \"\"}}, \"type\": \"parcoords\"}], \"pie\": [{\"automargin\": true, \"type\": \"pie\"}], \"scatter\": [{\"marker\": {\"colorbar\": {\"outlinewidth\": 0, \"ticks\": \"\"}}, \"type\": \"scatter\"}], \"scatter3d\": [{\"line\": {\"colorbar\": {\"outlinewidth\": 0, \"ticks\": \"\"}}, \"marker\": {\"colorbar\": {\"outlinewidth\": 0, \"ticks\": \"\"}}, \"type\": \"scatter3d\"}], \"scattercarpet\": [{\"marker\": {\"colorbar\": {\"outlinewidth\": 0, \"ticks\": \"\"}}, \"type\": \"scattercarpet\"}], \"scattergeo\": [{\"marker\": {\"colorbar\": {\"outlinewidth\": 0, \"ticks\": \"\"}}, \"type\": \"scattergeo\"}], \"scattergl\": [{\"marker\": {\"colorbar\": {\"outlinewidth\": 0, \"ticks\": \"\"}}, \"type\": \"scattergl\"}], \"scattermapbox\": [{\"marker\": {\"colorbar\": {\"outlinewidth\": 0, \"ticks\": \"\"}}, \"type\": \"scattermapbox\"}], \"scatterpolar\": [{\"marker\": {\"colorbar\": {\"outlinewidth\": 0, \"ticks\": \"\"}}, \"type\": \"scatterpolar\"}], \"scatterpolargl\": [{\"marker\": {\"colorbar\": {\"outlinewidth\": 0, \"ticks\": \"\"}}, \"type\": \"scatterpolargl\"}], \"scatterternary\": [{\"marker\": {\"colorbar\": {\"outlinewidth\": 0, \"ticks\": \"\"}}, \"type\": \"scatterternary\"}], \"surface\": [{\"colorbar\": {\"outlinewidth\": 0, \"ticks\": \"\"}, \"colorscale\": [[0.0, \"#0d0887\"], [0.1111111111111111, \"#46039f\"], [0.2222222222222222, \"#7201a8\"], [0.3333333333333333, \"#9c179e\"], [0.4444444444444444, \"#bd3786\"], [0.5555555555555556, \"#d8576b\"], [0.6666666666666666, \"#ed7953\"], [0.7777777777777778, \"#fb9f3a\"], [0.8888888888888888, \"#fdca26\"], [1.0, \"#f0f921\"]], \"type\": \"surface\"}], \"table\": [{\"cells\": {\"fill\": {\"color\": \"#EBF0F8\"}, \"line\": {\"color\": \"white\"}}, \"header\": {\"fill\": {\"color\": \"#C8D4E3\"}, \"line\": {\"color\": \"white\"}}, \"type\": \"table\"}]}, \"layout\": {\"annotationdefaults\": {\"arrowcolor\": \"#2a3f5f\", \"arrowhead\": 0, \"arrowwidth\": 1}, \"coloraxis\": {\"colorbar\": {\"outlinewidth\": 0, \"ticks\": \"\"}}, \"colorscale\": {\"diverging\": [[0, \"#8e0152\"], [0.1, \"#c51b7d\"], [0.2, \"#de77ae\"], [0.3, \"#f1b6da\"], [0.4, \"#fde0ef\"], [0.5, \"#f7f7f7\"], [0.6, \"#e6f5d0\"], [0.7, \"#b8e186\"], [0.8, \"#7fbc41\"], [0.9, \"#4d9221\"], [1, \"#276419\"]], \"sequential\": [[0.0, \"#0d0887\"], [0.1111111111111111, \"#46039f\"], [0.2222222222222222, \"#7201a8\"], [0.3333333333333333, \"#9c179e\"], [0.4444444444444444, \"#bd3786\"], [0.5555555555555556, \"#d8576b\"], [0.6666666666666666, \"#ed7953\"], [0.7777777777777778, \"#fb9f3a\"], [0.8888888888888888, \"#fdca26\"], [1.0, \"#f0f921\"]], \"sequentialminus\": [[0.0, \"#0d0887\"], [0.1111111111111111, \"#46039f\"], [0.2222222222222222, \"#7201a8\"], [0.3333333333333333, \"#9c179e\"], [0.4444444444444444, \"#bd3786\"], [0.5555555555555556, \"#d8576b\"], [0.6666666666666666, \"#ed7953\"], [0.7777777777777778, \"#fb9f3a\"], [0.8888888888888888, \"#fdca26\"], [1.0, \"#f0f921\"]]}, \"colorway\": [\"#636efa\", \"#EF553B\", \"#00cc96\", \"#ab63fa\", \"#FFA15A\", \"#19d3f3\", \"#FF6692\", \"#B6E880\", \"#FF97FF\", \"#FECB52\"], \"font\": {\"color\": \"#2a3f5f\"}, \"geo\": {\"bgcolor\": \"white\", \"lakecolor\": \"white\", \"landcolor\": \"#E5ECF6\", \"showlakes\": true, \"showland\": true, \"subunitcolor\": \"white\"}, \"hoverlabel\": {\"align\": \"left\"}, \"hovermode\": \"closest\", \"mapbox\": {\"style\": \"light\"}, \"paper_bgcolor\": \"white\", \"plot_bgcolor\": \"#E5ECF6\", \"polar\": {\"angularaxis\": {\"gridcolor\": \"white\", \"linecolor\": \"white\", \"ticks\": \"\"}, \"bgcolor\": \"#E5ECF6\", \"radialaxis\": {\"gridcolor\": \"white\", \"linecolor\": \"white\", \"ticks\": \"\"}}, \"scene\": {\"xaxis\": {\"backgroundcolor\": \"#E5ECF6\", \"gridcolor\": \"white\", \"gridwidth\": 2, \"linecolor\": \"white\", \"showbackground\": true, \"ticks\": \"\", \"zerolinecolor\": \"white\"}, \"yaxis\": {\"backgroundcolor\": \"#E5ECF6\", \"gridcolor\": \"white\", \"gridwidth\": 2, \"linecolor\": \"white\", \"showbackground\": true, \"ticks\": \"\", \"zerolinecolor\": \"white\"}, \"zaxis\": {\"backgroundcolor\": \"#E5ECF6\", \"gridcolor\": \"white\", \"gridwidth\": 2, \"linecolor\": \"white\", \"showbackground\": true, \"ticks\": \"\", \"zerolinecolor\": \"white\"}}, \"shapedefaults\": {\"line\": {\"color\": \"#2a3f5f\"}}, \"ternary\": {\"aaxis\": {\"gridcolor\": \"white\", \"linecolor\": \"white\", \"ticks\": \"\"}, \"baxis\": {\"gridcolor\": \"white\", \"linecolor\": \"white\", \"ticks\": \"\"}, \"bgcolor\": \"#E5ECF6\", \"caxis\": {\"gridcolor\": \"white\", \"linecolor\": \"white\", \"ticks\": \"\"}}, \"title\": {\"x\": 0.05}, \"xaxis\": {\"automargin\": true, \"gridcolor\": \"white\", \"linecolor\": \"white\", \"ticks\": \"\", \"title\": {\"standoff\": 15}, \"zerolinecolor\": \"white\", \"zerolinewidth\": 2}, \"yaxis\": {\"automargin\": true, \"gridcolor\": \"white\", \"linecolor\": \"white\", \"ticks\": \"\", \"title\": {\"standoff\": 15}, \"zerolinecolor\": \"white\", \"zerolinewidth\": 2}}}, \"title\": {\"text\": \"BMI vs. Charges\"}, \"xaxis\": {\"anchor\": \"y\", \"domain\": [0.0, 1.0], \"title\": {\"text\": \"bmi\"}}, \"yaxis\": {\"anchor\": \"x\", \"domain\": [0.0, 1.0], \"title\": {\"text\": \"charges\"}}},\n",
              "                        {\"responsive\": true}\n",
              "                    ).then(function(){\n",
              "                            \n",
              "var gd = document.getElementById('36b0ca63-c45a-4823-ac2c-bfa3b2fccad6');\n",
              "var x = new MutationObserver(function (mutations, observer) {{\n",
              "        var display = window.getComputedStyle(gd).display;\n",
              "        if (!display || display === 'none') {{\n",
              "            console.log([gd, 'removed!']);\n",
              "            Plotly.purge(gd);\n",
              "            observer.disconnect();\n",
              "        }}\n",
              "}});\n",
              "\n",
              "// Listen for the removal of the full notebook cells\n",
              "var notebookContainer = gd.closest('#notebook-container');\n",
              "if (notebookContainer) {{\n",
              "    x.observe(notebookContainer, {childList: true});\n",
              "}}\n",
              "\n",
              "// Listen for the clearing of the current output cell\n",
              "var outputEl = gd.closest('.output');\n",
              "if (outputEl) {{\n",
              "    x.observe(outputEl, {childList: true});\n",
              "}}\n",
              "\n",
              "                        })\n",
              "                };\n",
              "                \n",
              "            </script>\n",
              "        </div>\n",
              "</body>\n",
              "</html>"
            ]
          },
          "metadata": {
            "tags": []
          }
        }
      ]
    },
    {
      "cell_type": "markdown",
      "metadata": {
        "id": "Q0SL0nLcWgE0"
      },
      "source": [
        "There seem to be no correlation between BMI and medical charges. However, there is a visual seperation between smoker and non-smoker. Overall, smokers have much higher charges which is increase as age increase. Whereras, non-smoker have a lower and stable cost in medical even when age increase."
      ]
    },
    {
      "cell_type": "markdown",
      "metadata": {
        "id": "gZKbbc1kfqH4"
      },
      "source": [
        "#### Children vs Charges"
      ]
    },
    {
      "cell_type": "code",
      "metadata": {
        "id": "n3iyN4nTgtqe"
      },
      "source": [
        "children_df = medical_df.groupby(['children', 'sex']).mean()\n",
        "children_df.reset_index(inplace=True)\n",
        "male = pd.DataFrame(children_df[children_df['sex'] == 'male'])\n",
        "female = pd.DataFrame(children_df[children_df['sex'] == 'female'])"
      ],
      "execution_count": null,
      "outputs": []
    },
    {
      "cell_type": "code",
      "metadata": {
        "colab": {
          "base_uri": "https://localhost:8080/",
          "height": 542
        },
        "id": "Uk6tr7-3fs4g",
        "outputId": "3aee550f-3604-4575-8259-fc917699db73"
      },
      "source": [
        "fig = go.Figure()\n",
        "fig.add_trace(go.Bar(x=male['children'], \n",
        "                     y=male['charges'],\n",
        "                     name='Male',\n",
        "                     marker_color='indianred'))\n",
        "\n",
        "fig.add_trace(go.Bar(x=female['children'], \n",
        "                     y=female['charges'],\n",
        "                     name='Female',\n",
        "                     marker_color='lightsalmon'))\n",
        "\n",
        "fig.update_layout(barmode='group', xaxis_tickangle=-45, title='Children vs. Charges', \n",
        "                  xaxis=dict(title='Children', titlefont_size=16), \n",
        "                  yaxis=dict(title='Average Charges', titlefont_size=1))\n",
        "fig.show()"
      ],
      "execution_count": null,
      "outputs": [
        {
          "output_type": "display_data",
          "data": {
            "text/html": [
              "<html>\n",
              "<head><meta charset=\"utf-8\" /></head>\n",
              "<body>\n",
              "    <div>\n",
              "            <script src=\"https://cdnjs.cloudflare.com/ajax/libs/mathjax/2.7.5/MathJax.js?config=TeX-AMS-MML_SVG\"></script><script type=\"text/javascript\">if (window.MathJax) {MathJax.Hub.Config({SVG: {font: \"STIX-Web\"}});}</script>\n",
              "                <script type=\"text/javascript\">window.PlotlyConfig = {MathJaxConfig: 'local'};</script>\n",
              "        <script src=\"https://cdn.plot.ly/plotly-latest.min.js\"></script>    \n",
              "            <div id=\"9a4747ce-696d-4c17-b05c-acfca015bdbf\" class=\"plotly-graph-div\" style=\"height:525px; width:100%;\"></div>\n",
              "            <script type=\"text/javascript\">\n",
              "                \n",
              "                    window.PLOTLYENV=window.PLOTLYENV || {};\n",
              "                    \n",
              "                if (document.getElementById(\"9a4747ce-696d-4c17-b05c-acfca015bdbf\")) {\n",
              "                    Plotly.newPlot(\n",
              "                        '9a4747ce-696d-4c17-b05c-acfca015bdbf',\n",
              "                        [{\"marker\": {\"color\": \"indianred\"}, \"name\": \"Male\", \"type\": \"bar\", \"x\": [0, 1, 2, 3, 4, 5], \"y\": [12832.696735684209, 13273.522457710846, 16187.095324876042, 16789.167418500005, 13782.28482857143, 7931.658310000001]}, {\"marker\": {\"color\": \"lightsalmon\"}, \"name\": \"Female\", \"type\": \"bar\", \"x\": [0, 1, 2, 3, 4, 5], \"y\": [11905.714275671282, 12161.360414367084, 13941.317326386554, 13865.605066363636, 13937.674561818181, 9854.00641875]}],\n",
              "                        {\"barmode\": \"group\", \"template\": {\"data\": {\"bar\": [{\"error_x\": {\"color\": \"#2a3f5f\"}, \"error_y\": {\"color\": \"#2a3f5f\"}, \"marker\": {\"line\": {\"color\": \"#E5ECF6\", \"width\": 0.5}}, \"type\": \"bar\"}], \"barpolar\": [{\"marker\": {\"line\": {\"color\": \"#E5ECF6\", \"width\": 0.5}}, \"type\": \"barpolar\"}], \"carpet\": [{\"aaxis\": {\"endlinecolor\": \"#2a3f5f\", \"gridcolor\": \"white\", \"linecolor\": \"white\", \"minorgridcolor\": \"white\", \"startlinecolor\": \"#2a3f5f\"}, \"baxis\": {\"endlinecolor\": \"#2a3f5f\", \"gridcolor\": \"white\", \"linecolor\": \"white\", \"minorgridcolor\": \"white\", \"startlinecolor\": \"#2a3f5f\"}, \"type\": \"carpet\"}], \"choropleth\": [{\"colorbar\": {\"outlinewidth\": 0, \"ticks\": \"\"}, \"type\": \"choropleth\"}], \"contour\": [{\"colorbar\": {\"outlinewidth\": 0, \"ticks\": \"\"}, \"colorscale\": [[0.0, \"#0d0887\"], [0.1111111111111111, \"#46039f\"], [0.2222222222222222, \"#7201a8\"], [0.3333333333333333, \"#9c179e\"], [0.4444444444444444, \"#bd3786\"], [0.5555555555555556, \"#d8576b\"], [0.6666666666666666, \"#ed7953\"], [0.7777777777777778, \"#fb9f3a\"], [0.8888888888888888, \"#fdca26\"], [1.0, \"#f0f921\"]], \"type\": \"contour\"}], \"contourcarpet\": [{\"colorbar\": {\"outlinewidth\": 0, \"ticks\": \"\"}, \"type\": \"contourcarpet\"}], \"heatmap\": [{\"colorbar\": {\"outlinewidth\": 0, \"ticks\": \"\"}, \"colorscale\": [[0.0, \"#0d0887\"], [0.1111111111111111, \"#46039f\"], [0.2222222222222222, \"#7201a8\"], [0.3333333333333333, \"#9c179e\"], [0.4444444444444444, \"#bd3786\"], [0.5555555555555556, \"#d8576b\"], [0.6666666666666666, \"#ed7953\"], [0.7777777777777778, \"#fb9f3a\"], [0.8888888888888888, \"#fdca26\"], [1.0, \"#f0f921\"]], \"type\": \"heatmap\"}], \"heatmapgl\": [{\"colorbar\": {\"outlinewidth\": 0, \"ticks\": \"\"}, \"colorscale\": [[0.0, \"#0d0887\"], [0.1111111111111111, \"#46039f\"], [0.2222222222222222, \"#7201a8\"], [0.3333333333333333, \"#9c179e\"], [0.4444444444444444, \"#bd3786\"], [0.5555555555555556, \"#d8576b\"], [0.6666666666666666, \"#ed7953\"], [0.7777777777777778, \"#fb9f3a\"], [0.8888888888888888, \"#fdca26\"], [1.0, \"#f0f921\"]], \"type\": \"heatmapgl\"}], \"histogram\": [{\"marker\": {\"colorbar\": {\"outlinewidth\": 0, \"ticks\": \"\"}}, \"type\": \"histogram\"}], \"histogram2d\": [{\"colorbar\": {\"outlinewidth\": 0, \"ticks\": \"\"}, \"colorscale\": [[0.0, \"#0d0887\"], [0.1111111111111111, \"#46039f\"], [0.2222222222222222, \"#7201a8\"], [0.3333333333333333, \"#9c179e\"], [0.4444444444444444, \"#bd3786\"], [0.5555555555555556, \"#d8576b\"], [0.6666666666666666, \"#ed7953\"], [0.7777777777777778, \"#fb9f3a\"], [0.8888888888888888, \"#fdca26\"], [1.0, \"#f0f921\"]], \"type\": \"histogram2d\"}], \"histogram2dcontour\": [{\"colorbar\": {\"outlinewidth\": 0, \"ticks\": \"\"}, \"colorscale\": [[0.0, \"#0d0887\"], [0.1111111111111111, \"#46039f\"], [0.2222222222222222, \"#7201a8\"], [0.3333333333333333, \"#9c179e\"], [0.4444444444444444, \"#bd3786\"], [0.5555555555555556, \"#d8576b\"], [0.6666666666666666, \"#ed7953\"], [0.7777777777777778, \"#fb9f3a\"], [0.8888888888888888, \"#fdca26\"], [1.0, \"#f0f921\"]], \"type\": \"histogram2dcontour\"}], \"mesh3d\": [{\"colorbar\": {\"outlinewidth\": 0, \"ticks\": \"\"}, \"type\": \"mesh3d\"}], \"parcoords\": [{\"line\": {\"colorbar\": {\"outlinewidth\": 0, \"ticks\": \"\"}}, \"type\": \"parcoords\"}], \"pie\": [{\"automargin\": true, \"type\": \"pie\"}], \"scatter\": [{\"marker\": {\"colorbar\": {\"outlinewidth\": 0, \"ticks\": \"\"}}, \"type\": \"scatter\"}], \"scatter3d\": [{\"line\": {\"colorbar\": {\"outlinewidth\": 0, \"ticks\": \"\"}}, \"marker\": {\"colorbar\": {\"outlinewidth\": 0, \"ticks\": \"\"}}, \"type\": \"scatter3d\"}], \"scattercarpet\": [{\"marker\": {\"colorbar\": {\"outlinewidth\": 0, \"ticks\": \"\"}}, \"type\": \"scattercarpet\"}], \"scattergeo\": [{\"marker\": {\"colorbar\": {\"outlinewidth\": 0, \"ticks\": \"\"}}, \"type\": \"scattergeo\"}], \"scattergl\": [{\"marker\": {\"colorbar\": {\"outlinewidth\": 0, \"ticks\": \"\"}}, \"type\": \"scattergl\"}], \"scattermapbox\": [{\"marker\": {\"colorbar\": {\"outlinewidth\": 0, \"ticks\": \"\"}}, \"type\": \"scattermapbox\"}], \"scatterpolar\": [{\"marker\": {\"colorbar\": {\"outlinewidth\": 0, \"ticks\": \"\"}}, \"type\": \"scatterpolar\"}], \"scatterpolargl\": [{\"marker\": {\"colorbar\": {\"outlinewidth\": 0, \"ticks\": \"\"}}, \"type\": \"scatterpolargl\"}], \"scatterternary\": [{\"marker\": {\"colorbar\": {\"outlinewidth\": 0, \"ticks\": \"\"}}, \"type\": \"scatterternary\"}], \"surface\": [{\"colorbar\": {\"outlinewidth\": 0, \"ticks\": \"\"}, \"colorscale\": [[0.0, \"#0d0887\"], [0.1111111111111111, \"#46039f\"], [0.2222222222222222, \"#7201a8\"], [0.3333333333333333, \"#9c179e\"], [0.4444444444444444, \"#bd3786\"], [0.5555555555555556, \"#d8576b\"], [0.6666666666666666, \"#ed7953\"], [0.7777777777777778, \"#fb9f3a\"], [0.8888888888888888, \"#fdca26\"], [1.0, \"#f0f921\"]], \"type\": \"surface\"}], \"table\": [{\"cells\": {\"fill\": {\"color\": \"#EBF0F8\"}, \"line\": {\"color\": \"white\"}}, \"header\": {\"fill\": {\"color\": \"#C8D4E3\"}, \"line\": {\"color\": \"white\"}}, \"type\": \"table\"}]}, \"layout\": {\"annotationdefaults\": {\"arrowcolor\": \"#2a3f5f\", \"arrowhead\": 0, \"arrowwidth\": 1}, \"coloraxis\": {\"colorbar\": {\"outlinewidth\": 0, \"ticks\": \"\"}}, \"colorscale\": {\"diverging\": [[0, \"#8e0152\"], [0.1, \"#c51b7d\"], [0.2, \"#de77ae\"], [0.3, \"#f1b6da\"], [0.4, \"#fde0ef\"], [0.5, \"#f7f7f7\"], [0.6, \"#e6f5d0\"], [0.7, \"#b8e186\"], [0.8, \"#7fbc41\"], [0.9, \"#4d9221\"], [1, \"#276419\"]], \"sequential\": [[0.0, \"#0d0887\"], [0.1111111111111111, \"#46039f\"], [0.2222222222222222, \"#7201a8\"], [0.3333333333333333, \"#9c179e\"], [0.4444444444444444, \"#bd3786\"], [0.5555555555555556, \"#d8576b\"], [0.6666666666666666, \"#ed7953\"], [0.7777777777777778, \"#fb9f3a\"], [0.8888888888888888, \"#fdca26\"], [1.0, \"#f0f921\"]], \"sequentialminus\": [[0.0, \"#0d0887\"], [0.1111111111111111, \"#46039f\"], [0.2222222222222222, \"#7201a8\"], [0.3333333333333333, \"#9c179e\"], [0.4444444444444444, \"#bd3786\"], [0.5555555555555556, \"#d8576b\"], [0.6666666666666666, \"#ed7953\"], [0.7777777777777778, \"#fb9f3a\"], [0.8888888888888888, \"#fdca26\"], [1.0, \"#f0f921\"]]}, \"colorway\": [\"#636efa\", \"#EF553B\", \"#00cc96\", \"#ab63fa\", \"#FFA15A\", \"#19d3f3\", \"#FF6692\", \"#B6E880\", \"#FF97FF\", \"#FECB52\"], \"font\": {\"color\": \"#2a3f5f\"}, \"geo\": {\"bgcolor\": \"white\", \"lakecolor\": \"white\", \"landcolor\": \"#E5ECF6\", \"showlakes\": true, \"showland\": true, \"subunitcolor\": \"white\"}, \"hoverlabel\": {\"align\": \"left\"}, \"hovermode\": \"closest\", \"mapbox\": {\"style\": \"light\"}, \"paper_bgcolor\": \"white\", \"plot_bgcolor\": \"#E5ECF6\", \"polar\": {\"angularaxis\": {\"gridcolor\": \"white\", \"linecolor\": \"white\", \"ticks\": \"\"}, \"bgcolor\": \"#E5ECF6\", \"radialaxis\": {\"gridcolor\": \"white\", \"linecolor\": \"white\", \"ticks\": \"\"}}, \"scene\": {\"xaxis\": {\"backgroundcolor\": \"#E5ECF6\", \"gridcolor\": \"white\", \"gridwidth\": 2, \"linecolor\": \"white\", \"showbackground\": true, \"ticks\": \"\", \"zerolinecolor\": \"white\"}, \"yaxis\": {\"backgroundcolor\": \"#E5ECF6\", \"gridcolor\": \"white\", \"gridwidth\": 2, \"linecolor\": \"white\", \"showbackground\": true, \"ticks\": \"\", \"zerolinecolor\": \"white\"}, \"zaxis\": {\"backgroundcolor\": \"#E5ECF6\", \"gridcolor\": \"white\", \"gridwidth\": 2, \"linecolor\": \"white\", \"showbackground\": true, \"ticks\": \"\", \"zerolinecolor\": \"white\"}}, \"shapedefaults\": {\"line\": {\"color\": \"#2a3f5f\"}}, \"ternary\": {\"aaxis\": {\"gridcolor\": \"white\", \"linecolor\": \"white\", \"ticks\": \"\"}, \"baxis\": {\"gridcolor\": \"white\", \"linecolor\": \"white\", \"ticks\": \"\"}, \"bgcolor\": \"#E5ECF6\", \"caxis\": {\"gridcolor\": \"white\", \"linecolor\": \"white\", \"ticks\": \"\"}}, \"title\": {\"x\": 0.05}, \"xaxis\": {\"automargin\": true, \"gridcolor\": \"white\", \"linecolor\": \"white\", \"ticks\": \"\", \"title\": {\"standoff\": 15}, \"zerolinecolor\": \"white\", \"zerolinewidth\": 2}, \"yaxis\": {\"automargin\": true, \"gridcolor\": \"white\", \"linecolor\": \"white\", \"ticks\": \"\", \"title\": {\"standoff\": 15}, \"zerolinecolor\": \"white\", \"zerolinewidth\": 2}}}, \"title\": {\"text\": \"Children vs. Charges\"}, \"xaxis\": {\"tickangle\": -45}, \"yaxis\": {\"title\": {\"font\": {\"size\": 1}, \"text\": \"Average Charges\"}}},\n",
              "                        {\"responsive\": true}\n",
              "                    ).then(function(){\n",
              "                            \n",
              "var gd = document.getElementById('9a4747ce-696d-4c17-b05c-acfca015bdbf');\n",
              "var x = new MutationObserver(function (mutations, observer) {{\n",
              "        var display = window.getComputedStyle(gd).display;\n",
              "        if (!display || display === 'none') {{\n",
              "            console.log([gd, 'removed!']);\n",
              "            Plotly.purge(gd);\n",
              "            observer.disconnect();\n",
              "        }}\n",
              "}});\n",
              "\n",
              "// Listen for the removal of the full notebook cells\n",
              "var notebookContainer = gd.closest('#notebook-container');\n",
              "if (notebookContainer) {{\n",
              "    x.observe(notebookContainer, {childList: true});\n",
              "}}\n",
              "\n",
              "// Listen for the clearing of the current output cell\n",
              "var outputEl = gd.closest('.output');\n",
              "if (outputEl) {{\n",
              "    x.observe(outputEl, {childList: true});\n",
              "}}\n",
              "\n",
              "                        })\n",
              "                };\n",
              "                \n",
              "            </script>\n",
              "        </div>\n",
              "</body>\n",
              "</html>"
            ]
          },
          "metadata": {
            "tags": []
          }
        }
      ]
    },
    {
      "cell_type": "markdown",
      "metadata": {
        "id": "Laww0bTSlgD6"
      },
      "source": [
        "There seem to be no strong correlation between number of children to medical charges. Customers who have 2-3 childrens have slight higher average medical charges but not strong enough to make conclusion."
      ]
    },
    {
      "cell_type": "markdown",
      "metadata": {
        "id": "pogOPpSAXkWz"
      },
      "source": [
        "#### Smoking vs. Average Charges"
      ]
    },
    {
      "cell_type": "code",
      "metadata": {
        "colab": {
          "base_uri": "https://localhost:8080/",
          "height": 109
        },
        "id": "f3Xj6JZgcOML",
        "outputId": "287e436c-45dc-4a53-90d4-6a6028c5386d"
      },
      "source": [
        "df = pd.DataFrame(medical_df.groupby(['smoker']).mean())\n",
        "df.reset_index(inplace=True)\n",
        "df"
      ],
      "execution_count": null,
      "outputs": [
        {
          "output_type": "execute_result",
          "data": {
            "text/html": [
              "<div>\n",
              "<style scoped>\n",
              "    .dataframe tbody tr th:only-of-type {\n",
              "        vertical-align: middle;\n",
              "    }\n",
              "\n",
              "    .dataframe tbody tr th {\n",
              "        vertical-align: top;\n",
              "    }\n",
              "\n",
              "    .dataframe thead th {\n",
              "        text-align: right;\n",
              "    }\n",
              "</style>\n",
              "<table border=\"1\" class=\"dataframe\">\n",
              "  <thead>\n",
              "    <tr style=\"text-align: right;\">\n",
              "      <th></th>\n",
              "      <th>smoker</th>\n",
              "      <th>age</th>\n",
              "      <th>bmi</th>\n",
              "      <th>children</th>\n",
              "      <th>charges</th>\n",
              "    </tr>\n",
              "  </thead>\n",
              "  <tbody>\n",
              "    <tr>\n",
              "      <th>0</th>\n",
              "      <td>no</td>\n",
              "      <td>39.385338</td>\n",
              "      <td>30.651795</td>\n",
              "      <td>1.090226</td>\n",
              "      <td>8434.268298</td>\n",
              "    </tr>\n",
              "    <tr>\n",
              "      <th>1</th>\n",
              "      <td>yes</td>\n",
              "      <td>38.514599</td>\n",
              "      <td>30.708449</td>\n",
              "      <td>1.113139</td>\n",
              "      <td>32050.231832</td>\n",
              "    </tr>\n",
              "  </tbody>\n",
              "</table>\n",
              "</div>"
            ],
            "text/plain": [
              "  smoker        age        bmi  children       charges\n",
              "0     no  39.385338  30.651795  1.090226   8434.268298\n",
              "1    yes  38.514599  30.708449  1.113139  32050.231832"
            ]
          },
          "metadata": {
            "tags": []
          },
          "execution_count": 85
        }
      ]
    },
    {
      "cell_type": "code",
      "metadata": {
        "colab": {
          "base_uri": "https://localhost:8080/",
          "height": 542
        },
        "id": "DUj7TXBuXj-m",
        "outputId": "adb138cb-7be4-419c-dff3-51f164483b4e"
      },
      "source": [
        "figure = px.bar(df, 'smoker', 'charges', labels={'charges': 'Average Charges'})\n",
        "figure.show()"
      ],
      "execution_count": null,
      "outputs": [
        {
          "output_type": "display_data",
          "data": {
            "text/html": [
              "<html>\n",
              "<head><meta charset=\"utf-8\" /></head>\n",
              "<body>\n",
              "    <div>\n",
              "            <script src=\"https://cdnjs.cloudflare.com/ajax/libs/mathjax/2.7.5/MathJax.js?config=TeX-AMS-MML_SVG\"></script><script type=\"text/javascript\">if (window.MathJax) {MathJax.Hub.Config({SVG: {font: \"STIX-Web\"}});}</script>\n",
              "                <script type=\"text/javascript\">window.PlotlyConfig = {MathJaxConfig: 'local'};</script>\n",
              "        <script src=\"https://cdn.plot.ly/plotly-latest.min.js\"></script>    \n",
              "            <div id=\"c00edb01-1988-4aac-ac02-5c4adeba73ba\" class=\"plotly-graph-div\" style=\"height:525px; width:100%;\"></div>\n",
              "            <script type=\"text/javascript\">\n",
              "                \n",
              "                    window.PLOTLYENV=window.PLOTLYENV || {};\n",
              "                    \n",
              "                if (document.getElementById(\"c00edb01-1988-4aac-ac02-5c4adeba73ba\")) {\n",
              "                    Plotly.newPlot(\n",
              "                        'c00edb01-1988-4aac-ac02-5c4adeba73ba',\n",
              "                        [{\"alignmentgroup\": \"True\", \"hoverlabel\": {\"namelength\": 0}, \"hovertemplate\": \"smoker=%{x}<br>average charges=%{y}\", \"legendgroup\": \"\", \"marker\": {\"color\": \"#636efa\"}, \"name\": \"\", \"offsetgroup\": \"\", \"orientation\": \"v\", \"showlegend\": false, \"textposition\": \"auto\", \"type\": \"bar\", \"x\": [\"no\", \"yes\"], \"xaxis\": \"x\", \"y\": [8434.268297856199, 32050.23183153285], \"yaxis\": \"y\"}],\n",
              "                        {\"barmode\": \"relative\", \"legend\": {\"tracegroupgap\": 0}, \"margin\": {\"t\": 60}, \"template\": {\"data\": {\"bar\": [{\"error_x\": {\"color\": \"#2a3f5f\"}, \"error_y\": {\"color\": \"#2a3f5f\"}, \"marker\": {\"line\": {\"color\": \"#E5ECF6\", \"width\": 0.5}}, \"type\": \"bar\"}], \"barpolar\": [{\"marker\": {\"line\": {\"color\": \"#E5ECF6\", \"width\": 0.5}}, \"type\": \"barpolar\"}], \"carpet\": [{\"aaxis\": {\"endlinecolor\": \"#2a3f5f\", \"gridcolor\": \"white\", \"linecolor\": \"white\", \"minorgridcolor\": \"white\", \"startlinecolor\": \"#2a3f5f\"}, \"baxis\": {\"endlinecolor\": \"#2a3f5f\", \"gridcolor\": \"white\", \"linecolor\": \"white\", \"minorgridcolor\": \"white\", \"startlinecolor\": \"#2a3f5f\"}, \"type\": \"carpet\"}], \"choropleth\": [{\"colorbar\": {\"outlinewidth\": 0, \"ticks\": \"\"}, \"type\": \"choropleth\"}], \"contour\": [{\"colorbar\": {\"outlinewidth\": 0, \"ticks\": \"\"}, \"colorscale\": [[0.0, \"#0d0887\"], [0.1111111111111111, \"#46039f\"], [0.2222222222222222, \"#7201a8\"], [0.3333333333333333, \"#9c179e\"], [0.4444444444444444, \"#bd3786\"], [0.5555555555555556, \"#d8576b\"], [0.6666666666666666, \"#ed7953\"], [0.7777777777777778, \"#fb9f3a\"], [0.8888888888888888, \"#fdca26\"], [1.0, \"#f0f921\"]], \"type\": \"contour\"}], \"contourcarpet\": [{\"colorbar\": {\"outlinewidth\": 0, \"ticks\": \"\"}, \"type\": \"contourcarpet\"}], \"heatmap\": [{\"colorbar\": {\"outlinewidth\": 0, \"ticks\": \"\"}, \"colorscale\": [[0.0, \"#0d0887\"], [0.1111111111111111, \"#46039f\"], [0.2222222222222222, \"#7201a8\"], [0.3333333333333333, \"#9c179e\"], [0.4444444444444444, \"#bd3786\"], [0.5555555555555556, \"#d8576b\"], [0.6666666666666666, \"#ed7953\"], [0.7777777777777778, \"#fb9f3a\"], [0.8888888888888888, \"#fdca26\"], [1.0, \"#f0f921\"]], \"type\": \"heatmap\"}], \"heatmapgl\": [{\"colorbar\": {\"outlinewidth\": 0, \"ticks\": \"\"}, \"colorscale\": [[0.0, \"#0d0887\"], [0.1111111111111111, \"#46039f\"], [0.2222222222222222, \"#7201a8\"], [0.3333333333333333, \"#9c179e\"], [0.4444444444444444, \"#bd3786\"], [0.5555555555555556, \"#d8576b\"], [0.6666666666666666, \"#ed7953\"], [0.7777777777777778, \"#fb9f3a\"], [0.8888888888888888, \"#fdca26\"], [1.0, \"#f0f921\"]], \"type\": \"heatmapgl\"}], \"histogram\": [{\"marker\": {\"colorbar\": {\"outlinewidth\": 0, \"ticks\": \"\"}}, \"type\": \"histogram\"}], \"histogram2d\": [{\"colorbar\": {\"outlinewidth\": 0, \"ticks\": \"\"}, \"colorscale\": [[0.0, \"#0d0887\"], [0.1111111111111111, \"#46039f\"], [0.2222222222222222, \"#7201a8\"], [0.3333333333333333, \"#9c179e\"], [0.4444444444444444, \"#bd3786\"], [0.5555555555555556, \"#d8576b\"], [0.6666666666666666, \"#ed7953\"], [0.7777777777777778, \"#fb9f3a\"], [0.8888888888888888, \"#fdca26\"], [1.0, \"#f0f921\"]], \"type\": \"histogram2d\"}], \"histogram2dcontour\": [{\"colorbar\": {\"outlinewidth\": 0, \"ticks\": \"\"}, \"colorscale\": [[0.0, \"#0d0887\"], [0.1111111111111111, \"#46039f\"], [0.2222222222222222, \"#7201a8\"], [0.3333333333333333, \"#9c179e\"], [0.4444444444444444, \"#bd3786\"], [0.5555555555555556, \"#d8576b\"], [0.6666666666666666, \"#ed7953\"], [0.7777777777777778, \"#fb9f3a\"], [0.8888888888888888, \"#fdca26\"], [1.0, \"#f0f921\"]], \"type\": \"histogram2dcontour\"}], \"mesh3d\": [{\"colorbar\": {\"outlinewidth\": 0, \"ticks\": \"\"}, \"type\": \"mesh3d\"}], \"parcoords\": [{\"line\": {\"colorbar\": {\"outlinewidth\": 0, \"ticks\": \"\"}}, \"type\": \"parcoords\"}], \"pie\": [{\"automargin\": true, \"type\": \"pie\"}], \"scatter\": [{\"marker\": {\"colorbar\": {\"outlinewidth\": 0, \"ticks\": \"\"}}, \"type\": \"scatter\"}], \"scatter3d\": [{\"line\": {\"colorbar\": {\"outlinewidth\": 0, \"ticks\": \"\"}}, \"marker\": {\"colorbar\": {\"outlinewidth\": 0, \"ticks\": \"\"}}, \"type\": \"scatter3d\"}], \"scattercarpet\": [{\"marker\": {\"colorbar\": {\"outlinewidth\": 0, \"ticks\": \"\"}}, \"type\": \"scattercarpet\"}], \"scattergeo\": [{\"marker\": {\"colorbar\": {\"outlinewidth\": 0, \"ticks\": \"\"}}, \"type\": \"scattergeo\"}], \"scattergl\": [{\"marker\": {\"colorbar\": {\"outlinewidth\": 0, \"ticks\": \"\"}}, \"type\": \"scattergl\"}], \"scattermapbox\": [{\"marker\": {\"colorbar\": {\"outlinewidth\": 0, \"ticks\": \"\"}}, \"type\": \"scattermapbox\"}], \"scatterpolar\": [{\"marker\": {\"colorbar\": {\"outlinewidth\": 0, \"ticks\": \"\"}}, \"type\": \"scatterpolar\"}], \"scatterpolargl\": [{\"marker\": {\"colorbar\": {\"outlinewidth\": 0, \"ticks\": \"\"}}, \"type\": \"scatterpolargl\"}], \"scatterternary\": [{\"marker\": {\"colorbar\": {\"outlinewidth\": 0, \"ticks\": \"\"}}, \"type\": \"scatterternary\"}], \"surface\": [{\"colorbar\": {\"outlinewidth\": 0, \"ticks\": \"\"}, \"colorscale\": [[0.0, \"#0d0887\"], [0.1111111111111111, \"#46039f\"], [0.2222222222222222, \"#7201a8\"], [0.3333333333333333, \"#9c179e\"], [0.4444444444444444, \"#bd3786\"], [0.5555555555555556, \"#d8576b\"], [0.6666666666666666, \"#ed7953\"], [0.7777777777777778, \"#fb9f3a\"], [0.8888888888888888, \"#fdca26\"], [1.0, \"#f0f921\"]], \"type\": \"surface\"}], \"table\": [{\"cells\": {\"fill\": {\"color\": \"#EBF0F8\"}, \"line\": {\"color\": \"white\"}}, \"header\": {\"fill\": {\"color\": \"#C8D4E3\"}, \"line\": {\"color\": \"white\"}}, \"type\": \"table\"}]}, \"layout\": {\"annotationdefaults\": {\"arrowcolor\": \"#2a3f5f\", \"arrowhead\": 0, \"arrowwidth\": 1}, \"coloraxis\": {\"colorbar\": {\"outlinewidth\": 0, \"ticks\": \"\"}}, \"colorscale\": {\"diverging\": [[0, \"#8e0152\"], [0.1, \"#c51b7d\"], [0.2, \"#de77ae\"], [0.3, \"#f1b6da\"], [0.4, \"#fde0ef\"], [0.5, \"#f7f7f7\"], [0.6, \"#e6f5d0\"], [0.7, \"#b8e186\"], [0.8, \"#7fbc41\"], [0.9, \"#4d9221\"], [1, \"#276419\"]], \"sequential\": [[0.0, \"#0d0887\"], [0.1111111111111111, \"#46039f\"], [0.2222222222222222, \"#7201a8\"], [0.3333333333333333, \"#9c179e\"], [0.4444444444444444, \"#bd3786\"], [0.5555555555555556, \"#d8576b\"], [0.6666666666666666, \"#ed7953\"], [0.7777777777777778, \"#fb9f3a\"], [0.8888888888888888, \"#fdca26\"], [1.0, \"#f0f921\"]], \"sequentialminus\": [[0.0, \"#0d0887\"], [0.1111111111111111, \"#46039f\"], [0.2222222222222222, \"#7201a8\"], [0.3333333333333333, \"#9c179e\"], [0.4444444444444444, \"#bd3786\"], [0.5555555555555556, \"#d8576b\"], [0.6666666666666666, \"#ed7953\"], [0.7777777777777778, \"#fb9f3a\"], [0.8888888888888888, \"#fdca26\"], [1.0, \"#f0f921\"]]}, \"colorway\": [\"#636efa\", \"#EF553B\", \"#00cc96\", \"#ab63fa\", \"#FFA15A\", \"#19d3f3\", \"#FF6692\", \"#B6E880\", \"#FF97FF\", \"#FECB52\"], \"font\": {\"color\": \"#2a3f5f\"}, \"geo\": {\"bgcolor\": \"white\", \"lakecolor\": \"white\", \"landcolor\": \"#E5ECF6\", \"showlakes\": true, \"showland\": true, \"subunitcolor\": \"white\"}, \"hoverlabel\": {\"align\": \"left\"}, \"hovermode\": \"closest\", \"mapbox\": {\"style\": \"light\"}, \"paper_bgcolor\": \"white\", \"plot_bgcolor\": \"#E5ECF6\", \"polar\": {\"angularaxis\": {\"gridcolor\": \"white\", \"linecolor\": \"white\", \"ticks\": \"\"}, \"bgcolor\": \"#E5ECF6\", \"radialaxis\": {\"gridcolor\": \"white\", \"linecolor\": \"white\", \"ticks\": \"\"}}, \"scene\": {\"xaxis\": {\"backgroundcolor\": \"#E5ECF6\", \"gridcolor\": \"white\", \"gridwidth\": 2, \"linecolor\": \"white\", \"showbackground\": true, \"ticks\": \"\", \"zerolinecolor\": \"white\"}, \"yaxis\": {\"backgroundcolor\": \"#E5ECF6\", \"gridcolor\": \"white\", \"gridwidth\": 2, \"linecolor\": \"white\", \"showbackground\": true, \"ticks\": \"\", \"zerolinecolor\": \"white\"}, \"zaxis\": {\"backgroundcolor\": \"#E5ECF6\", \"gridcolor\": \"white\", \"gridwidth\": 2, \"linecolor\": \"white\", \"showbackground\": true, \"ticks\": \"\", \"zerolinecolor\": \"white\"}}, \"shapedefaults\": {\"line\": {\"color\": \"#2a3f5f\"}}, \"ternary\": {\"aaxis\": {\"gridcolor\": \"white\", \"linecolor\": \"white\", \"ticks\": \"\"}, \"baxis\": {\"gridcolor\": \"white\", \"linecolor\": \"white\", \"ticks\": \"\"}, \"bgcolor\": \"#E5ECF6\", \"caxis\": {\"gridcolor\": \"white\", \"linecolor\": \"white\", \"ticks\": \"\"}}, \"title\": {\"x\": 0.05}, \"xaxis\": {\"automargin\": true, \"gridcolor\": \"white\", \"linecolor\": \"white\", \"ticks\": \"\", \"title\": {\"standoff\": 15}, \"zerolinecolor\": \"white\", \"zerolinewidth\": 2}, \"yaxis\": {\"automargin\": true, \"gridcolor\": \"white\", \"linecolor\": \"white\", \"ticks\": \"\", \"title\": {\"standoff\": 15}, \"zerolinecolor\": \"white\", \"zerolinewidth\": 2}}}, \"xaxis\": {\"anchor\": \"y\", \"domain\": [0.0, 1.0], \"title\": {\"text\": \"smoker\"}}, \"yaxis\": {\"anchor\": \"x\", \"domain\": [0.0, 1.0], \"title\": {\"text\": \"average charges\"}}},\n",
              "                        {\"responsive\": true}\n",
              "                    ).then(function(){\n",
              "                            \n",
              "var gd = document.getElementById('c00edb01-1988-4aac-ac02-5c4adeba73ba');\n",
              "var x = new MutationObserver(function (mutations, observer) {{\n",
              "        var display = window.getComputedStyle(gd).display;\n",
              "        if (!display || display === 'none') {{\n",
              "            console.log([gd, 'removed!']);\n",
              "            Plotly.purge(gd);\n",
              "            observer.disconnect();\n",
              "        }}\n",
              "}});\n",
              "\n",
              "// Listen for the removal of the full notebook cells\n",
              "var notebookContainer = gd.closest('#notebook-container');\n",
              "if (notebookContainer) {{\n",
              "    x.observe(notebookContainer, {childList: true});\n",
              "}}\n",
              "\n",
              "// Listen for the clearing of the current output cell\n",
              "var outputEl = gd.closest('.output');\n",
              "if (outputEl) {{\n",
              "    x.observe(outputEl, {childList: true});\n",
              "}}\n",
              "\n",
              "                        })\n",
              "                };\n",
              "                \n",
              "            </script>\n",
              "        </div>\n",
              "</body>\n",
              "</html>"
            ]
          },
          "metadata": {
            "tags": []
          }
        }
      ]
    },
    {
      "cell_type": "markdown",
      "metadata": {
        "id": "EfX_1Gy2l7Dg"
      },
      "source": [
        "### Correlation \n",
        "There are columns with closer relationship with medical charges. We can use `.corr `method from Pandas to compute **correlation coefficient** in numeric values. Therefore, we must convert catergorical columns to numeric values."
      ]
    },
    {
      "cell_type": "code",
      "metadata": {
        "colab": {
          "base_uri": "https://localhost:8080/"
        },
        "id": "IiF9qCekTE8U",
        "outputId": "e2ad8fa3-7742-431b-ce9c-234b1f4dd2c7"
      },
      "source": [
        "# correlation between charges and age\n",
        "medical_df.charges.corr(medical_df.age)"
      ],
      "execution_count": null,
      "outputs": [
        {
          "output_type": "execute_result",
          "data": {
            "text/plain": [
              "0.2990081933306476"
            ]
          },
          "metadata": {
            "tags": []
          },
          "execution_count": 106
        }
      ]
    },
    {
      "cell_type": "markdown",
      "metadata": {
        "id": "y4Q-hFg0nQ11"
      },
      "source": [
        "Here's how correlation coefficients can be interpreted (source):\n",
        "\n",
        "- **Strength**: The greater the absolute value of the correlation coefficient, the stronger the relationship.\n",
        "\n",
        "    - The extreme values of -1 and 1 indicate a perfectly linear relationship where a change in one variable is accompanied by a perfectly consistent change in the other. For these relationships, all of the data points fall on a line. In practice, you won’t see either type of perfect relationship.\n",
        "\n",
        "    - A coefficient of zero represents no linear relationship. As one variable increases, there is no tendency in the other variable to either increase or decrease.\n",
        "\n",
        "    - When the value is in-between 0 and +1/-1, there is a relationship, but the points don’t all fall on a line. As r approaches -1 or 1, the strength of the relationship increases and the data points tend to fall closer to a line.\n",
        "\n",
        "- **Direction:** The sign of the correlation coefficient represents the direction of the relationship.\n",
        "\n",
        "  - Positive coefficients indicate that when the value of one variable increases, the value of the other variable also tends to increase. Positive relationships produce an upward slope on a scatterplot.\n",
        "\n",
        "  - Negative coefficients represent cases when the value of one variable increases, the value of the other variable decrease. Negative relationships produce a downward slope."
      ]
    },
    {
      "cell_type": "markdown",
      "metadata": {
        "id": "pt92GqhJoR2x"
      },
      "source": [
        "Convert Smoker column to numeric values"
      ]
    },
    {
      "cell_type": "code",
      "metadata": {
        "colab": {
          "base_uri": "https://localhost:8080/"
        },
        "id": "Dx1u528NoPfE",
        "outputId": "b81ca8fe-6d6f-40cb-c62a-8de36338d736"
      },
      "source": [
        "smoker_values = {'no': 0, 'yes': 1}\n",
        "medical_df['smoker_numeric'] = medical_df['smoker'].map(smoker_values)\n",
        "medical_df.charges.corr(medical_df.smoker_numeric)"
      ],
      "execution_count": null,
      "outputs": [
        {
          "output_type": "execute_result",
          "data": {
            "text/plain": [
              "0.787251430498478"
            ]
          },
          "metadata": {
            "tags": []
          },
          "execution_count": 116
        }
      ]
    },
    {
      "cell_type": "markdown",
      "metadata": {
        "id": "elX_Wg7YpfAZ"
      },
      "source": [
        "We can compute the correlation coefficients between all pairs of numeric columns with `.corr`"
      ]
    },
    {
      "cell_type": "code",
      "metadata": {
        "id": "pDkeueYUpbWC"
      },
      "source": [
        "corr_table = medical_df.corr()"
      ],
      "execution_count": null,
      "outputs": []
    },
    {
      "cell_type": "markdown",
      "metadata": {
        "id": "VFHJo1EUqB0m"
      },
      "source": [
        "We can create correaltion matrix with seaborn `heatmap`"
      ]
    },
    {
      "cell_type": "code",
      "metadata": {
        "colab": {
          "base_uri": "https://localhost:8080/",
          "height": 441
        },
        "id": "XxkvZ4WDqMTU",
        "outputId": "4082747b-69c0-4c81-8ff2-3b69b984c48d"
      },
      "source": [
        "sns.heatmap(corr_table, cmap='Blues_r', annot=True)\n",
        "plt.title('Correlation Matrix');"
      ],
      "execution_count": null,
      "outputs": [
        {
          "output_type": "display_data",
          "data": {
            "image/png": "[encoded data removed]",
            "text/plain": [
              "<Figure size 1080x576 with 2 Axes>"
            ]
          },
          "metadata": {
            "tags": [],
            "needs_background": "light"
          }
        }
      ]
    },
    {
      "cell_type": "markdown",
      "metadata": {
        "id": "VeEvm1_Mqkbl"
      },
      "source": [
        "**Correlation vs causation fallacy:** Note that a high correlation cannot be used to interpret a cause-effect relationship between features. Two features \n",
        "X\n",
        " and \n",
        "Y\n",
        " can be correlated if \n",
        "X\n",
        " causes \n",
        "Y\n",
        " or if \n",
        "Y\n",
        " causes \n",
        "X\n",
        ", or if both are caused independently by some other factor \n",
        "Z\n",
        ", and the correlation will no longer hold true if one of the cause-effect relationships is broken. It's also possible that \n",
        "X\n",
        " are \n",
        "Y\n",
        " simply appear to be correlated because the sample is too small."
      ]
    },
    {
      "cell_type": "markdown",
      "metadata": {
        "id": "9aSd20ISt3R3"
      },
      "source": [
        "### Linear Regression with a Single Feature\n",
        "We'll use smoker and age of customers to predict charges as we know \"smoker\" and \"age\" have strong relationship with \"charges\""
      ]
    },
    {
      "cell_type": "markdown",
      "metadata": {
        "id": "0hB3XfFzvePp"
      },
      "source": [
        "Create a dataframe with chosen values"
      ]
    },
    {
      "cell_type": "code",
      "metadata": {
        "id": "IQ9WRI6nteBn"
      },
      "source": [
        "non_smoker_df = medical_df[medical_df.smoker == 'no']"
      ],
      "execution_count": null,
      "outputs": []
    },
    {
      "cell_type": "code",
      "metadata": {
        "colab": {
          "base_uri": "https://localhost:8080/",
          "height": 542
        },
        "id": "YkuKbyrNx0l9",
        "outputId": "d852d65d-faa5-4203-eb42-83db44501be8"
      },
      "source": [
        "fig = px.scatter(non_smoker_df, x='age', y='charges', size='charges', \n",
        "                 title='Non-smoker Medical Charges', size_max=15,\n",
        "                 hover_data=['children', 'sex'], color='children')\n",
        "fig.show()"
      ],
      "execution_count": null,
      "outputs": [
        {
          "output_type": "display_data",
          "data": {
            "text/html": [
              "<html>\n",
              "<head><meta charset=\"utf-8\" /></head>\n",
              "<body>\n",
              "    <div>\n",
              "            <script src=\"https://cdnjs.cloudflare.com/ajax/libs/mathjax/2.7.5/MathJax.js?config=TeX-AMS-MML_SVG\"></script><script type=\"text/javascript\">if (window.MathJax) {MathJax.Hub.Config({SVG: {font: \"STIX-Web\"}});}</script>\n",
              "                <script type=\"text/javascript\">window.PlotlyConfig = {MathJaxConfig: 'local'};</script>\n",
              "        <script src=\"https://cdn.plot.ly/plotly-latest.min.js\"></script>    \n",
              "            <div id=\"8f3e1ab8-1543-450c-b577-1f2d21709915\" class=\"plotly-graph-div\" style=\"height:525px; width:100%;\"></div>\n",
              "            <script type=\"text/javascript\">\n",
              "                \n",
              "                    window.PLOTLYENV=window.PLOTLYENV || {};\n",
              "                    \n",
              "                if (document.getElementById(\"8f3e1ab8-1543-450c-b577-1f2d21709915\")) {\n",
              "                    Plotly.newPlot(\n",
              "                        '8f3e1ab8-1543-450c-b577-1f2d21709915',\n",
              "                        [{\"customdata\": [[1, \"male\"], [3, \"male\"], [0, \"male\"], [0, \"male\"], [0, \"female\"], [1, \"female\"], [3, \"female\"], [2, \"male\"], [0, \"female\"], [0, \"male\"], [0, \"male\"], [0, \"female\"], [1, \"male\"], [1, \"female\"], [0, \"male\"], [0, \"male\"], [0, \"female\"], [1, \"female\"], [0, \"male\"], [2, \"male\"], [3, \"female\"], [0, \"female\"], [2, \"female\"], [1, \"male\"], [0, \"female\"], [5, \"female\"], [0, \"male\"], [0, \"male\"], [3, \"female\"], [0, \"male\"], [0, \"female\"], [2, \"female\"], [1, \"male\"], [2, \"female\"], [1, \"male\"], [0, \"male\"], [2, \"female\"], [0, \"female\"], [0, \"female\"], [0, \"female\"], [2, \"female\"], [3, \"female\"], [2, \"female\"], [2, \"female\"], [3, \"male\"], [4, \"male\"], [1, \"male\"], [1, \"female\"], [0, \"female\"], [2, \"female\"], [1, \"male\"], [0, \"female\"], [5, \"male\"], [3, \"female\"], [1, \"male\"], [2, \"male\"], [0, \"male\"], [1, \"female\"], [0, \"male\"], [0, \"female\"], [0, \"female\"], [1, \"male\"], [0, \"female\"], [4, \"female\"], [0, \"female\"], [0, \"female\"], [0, \"female\"], [0, \"female\"], [1, \"female\"], [2, \"male\"], [1, \"female\"], [3, \"female\"], [0, \"male\"], [0, \"female\"], [0, \"male\"], [0, \"female\"], [1, \"female\"], [1, \"female\"], [2, \"male\"], [0, \"male\"], [1, \"male\"], [2, \"female\"], [0, \"male\"], [0, \"female\"], [3, \"male\"], [0, \"male\"], [0, \"male\"], [0, \"female\"], [2, \"female\"], [2, \"male\"], [0, \"male\"], [0, \"female\"], [3, \"female\"], [0, \"female\"], [0, \"female\"], [2, \"male\"], [0, \"female\"], [0, \"female\"], [2, \"female\"], [0, \"male\"], [0, \"female\"], [0, \"female\"], [0, \"male\"], [0, \"male\"], [3, \"female\"], [0, \"female\"], [2, \"male\"], [1, \"male\"], [2, \"male\"], [3, \"female\"], [1, \"female\"], [1, \"female\"], [1, \"male\"], [1, \"male\"], [0, \"male\"], [3, \"female\"], [1, \"female\"], [0, \"male\"], [3, \"female\"], [1, \"male\"], [2, \"female\"], [0, \"male\"], [4, \"male\"], [5, \"female\"], [3, \"female\"], [1, \"female\"], [3, \"male\"], [0, \"male\"], [0, \"male\"], [0, \"male\"], [1, \"female\"], [0, \"female\"], [2, \"male\"], [1, \"male\"], [2, \"female\"], [3, \"female\"], [0, \"male\"], [0, \"female\"], [3, \"male\"], [0, \"female\"], [2, \"male\"], [2, \"female\"], [3, \"female\"], [1, \"female\"], [2, \"female\"], [0, \"male\"], [0, \"female\"], [0, \"male\"], [1, \"female\"], [0, \"male\"], [0, \"male\"], [0, \"female\"], [2, \"female\"], [0, \"female\"], [0, \"female\"], [0, \"female\"], [1, \"female\"], [0, \"female\"], [0, \"male\"], [1, \"female\"], [0, \"male\"], [0, \"female\"], [1, \"male\"], [1, \"male\"], [4, \"male\"], [2, \"male\"], [1, \"female\"], [2, \"female\"], [2, \"female\"], [0, \"female\"], [0, \"male\"], [1, \"female\"], [0, \"female\"], [1, \"female\"], [0, \"female\"], [3, \"male\"], [3, \"male\"], [0, \"male\"], [0, \"female\"], [1, \"female\"], [2, \"male\"], [1, \"female\"], [3, \"female\"], [0, \"female\"], [1, \"male\"], [2, \"male\"], [0, \"female\"], [2, \"male\"], [1, \"male\"], [1, \"female\"], [1, \"female\"], [3, \"male\"], [0, \"male\"], [0, \"female\"], [0, \"male\"], [1, \"male\"], [1, \"male\"], [3, \"male\"], [3, \"female\"], [0, \"female\"], [4, \"male\"], [0, \"female\"], [3, \"female\"], [3, \"female\"], [1, \"male\"], [1, \"male\"], [1, \"male\"], [2, \"male\"], [1, \"male\"], [0, \"male\"], [2, \"female\"], [2, \"male\"], [0, \"female\"], [2, \"male\"], [1, \"female\"], [1, \"male\"], [1, \"female\"], [0, \"female\"], [1, \"male\"], [2, \"female\"], [0, \"female\"], [3, \"male\"], [0, \"female\"], [1, \"male\"], [0, \"female\"], [3, \"male\"], [0, \"male\"], [1, \"female\"], [3, \"male\"], [2, \"female\"], [2, \"female\"], [2, \"female\"], [2, \"male\"], [2, \"female\"], [1, \"female\"], [0, \"male\"], [2, \"female\"], [0, \"male\"], [0, \"female\"], [0, \"male\"], [0, \"male\"], [0, \"male\"], [0, \"male\"], [0, \"female\"], [1, \"male\"], [1, \"male\"], [4, \"female\"], [0, \"male\"], [0, \"male\"], [1, \"male\"], [1, \"female\"], [0, \"male\"], [0, \"female\"], [0, \"female\"], [2, \"female\"], [0, \"male\"], [0, \"male\"], [1, \"male\"], [1, \"female\"], [0, \"female\"], [0, \"male\"], [0, \"female\"], [0, \"male\"], [4, \"female\"], [3, \"female\"], [2, \"male\"], [1, \"male\"], [1, \"female\"], [0, \"male\"], [0, \"female\"], [0, \"female\"], [0, \"female\"], [0, \"male\"], [0, \"female\"], [0, \"male\"], [3, \"male\"], [3, \"male\"], [0, \"male\"], [0, \"female\"], [2, \"female\"], [1, \"male\"], [1, \"female\"], [2, \"female\"], [1, \"female\"], [3, \"female\"], [2, \"female\"], [2, \"male\"], [3, \"male\"], [0, \"female\"], [0, \"female\"], [1, \"female\"], [0, \"male\"], [3, \"female\"], [1, \"male\"], [0, \"male\"], [2, \"female\"], [2, \"male\"], [0, \"male\"], [0, \"female\"], [2, \"male\"], [0, \"female\"], [3, \"female\"], [4, \"male\"], [0, \"female\"], [1, \"male\"], [1, \"male\"], [2, \"female\"], [0, \"male\"], [3, \"female\"], [0, \"male\"], [2, \"male\"], [0, \"female\"], [0, \"female\"], [1, \"male\"], [0, \"female\"], [3, \"male\"], [0, \"male\"], [2, \"female\"], [0, \"female\"], [1, \"female\"], [3, \"male\"], [1, \"male\"], [0, \"male\"], [5, \"male\"], [0, \"female\"], [1, \"female\"], [0, \"male\"], [1, \"male\"], [0, \"male\"], [2, \"male\"], [5, \"male\"], [1, \"female\"], [0, \"female\"], [1, \"female\"], [3, \"female\"], [0, \"male\"], [2, \"female\"], [0, \"male\"], [0, \"female\"], [1, \"male\"], [3, \"male\"], [0, \"male\"], [3, \"male\"], [5, \"female\"], [0, \"male\"], [1, \"female\"], [0, \"male\"], [1, \"female\"], [0, \"female\"], [0, \"male\"], [0, \"female\"], [0, \"female\"], [1, \"male\"], [4, \"male\"], [1, \"male\"], [0, \"male\"], [0, \"male\"], [2, \"male\"], [0, \"male\"], [2, \"female\"], [0, \"female\"], [0, \"male\"], [3, \"female\"], [3, \"female\"], [2, \"female\"], [0, \"male\"], [0, \"male\"], [1, \"female\"], [2, \"female\"], [1, \"female\"], [1, \"female\"], [0, \"male\"], [0, \"female\"], [0, \"female\"], [0, \"female\"], [0, \"male\"], [0, \"male\"], [0, \"male\"], [3, \"male\"], [2, \"male\"], [0, \"female\"], [1, \"female\"], [3, \"male\"], [0, \"female\"], [3, \"female\"], [0, \"male\"], [1, \"male\"], [0, \"female\"], [0, \"female\"], [0, \"female\"], [0, \"male\"], [0, \"male\"], [2, \"female\"], [2, \"male\"], [2, \"female\"], [0, \"female\"], [0, \"male\"], [1, \"female\"], [3, \"male\"], [1, \"male\"], [2, \"male\"], [0, \"female\"], [0, \"female\"], [1, \"male\"], [0, \"male\"], [0, \"male\"], [0, \"male\"], [0, \"male\"], [1, \"male\"], [2, \"male\"], [1, \"female\"], [0, \"male\"], [0, \"female\"], [0, \"female\"], [0, \"female\"], [0, \"female\"], [0, \"female\"], [2, \"female\"], [1, \"female\"], [1, \"male\"], [0, \"male\"], [0, \"female\"], [2, \"male\"], [0, \"male\"], [0, \"male\"], [1, \"male\"], [3, \"female\"], [2, \"female\"], [1, \"female\"], [0, \"male\"], [3, \"female\"], [2, \"female\"], [0, \"female\"], [0, \"male\"], [0, \"male\"], [2, \"female\"], [0, \"female\"], [0, \"male\"], [0, \"female\"], [0, \"male\"], [2, \"female\"], [0, \"female\"], [2, \"male\"], [1, \"male\"], [0, \"male\"], [0, \"male\"], [2, \"female\"], [0, \"female\"], [0, \"male\"], [1, \"male\"], [2, \"female\"], [0, \"female\"], [1, \"female\"], [2, \"male\"], [5, \"female\"], [0, \"female\"], [1, \"female\"], [2, \"female\"], [1, \"female\"], [2, \"female\"], [0, \"female\"], [0, \"male\"], [1, \"male\"], [0, \"female\"], [1, \"male\"], [0, \"male\"], [2, \"male\"], [1, \"female\"], [0, \"male\"], [1, \"female\"], [3, \"male\"], [0, \"female\"], [1, \"female\"], [0, \"female\"], [1, \"male\"], [2, \"male\"], [0, \"male\"], [1, \"female\"], [2, \"female\"], [1, \"female\"], [2, \"male\"], [2, \"female\"], [0, \"female\"], [0, \"male\"], [0, \"female\"], [3, \"female\"], [0, \"female\"], [0, \"female\"], [2, \"male\"], [1, \"female\"], [2, \"female\"], [0, \"female\"], [3, \"female\"], [0, \"female\"], [0, \"female\"], [0, \"female\"], [1, \"male\"], [1, \"female\"], [0, \"male\"], [0, \"female\"], [3, \"male\"], [1, \"male\"], [0, \"male\"], [1, \"male\"], [0, \"male\"], [0, \"female\"], [2, \"male\"], [1, \"male\"], [0, \"male\"], [1, \"female\"], [2, \"female\"], [4, \"male\"], [5, \"male\"], [0, \"male\"], [3, \"female\"], [2, \"male\"], [3, \"male\"], [1, \"male\"], [3, \"female\"], [0, \"male\"], [0, \"female\"], [2, \"female\"], [1, \"female\"], [0, \"female\"], [2, \"female\"], [0, \"female\"], [1, \"female\"], [2, \"male\"], [1, \"female\"], [4, \"female\"], [3, \"male\"], [1, \"female\"], [1, \"female\"], [0, \"male\"], [1, \"male\"], [1, \"female\"], [3, \"male\"], [0, \"female\"], [0, \"male\"], [0, \"female\"], [0, \"male\"], [3, \"female\"], [3, \"male\"], [2, \"female\"], [1, \"female\"], [0, \"male\"], [0, \"male\"], [1, \"female\"], [2, \"male\"], [2, \"male\"], [0, \"male\"], [1, \"female\"], [0, \"male\"], [1, \"male\"], [1, \"male\"], [0, \"male\"], [1, \"female\"], [0, \"female\"], [2, \"female\"], [0, \"male\"], [2, \"female\"], [0, \"female\"], [0, \"female\"], [0, \"male\"], [1, \"female\"], [1, \"female\"], [2, \"female\"], [3, \"male\"], [3, \"female\"], [0, \"female\"], [1, \"male\"], [2, \"female\"], [2, \"female\"], [0, \"male\"], [0, \"female\"], [0, \"male\"], [1, \"female\"], [1, \"male\"], [2, \"female\"], [0, \"female\"], [0, \"female\"], [3, \"male\"], [0, \"male\"], [0, \"male\"], [1, \"female\"], [1, \"male\"], [0, \"female\"], [1, \"female\"], [1, \"male\"], [3, \"female\"], [1, \"female\"], [3, \"female\"], [1, \"female\"], [2, \"male\"], [2, \"male\"], [0, \"female\"], [0, \"male\"], [1, \"female\"], [2, \"male\"], [0, \"male\"], [1, \"female\"], [0, \"male\"], [0, \"male\"], [0, \"male\"], [0, \"female\"], [4, \"male\"], [2, \"male\"], [3, \"female\"], [3, \"male\"], [2, \"female\"], [1, \"male\"], [0, \"male\"], [2, \"female\"], [0, \"female\"], [1, \"male\"], [1, \"female\"], [0, \"female\"], [2, \"female\"], [3, \"male\"], [2, \"female\"], [0, \"female\"], [2, \"male\"], [3, \"male\"], [2, \"male\"], [0, \"male\"], [3, \"male\"], [0, \"male\"], [0, \"male\"], [1, \"male\"], [1, \"female\"], [3, \"female\"], [0, \"male\"], [0, \"male\"], [3, \"male\"], [0, \"female\"], [0, \"female\"], [0, \"male\"], [0, \"female\"], [2, \"female\"], [2, \"male\"], [1, \"female\"], [0, \"female\"], [1, \"female\"], [0, \"female\"], [1, \"male\"], [0, \"male\"], [0, \"female\"], [1, \"female\"], [0, \"female\"], [0, \"male\"], [1, \"male\"], [3, \"female\"], [3, \"female\"], [2, \"male\"], [2, \"male\"], [2, \"male\"], [0, \"female\"], [0, \"female\"], [3, \"male\"], [1, \"male\"], [0, \"male\"], [0, \"female\"], [2, \"female\"], [0, \"male\"], [2, \"female\"], [1, \"male\"], [0, \"male\"], [0, \"female\"], [2, \"female\"], [0, \"male\"], [1, \"male\"], [2, \"male\"], [0, \"male\"], [0, \"female\"], [2, \"female\"], [0, \"female\"], [0, \"male\"], [0, \"male\"], [0, \"male\"], [1, \"female\"], [1, \"male\"], [0, \"female\"], [0, \"male\"], [2, \"male\"], [2, \"female\"], [0, \"female\"], [1, \"female\"], [0, \"male\"], [3, \"female\"], [2, \"female\"], [0, \"female\"], [0, \"male\"], [2, \"male\"], [0, \"male\"], [1, \"male\"], [0, \"male\"], [3, \"female\"], [0, \"male\"], [1, \"female\"], [0, \"male\"], [1, \"male\"], [3, \"male\"], [0, \"female\"], [1, \"female\"], [5, \"male\"], [1, \"male\"], [2, \"female\"], [3, \"male\"], [1, \"male\"], [0, \"female\"], [4, \"male\"], [0, \"female\"], [0, \"male\"], [1, \"male\"], [4, \"female\"], [0, \"male\"], [0, \"male\"], [0, \"female\"], [1, \"male\"], [0, \"female\"], [0, \"female\"], [0, \"male\"], [3, \"male\"], [0, \"male\"], [0, \"female\"], [2, \"female\"], [3, \"male\"], [1, \"female\"], [3, \"male\"], [1, \"male\"], [3, \"female\"], [1, \"female\"], [2, \"male\"], [0, \"female\"], [0, \"female\"], [1, \"female\"], [0, \"female\"], [0, \"female\"], [1, \"male\"], [0, \"male\"], [0, \"male\"], [2, \"male\"], [2, \"female\"], [1, \"female\"], [0, \"female\"], [1, \"male\"], [1, \"male\"], [1, \"female\"], [5, \"male\"], [0, \"female\"], [2, \"male\"], [0, \"female\"], [2, \"male\"], [5, \"female\"], [2, \"male\"], [0, \"male\"], [0, \"male\"], [1, \"female\"], [0, \"female\"], [0, \"male\"], [0, \"male\"], [1, \"female\"], [2, \"male\"], [0, \"male\"], [0, \"male\"], [1, \"female\"], [1, \"male\"], [1, \"male\"], [1, \"male\"], [1, \"female\"], [0, \"female\"], [1, \"female\"], [3, \"male\"], [2, \"male\"], [1, \"male\"], [1, \"male\"], [2, \"male\"], [5, \"female\"], [3, \"female\"], [0, \"female\"], [0, \"female\"], [0, \"female\"], [0, \"male\"], [0, \"male\"], [1, \"male\"], [3, \"female\"], [0, \"female\"], [1, \"male\"], [0, \"male\"], [1, \"female\"], [5, \"male\"], [1, \"female\"], [3, \"male\"], [1, \"female\"], [0, \"male\"], [1, \"female\"], [2, \"female\"], [2, \"female\"], [1, \"male\"], [3, \"female\"], [3, \"female\"], [0, \"female\"], [3, \"female\"], [0, \"female\"], [0, \"male\"], [0, \"male\"], [1, \"male\"], [2, \"male\"], [2, \"male\"], [2, \"male\"], [1, \"male\"], [0, \"female\"], [4, \"female\"], [1, \"male\"], [0, \"female\"], [0, \"male\"], [1, \"female\"], [2, \"female\"], [3, \"female\"], [2, \"female\"], [0, \"male\"], [1, \"male\"], [1, \"female\"], [0, \"female\"], [0, \"male\"], [0, \"male\"], [2, \"female\"], [0, \"female\"], [0, \"male\"], [3, \"female\"], [0, \"male\"], [2, \"male\"], [0, \"male\"], [0, \"female\"], [1, \"male\"], [0, \"female\"], [1, \"female\"], [1, \"female\"], [0, \"male\"], [1, \"male\"], [0, \"female\"], [0, \"male\"], [0, \"female\"], [0, \"female\"], [0, \"female\"], [1, \"male\"], [0, \"male\"], [1, \"male\"], [3, \"male\"], [4, \"female\"], [1, \"female\"], [2, \"male\"], [0, \"male\"], [1, \"male\"], [1, \"female\"], [0, \"male\"], [0, \"male\"], [2, \"female\"], [0, \"female\"], [1, \"female\"], [1, \"female\"], [0, \"male\"], [3, \"male\"], [2, \"male\"], [1, \"male\"], [1, \"male\"], [1, \"male\"], [2, \"female\"], [0, \"male\"], [0, \"male\"], [1, \"male\"], [0, \"male\"], [0, \"female\"], [3, \"male\"], [4, \"female\"], [4, \"female\"], [0, \"male\"], [0, \"female\"], [1, \"female\"], [3, \"male\"], [1, \"male\"], [0, \"male\"], [0, \"male\"], [0, \"female\"], [0, \"female\"], [2, \"female\"], [1, \"male\"], [3, \"male\"], [1, \"female\"], [3, \"female\"], [0, \"male\"], [1, \"male\"], [5, \"male\"], [3, \"female\"], [2, \"male\"], [1, \"female\"], [0, \"female\"], [0, \"male\"], [2, \"female\"], [1, \"male\"], [0, \"female\"], [5, \"female\"], [2, \"male\"], [0, \"male\"], [0, \"female\"], [0, \"male\"], [3, \"female\"], [1, \"female\"], [0, \"female\"], [0, \"male\"], [1, \"male\"], [3, \"female\"], [0, \"female\"], [2, \"male\"], [2, \"male\"], [3, \"male\"], [0, \"female\"], [1, \"male\"], [0, \"male\"], [0, \"female\"], [0, \"female\"], [1, \"female\"], [4, \"female\"], [3, \"female\"], [2, \"female\"], [0, \"female\"], [0, \"female\"], [1, \"female\"], [2, \"male\"], [1, \"male\"], [0, \"female\"], [1, \"female\"], [0, \"female\"], [0, \"male\"], [2, \"female\"], [2, \"male\"], [1, \"female\"], [0, \"female\"], [2, \"male\"], [2, \"male\"], [0, \"female\"], [1, \"female\"], [0, \"female\"], [1, \"female\"], [0, \"female\"], [0, \"female\"], [1, \"female\"], [2, \"male\"], [0, \"female\"], [0, \"female\"], [2, \"female\"], [1, \"female\"], [1, \"female\"], [0, \"female\"], [0, \"female\"], [3, \"female\"], [0, \"male\"], [1, \"male\"], [2, \"female\"], [2, \"male\"], [2, \"male\"], [0, \"male\"], [1, \"male\"], [1, \"male\"], [2, \"female\"], [1, \"male\"], [1, \"male\"], [2, \"male\"], [0, \"male\"], [2, \"female\"], [1, \"female\"], [0, \"male\"], [0, \"male\"], [2, \"male\"], [3, \"female\"], [1, \"female\"], [2, \"male\"], [0, \"male\"], [1, \"male\"], [1, \"female\"], [2, \"male\"], [2, \"male\"], [0, \"male\"], [0, \"male\"], [3, \"female\"], [0, \"male\"], [2, \"female\"], [0, \"male\"], [0, \"female\"], [0, \"female\"], [3, \"male\"], [1, \"female\"], [3, \"female\"], [0, \"female\"], [0, \"male\"], [5, \"male\"], [3, \"female\"], [4, \"male\"], [0, \"female\"], [0, \"male\"], [4, \"female\"], [0, \"female\"], [0, \"female\"], [3, \"female\"], [1, \"female\"], [3, \"male\"], [0, \"female\"], [0, \"female\"], [1, \"male\"], [1, \"female\"], [1, \"female\"], [2, \"female\"], [0, \"female\"], [0, \"female\"], [3, \"male\"], [1, \"male\"], [0, \"female\"], [5, \"male\"], [1, \"male\"], [0, \"male\"], [0, \"female\"], [0, \"female\"], [2, \"female\"], [0, \"female\"], [1, \"male\"], [0, \"female\"], [0, \"female\"], [1, \"female\"], [1, \"male\"], [2, \"female\"], [0, \"male\"], [3, \"male\"], [0, \"male\"], [1, \"male\"], [0, \"male\"], [2, \"female\"], [2, \"male\"], [1, \"female\"], [1, \"female\"], [0, \"female\"], [2, \"male\"], [1, \"male\"], [0, \"female\"], [1, \"male\"], [1, \"male\"], [0, \"female\"], [0, \"male\"], [4, \"male\"], [2, \"female\"], [3, \"male\"], [0, \"male\"], [1, \"male\"], [0, \"male\"], [0, \"female\"], [1, \"male\"], [2, \"female\"], [2, \"male\"], [2, \"female\"], [0, \"female\"], [3, \"female\"], [3, \"male\"], [0, \"female\"], [0, \"female\"], [0, \"female\"]], \"hoverlabel\": {\"namelength\": 0}, \"hovertemplate\": \"age=%{x}<br>charges=%{marker.size}<br>children=%{marker.color}<br>sex=%{customdata[1]}\", \"legendgroup\": \"\", \"marker\": {\"color\": [1, 3, 0, 0, 0, 1, 3, 2, 0, 0, 0, 0, 1, 1, 0, 0, 0, 1, 0, 2, 3, 0, 2, 1, 0, 5, 0, 0, 3, 0, 0, 2, 1, 2, 1, 0, 2, 0, 0, 0, 2, 3, 2, 2, 3, 4, 1, 1, 0, 2, 1, 0, 5, 3, 1, 2, 0, 1, 0, 0, 0, 1, 0, 4, 0, 0, 0, 0, 1, 2, 1, 3, 0, 0, 0, 0, 1, 1, 2, 0, 1, 2, 0, 0, 3, 0, 0, 0, 2, 2, 0, 0, 3, 0, 0, 2, 0, 0, 2, 0, 0, 0, 0, 0, 3, 0, 2, 1, 2, 3, 1, 1, 1, 1, 0, 3, 1, 0, 3, 1, 2, 0, 4, 5, 3, 1, 3, 0, 0, 0, 1, 0, 2, 1, 2, 3, 0, 0, 3, 0, 2, 2, 3, 1, 2, 0, 0, 0, 1, 0, 0, 0, 2, 0, 0, 0, 1, 0, 0, 1, 0, 0, 1, 1, 4, 2, 1, 2, 2, 0, 0, 1, 0, 1, 0, 3, 3, 0, 0, 1, 2, 1, 3, 0, 1, 2, 0, 2, 1, 1, 1, 3, 0, 0, 0, 1, 1, 3, 3, 0, 4, 0, 3, 3, 1, 1, 1, 2, 1, 0, 2, 2, 0, 2, 1, 1, 1, 0, 1, 2, 0, 3, 0, 1, 0, 3, 0, 1, 3, 2, 2, 2, 2, 2, 1, 0, 2, 0, 0, 0, 0, 0, 0, 0, 1, 1, 4, 0, 0, 1, 1, 0, 0, 0, 2, 0, 0, 1, 1, 0, 0, 0, 0, 4, 3, 2, 1, 1, 0, 0, 0, 0, 0, 0, 0, 3, 3, 0, 0, 2, 1, 1, 2, 1, 3, 2, 2, 3, 0, 0, 1, 0, 3, 1, 0, 2, 2, 0, 0, 2, 0, 3, 4, 0, 1, 1, 2, 0, 3, 0, 2, 0, 0, 1, 0, 3, 0, 2, 0, 1, 3, 1, 0, 5, 0, 1, 0, 1, 0, 2, 5, 1, 0, 1, 3, 0, 2, 0, 0, 1, 3, 0, 3, 5, 0, 1, 0, 1, 0, 0, 0, 0, 1, 4, 1, 0, 0, 2, 0, 2, 0, 0, 3, 3, 2, 0, 0, 1, 2, 1, 1, 0, 0, 0, 0, 0, 0, 0, 3, 2, 0, 1, 3, 0, 3, 0, 1, 0, 0, 0, 0, 0, 2, 2, 2, 0, 0, 1, 3, 1, 2, 0, 0, 1, 0, 0, 0, 0, 1, 2, 1, 0, 0, 0, 0, 0, 0, 2, 1, 1, 0, 0, 2, 0, 0, 1, 3, 2, 1, 0, 3, 2, 0, 0, 0, 2, 0, 0, 0, 0, 2, 0, 2, 1, 0, 0, 2, 0, 0, 1, 2, 0, 1, 2, 5, 0, 1, 2, 1, 2, 0, 0, 1, 0, 1, 0, 2, 1, 0, 1, 3, 0, 1, 0, 1, 2, 0, 1, 2, 1, 2, 2, 0, 0, 0, 3, 0, 0, 2, 1, 2, 0, 3, 0, 0, 0, 1, 1, 0, 0, 3, 1, 0, 1, 0, 0, 2, 1, 0, 1, 2, 4, 5, 0, 3, 2, 3, 1, 3, 0, 0, 2, 1, 0, 2, 0, 1, 2, 1, 4, 3, 1, 1, 0, 1, 1, 3, 0, 0, 0, 0, 3, 3, 2, 1, 0, 0, 1, 2, 2, 0, 1, 0, 1, 1, 0, 1, 0, 2, 0, 2, 0, 0, 0, 1, 1, 2, 3, 3, 0, 1, 2, 2, 0, 0, 0, 1, 1, 2, 0, 0, 3, 0, 0, 1, 1, 0, 1, 1, 3, 1, 3, 1, 2, 2, 0, 0, 1, 2, 0, 1, 0, 0, 0, 0, 4, 2, 3, 3, 2, 1, 0, 2, 0, 1, 1, 0, 2, 3, 2, 0, 2, 3, 2, 0, 3, 0, 0, 1, 1, 3, 0, 0, 3, 0, 0, 0, 0, 2, 2, 1, 0, 1, 0, 1, 0, 0, 1, 0, 0, 1, 3, 3, 2, 2, 2, 0, 0, 3, 1, 0, 0, 2, 0, 2, 1, 0, 0, 2, 0, 1, 2, 0, 0, 2, 0, 0, 0, 0, 1, 1, 0, 0, 2, 2, 0, 1, 0, 3, 2, 0, 0, 2, 0, 1, 0, 3, 0, 1, 0, 1, 3, 0, 1, 5, 1, 2, 3, 1, 0, 4, 0, 0, 1, 4, 0, 0, 0, 1, 0, 0, 0, 3, 0, 0, 2, 3, 1, 3, 1, 3, 1, 2, 0, 0, 1, 0, 0, 1, 0, 0, 2, 2, 1, 0, 1, 1, 1, 5, 0, 2, 0, 2, 5, 2, 0, 0, 1, 0, 0, 0, 1, 2, 0, 0, 1, 1, 1, 1, 1, 0, 1, 3, 2, 1, 1, 2, 5, 3, 0, 0, 0, 0, 0, 1, 3, 0, 1, 0, 1, 5, 1, 3, 1, 0, 1, 2, 2, 1, 3, 3, 0, 3, 0, 0, 0, 1, 2, 2, 2, 1, 0, 4, 1, 0, 0, 1, 2, 3, 2, 0, 1, 1, 0, 0, 0, 2, 0, 0, 3, 0, 2, 0, 0, 1, 0, 1, 1, 0, 1, 0, 0, 0, 0, 0, 1, 0, 1, 3, 4, 1, 2, 0, 1, 1, 0, 0, 2, 0, 1, 1, 0, 3, 2, 1, 1, 1, 2, 0, 0, 1, 0, 0, 3, 4, 4, 0, 0, 1, 3, 1, 0, 0, 0, 0, 2, 1, 3, 1, 3, 0, 1, 5, 3, 2, 1, 0, 0, 2, 1, 0, 5, 2, 0, 0, 0, 3, 1, 0, 0, 1, 3, 0, 2, 2, 3, 0, 1, 0, 0, 0, 1, 4, 3, 2, 0, 0, 1, 2, 1, 0, 1, 0, 0, 2, 2, 1, 0, 2, 2, 0, 1, 0, 1, 0, 0, 1, 2, 0, 0, 2, 1, 1, 0, 0, 3, 0, 1, 2, 2, 2, 0, 1, 1, 2, 1, 1, 2, 0, 2, 1, 0, 0, 2, 3, 1, 2, 0, 1, 1, 2, 2, 0, 0, 3, 0, 2, 0, 0, 0, 3, 1, 3, 0, 0, 5, 3, 4, 0, 0, 4, 0, 0, 3, 1, 3, 0, 0, 1, 1, 1, 2, 0, 0, 3, 1, 0, 5, 1, 0, 0, 0, 2, 0, 1, 0, 0, 1, 1, 2, 0, 3, 0, 1, 0, 2, 2, 1, 1, 0, 2, 1, 0, 1, 1, 0, 0, 4, 2, 3, 0, 1, 0, 0, 1, 2, 2, 2, 0, 3, 3, 0, 0, 0], \"coloraxis\": \"coloraxis\", \"size\": [1725.5523, 4449.462, 21984.47061, 3866.8552, 3756.6216, 8240.5896, 7281.5056, 6406.4107, 28923.136919999997, 2721.3208, 1826.8429999999998, 11090.7178, 1837.237, 10797.3362, 2395.17155, 10602.385, 13228.84695, 4149.736, 1137.011, 6203.90175, 14001.1338, 14451.83515, 12268.63225, 2775.19215, 2198.18985, 4687.7970000000005, 13770.0979, 1625.43375, 15612.19335, 2302.3, 3046.062, 4949.7587, 6272.4772, 6313.759, 6079.6715, 20630.28351, 3393.35635, 3556.9223, 12629.8967, 2211.13075, 3579.8287, 8059.6791, 13607.36875, 5989.52365, 8606.2174, 4504.6624, 30166.618169999998, 4133.64165, 1743.214, 14235.072, 6389.37785, 5920.1041, 6799.4580000000005, 11741.726, 11946.6259, 7726.854, 11356.6609, 3947.4131, 1532.4697, 2755.02095, 6571.02435, 4441.21315, 7935.29115, 11033.6617, 11073.176000000001, 8026.6666, 11082.5772, 2026.9741, 10942.13205, 5729.0053, 3766.8838, 12105.32, 10226.2842, 6186.1269999999995, 3645.0894, 21344.8467, 5003.853, 2331.519, 3877.30425, 2867.1196, 10825.2537, 11881.358, 4646.759, 2404.7338, 11488.31695, 30259.995560000003, 11381.3254, 8601.3293, 6686.4313, 7740.3369999999995, 1705.6245, 2257.47525, 10115.00885, 3385.39915, 9634.538, 6082.405, 12815.44495, 13616.3586, 11163.568000000001, 1632.56445, 2457.21115, 2155.6815, 1261.442, 2045.68525, 27322.733860000004, 2166.732, 27375.90478, 3490.5491, 18157.876, 5138.2567, 9877.6077, 10959.6947, 1842.519, 5125.2157, 7789.635, 6334.34355, 7077.1894, 6948.7008, 19749.383380000003, 10450.552, 5152.134, 5028.1466, 10407.08585, 4830.63, 6128.79745, 2719.27975, 4827.90495, 13405.3903, 8116.68, 1694.7964, 5246.047, 2855.43755, 6455.86265, 10436.096, 8823.279, 8538.28845, 11735.87905, 1631.8212, 4005.4225, 7419.4779, 7731.4271, 3981.9768, 5325.651, 6775.960999999999, 4922.9159, 12557.6053, 4883.866, 2137.6536, 12044.341999999999, 1137.4697, 1639.5631, 5649.715, 8516.829, 9644.2525, 14901.5167, 2130.6759, 8871.1517, 13012.20865, 7147.105, 4337.7352, 11743.298999999999, 13880.948999999999, 6610.1097, 1980.07, 8162.71625, 3537.703, 5002.7827, 8520.026, 7371.772, 10355.641, 2483.736, 3392.9768, 25081.76784, 5012.471, 10564.8845, 5253.524, 11987.1682, 2689.4954, 24227.33724, 7358.17565, 9225.2564, 7443.64305, 14001.2867, 1727.785, 12333.828000000001, 6710.1919, 1615.7667, 4463.2051, 7152.6714, 5354.07465, 35160.13457, 7196.866999999999, 24476.47851, 12648.7034, 1986.9334, 1832.094, 4040.55825, 4260.744000000001, 13047.33235, 5400.9805, 11520.09985, 11837.16, 20462.99766, 14590.63205, 7441.053000000001, 9282.4806, 1719.4363, 7265.7025, 9617.66245, 2523.1695, 9715.841, 2803.69785, 2150.469, 12928.7911, 9855.1314, 4237.12655, 11879.10405, 9625.92, 7742.1098, 9432.9253, 14256.1928, 25992.82104, 3172.018, 20277.80751, 2156.7518, 3906.127, 1704.5681, 9249.4952, 6746.7425, 12265.5069, 4349.462, 12646.207, 19442.3535, 20177.671130000002, 4151.0287, 11944.59435, 7749.1564, 8444.474, 1737.376, 8124.4084, 9722.7695, 8835.26495, 10435.06525, 7421.19455, 4667.60765, 4894.7533, 24671.66334, 11566.30055, 2866.091, 6600.20595, 3561.8889, 9144.565, 13429.0354, 11658.37915, 19144.57652, 13822.803, 12142.5786, 13937.6665, 8232.6388, 18955.22017, 13352.0998, 13217.0945, 13981.85035, 10977.2063, 6184.2994, 4889.9995, 8334.45755, 5478.0368, 1635.73365, 11830.6072, 8932.084, 3554.203, 12404.8791, 14133.03775, 24603.04837, 8944.1151, 9620.3307, 1837.2819, 1607.5101, 10043.249, 4751.07, 2597.779, 3180.5101, 9778.3472, 13430.265, 8017.06115, 8116.26885, 3481.868, 13415.0381, 12029.2867, 7639.41745, 1391.5287, 16455.70785, 27000.98473, 20781.48892, 5846.9176, 8302.53565, 1261.859, 11856.4115, 30284.642939999998, 3176.8159, 4618.0799, 10736.87075, 2138.0707, 8964.06055, 9290.1395, 9411.005, 7526.70645, 8522.003, 16586.49771, 14988.431999999999, 1631.6683, 9264.796999999999, 8083.9198, 14692.66935, 10269.46, 3260.199, 11396.9002, 4185.0979, 8539.671, 6652.5288, 4074.4537, 1621.3402, 5080.096, 2134.9015, 7345.7266, 9140.951, 14418.2804, 2727.3951, 8968.33, 9788.8659, 6555.07035, 7323.734818999999, 3167.45585, 18804.7524, 23082.95533, 4906.40965, 5969.723000000001, 12638.195, 4243.59005, 13919.8229, 2254.7967, 5926.846, 12592.5345, 2897.3235, 4738.2682, 1149.3959, 28287.897660000002, 7345.084, 12730.9996, 11454.0215, 5910.944, 4762.329000000001, 7512.267, 4032.2407, 1969.614, 1769.53165, 4686.3887, 21797.0004, 11881.9696, 11840.77505, 10601.412, 7682.67, 10381.4787, 15230.32405, 11165.41765, 1632.03625, 13224.693000000001, 12643.3778, 23288.9284, 2201.0971, 2497.0383, 2203.47185, 1744.465, 20878.78443, 2534.39375, 1534.3045, 1824.2854, 15555.18875, 9304.7019, 1622.1885, 9880.068000000001, 9563.029, 4347.02335, 12475.3513, 1253.9360000000001, 10461.9794, 1748.774, 24513.09126, 2196.4732, 12574.048999999999, 1967.0227, 4931.647, 8027.968000000001, 8211.1002, 13470.86, 6837.3687, 5974.3847, 6796.86325, 2643.2685, 3077.0955, 3044.2133, 11455.28, 11763.0009, 2498.4144, 9361.3268, 1256.299, 11362.755, 27724.28875, 8413.46305, 5240.765, 3857.75925, 25656.575259999998, 3994.1778, 9866.30485, 5397.6167, 11482.63485, 24059.68019, 9861.025, 8342.90875, 1708.0014, 14043.4767, 12925.886, 19214.705530000003, 13831.1152, 6067.12675, 5972.378000000001, 8825.086, 8233.0975, 27346.04207, 6196.448, 3056.3881, 13887.204, 10231.4999, 3268.84665, 11538.421, 3213.62205, 13390.559, 3972.9247, 12957.118, 11187.6567, 17878.900680000002, 3847.6740000000004, 8334.5896, 3935.1799, 1646.4297, 9193.8385, 10923.9332, 2494.022, 9058.7303, 2801.2588, 2128.43105, 6373.55735, 7256.7231, 11552.903999999999, 3761.292, 2219.4451, 4753.6368, 31620.001060000002, 13224.05705, 12222.8983, 1664.9996, 9724.53, 3206.49135, 12913.9924, 1639.5631, 6356.2707, 17626.23951, 1242.816, 4779.6023, 3861.20965, 13635.6379, 5976.8311, 11842.442, 8428.0693, 2566.4707, 5709.1644, 8823.98575, 7640.3092, 5594.8455, 7441.501, 33471.97189, 1633.0444, 9174.13565, 11070.535, 16085.1275, 9283.562, 3558.62025, 4435.0942, 8547.6913, 6571.544, 2207.69745, 6753.0380000000005, 1880.07, 11658.11505, 10713.643999999998, 3659.3459999999995, 9182.17, 12129.61415, 3736.4647, 6748.5912, 11326.71487, 11365.952, 10085.846, 1977.815, 3366.6697, 7173.35995, 9391.346, 14410.9321, 2709.1119, 24915.04626, 12949.1554, 6666.243, 13143.86485, 4466.6214, 18806.14547, 10141.1362, 6123.5688, 8252.2843, 1712.227, 12430.95335, 9800.8882, 10579.711000000001, 8280.6227, 8527.532, 12244.531, 3410.324, 4058.71245, 26392.260290000002, 14394.39815, 6435.6237, 22192.43711, 5148.5526, 1136.3994, 8703.456, 6500.2359, 4837.5823, 3943.5954, 4399.731, 6185.3208, 7222.78625, 12485.8009, 12363.546999999999, 10156.7832, 2585.269, 1242.26, 9863.4718, 4766.022, 11244.3769, 7729.64575, 5438.7491, 26236.57997, 2104.1134, 8068.185, 2362.22905, 2352.96845, 3577.9990000000003, 3201.24515, 29186.48236, 10976.24575, 3500.6123, 2020.5523, 9541.69555, 9504.3103, 5385.3379, 8930.93455, 5375.0380000000005, 10264.4421, 6113.23105, 5469.0066, 1727.54, 10107.2206, 8310.83915, 1984.4533, 2457.502, 12146.971000000001, 9566.9909, 13112.6048, 10848.1343, 12231.6136, 9875.6804, 11264.541000000001, 12979.358, 1263.249, 10106.13425, 6664.68595, 2217.6012, 6781.3542, 10065.413, 4234.927, 9447.25035, 14007.222, 9583.8933, 3484.3309999999997, 8604.48365, 3757.8448, 8827.2099, 9910.35985, 11737.84884, 1627.28245, 8556.907, 3062.50825, 1906.35825, 14210.53595, 11833.7823, 17128.42608, 5031.26955, 7985.815, 5428.7277, 3925.7582, 2416.955, 3070.8087, 9095.06825, 11842.62375, 8062.764, 7050.642, 14319.031, 6933.24225, 27941.28758, 11150.78, 12797.20962, 7261.741, 10560.4917, 6986.696999999999, 7448.40395, 5934.3798, 9869.8102, 1146.7966, 9386.1613, 4350.5144, 6414.178000000001, 12741.16745, 1917.3184, 5209.57885, 13457.9608, 5662.225, 1252.407, 2731.9122, 7209.4918, 4266.1658, 4719.52405, 11848.141000000001, 7046.7222, 14313.8463, 2103.08, 1815.8759, 7731.85785, 28476.734989999997, 2136.88225, 1131.5066, 3309.7926, 9414.92, 6360.9936, 11013.7119, 4428.88785, 5584.3057, 1877.9294, 2842.76075, 3597.5959999999995, 7445.918000000001, 2680.9493, 1621.8827, 8219.2039, 12523.6048, 16069.08475, 6117.4945, 13393.756000000001, 5266.3656, 4719.73655, 11743.9341, 5377.4578, 7160.3303, 4402.233, 11657.7189, 6402.29135, 12622.1795, 1526.3120000000001, 12323.936000000002, 10072.05505, 9872.701, 2438.0552, 2974.1259999999997, 10601.63225, 14119.62, 11729.6795, 1875.344, 18218.16139, 10965.446000000002, 7151.092, 12269.68865, 5458.04645, 8782.469000000001, 6600.361, 1141.4451, 11576.13, 13129.60345, 4391.652, 8457.818000000001, 3392.3652, 5966.8874, 6849.026, 8891.1395, 2690.1138, 26140.3603, 6653.7886, 6282.235, 6311.951999999999, 3443.0640000000003, 2789.0574, 2585.85065, 4877.98105, 5272.1758, 1682.5970000000002, 11945.1327, 7243.8136, 10422.91665, 13555.0049, 13063.883, 2221.56445, 1634.5734, 2117.33885, 8688.85885, 4661.28635, 8125.7845, 12644.589, 4564.19145, 4846.92015, 7633.7206, 15170.069, 2639.0429, 14382.70905, 7626.993, 5257.50795, 2473.3341, 13041.921, 5245.2269, 13451.122, 13462.52, 5488.262, 4320.41085, 6250.435, 25333.33284, 2913.5690000000004, 12032.326000000001, 13470.8044, 6289.7549, 2927.0647, 6238.298000000001, 10096.97, 7348.142, 4673.3922, 12233.828000000001, 32108.662819999998, 8965.79575, 2304.0022, 9487.6442, 1121.8739, 9549.5651, 2217.46915, 1628.4709, 12982.8747, 11674.13, 7160.094, 6358.77645, 11534.87265, 4527.18295, 3875.7341, 12609.88702, 28468.91901, 2730.10785, 3353.284, 14474.675, 9500.57305, 26467.09737, 4746.344, 7518.02535, 3279.86855, 8596.8278, 10702.6424, 4992.3764, 2527.81865, 1759.338, 2322.6218, 7804.1605, 2902.9065, 9704.66805, 4889.0368, 25517.11363, 4500.33925, 16796.41194, 4915.05985, 7624.63, 8410.04685, 28340.18885, 4518.82625, 3378.91, 7144.86265, 10118.424, 5484.4673, 7986.47525, 7418.522, 13887.9685, 6551.7501, 5267.81815, 1972.95, 21232.182259999998, 8627.5411, 4433.3877, 4438.2634, 23241.47453, 9957.7216, 8269.044, 36580.28216, 8765.249, 5383.536, 12124.9924, 2709.24395, 3987.926, 12495.29085, 26018.95052, 8798.593, 1711.0268, 8569.8618, 2020.1770000000001, 21595.38229, 9850.431999999999, 6877.9801, 4137.5227, 12950.0712, 12094.478000000001, 2250.8352, 22493.65964, 1704.70015, 3161.454, 11394.06555, 7325.0482, 3594.17085, 8023.13545, 14394.5579, 9288.0267, 3353.4703, 10594.50155, 8277.523000000001, 17929.303369999998, 2480.9791, 4462.7218, 1981.5819, 11554.2236, 6548.19505, 5708.866999999999, 7045.499, 8978.1851, 5757.41345, 14349.8544, 10928.848999999998, 13974.45555, 1909.52745, 12096.6512, 13204.28565, 4562.8421, 8551.347, 2102.2647, 15161.5344, 11884.04858, 4454.40265, 5855.9025, 4076.4970000000003, 15019.76005, 10796.35025, 11353.2276, 9748.9106, 10577.087, 11286.5387, 3591.48, 11299.343, 4561.1885, 1674.6323, 23045.56616, 3227.1211, 11253.421, 3471.4096, 11363.2832, 20420.60465, 10338.9316, 8988.15875, 10493.9458, 2904.0879999999997, 8605.3615, 11512.405, 5312.16985, 2396.0959, 10807.4863, 9222.4026, 5693.4305, 8347.1643, 18903.49141, 14254.6082, 10214.636, 5836.5204, 14358.36437, 1728.8970000000002, 8582.3023, 3693.428, 20709.02034, 9991.03765, 19673.335730000003, 11085.5868, 7623.518, 3176.2877, 3704.3545, 9048.0273, 7954.517, 27117.99378, 6338.0756, 9630.396999999999, 11289.10925, 2261.5688, 10791.96, 5979.731, 2203.73595, 12235.8392, 5630.45785, 11015.1747, 7228.21565, 14426.07385, 2459.7201, 3989.841, 7727.2532, 5124.1887, 18963.171919999997, 2200.83085, 7153.5539, 5227.98875, 10982.5013, 4529.477, 4670.64, 6112.35295, 11093.6229, 6457.8434, 4433.9159, 2154.361, 6496.8859999999995, 2899.48935, 7650.77375, 2850.68375, 2632.992, 9447.3824, 8603.8234, 13844.7972, 13126.67745, 5327.40025, 13725.47184, 13019.16105, 8671.19125, 4134.08245, 18838.70366, 5699.8375, 6393.60345, 4934.705, 6198.7518, 8733.22925, 2055.3249, 9964.06, 5116.5004, 36910.60803, 12347.171999999999, 5373.36425, 23563.016180000002, 1702.4553, 10806.839, 3956.07145, 12890.05765, 5415.6612, 4058.1161, 7537.1639, 4718.20355, 6593.5083, 8442.667, 6858.4796, 4795.6568, 6640.54485, 7162.0122, 10594.2257, 11938.25595, 12479.70895, 11345.518999999998, 8515.7587, 2699.56835, 14449.8544, 12224.35085, 6985.50695, 3238.4357, 4296.2712, 3171.6149, 1135.9407, 5615.369000000001, 9101.798, 6059.173000000001, 1633.9618, 1241.565, 15828.821730000001, 4415.1588, 6474.013000000001, 11436.73815, 11305.93455, 30063.58055, 10197.7722, 4544.2348, 3277.1609999999996, 6770.1925, 7337.7480000000005, 10370.91255, 10704.47, 1880.487, 8615.3, 3292.52985, 3021.80915, 14478.33015, 4747.0529, 10959.33, 2741.948, 4357.04365, 4189.1131, 8283.6807, 1720.3537, 8534.6718, 3732.6251, 5472.4490000000005, 7147.4728, 7133.9025, 1515.3449, 9301.89355, 11931.12525, 1964.78, 1708.92575, 4340.4409, 5261.46945, 2710.82855, 3208.7870000000003, 2464.6188, 6875.960999999999, 6940.90985, 4571.41305, 4536.259, 11272.331390000001, 1731.6770000000001, 1163.4627, 19496.71917, 7201.70085, 5425.02335, 12981.3457, 4239.89265, 13143.33665, 7050.0213, 9377.9047, 22395.74424, 10325.206, 12629.1656, 10795.937329999999, 11411.685, 10600.5483, 2205.9808, 1629.8335, 2007.945], \"sizemode\": \"area\", \"sizeref\": 164.0471468, \"symbol\": \"circle\"}, \"mode\": \"markers\", \"name\": \"\", \"showlegend\": false, \"type\": \"scattergl\", \"x\": [18, 28, 33, 32, 31, 46, 37, 37, 60, 25, 23, 56, 19, 52, 23, 56, 60, 30, 18, 37, 59, 63, 55, 23, 18, 19, 63, 19, 62, 26, 24, 31, 41, 37, 38, 55, 18, 28, 60, 18, 21, 40, 58, 34, 43, 25, 64, 28, 19, 61, 40, 40, 31, 53, 58, 44, 57, 29, 21, 22, 41, 31, 45, 48, 56, 46, 55, 21, 53, 35, 28, 54, 55, 41, 30, 18, 34, 19, 26, 29, 54, 55, 37, 21, 52, 60, 58, 49, 37, 44, 18, 20, 47, 26, 52, 38, 59, 61, 53, 19, 20, 22, 19, 22, 54, 22, 34, 26, 29, 29, 51, 53, 19, 35, 48, 32, 40, 44, 50, 54, 32, 37, 47, 20, 32, 19, 27, 63, 49, 18, 35, 24, 38, 54, 46, 41, 58, 18, 22, 44, 44, 26, 30, 41, 29, 61, 36, 25, 56, 18, 19, 39, 45, 51, 64, 19, 48, 60, 46, 28, 59, 63, 40, 20, 40, 24, 34, 45, 41, 53, 27, 26, 24, 34, 53, 32, 55, 28, 58, 41, 47, 42, 59, 19, 59, 39, 18, 31, 44, 33, 55, 40, 54, 60, 24, 19, 29, 27, 55, 38, 51, 58, 53, 59, 45, 49, 18, 41, 50, 25, 47, 19, 22, 59, 51, 30, 55, 52, 46, 46, 63, 52, 28, 29, 22, 25, 18, 48, 36, 56, 28, 57, 29, 28, 30, 58, 41, 50, 19, 49, 52, 50, 54, 44, 32, 34, 26, 57, 29, 40, 27, 52, 61, 56, 43, 64, 60, 62, 46, 24, 62, 60, 63, 49, 34, 33, 46, 36, 19, 57, 50, 30, 33, 18, 46, 46, 47, 23, 18, 48, 35, 21, 21, 49, 56, 42, 44, 18, 61, 57, 42, 20, 64, 62, 55, 35, 44, 19, 58, 50, 26, 24, 48, 19, 48, 49, 46, 46, 43, 21, 64, 18, 51, 47, 64, 49, 31, 52, 33, 47, 38, 32, 19, 25, 19, 43, 52, 64, 25, 48, 45, 38, 18, 21, 27, 19, 29, 42, 60, 31, 60, 22, 35, 52, 26, 31, 18, 59, 45, 60, 56, 40, 35, 39, 30, 24, 20, 32, 59, 55, 57, 56, 40, 49, 62, 56, 19, 60, 56, 28, 18, 27, 18, 19, 47, 25, 21, 23, 63, 49, 18, 51, 48, 31, 54, 19, 53, 19, 61, 18, 61, 20, 31, 45, 44, 62, 43, 38, 37, 22, 21, 24, 57, 56, 27, 51, 19, 58, 20, 45, 35, 31, 50, 32, 51, 38, 18, 19, 51, 46, 18, 62, 59, 37, 64, 38, 33, 46, 46, 53, 34, 20, 63, 54, 28, 54, 25, 63, 32, 62, 52, 25, 28, 46, 34, 19, 46, 54, 27, 50, 18, 19, 38, 41, 49, 31, 18, 30, 62, 57, 58, 22, 52, 25, 59, 19, 39, 32, 19, 33, 21, 61, 38, 58, 47, 20, 41, 46, 42, 34, 43, 52, 18, 51, 56, 64, 51, 27, 28, 47, 38, 18, 34, 20, 56, 55, 30, 49, 59, 29, 36, 33, 58, 53, 24, 29, 40, 51, 64, 19, 35, 56, 33, 61, 23, 43, 48, 39, 40, 18, 58, 49, 53, 48, 45, 59, 26, 27, 48, 57, 37, 57, 32, 18, 49, 40, 30, 29, 36, 41, 45, 55, 56, 49, 21, 19, 53, 33, 53, 42, 40, 47, 21, 47, 20, 24, 27, 26, 53, 56, 23, 21, 50, 53, 34, 47, 33, 49, 31, 36, 18, 50, 43, 20, 24, 60, 49, 60, 51, 58, 51, 53, 62, 19, 50, 41, 18, 41, 53, 24, 48, 59, 49, 26, 45, 31, 50, 50, 34, 19, 47, 28, 21, 64, 58, 24, 31, 39, 30, 22, 23, 27, 45, 57, 47, 42, 64, 38, 61, 53, 44, 41, 51, 40, 45, 35, 53, 18, 51, 31, 35, 60, 21, 29, 62, 39, 19, 22, 39, 30, 30, 58, 42, 64, 21, 23, 45, 40, 19, 18, 25, 46, 33, 54, 28, 36, 20, 24, 23, 45, 26, 18, 44, 60, 64, 39, 63, 36, 28, 58, 36, 42, 36, 56, 35, 59, 21, 59, 53, 51, 23, 27, 55, 61, 53, 20, 25, 57, 38, 55, 36, 51, 40, 18, 57, 61, 25, 50, 26, 42, 43, 44, 23, 49, 33, 41, 37, 22, 23, 21, 25, 36, 22, 57, 36, 54, 62, 61, 19, 18, 19, 49, 26, 49, 60, 26, 27, 44, 63, 22, 59, 44, 33, 24, 61, 35, 62, 62, 38, 34, 43, 50, 19, 57, 62, 41, 26, 39, 46, 45, 32, 59, 44, 39, 18, 53, 18, 50, 18, 19, 62, 56, 42, 42, 57, 30, 31, 24, 48, 19, 29, 63, 46, 52, 35, 44, 21, 39, 50, 34, 22, 19, 26, 48, 26, 45, 36, 54, 34, 27, 20, 44, 43, 45, 34, 26, 38, 50, 38, 39, 39, 63, 33, 36, 24, 48, 47, 29, 28, 25, 51, 48, 61, 48, 38, 59, 19, 26, 54, 21, 51, 18, 47, 21, 23, 54, 37, 30, 61, 54, 22, 19, 18, 28, 55, 43, 25, 44, 64, 49, 27, 55, 48, 45, 24, 32, 24, 57, 36, 29, 42, 48, 39, 63, 54, 63, 21, 54, 60, 32, 47, 21, 63, 18, 32, 38, 32, 62, 55, 57, 52, 56, 55, 23, 50, 18, 22, 52, 25, 53, 29, 58, 37, 54, 49, 50, 26, 45, 54, 28, 23, 55, 41, 30, 46, 27, 63, 55, 35, 34, 19, 39, 27, 57, 52, 28, 50, 44, 26, 33, 50, 41, 52, 39, 50, 52, 20, 55, 42, 18, 58, 35, 48, 36, 23, 20, 32, 43, 34, 30, 18, 41, 35, 57, 29, 32, 37, 56, 38, 29, 22, 40, 23, 42, 24, 25, 48, 45, 62, 23, 31, 41, 58, 48, 31, 19, 41, 40, 31, 37, 46, 22, 51, 35, 59, 59, 36, 39, 18, 52, 27, 18, 40, 29, 38, 30, 40, 50, 41, 33, 38, 42, 56, 58, 54, 58, 45, 26, 63, 58, 37, 25, 22, 28, 18, 28, 45, 33, 18, 19, 40, 34, 42, 51, 54, 55, 52, 32, 28, 41, 43, 49, 55, 20, 45, 26, 25, 43, 35, 57, 22, 32, 25, 48, 18, 47, 28, 36, 44, 38, 21, 46, 58, 20, 18, 28, 33, 19, 25, 24, 41, 42, 33, 34, 18, 19, 18, 35, 39, 31, 62, 31, 61, 42, 51, 23, 52, 57, 23, 52, 50, 18, 18, 21], \"xaxis\": \"x\", \"y\": [1725.5523, 4449.462, 21984.47061, 3866.8552, 3756.6216, 8240.5896, 7281.5056, 6406.4107, 28923.136919999997, 2721.3208, 1826.8429999999998, 11090.7178, 1837.237, 10797.3362, 2395.17155, 10602.385, 13228.84695, 4149.736, 1137.011, 6203.90175, 14001.1338, 14451.83515, 12268.63225, 2775.19215, 2198.18985, 4687.7970000000005, 13770.0979, 1625.43375, 15612.19335, 2302.3, 3046.062, 4949.7587, 6272.4772, 6313.759, 6079.6715, 20630.28351, 3393.35635, 3556.9223, 12629.8967, 2211.13075, 3579.8287, 8059.6791, 13607.36875, 5989.52365, 8606.2174, 4504.6624, 30166.618169999998, 4133.64165, 1743.214, 14235.072, 6389.37785, 5920.1041, 6799.4580000000005, 11741.726, 11946.6259, 7726.854, 11356.6609, 3947.4131, 1532.4697, 2755.02095, 6571.02435, 4441.21315, 7935.29115, 11033.6617, 11073.176000000001, 8026.6666, 11082.5772, 2026.9741, 10942.13205, 5729.0053, 3766.8838, 12105.32, 10226.2842, 6186.1269999999995, 3645.0894, 21344.8467, 5003.853, 2331.519, 3877.30425, 2867.1196, 10825.2537, 11881.358, 4646.759, 2404.7338, 11488.31695, 30259.995560000003, 11381.3254, 8601.3293, 6686.4313, 7740.3369999999995, 1705.6245, 2257.47525, 10115.00885, 3385.39915, 9634.538, 6082.405, 12815.44495, 13616.3586, 11163.568000000001, 1632.56445, 2457.21115, 2155.6815, 1261.442, 2045.68525, 27322.733860000004, 2166.732, 27375.90478, 3490.5491, 18157.876, 5138.2567, 9877.6077, 10959.6947, 1842.519, 5125.2157, 7789.635, 6334.34355, 7077.1894, 6948.7008, 19749.383380000003, 10450.552, 5152.134, 5028.1466, 10407.08585, 4830.63, 6128.79745, 2719.27975, 4827.90495, 13405.3903, 8116.68, 1694.7964, 5246.047, 2855.43755, 6455.86265, 10436.096, 8823.279, 8538.28845, 11735.87905, 1631.8212, 4005.4225, 7419.4779, 7731.4271, 3981.9768, 5325.651, 6775.960999999999, 4922.9159, 12557.6053, 4883.866, 2137.6536, 12044.341999999999, 1137.4697, 1639.5631, 5649.715, 8516.829, 9644.2525, 14901.5167, 2130.6759, 8871.1517, 13012.20865, 7147.105, 4337.7352, 11743.298999999999, 13880.948999999999, 6610.1097, 1980.07, 8162.71625, 3537.703, 5002.7827, 8520.026, 7371.772, 10355.641, 2483.736, 3392.9768, 25081.76784, 5012.471, 10564.8845, 5253.524, 11987.1682, 2689.4954, 24227.33724, 7358.17565, 9225.2564, 7443.64305, 14001.2867, 1727.785, 12333.828000000001, 6710.1919, 1615.7667, 4463.2051, 7152.6714, 5354.07465, 35160.13457, 7196.866999999999, 24476.47851, 12648.7034, 1986.9334, 1832.094, 4040.55825, 4260.744000000001, 13047.33235, 5400.9805, 11520.09985, 11837.16, 20462.99766, 14590.63205, 7441.053000000001, 9282.4806, 1719.4363, 7265.7025, 9617.66245, 2523.1695, 9715.841, 2803.69785, 2150.469, 12928.7911, 9855.1314, 4237.12655, 11879.10405, 9625.92, 7742.1098, 9432.9253, 14256.1928, 25992.82104, 3172.018, 20277.80751, 2156.7518, 3906.127, 1704.5681, 9249.4952, 6746.7425, 12265.5069, 4349.462, 12646.207, 19442.3535, 20177.671130000002, 4151.0287, 11944.59435, 7749.1564, 8444.474, 1737.376, 8124.4084, 9722.7695, 8835.26495, 10435.06525, 7421.19455, 4667.60765, 4894.7533, 24671.66334, 11566.30055, 2866.091, 6600.20595, 3561.8889, 9144.565, 13429.0354, 11658.37915, 19144.57652, 13822.803, 12142.5786, 13937.6665, 8232.6388, 18955.22017, 13352.0998, 13217.0945, 13981.85035, 10977.2063, 6184.2994, 4889.9995, 8334.45755, 5478.0368, 1635.73365, 11830.6072, 8932.084, 3554.203, 12404.8791, 14133.03775, 24603.04837, 8944.1151, 9620.3307, 1837.2819, 1607.5101, 10043.249, 4751.07, 2597.779, 3180.5101, 9778.3472, 13430.265, 8017.06115, 8116.26885, 3481.868, 13415.0381, 12029.2867, 7639.41745, 1391.5287, 16455.70785, 27000.98473, 20781.48892, 5846.9176, 8302.53565, 1261.859, 11856.4115, 30284.642939999998, 3176.8159, 4618.0799, 10736.87075, 2138.0707, 8964.06055, 9290.1395, 9411.005, 7526.70645, 8522.003, 16586.49771, 14988.431999999999, 1631.6683, 9264.796999999999, 8083.9198, 14692.66935, 10269.46, 3260.199, 11396.9002, 4185.0979, 8539.671, 6652.5288, 4074.4537, 1621.3402, 5080.096, 2134.9015, 7345.7266, 9140.951, 14418.2804, 2727.3951, 8968.33, 9788.8659, 6555.07035, 7323.734818999999, 3167.45585, 18804.7524, 23082.95533, 4906.40965, 5969.723000000001, 12638.195, 4243.59005, 13919.8229, 2254.7967, 5926.846, 12592.5345, 2897.3235, 4738.2682, 1149.3959, 28287.897660000002, 7345.084, 12730.9996, 11454.0215, 5910.944, 4762.329000000001, 7512.267, 4032.2407, 1969.614, 1769.53165, 4686.3887, 21797.0004, 11881.9696, 11840.77505, 10601.412, 7682.67, 10381.4787, 15230.32405, 11165.41765, 1632.03625, 13224.693000000001, 12643.3778, 23288.9284, 2201.0971, 2497.0383, 2203.47185, 1744.465, 20878.78443, 2534.39375, 1534.3045, 1824.2854, 15555.18875, 9304.7019, 1622.1885, 9880.068000000001, 9563.029, 4347.02335, 12475.3513, 1253.9360000000001, 10461.9794, 1748.774, 24513.09126, 2196.4732, 12574.048999999999, 1967.0227, 4931.647, 8027.968000000001, 8211.1002, 13470.86, 6837.3687, 5974.3847, 6796.86325, 2643.2685, 3077.0955, 3044.2133, 11455.28, 11763.0009, 2498.4144, 9361.3268, 1256.299, 11362.755, 27724.28875, 8413.46305, 5240.765, 3857.75925, 25656.575259999998, 3994.1778, 9866.30485, 5397.6167, 11482.63485, 24059.68019, 9861.025, 8342.90875, 1708.0014, 14043.4767, 12925.886, 19214.705530000003, 13831.1152, 6067.12675, 5972.378000000001, 8825.086, 8233.0975, 27346.04207, 6196.448, 3056.3881, 13887.204, 10231.4999, 3268.84665, 11538.421, 3213.62205, 13390.559, 3972.9247, 12957.118, 11187.6567, 17878.900680000002, 3847.6740000000004, 8334.5896, 3935.1799, 1646.4297, 9193.8385, 10923.9332, 2494.022, 9058.7303, 2801.2588, 2128.43105, 6373.55735, 7256.7231, 11552.903999999999, 3761.292, 2219.4451, 4753.6368, 31620.001060000002, 13224.05705, 12222.8983, 1664.9996, 9724.53, 3206.49135, 12913.9924, 1639.5631, 6356.2707, 17626.23951, 1242.816, 4779.6023, 3861.20965, 13635.6379, 5976.8311, 11842.442, 8428.0693, 2566.4707, 5709.1644, 8823.98575, 7640.3092, 5594.8455, 7441.501, 33471.97189, 1633.0444, 9174.13565, 11070.535, 16085.1275, 9283.562, 3558.62025, 4435.0942, 8547.6913, 6571.544, 2207.69745, 6753.0380000000005, 1880.07, 11658.11505, 10713.643999999998, 3659.3459999999995, 9182.17, 12129.61415, 3736.4647, 6748.5912, 11326.71487, 11365.952, 10085.846, 1977.815, 3366.6697, 7173.35995, 9391.346, 14410.9321, 2709.1119, 24915.04626, 12949.1554, 6666.243, 13143.86485, 4466.6214, 18806.14547, 10141.1362, 6123.5688, 8252.2843, 1712.227, 12430.95335, 9800.8882, 10579.711000000001, 8280.6227, 8527.532, 12244.531, 3410.324, 4058.71245, 26392.260290000002, 14394.39815, 6435.6237, 22192.43711, 5148.5526, 1136.3994, 8703.456, 6500.2359, 4837.5823, 3943.5954, 4399.731, 6185.3208, 7222.78625, 12485.8009, 12363.546999999999, 10156.7832, 2585.269, 1242.26, 9863.4718, 4766.022, 11244.3769, 7729.64575, 5438.7491, 26236.57997, 2104.1134, 8068.185, 2362.22905, 2352.96845, 3577.9990000000003, 3201.24515, 29186.48236, 10976.24575, 3500.6123, 2020.5523, 9541.69555, 9504.3103, 5385.3379, 8930.93455, 5375.0380000000005, 10264.4421, 6113.23105, 5469.0066, 1727.54, 10107.2206, 8310.83915, 1984.4533, 2457.502, 12146.971000000001, 9566.9909, 13112.6048, 10848.1343, 12231.6136, 9875.6804, 11264.541000000001, 12979.358, 1263.249, 10106.13425, 6664.68595, 2217.6012, 6781.3542, 10065.413, 4234.927, 9447.25035, 14007.222, 9583.8933, 3484.3309999999997, 8604.48365, 3757.8448, 8827.2099, 9910.35985, 11737.84884, 1627.28245, 8556.907, 3062.50825, 1906.35825, 14210.53595, 11833.7823, 17128.42608, 5031.26955, 7985.815, 5428.7277, 3925.7582, 2416.955, 3070.8087, 9095.06825, 11842.62375, 8062.764, 7050.642, 14319.031, 6933.24225, 27941.28758, 11150.78, 12797.20962, 7261.741, 10560.4917, 6986.696999999999, 7448.40395, 5934.3798, 9869.8102, 1146.7966, 9386.1613, 4350.5144, 6414.178000000001, 12741.16745, 1917.3184, 5209.57885, 13457.9608, 5662.225, 1252.407, 2731.9122, 7209.4918, 4266.1658, 4719.52405, 11848.141000000001, 7046.7222, 14313.8463, 2103.08, 1815.8759, 7731.85785, 28476.734989999997, 2136.88225, 1131.5066, 3309.7926, 9414.92, 6360.9936, 11013.7119, 4428.88785, 5584.3057, 1877.9294, 2842.76075, 3597.5959999999995, 7445.918000000001, 2680.9493, 1621.8827, 8219.2039, 12523.6048, 16069.08475, 6117.4945, 13393.756000000001, 5266.3656, 4719.73655, 11743.9341, 5377.4578, 7160.3303, 4402.233, 11657.7189, 6402.29135, 12622.1795, 1526.3120000000001, 12323.936000000002, 10072.05505, 9872.701, 2438.0552, 2974.1259999999997, 10601.63225, 14119.62, 11729.6795, 1875.344, 18218.16139, 10965.446000000002, 7151.092, 12269.68865, 5458.04645, 8782.469000000001, 6600.361, 1141.4451, 11576.13, 13129.60345, 4391.652, 8457.818000000001, 3392.3652, 5966.8874, 6849.026, 8891.1395, 2690.1138, 26140.3603, 6653.7886, 6282.235, 6311.951999999999, 3443.0640000000003, 2789.0574, 2585.85065, 4877.98105, 5272.1758, 1682.5970000000002, 11945.1327, 7243.8136, 10422.91665, 13555.0049, 13063.883, 2221.56445, 1634.5734, 2117.33885, 8688.85885, 4661.28635, 8125.7845, 12644.589, 4564.19145, 4846.92015, 7633.7206, 15170.069, 2639.0429, 14382.70905, 7626.993, 5257.50795, 2473.3341, 13041.921, 5245.2269, 13451.122, 13462.52, 5488.262, 4320.41085, 6250.435, 25333.33284, 2913.5690000000004, 12032.326000000001, 13470.8044, 6289.7549, 2927.0647, 6238.298000000001, 10096.97, 7348.142, 4673.3922, 12233.828000000001, 32108.662819999998, 8965.79575, 2304.0022, 9487.6442, 1121.8739, 9549.5651, 2217.46915, 1628.4709, 12982.8747, 11674.13, 7160.094, 6358.77645, 11534.87265, 4527.18295, 3875.7341, 12609.88702, 28468.91901, 2730.10785, 3353.284, 14474.675, 9500.57305, 26467.09737, 4746.344, 7518.02535, 3279.86855, 8596.8278, 10702.6424, 4992.3764, 2527.81865, 1759.338, 2322.6218, 7804.1605, 2902.9065, 9704.66805, 4889.0368, 25517.11363, 4500.33925, 16796.41194, 4915.05985, 7624.63, 8410.04685, 28340.18885, 4518.82625, 3378.91, 7144.86265, 10118.424, 5484.4673, 7986.47525, 7418.522, 13887.9685, 6551.7501, 5267.81815, 1972.95, 21232.182259999998, 8627.5411, 4433.3877, 4438.2634, 23241.47453, 9957.7216, 8269.044, 36580.28216, 8765.249, 5383.536, 12124.9924, 2709.24395, 3987.926, 12495.29085, 26018.95052, 8798.593, 1711.0268, 8569.8618, 2020.1770000000001, 21595.38229, 9850.431999999999, 6877.9801, 4137.5227, 12950.0712, 12094.478000000001, 2250.8352, 22493.65964, 1704.70015, 3161.454, 11394.06555, 7325.0482, 3594.17085, 8023.13545, 14394.5579, 9288.0267, 3353.4703, 10594.50155, 8277.523000000001, 17929.303369999998, 2480.9791, 4462.7218, 1981.5819, 11554.2236, 6548.19505, 5708.866999999999, 7045.499, 8978.1851, 5757.41345, 14349.8544, 10928.848999999998, 13974.45555, 1909.52745, 12096.6512, 13204.28565, 4562.8421, 8551.347, 2102.2647, 15161.5344, 11884.04858, 4454.40265, 5855.9025, 4076.4970000000003, 15019.76005, 10796.35025, 11353.2276, 9748.9106, 10577.087, 11286.5387, 3591.48, 11299.343, 4561.1885, 1674.6323, 23045.56616, 3227.1211, 11253.421, 3471.4096, 11363.2832, 20420.60465, 10338.9316, 8988.15875, 10493.9458, 2904.0879999999997, 8605.3615, 11512.405, 5312.16985, 2396.0959, 10807.4863, 9222.4026, 5693.4305, 8347.1643, 18903.49141, 14254.6082, 10214.636, 5836.5204, 14358.36437, 1728.8970000000002, 8582.3023, 3693.428, 20709.02034, 9991.03765, 19673.335730000003, 11085.5868, 7623.518, 3176.2877, 3704.3545, 9048.0273, 7954.517, 27117.99378, 6338.0756, 9630.396999999999, 11289.10925, 2261.5688, 10791.96, 5979.731, 2203.73595, 12235.8392, 5630.45785, 11015.1747, 7228.21565, 14426.07385, 2459.7201, 3989.841, 7727.2532, 5124.1887, 18963.171919999997, 2200.83085, 7153.5539, 5227.98875, 10982.5013, 4529.477, 4670.64, 6112.35295, 11093.6229, 6457.8434, 4433.9159, 2154.361, 6496.8859999999995, 2899.48935, 7650.77375, 2850.68375, 2632.992, 9447.3824, 8603.8234, 13844.7972, 13126.67745, 5327.40025, 13725.47184, 13019.16105, 8671.19125, 4134.08245, 18838.70366, 5699.8375, 6393.60345, 4934.705, 6198.7518, 8733.22925, 2055.3249, 9964.06, 5116.5004, 36910.60803, 12347.171999999999, 5373.36425, 23563.016180000002, 1702.4553, 10806.839, 3956.07145, 12890.05765, 5415.6612, 4058.1161, 7537.1639, 4718.20355, 6593.5083, 8442.667, 6858.4796, 4795.6568, 6640.54485, 7162.0122, 10594.2257, 11938.25595, 12479.70895, 11345.518999999998, 8515.7587, 2699.56835, 14449.8544, 12224.35085, 6985.50695, 3238.4357, 4296.2712, 3171.6149, 1135.9407, 5615.369000000001, 9101.798, 6059.173000000001, 1633.9618, 1241.565, 15828.821730000001, 4415.1588, 6474.013000000001, 11436.73815, 11305.93455, 30063.58055, 10197.7722, 4544.2348, 3277.1609999999996, 6770.1925, 7337.7480000000005, 10370.91255, 10704.47, 1880.487, 8615.3, 3292.52985, 3021.80915, 14478.33015, 4747.0529, 10959.33, 2741.948, 4357.04365, 4189.1131, 8283.6807, 1720.3537, 8534.6718, 3732.6251, 5472.4490000000005, 7147.4728, 7133.9025, 1515.3449, 9301.89355, 11931.12525, 1964.78, 1708.92575, 4340.4409, 5261.46945, 2710.82855, 3208.7870000000003, 2464.6188, 6875.960999999999, 6940.90985, 4571.41305, 4536.259, 11272.331390000001, 1731.6770000000001, 1163.4627, 19496.71917, 7201.70085, 5425.02335, 12981.3457, 4239.89265, 13143.33665, 7050.0213, 9377.9047, 22395.74424, 10325.206, 12629.1656, 10795.937329999999, 11411.685, 10600.5483, 2205.9808, 1629.8335, 2007.945], \"yaxis\": \"y\"}],\n",
              "                        {\"coloraxis\": {\"colorbar\": {\"title\": {\"text\": \"children\"}}, \"colorscale\": [[0.0, \"#0d0887\"], [0.1111111111111111, \"#46039f\"], [0.2222222222222222, \"#7201a8\"], [0.3333333333333333, \"#9c179e\"], [0.4444444444444444, \"#bd3786\"], [0.5555555555555556, \"#d8576b\"], [0.6666666666666666, \"#ed7953\"], [0.7777777777777778, \"#fb9f3a\"], [0.8888888888888888, \"#fdca26\"], [1.0, \"#f0f921\"]]}, \"legend\": {\"itemsizing\": \"constant\", \"tracegroupgap\": 0}, \"template\": {\"data\": {\"bar\": [{\"error_x\": {\"color\": \"#2a3f5f\"}, \"error_y\": {\"color\": \"#2a3f5f\"}, \"marker\": {\"line\": {\"color\": \"#E5ECF6\", \"width\": 0.5}}, \"type\": \"bar\"}], \"barpolar\": [{\"marker\": {\"line\": {\"color\": \"#E5ECF6\", \"width\": 0.5}}, \"type\": \"barpolar\"}], \"carpet\": [{\"aaxis\": {\"endlinecolor\": \"#2a3f5f\", \"gridcolor\": \"white\", \"linecolor\": \"white\", \"minorgridcolor\": \"white\", \"startlinecolor\": \"#2a3f5f\"}, \"baxis\": {\"endlinecolor\": \"#2a3f5f\", \"gridcolor\": \"white\", \"linecolor\": \"white\", \"minorgridcolor\": \"white\", \"startlinecolor\": \"#2a3f5f\"}, \"type\": \"carpet\"}], \"choropleth\": [{\"colorbar\": {\"outlinewidth\": 0, \"ticks\": \"\"}, \"type\": \"choropleth\"}], \"contour\": [{\"colorbar\": {\"outlinewidth\": 0, \"ticks\": \"\"}, \"colorscale\": [[0.0, \"#0d0887\"], [0.1111111111111111, \"#46039f\"], [0.2222222222222222, \"#7201a8\"], [0.3333333333333333, \"#9c179e\"], [0.4444444444444444, \"#bd3786\"], [0.5555555555555556, \"#d8576b\"], [0.6666666666666666, \"#ed7953\"], [0.7777777777777778, \"#fb9f3a\"], [0.8888888888888888, \"#fdca26\"], [1.0, \"#f0f921\"]], \"type\": \"contour\"}], \"contourcarpet\": [{\"colorbar\": {\"outlinewidth\": 0, \"ticks\": \"\"}, \"type\": \"contourcarpet\"}], \"heatmap\": [{\"colorbar\": {\"outlinewidth\": 0, \"ticks\": \"\"}, \"colorscale\": [[0.0, \"#0d0887\"], [0.1111111111111111, \"#46039f\"], [0.2222222222222222, \"#7201a8\"], [0.3333333333333333, \"#9c179e\"], [0.4444444444444444, \"#bd3786\"], [0.5555555555555556, \"#d8576b\"], [0.6666666666666666, \"#ed7953\"], [0.7777777777777778, \"#fb9f3a\"], [0.8888888888888888, \"#fdca26\"], [1.0, \"#f0f921\"]], \"type\": \"heatmap\"}], \"heatmapgl\": [{\"colorbar\": {\"outlinewidth\": 0, \"ticks\": \"\"}, \"colorscale\": [[0.0, \"#0d0887\"], [0.1111111111111111, \"#46039f\"], [0.2222222222222222, \"#7201a8\"], [0.3333333333333333, \"#9c179e\"], [0.4444444444444444, \"#bd3786\"], [0.5555555555555556, \"#d8576b\"], [0.6666666666666666, \"#ed7953\"], [0.7777777777777778, \"#fb9f3a\"], [0.8888888888888888, \"#fdca26\"], [1.0, \"#f0f921\"]], \"type\": \"heatmapgl\"}], \"histogram\": [{\"marker\": {\"colorbar\": {\"outlinewidth\": 0, \"ticks\": \"\"}}, \"type\": \"histogram\"}], \"histogram2d\": [{\"colorbar\": {\"outlinewidth\": 0, \"ticks\": \"\"}, \"colorscale\": [[0.0, \"#0d0887\"], [0.1111111111111111, \"#46039f\"], [0.2222222222222222, \"#7201a8\"], [0.3333333333333333, \"#9c179e\"], [0.4444444444444444, \"#bd3786\"], [0.5555555555555556, \"#d8576b\"], [0.6666666666666666, \"#ed7953\"], [0.7777777777777778, \"#fb9f3a\"], [0.8888888888888888, \"#fdca26\"], [1.0, \"#f0f921\"]], \"type\": \"histogram2d\"}], \"histogram2dcontour\": [{\"colorbar\": {\"outlinewidth\": 0, \"ticks\": \"\"}, \"colorscale\": [[0.0, \"#0d0887\"], [0.1111111111111111, \"#46039f\"], [0.2222222222222222, \"#7201a8\"], [0.3333333333333333, \"#9c179e\"], [0.4444444444444444, \"#bd3786\"], [0.5555555555555556, \"#d8576b\"], [0.6666666666666666, \"#ed7953\"], [0.7777777777777778, \"#fb9f3a\"], [0.8888888888888888, \"#fdca26\"], [1.0, \"#f0f921\"]], \"type\": \"histogram2dcontour\"}], \"mesh3d\": [{\"colorbar\": {\"outlinewidth\": 0, \"ticks\": \"\"}, \"type\": \"mesh3d\"}], \"parcoords\": [{\"line\": {\"colorbar\": {\"outlinewidth\": 0, \"ticks\": \"\"}}, \"type\": \"parcoords\"}], \"pie\": [{\"automargin\": true, \"type\": \"pie\"}], \"scatter\": [{\"marker\": {\"colorbar\": {\"outlinewidth\": 0, \"ticks\": \"\"}}, \"type\": \"scatter\"}], \"scatter3d\": [{\"line\": {\"colorbar\": {\"outlinewidth\": 0, \"ticks\": \"\"}}, \"marker\": {\"colorbar\": {\"outlinewidth\": 0, \"ticks\": \"\"}}, \"type\": \"scatter3d\"}], \"scattercarpet\": [{\"marker\": {\"colorbar\": {\"outlinewidth\": 0, \"ticks\": \"\"}}, \"type\": \"scattercarpet\"}], \"scattergeo\": [{\"marker\": {\"colorbar\": {\"outlinewidth\": 0, \"ticks\": \"\"}}, \"type\": \"scattergeo\"}], \"scattergl\": [{\"marker\": {\"colorbar\": {\"outlinewidth\": 0, \"ticks\": \"\"}}, \"type\": \"scattergl\"}], \"scattermapbox\": [{\"marker\": {\"colorbar\": {\"outlinewidth\": 0, \"ticks\": \"\"}}, \"type\": \"scattermapbox\"}], \"scatterpolar\": [{\"marker\": {\"colorbar\": {\"outlinewidth\": 0, \"ticks\": \"\"}}, \"type\": \"scatterpolar\"}], \"scatterpolargl\": [{\"marker\": {\"colorbar\": {\"outlinewidth\": 0, \"ticks\": \"\"}}, \"type\": \"scatterpolargl\"}], \"scatterternary\": [{\"marker\": {\"colorbar\": {\"outlinewidth\": 0, \"ticks\": \"\"}}, \"type\": \"scatterternary\"}], \"surface\": [{\"colorbar\": {\"outlinewidth\": 0, \"ticks\": \"\"}, \"colorscale\": [[0.0, \"#0d0887\"], [0.1111111111111111, \"#46039f\"], [0.2222222222222222, \"#7201a8\"], [0.3333333333333333, \"#9c179e\"], [0.4444444444444444, \"#bd3786\"], [0.5555555555555556, \"#d8576b\"], [0.6666666666666666, \"#ed7953\"], [0.7777777777777778, \"#fb9f3a\"], [0.8888888888888888, \"#fdca26\"], [1.0, \"#f0f921\"]], \"type\": \"surface\"}], \"table\": [{\"cells\": {\"fill\": {\"color\": \"#EBF0F8\"}, \"line\": {\"color\": \"white\"}}, \"header\": {\"fill\": {\"color\": \"#C8D4E3\"}, \"line\": {\"color\": \"white\"}}, \"type\": \"table\"}]}, \"layout\": {\"annotationdefaults\": {\"arrowcolor\": \"#2a3f5f\", \"arrowhead\": 0, \"arrowwidth\": 1}, \"coloraxis\": {\"colorbar\": {\"outlinewidth\": 0, \"ticks\": \"\"}}, \"colorscale\": {\"diverging\": [[0, \"#8e0152\"], [0.1, \"#c51b7d\"], [0.2, \"#de77ae\"], [0.3, \"#f1b6da\"], [0.4, \"#fde0ef\"], [0.5, \"#f7f7f7\"], [0.6, \"#e6f5d0\"], [0.7, \"#b8e186\"], [0.8, \"#7fbc41\"], [0.9, \"#4d9221\"], [1, \"#276419\"]], \"sequential\": [[0.0, \"#0d0887\"], [0.1111111111111111, \"#46039f\"], [0.2222222222222222, \"#7201a8\"], [0.3333333333333333, \"#9c179e\"], [0.4444444444444444, \"#bd3786\"], [0.5555555555555556, \"#d8576b\"], [0.6666666666666666, \"#ed7953\"], [0.7777777777777778, \"#fb9f3a\"], [0.8888888888888888, \"#fdca26\"], [1.0, \"#f0f921\"]], \"sequentialminus\": [[0.0, \"#0d0887\"], [0.1111111111111111, \"#46039f\"], [0.2222222222222222, \"#7201a8\"], [0.3333333333333333, \"#9c179e\"], [0.4444444444444444, \"#bd3786\"], [0.5555555555555556, \"#d8576b\"], [0.6666666666666666, \"#ed7953\"], [0.7777777777777778, \"#fb9f3a\"], [0.8888888888888888, \"#fdca26\"], [1.0, \"#f0f921\"]]}, \"colorway\": [\"#636efa\", \"#EF553B\", \"#00cc96\", \"#ab63fa\", \"#FFA15A\", \"#19d3f3\", \"#FF6692\", \"#B6E880\", \"#FF97FF\", \"#FECB52\"], \"font\": {\"color\": \"#2a3f5f\"}, \"geo\": {\"bgcolor\": \"white\", \"lakecolor\": \"white\", \"landcolor\": \"#E5ECF6\", \"showlakes\": true, \"showland\": true, \"subunitcolor\": \"white\"}, \"hoverlabel\": {\"align\": \"left\"}, \"hovermode\": \"closest\", \"mapbox\": {\"style\": \"light\"}, \"paper_bgcolor\": \"white\", \"plot_bgcolor\": \"#E5ECF6\", \"polar\": {\"angularaxis\": {\"gridcolor\": \"white\", \"linecolor\": \"white\", \"ticks\": \"\"}, \"bgcolor\": \"#E5ECF6\", \"radialaxis\": {\"gridcolor\": \"white\", \"linecolor\": \"white\", \"ticks\": \"\"}}, \"scene\": {\"xaxis\": {\"backgroundcolor\": \"#E5ECF6\", \"gridcolor\": \"white\", \"gridwidth\": 2, \"linecolor\": \"white\", \"showbackground\": true, \"ticks\": \"\", \"zerolinecolor\": \"white\"}, \"yaxis\": {\"backgroundcolor\": \"#E5ECF6\", \"gridcolor\": \"white\", \"gridwidth\": 2, \"linecolor\": \"white\", \"showbackground\": true, \"ticks\": \"\", \"zerolinecolor\": \"white\"}, \"zaxis\": {\"backgroundcolor\": \"#E5ECF6\", \"gridcolor\": \"white\", \"gridwidth\": 2, \"linecolor\": \"white\", \"showbackground\": true, \"ticks\": \"\", \"zerolinecolor\": \"white\"}}, \"shapedefaults\": {\"line\": {\"color\": \"#2a3f5f\"}}, \"ternary\": {\"aaxis\": {\"gridcolor\": \"white\", \"linecolor\": \"white\", \"ticks\": \"\"}, \"baxis\": {\"gridcolor\": \"white\", \"linecolor\": \"white\", \"ticks\": \"\"}, \"bgcolor\": \"#E5ECF6\", \"caxis\": {\"gridcolor\": \"white\", \"linecolor\": \"white\", \"ticks\": \"\"}}, \"title\": {\"x\": 0.05}, \"xaxis\": {\"automargin\": true, \"gridcolor\": \"white\", \"linecolor\": \"white\", \"ticks\": \"\", \"title\": {\"standoff\": 15}, \"zerolinecolor\": \"white\", \"zerolinewidth\": 2}, \"yaxis\": {\"automargin\": true, \"gridcolor\": \"white\", \"linecolor\": \"white\", \"ticks\": \"\", \"title\": {\"standoff\": 15}, \"zerolinecolor\": \"white\", \"zerolinewidth\": 2}}}, \"title\": {\"text\": \"Non-smoker Medical Charges\"}, \"xaxis\": {\"anchor\": \"y\", \"domain\": [0.0, 1.0], \"title\": {\"text\": \"age\"}}, \"yaxis\": {\"anchor\": \"x\", \"domain\": [0.0, 1.0], \"title\": {\"text\": \"charges\"}}},\n",
              "                        {\"responsive\": true}\n",
              "                    ).then(function(){\n",
              "                            \n",
              "var gd = document.getElementById('8f3e1ab8-1543-450c-b577-1f2d21709915');\n",
              "var x = new MutationObserver(function (mutations, observer) {{\n",
              "        var display = window.getComputedStyle(gd).display;\n",
              "        if (!display || display === 'none') {{\n",
              "            console.log([gd, 'removed!']);\n",
              "            Plotly.purge(gd);\n",
              "            observer.disconnect();\n",
              "        }}\n",
              "}});\n",
              "\n",
              "// Listen for the removal of the full notebook cells\n",
              "var notebookContainer = gd.closest('#notebook-container');\n",
              "if (notebookContainer) {{\n",
              "    x.observe(notebookContainer, {childList: true});\n",
              "}}\n",
              "\n",
              "// Listen for the clearing of the current output cell\n",
              "var outputEl = gd.closest('.output');\n",
              "if (outputEl) {{\n",
              "    x.observe(outputEl, {childList: true});\n",
              "}}\n",
              "\n",
              "                        })\n",
              "                };\n",
              "                \n",
              "            </script>\n",
              "        </div>\n",
              "</body>\n",
              "</html>"
            ]
          },
          "metadata": {
            "tags": []
          }
        }
      ]
    },
    {
      "cell_type": "markdown",
      "metadata": {
        "id": "F79sCiEE55mT"
      },
      "source": [
        "Single Features"
      ]
    },
    {
      "cell_type": "code",
      "metadata": {
        "colab": {
          "base_uri": "https://localhost:8080/"
        },
        "id": "Jo7vbkxJ2Etm",
        "outputId": "42397576-ca65-40a3-96ae-9a13e5375b15"
      },
      "source": [
        "feature = non_smoker_df[['age']]\n",
        "targets = non_smoker_df['charges']\n",
        "features.shape, targets.shape"
      ],
      "execution_count": null,
      "outputs": [
        {
          "output_type": "execute_result",
          "data": {
            "text/plain": [
              "((1064, 1), (1064,))"
            ]
          },
          "metadata": {
            "tags": []
          },
          "execution_count": 153
        }
      ]
    },
    {
      "cell_type": "markdown",
      "metadata": {
        "id": "D_Pwm_IS3rYx"
      },
      "source": [
        "### Linear Regression with a Multiple Features"
      ]
    },
    {
      "cell_type": "markdown",
      "metadata": {
        "id": "P7_5873Z31Av"
      },
      "source": [
        "Create a dataframe with chosen values and plot on graph"
      ]
    },
    {
      "cell_type": "code",
      "metadata": {
        "id": "jKVAmYuj4S7g"
      },
      "source": [
        "non_smoker_df = medical_df[medical_df.smoker == 'no']"
      ],
      "execution_count": null,
      "outputs": []
    },
    {
      "cell_type": "code",
      "metadata": {
        "colab": {
          "base_uri": "https://localhost:8080/",
          "height": 542
        },
        "id": "3IJ9MNHk4We2",
        "outputId": "8f17eb9a-ce91-4190-fa51-43155d9a561a"
      },
      "source": [
        "fig = px.scatter_3d(non_smoker_df, 'bmi', 'age', 'charges', color='children', title='Non-Smoker Medical Charges')\n",
        "fig.update_traces(marker_size=4, marker_opacity=0.5)\n",
        "fig.show()"
      ],
      "execution_count": null,
      "outputs": [
        {
          "output_type": "display_data",
          "data": {
            "text/html": [
              "<html>\n",
              "<head><meta charset=\"utf-8\" /></head>\n",
              "<body>\n",
              "    <div>\n",
              "            <script src=\"https://cdnjs.cloudflare.com/ajax/libs/mathjax/2.7.5/MathJax.js?config=TeX-AMS-MML_SVG\"></script><script type=\"text/javascript\">if (window.MathJax) {MathJax.Hub.Config({SVG: {font: \"STIX-Web\"}});}</script>\n",
              "                <script type=\"text/javascript\">window.PlotlyConfig = {MathJaxConfig: 'local'};</script>\n",
              "        <script src=\"https://cdn.plot.ly/plotly-latest.min.js\"></script>    \n",
              "            <div id=\"216fe89a-a9fd-4192-8ef5-cf0b27eb50a5\" class=\"plotly-graph-div\" style=\"height:525px; width:100%;\"></div>\n",
              "            <script type=\"text/javascript\">\n",
              "                \n",
              "                    window.PLOTLYENV=window.PLOTLYENV || {};\n",
              "                    \n",
              "                if (document.getElementById(\"216fe89a-a9fd-4192-8ef5-cf0b27eb50a5\")) {\n",
              "                    Plotly.newPlot(\n",
              "                        '216fe89a-a9fd-4192-8ef5-cf0b27eb50a5',\n",
              "                        [{\"hoverlabel\": {\"namelength\": 0}, \"hovertemplate\": \"bmi=%{x}<br>age=%{y}<br>charges=%{z}<br>children=%{marker.color}\", \"legendgroup\": \"\", \"marker\": {\"color\": [1, 3, 0, 0, 0, 1, 3, 2, 0, 0, 0, 0, 1, 1, 0, 0, 0, 1, 0, 2, 3, 0, 2, 1, 0, 5, 0, 0, 3, 0, 0, 2, 1, 2, 1, 0, 2, 0, 0, 0, 2, 3, 2, 2, 3, 4, 1, 1, 0, 2, 1, 0, 5, 3, 1, 2, 0, 1, 0, 0, 0, 1, 0, 4, 0, 0, 0, 0, 1, 2, 1, 3, 0, 0, 0, 0, 1, 1, 2, 0, 1, 2, 0, 0, 3, 0, 0, 0, 2, 2, 0, 0, 3, 0, 0, 2, 0, 0, 2, 0, 0, 0, 0, 0, 3, 0, 2, 1, 2, 3, 1, 1, 1, 1, 0, 3, 1, 0, 3, 1, 2, 0, 4, 5, 3, 1, 3, 0, 0, 0, 1, 0, 2, 1, 2, 3, 0, 0, 3, 0, 2, 2, 3, 1, 2, 0, 0, 0, 1, 0, 0, 0, 2, 0, 0, 0, 1, 0, 0, 1, 0, 0, 1, 1, 4, 2, 1, 2, 2, 0, 0, 1, 0, 1, 0, 3, 3, 0, 0, 1, 2, 1, 3, 0, 1, 2, 0, 2, 1, 1, 1, 3, 0, 0, 0, 1, 1, 3, 3, 0, 4, 0, 3, 3, 1, 1, 1, 2, 1, 0, 2, 2, 0, 2, 1, 1, 1, 0, 1, 2, 0, 3, 0, 1, 0, 3, 0, 1, 3, 2, 2, 2, 2, 2, 1, 0, 2, 0, 0, 0, 0, 0, 0, 0, 1, 1, 4, 0, 0, 1, 1, 0, 0, 0, 2, 0, 0, 1, 1, 0, 0, 0, 0, 4, 3, 2, 1, 1, 0, 0, 0, 0, 0, 0, 0, 3, 3, 0, 0, 2, 1, 1, 2, 1, 3, 2, 2, 3, 0, 0, 1, 0, 3, 1, 0, 2, 2, 0, 0, 2, 0, 3, 4, 0, 1, 1, 2, 0, 3, 0, 2, 0, 0, 1, 0, 3, 0, 2, 0, 1, 3, 1, 0, 5, 0, 1, 0, 1, 0, 2, 5, 1, 0, 1, 3, 0, 2, 0, 0, 1, 3, 0, 3, 5, 0, 1, 0, 1, 0, 0, 0, 0, 1, 4, 1, 0, 0, 2, 0, 2, 0, 0, 3, 3, 2, 0, 0, 1, 2, 1, 1, 0, 0, 0, 0, 0, 0, 0, 3, 2, 0, 1, 3, 0, 3, 0, 1, 0, 0, 0, 0, 0, 2, 2, 2, 0, 0, 1, 3, 1, 2, 0, 0, 1, 0, 0, 0, 0, 1, 2, 1, 0, 0, 0, 0, 0, 0, 2, 1, 1, 0, 0, 2, 0, 0, 1, 3, 2, 1, 0, 3, 2, 0, 0, 0, 2, 0, 0, 0, 0, 2, 0, 2, 1, 0, 0, 2, 0, 0, 1, 2, 0, 1, 2, 5, 0, 1, 2, 1, 2, 0, 0, 1, 0, 1, 0, 2, 1, 0, 1, 3, 0, 1, 0, 1, 2, 0, 1, 2, 1, 2, 2, 0, 0, 0, 3, 0, 0, 2, 1, 2, 0, 3, 0, 0, 0, 1, 1, 0, 0, 3, 1, 0, 1, 0, 0, 2, 1, 0, 1, 2, 4, 5, 0, 3, 2, 3, 1, 3, 0, 0, 2, 1, 0, 2, 0, 1, 2, 1, 4, 3, 1, 1, 0, 1, 1, 3, 0, 0, 0, 0, 3, 3, 2, 1, 0, 0, 1, 2, 2, 0, 1, 0, 1, 1, 0, 1, 0, 2, 0, 2, 0, 0, 0, 1, 1, 2, 3, 3, 0, 1, 2, 2, 0, 0, 0, 1, 1, 2, 0, 0, 3, 0, 0, 1, 1, 0, 1, 1, 3, 1, 3, 1, 2, 2, 0, 0, 1, 2, 0, 1, 0, 0, 0, 0, 4, 2, 3, 3, 2, 1, 0, 2, 0, 1, 1, 0, 2, 3, 2, 0, 2, 3, 2, 0, 3, 0, 0, 1, 1, 3, 0, 0, 3, 0, 0, 0, 0, 2, 2, 1, 0, 1, 0, 1, 0, 0, 1, 0, 0, 1, 3, 3, 2, 2, 2, 0, 0, 3, 1, 0, 0, 2, 0, 2, 1, 0, 0, 2, 0, 1, 2, 0, 0, 2, 0, 0, 0, 0, 1, 1, 0, 0, 2, 2, 0, 1, 0, 3, 2, 0, 0, 2, 0, 1, 0, 3, 0, 1, 0, 1, 3, 0, 1, 5, 1, 2, 3, 1, 0, 4, 0, 0, 1, 4, 0, 0, 0, 1, 0, 0, 0, 3, 0, 0, 2, 3, 1, 3, 1, 3, 1, 2, 0, 0, 1, 0, 0, 1, 0, 0, 2, 2, 1, 0, 1, 1, 1, 5, 0, 2, 0, 2, 5, 2, 0, 0, 1, 0, 0, 0, 1, 2, 0, 0, 1, 1, 1, 1, 1, 0, 1, 3, 2, 1, 1, 2, 5, 3, 0, 0, 0, 0, 0, 1, 3, 0, 1, 0, 1, 5, 1, 3, 1, 0, 1, 2, 2, 1, 3, 3, 0, 3, 0, 0, 0, 1, 2, 2, 2, 1, 0, 4, 1, 0, 0, 1, 2, 3, 2, 0, 1, 1, 0, 0, 0, 2, 0, 0, 3, 0, 2, 0, 0, 1, 0, 1, 1, 0, 1, 0, 0, 0, 0, 0, 1, 0, 1, 3, 4, 1, 2, 0, 1, 1, 0, 0, 2, 0, 1, 1, 0, 3, 2, 1, 1, 1, 2, 0, 0, 1, 0, 0, 3, 4, 4, 0, 0, 1, 3, 1, 0, 0, 0, 0, 2, 1, 3, 1, 3, 0, 1, 5, 3, 2, 1, 0, 0, 2, 1, 0, 5, 2, 0, 0, 0, 3, 1, 0, 0, 1, 3, 0, 2, 2, 3, 0, 1, 0, 0, 0, 1, 4, 3, 2, 0, 0, 1, 2, 1, 0, 1, 0, 0, 2, 2, 1, 0, 2, 2, 0, 1, 0, 1, 0, 0, 1, 2, 0, 0, 2, 1, 1, 0, 0, 3, 0, 1, 2, 2, 2, 0, 1, 1, 2, 1, 1, 2, 0, 2, 1, 0, 0, 2, 3, 1, 2, 0, 1, 1, 2, 2, 0, 0, 3, 0, 2, 0, 0, 0, 3, 1, 3, 0, 0, 5, 3, 4, 0, 0, 4, 0, 0, 3, 1, 3, 0, 0, 1, 1, 1, 2, 0, 0, 3, 1, 0, 5, 1, 0, 0, 0, 2, 0, 1, 0, 0, 1, 1, 2, 0, 3, 0, 1, 0, 2, 2, 1, 1, 0, 2, 1, 0, 1, 1, 0, 0, 4, 2, 3, 0, 1, 0, 0, 1, 2, 2, 2, 0, 3, 3, 0, 0, 0], \"coloraxis\": \"coloraxis\", \"opacity\": 0.5, \"size\": 4, \"symbol\": \"circle\"}, \"mode\": \"markers\", \"name\": \"\", \"scene\": \"scene\", \"showlegend\": false, \"type\": \"scatter3d\", \"x\": [33.77, 33.0, 22.705, 28.88, 25.74, 33.44, 27.74, 29.83, 25.84, 26.22, 34.4, 39.82, 24.6, 30.78, 23.845, 40.3, 36.005, 32.4, 34.1, 28.025, 27.72, 23.085, 32.775, 17.385, 26.315, 28.6, 28.31, 20.425, 32.965, 20.8, 26.6, 36.63, 21.78, 30.8, 37.05, 37.3, 38.665, 34.77, 24.53, 35.625, 33.63, 28.69, 31.825, 37.335, 27.36, 33.66, 24.7, 25.935, 28.9, 39.1, 26.315, 36.19, 28.5, 28.1, 32.01, 27.4, 34.01, 29.59, 35.53, 39.805, 32.965, 26.885, 38.285, 41.23, 27.2, 27.74, 26.98, 39.49, 24.795, 34.77, 37.62, 30.8, 38.28, 31.6, 25.46, 30.115, 27.5, 28.4, 30.875, 27.94, 33.63, 29.7, 30.8, 35.72, 32.205, 28.595, 49.06, 27.17, 23.37, 37.1, 23.75, 28.975, 33.915, 28.785, 37.4, 34.7, 26.505, 22.04, 35.9, 25.555, 28.785, 28.05, 34.1, 25.175, 31.9, 36.0, 22.42, 32.49, 29.735, 38.83, 37.73, 37.43, 28.4, 24.13, 29.7, 37.145, 25.46, 39.52, 27.83, 39.6, 29.8, 29.64, 28.215, 37.0, 33.155, 31.825, 18.905, 41.47, 30.3, 15.96, 34.8, 33.345, 27.835, 29.2, 28.9, 33.155, 28.595, 38.28, 19.95, 26.41, 30.69, 29.92, 30.9, 32.2, 32.11, 31.57, 26.2, 25.74, 26.6, 34.43, 30.59, 32.8, 28.6, 18.05, 39.33, 32.11, 32.23, 24.035, 22.3, 28.88, 26.4, 31.8, 41.23, 33.0, 30.875, 28.5, 26.73, 30.9, 37.1, 26.6, 23.1, 29.92, 23.21, 33.7, 33.25, 30.8, 33.88, 38.06, 41.91, 31.635, 25.46, 36.195, 27.83, 17.8, 27.5, 24.51, 26.73, 38.39, 38.06, 22.135, 26.8, 35.3, 30.02, 38.06, 35.86, 20.9, 28.975, 30.3, 25.365, 40.15, 24.415, 25.2, 38.06, 32.395, 30.2, 25.84, 29.37, 37.05, 27.455, 27.55, 26.6, 20.615, 24.3, 31.79, 21.56, 27.645, 32.395, 31.2, 26.62, 48.07, 26.22, 26.4, 33.4, 29.64, 28.82, 26.8, 22.99, 28.88, 27.55, 37.51, 33.0, 38.0, 33.345, 27.5, 33.33, 34.865, 33.06, 26.6, 24.7, 35.86, 33.25, 32.205, 32.775, 27.645, 37.335, 25.27, 29.64, 40.945, 27.2, 34.105, 23.21, 36.7, 31.16, 28.785, 35.72, 34.5, 25.74, 27.55, 27.72, 27.6, 30.02, 27.55, 36.765, 41.47, 29.26, 35.75, 33.345, 29.92, 27.835, 23.18, 25.6, 27.7, 35.245, 38.28, 27.6, 43.89, 29.83, 41.91, 20.79, 32.3, 30.5, 26.4, 21.89, 30.78, 32.3, 24.985, 32.015, 30.4, 21.09, 22.23, 33.155, 33.33, 30.115, 31.46, 33.0, 43.34, 22.135, 34.4, 39.05, 25.365, 22.61, 30.21, 35.625, 37.43, 31.445, 31.35, 32.3, 19.855, 34.4, 31.02, 25.6, 38.17, 20.6, 47.52, 32.965, 32.3, 20.4, 38.38, 24.31, 23.6, 21.12, 30.03, 17.48, 23.9, 35.15, 35.64, 34.1, 39.16, 30.59, 30.2, 24.31, 27.265, 29.165, 16.815, 30.4, 33.1, 20.235, 26.9, 30.5, 28.595, 33.11, 31.73, 28.9, 46.75, 29.45, 32.68, 43.01, 36.52, 33.1, 29.64, 25.65, 29.6, 38.6, 29.6, 24.13, 23.4, 29.735, 46.53, 37.4, 30.14, 30.495, 39.6, 33.0, 36.63, 38.095, 25.935, 25.175, 28.7, 33.82, 24.32, 24.09, 32.67, 30.115, 29.8, 33.345, 35.625, 36.85, 32.56, 41.325, 37.51, 31.35, 39.5, 34.3, 31.065, 21.47, 28.7, 31.16, 32.9, 25.08, 25.08, 43.4, 27.93, 23.6, 28.7, 23.98, 39.2, 26.03, 28.93, 30.875, 31.35, 23.75, 25.27, 28.7, 32.11, 33.66, 22.42, 30.4, 35.7, 35.31, 30.495, 31.0, 30.875, 27.36, 44.22, 33.915, 37.73, 33.88, 30.59, 25.8, 39.425, 25.46, 31.73, 29.7, 36.19, 40.48, 28.025, 38.9, 30.2, 28.05, 31.35, 38.0, 31.79, 36.3, 30.21, 35.435, 46.7, 28.595, 30.8, 28.93, 21.4, 31.73, 41.325, 23.8, 33.44, 34.21, 35.53, 19.95, 32.68, 30.5, 44.77, 32.12, 30.495, 40.565, 30.59, 31.9, 29.1, 37.29, 43.12, 36.86, 34.295, 27.17, 26.84, 30.2, 23.465, 25.46, 30.59, 45.43, 23.65, 20.7, 28.27, 20.235, 35.91, 30.69, 29.0, 19.57, 31.13, 40.26, 33.725, 29.48, 33.25, 32.6, 37.525, 39.16, 31.635, 25.3, 39.05, 34.1, 25.175, 26.98, 29.37, 34.8, 33.155, 19.0, 33.0, 28.595, 37.1, 31.4, 21.3, 28.785, 26.03, 28.88, 42.46, 38.0, 36.1, 29.3, 35.53, 22.705, 39.7, 38.19, 24.51, 38.095, 33.66, 42.4, 33.915, 34.96, 35.31, 30.78, 26.22, 23.37, 28.5, 32.965, 42.68, 39.6, 31.13, 36.3, 35.2, 42.4, 33.155, 35.91, 28.785, 46.53, 23.98, 31.54, 33.66, 28.7, 29.81, 31.57, 31.16, 29.7, 31.02, 21.375, 40.81, 36.1, 23.18, 17.4, 20.3, 24.32, 18.5, 26.41, 26.125, 41.69, 24.1, 27.36, 36.2, 32.395, 23.655, 34.8, 40.185, 32.3, 33.725, 39.27, 34.87, 44.745, 41.47, 26.41, 29.545, 32.9, 28.69, 30.495, 27.74, 35.2, 23.54, 30.685, 40.47, 22.6, 28.9, 22.61, 24.32, 36.67, 33.44, 40.66, 36.6, 37.4, 35.4, 27.075, 28.405, 40.28, 36.08, 21.4, 30.1, 27.265, 32.1, 34.77, 23.7, 24.035, 26.62, 26.41, 30.115, 27.0, 21.755, 36.0, 30.875, 28.975, 37.905, 22.77, 33.63, 27.645, 22.8, 37.43, 34.58, 35.2, 26.03, 25.175, 31.825, 32.3, 29.0, 39.7, 19.475, 36.1, 26.7, 36.48, 34.2, 33.33, 32.3, 39.805, 34.32, 28.88, 41.14, 35.97, 29.26, 27.7, 36.955, 36.86, 22.515, 29.92, 41.8, 27.6, 23.18, 31.92, 44.22, 22.895, 33.1, 26.18, 35.97, 22.3, 26.51, 35.815, 41.42, 36.575, 30.14, 25.84, 30.8, 42.94, 21.01, 22.515, 34.43, 31.46, 24.225, 37.1, 33.7, 17.67, 31.13, 29.81, 24.32, 31.825, 21.85, 33.1, 25.84, 23.845, 34.39, 33.82, 35.97, 31.5, 28.31, 23.465, 31.35, 31.1, 24.7, 30.495, 34.2, 50.38, 24.1, 32.775, 32.3, 23.75, 29.6, 32.23, 28.1, 28.0, 33.535, 19.855, 25.4, 29.9, 37.29, 43.7, 23.655, 24.3, 36.2, 29.48, 24.86, 30.1, 21.85, 28.12, 27.1, 33.44, 28.8, 29.5, 34.8, 27.36, 22.135, 26.695, 30.02, 39.5, 33.63, 29.04, 24.035, 32.11, 44.0, 25.555, 40.26, 22.515, 22.515, 27.265, 36.85, 35.1, 29.355, 32.585, 32.34, 39.8, 28.31, 26.695, 27.5, 24.605, 33.99, 28.2, 34.21, 25.0, 33.2, 31.0, 35.815, 23.2, 32.11, 23.4, 20.1, 39.16, 34.21, 46.53, 32.5, 25.8, 35.3, 37.18, 27.5, 29.735, 24.225, 26.18, 29.48, 23.21, 46.09, 40.185, 22.61, 39.93, 35.8, 35.8, 31.255, 18.335, 28.405, 39.49, 26.79, 36.67, 39.615, 25.9, 35.2, 24.795, 36.765, 27.1, 25.365, 25.745, 34.32, 28.16, 23.56, 20.235, 40.5, 35.42, 40.15, 29.15, 39.995, 29.92, 25.46, 21.375, 30.59, 30.115, 25.8, 30.115, 27.645, 34.675, 19.8, 27.835, 31.6, 28.27, 23.275, 34.1, 36.85, 36.29, 26.885, 25.8, 29.6, 19.19, 31.73, 29.26, 24.985, 27.74, 22.8, 33.33, 32.3, 27.6, 25.46, 24.605, 34.2, 35.815, 32.68, 37.0, 23.32, 45.32, 34.6, 18.715, 31.6, 17.29, 27.93, 38.38, 23.0, 28.88, 27.265, 23.085, 25.8, 35.245, 25.08, 22.515, 36.955, 26.41, 29.83, 21.47, 27.645, 28.9, 31.79, 39.49, 33.82, 32.01, 27.94, 28.595, 25.6, 25.3, 37.29, 42.655, 21.66, 31.9, 31.445, 31.255, 28.88, 18.335, 29.59, 32.0, 26.03, 33.66, 21.78, 27.835, 19.95, 31.5, 30.495, 28.975, 31.54, 47.74, 22.1, 29.83, 32.7, 33.7, 31.35, 33.77, 30.875, 33.99, 28.6, 38.94, 36.08, 29.8, 31.24, 29.925, 26.22, 30.0, 20.35, 32.3, 26.315, 24.51, 32.67, 29.64, 19.95, 38.17, 32.395, 25.08, 29.9, 35.86, 32.8, 18.6, 23.87, 45.9, 40.28, 18.335, 33.82, 28.12, 25.0, 22.23, 30.25, 37.07, 32.6, 24.86, 32.34, 32.3, 32.775, 31.92, 21.5, 34.1, 30.305, 36.48, 35.815, 27.93, 22.135, 23.18, 30.59, 41.1, 34.58, 42.13, 38.83, 28.215, 28.31, 26.125, 40.37, 24.6, 35.2, 34.105, 41.91, 29.26, 32.11, 27.1, 27.4, 34.865, 41.325, 29.925, 30.3, 27.36, 23.56, 32.68, 28.0, 32.775, 21.755, 32.395, 36.575, 21.755, 27.93, 33.55, 29.355, 25.8, 24.32, 40.375, 32.11, 32.3, 17.86, 34.8, 37.1, 30.875, 34.1, 21.47, 33.3, 31.255, 39.14, 25.08, 37.29, 30.21, 21.945, 24.97, 25.3, 23.94, 39.82, 16.815, 37.18, 34.43, 30.305, 24.605, 23.3, 27.83, 31.065, 21.66, 28.215, 22.705, 42.13, 21.28, 33.11, 33.33, 24.3, 25.7, 29.4, 39.82, 19.8, 29.3, 27.72, 37.9, 36.385, 27.645, 37.715, 23.18, 20.52, 37.1, 28.05, 29.9, 33.345, 30.5, 33.3, 27.5, 33.915, 34.485, 25.52, 27.61, 23.7, 30.4, 29.735, 26.79, 33.33, 30.03, 24.32, 17.29, 25.9, 34.32, 19.95, 23.21, 25.745, 25.175, 22.0, 26.125, 26.51, 27.455, 25.745, 20.8, 27.72, 32.2, 26.315, 26.695, 42.9, 28.31, 20.6, 53.13, 39.71, 26.315, 31.065, 38.83, 25.935, 33.535, 32.87, 30.03, 24.225, 38.6, 25.74, 33.4, 44.7, 30.97, 31.92, 36.85, 25.8], \"y\": [18, 28, 33, 32, 31, 46, 37, 37, 60, 25, 23, 56, 19, 52, 23, 56, 60, 30, 18, 37, 59, 63, 55, 23, 18, 19, 63, 19, 62, 26, 24, 31, 41, 37, 38, 55, 18, 28, 60, 18, 21, 40, 58, 34, 43, 25, 64, 28, 19, 61, 40, 40, 31, 53, 58, 44, 57, 29, 21, 22, 41, 31, 45, 48, 56, 46, 55, 21, 53, 35, 28, 54, 55, 41, 30, 18, 34, 19, 26, 29, 54, 55, 37, 21, 52, 60, 58, 49, 37, 44, 18, 20, 47, 26, 52, 38, 59, 61, 53, 19, 20, 22, 19, 22, 54, 22, 34, 26, 29, 29, 51, 53, 19, 35, 48, 32, 40, 44, 50, 54, 32, 37, 47, 20, 32, 19, 27, 63, 49, 18, 35, 24, 38, 54, 46, 41, 58, 18, 22, 44, 44, 26, 30, 41, 29, 61, 36, 25, 56, 18, 19, 39, 45, 51, 64, 19, 48, 60, 46, 28, 59, 63, 40, 20, 40, 24, 34, 45, 41, 53, 27, 26, 24, 34, 53, 32, 55, 28, 58, 41, 47, 42, 59, 19, 59, 39, 18, 31, 44, 33, 55, 40, 54, 60, 24, 19, 29, 27, 55, 38, 51, 58, 53, 59, 45, 49, 18, 41, 50, 25, 47, 19, 22, 59, 51, 30, 55, 52, 46, 46, 63, 52, 28, 29, 22, 25, 18, 48, 36, 56, 28, 57, 29, 28, 30, 58, 41, 50, 19, 49, 52, 50, 54, 44, 32, 34, 26, 57, 29, 40, 27, 52, 61, 56, 43, 64, 60, 62, 46, 24, 62, 60, 63, 49, 34, 33, 46, 36, 19, 57, 50, 30, 33, 18, 46, 46, 47, 23, 18, 48, 35, 21, 21, 49, 56, 42, 44, 18, 61, 57, 42, 20, 64, 62, 55, 35, 44, 19, 58, 50, 26, 24, 48, 19, 48, 49, 46, 46, 43, 21, 64, 18, 51, 47, 64, 49, 31, 52, 33, 47, 38, 32, 19, 25, 19, 43, 52, 64, 25, 48, 45, 38, 18, 21, 27, 19, 29, 42, 60, 31, 60, 22, 35, 52, 26, 31, 18, 59, 45, 60, 56, 40, 35, 39, 30, 24, 20, 32, 59, 55, 57, 56, 40, 49, 62, 56, 19, 60, 56, 28, 18, 27, 18, 19, 47, 25, 21, 23, 63, 49, 18, 51, 48, 31, 54, 19, 53, 19, 61, 18, 61, 20, 31, 45, 44, 62, 43, 38, 37, 22, 21, 24, 57, 56, 27, 51, 19, 58, 20, 45, 35, 31, 50, 32, 51, 38, 18, 19, 51, 46, 18, 62, 59, 37, 64, 38, 33, 46, 46, 53, 34, 20, 63, 54, 28, 54, 25, 63, 32, 62, 52, 25, 28, 46, 34, 19, 46, 54, 27, 50, 18, 19, 38, 41, 49, 31, 18, 30, 62, 57, 58, 22, 52, 25, 59, 19, 39, 32, 19, 33, 21, 61, 38, 58, 47, 20, 41, 46, 42, 34, 43, 52, 18, 51, 56, 64, 51, 27, 28, 47, 38, 18, 34, 20, 56, 55, 30, 49, 59, 29, 36, 33, 58, 53, 24, 29, 40, 51, 64, 19, 35, 56, 33, 61, 23, 43, 48, 39, 40, 18, 58, 49, 53, 48, 45, 59, 26, 27, 48, 57, 37, 57, 32, 18, 49, 40, 30, 29, 36, 41, 45, 55, 56, 49, 21, 19, 53, 33, 53, 42, 40, 47, 21, 47, 20, 24, 27, 26, 53, 56, 23, 21, 50, 53, 34, 47, 33, 49, 31, 36, 18, 50, 43, 20, 24, 60, 49, 60, 51, 58, 51, 53, 62, 19, 50, 41, 18, 41, 53, 24, 48, 59, 49, 26, 45, 31, 50, 50, 34, 19, 47, 28, 21, 64, 58, 24, 31, 39, 30, 22, 23, 27, 45, 57, 47, 42, 64, 38, 61, 53, 44, 41, 51, 40, 45, 35, 53, 18, 51, 31, 35, 60, 21, 29, 62, 39, 19, 22, 39, 30, 30, 58, 42, 64, 21, 23, 45, 40, 19, 18, 25, 46, 33, 54, 28, 36, 20, 24, 23, 45, 26, 18, 44, 60, 64, 39, 63, 36, 28, 58, 36, 42, 36, 56, 35, 59, 21, 59, 53, 51, 23, 27, 55, 61, 53, 20, 25, 57, 38, 55, 36, 51, 40, 18, 57, 61, 25, 50, 26, 42, 43, 44, 23, 49, 33, 41, 37, 22, 23, 21, 25, 36, 22, 57, 36, 54, 62, 61, 19, 18, 19, 49, 26, 49, 60, 26, 27, 44, 63, 22, 59, 44, 33, 24, 61, 35, 62, 62, 38, 34, 43, 50, 19, 57, 62, 41, 26, 39, 46, 45, 32, 59, 44, 39, 18, 53, 18, 50, 18, 19, 62, 56, 42, 42, 57, 30, 31, 24, 48, 19, 29, 63, 46, 52, 35, 44, 21, 39, 50, 34, 22, 19, 26, 48, 26, 45, 36, 54, 34, 27, 20, 44, 43, 45, 34, 26, 38, 50, 38, 39, 39, 63, 33, 36, 24, 48, 47, 29, 28, 25, 51, 48, 61, 48, 38, 59, 19, 26, 54, 21, 51, 18, 47, 21, 23, 54, 37, 30, 61, 54, 22, 19, 18, 28, 55, 43, 25, 44, 64, 49, 27, 55, 48, 45, 24, 32, 24, 57, 36, 29, 42, 48, 39, 63, 54, 63, 21, 54, 60, 32, 47, 21, 63, 18, 32, 38, 32, 62, 55, 57, 52, 56, 55, 23, 50, 18, 22, 52, 25, 53, 29, 58, 37, 54, 49, 50, 26, 45, 54, 28, 23, 55, 41, 30, 46, 27, 63, 55, 35, 34, 19, 39, 27, 57, 52, 28, 50, 44, 26, 33, 50, 41, 52, 39, 50, 52, 20, 55, 42, 18, 58, 35, 48, 36, 23, 20, 32, 43, 34, 30, 18, 41, 35, 57, 29, 32, 37, 56, 38, 29, 22, 40, 23, 42, 24, 25, 48, 45, 62, 23, 31, 41, 58, 48, 31, 19, 41, 40, 31, 37, 46, 22, 51, 35, 59, 59, 36, 39, 18, 52, 27, 18, 40, 29, 38, 30, 40, 50, 41, 33, 38, 42, 56, 58, 54, 58, 45, 26, 63, 58, 37, 25, 22, 28, 18, 28, 45, 33, 18, 19, 40, 34, 42, 51, 54, 55, 52, 32, 28, 41, 43, 49, 55, 20, 45, 26, 25, 43, 35, 57, 22, 32, 25, 48, 18, 47, 28, 36, 44, 38, 21, 46, 58, 20, 18, 28, 33, 19, 25, 24, 41, 42, 33, 34, 18, 19, 18, 35, 39, 31, 62, 31, 61, 42, 51, 23, 52, 57, 23, 52, 50, 18, 18, 21], \"z\": [1725.5523, 4449.462, 21984.47061, 3866.8552, 3756.6216, 8240.5896, 7281.5056, 6406.4107, 28923.136919999997, 2721.3208, 1826.8429999999998, 11090.7178, 1837.237, 10797.3362, 2395.17155, 10602.385, 13228.84695, 4149.736, 1137.011, 6203.90175, 14001.1338, 14451.83515, 12268.63225, 2775.19215, 2198.18985, 4687.7970000000005, 13770.0979, 1625.43375, 15612.19335, 2302.3, 3046.062, 4949.7587, 6272.4772, 6313.759, 6079.6715, 20630.28351, 3393.35635, 3556.9223, 12629.8967, 2211.13075, 3579.8287, 8059.6791, 13607.36875, 5989.52365, 8606.2174, 4504.6624, 30166.618169999998, 4133.64165, 1743.214, 14235.072, 6389.37785, 5920.1041, 6799.4580000000005, 11741.726, 11946.6259, 7726.854, 11356.6609, 3947.4131, 1532.4697, 2755.02095, 6571.02435, 4441.21315, 7935.29115, 11033.6617, 11073.176000000001, 8026.6666, 11082.5772, 2026.9741, 10942.13205, 5729.0053, 3766.8838, 12105.32, 10226.2842, 6186.1269999999995, 3645.0894, 21344.8467, 5003.853, 2331.519, 3877.30425, 2867.1196, 10825.2537, 11881.358, 4646.759, 2404.7338, 11488.31695, 30259.995560000003, 11381.3254, 8601.3293, 6686.4313, 7740.3369999999995, 1705.6245, 2257.47525, 10115.00885, 3385.39915, 9634.538, 6082.405, 12815.44495, 13616.3586, 11163.568000000001, 1632.56445, 2457.21115, 2155.6815, 1261.442, 2045.68525, 27322.733860000004, 2166.732, 27375.90478, 3490.5491, 18157.876, 5138.2567, 9877.6077, 10959.6947, 1842.519, 5125.2157, 7789.635, 6334.34355, 7077.1894, 6948.7008, 19749.383380000003, 10450.552, 5152.134, 5028.1466, 10407.08585, 4830.63, 6128.79745, 2719.27975, 4827.90495, 13405.3903, 8116.68, 1694.7964, 5246.047, 2855.43755, 6455.86265, 10436.096, 8823.279, 8538.28845, 11735.87905, 1631.8212, 4005.4225, 7419.4779, 7731.4271, 3981.9768, 5325.651, 6775.960999999999, 4922.9159, 12557.6053, 4883.866, 2137.6536, 12044.341999999999, 1137.4697, 1639.5631, 5649.715, 8516.829, 9644.2525, 14901.5167, 2130.6759, 8871.1517, 13012.20865, 7147.105, 4337.7352, 11743.298999999999, 13880.948999999999, 6610.1097, 1980.07, 8162.71625, 3537.703, 5002.7827, 8520.026, 7371.772, 10355.641, 2483.736, 3392.9768, 25081.76784, 5012.471, 10564.8845, 5253.524, 11987.1682, 2689.4954, 24227.33724, 7358.17565, 9225.2564, 7443.64305, 14001.2867, 1727.785, 12333.828000000001, 6710.1919, 1615.7667, 4463.2051, 7152.6714, 5354.07465, 35160.13457, 7196.866999999999, 24476.47851, 12648.7034, 1986.9334, 1832.094, 4040.55825, 4260.744000000001, 13047.33235, 5400.9805, 11520.09985, 11837.16, 20462.99766, 14590.63205, 7441.053000000001, 9282.4806, 1719.4363, 7265.7025, 9617.66245, 2523.1695, 9715.841, 2803.69785, 2150.469, 12928.7911, 9855.1314, 4237.12655, 11879.10405, 9625.92, 7742.1098, 9432.9253, 14256.1928, 25992.82104, 3172.018, 20277.80751, 2156.7518, 3906.127, 1704.5681, 9249.4952, 6746.7425, 12265.5069, 4349.462, 12646.207, 19442.3535, 20177.671130000002, 4151.0287, 11944.59435, 7749.1564, 8444.474, 1737.376, 8124.4084, 9722.7695, 8835.26495, 10435.06525, 7421.19455, 4667.60765, 4894.7533, 24671.66334, 11566.30055, 2866.091, 6600.20595, 3561.8889, 9144.565, 13429.0354, 11658.37915, 19144.57652, 13822.803, 12142.5786, 13937.6665, 8232.6388, 18955.22017, 13352.0998, 13217.0945, 13981.85035, 10977.2063, 6184.2994, 4889.9995, 8334.45755, 5478.0368, 1635.73365, 11830.6072, 8932.084, 3554.203, 12404.8791, 14133.03775, 24603.04837, 8944.1151, 9620.3307, 1837.2819, 1607.5101, 10043.249, 4751.07, 2597.779, 3180.5101, 9778.3472, 13430.265, 8017.06115, 8116.26885, 3481.868, 13415.0381, 12029.2867, 7639.41745, 1391.5287, 16455.70785, 27000.98473, 20781.48892, 5846.9176, 8302.53565, 1261.859, 11856.4115, 30284.642939999998, 3176.8159, 4618.0799, 10736.87075, 2138.0707, 8964.06055, 9290.1395, 9411.005, 7526.70645, 8522.003, 16586.49771, 14988.431999999999, 1631.6683, 9264.796999999999, 8083.9198, 14692.66935, 10269.46, 3260.199, 11396.9002, 4185.0979, 8539.671, 6652.5288, 4074.4537, 1621.3402, 5080.096, 2134.9015, 7345.7266, 9140.951, 14418.2804, 2727.3951, 8968.33, 9788.8659, 6555.07035, 7323.734818999999, 3167.45585, 18804.7524, 23082.95533, 4906.40965, 5969.723000000001, 12638.195, 4243.59005, 13919.8229, 2254.7967, 5926.846, 12592.5345, 2897.3235, 4738.2682, 1149.3959, 28287.897660000002, 7345.084, 12730.9996, 11454.0215, 5910.944, 4762.329000000001, 7512.267, 4032.2407, 1969.614, 1769.53165, 4686.3887, 21797.0004, 11881.9696, 11840.77505, 10601.412, 7682.67, 10381.4787, 15230.32405, 11165.41765, 1632.03625, 13224.693000000001, 12643.3778, 23288.9284, 2201.0971, 2497.0383, 2203.47185, 1744.465, 20878.78443, 2534.39375, 1534.3045, 1824.2854, 15555.18875, 9304.7019, 1622.1885, 9880.068000000001, 9563.029, 4347.02335, 12475.3513, 1253.9360000000001, 10461.9794, 1748.774, 24513.09126, 2196.4732, 12574.048999999999, 1967.0227, 4931.647, 8027.968000000001, 8211.1002, 13470.86, 6837.3687, 5974.3847, 6796.86325, 2643.2685, 3077.0955, 3044.2133, 11455.28, 11763.0009, 2498.4144, 9361.3268, 1256.299, 11362.755, 27724.28875, 8413.46305, 5240.765, 3857.75925, 25656.575259999998, 3994.1778, 9866.30485, 5397.6167, 11482.63485, 24059.68019, 9861.025, 8342.90875, 1708.0014, 14043.4767, 12925.886, 19214.705530000003, 13831.1152, 6067.12675, 5972.378000000001, 8825.086, 8233.0975, 27346.04207, 6196.448, 3056.3881, 13887.204, 10231.4999, 3268.84665, 11538.421, 3213.62205, 13390.559, 3972.9247, 12957.118, 11187.6567, 17878.900680000002, 3847.6740000000004, 8334.5896, 3935.1799, 1646.4297, 9193.8385, 10923.9332, 2494.022, 9058.7303, 2801.2588, 2128.43105, 6373.55735, 7256.7231, 11552.903999999999, 3761.292, 2219.4451, 4753.6368, 31620.001060000002, 13224.05705, 12222.8983, 1664.9996, 9724.53, 3206.49135, 12913.9924, 1639.5631, 6356.2707, 17626.23951, 1242.816, 4779.6023, 3861.20965, 13635.6379, 5976.8311, 11842.442, 8428.0693, 2566.4707, 5709.1644, 8823.98575, 7640.3092, 5594.8455, 7441.501, 33471.97189, 1633.0444, 9174.13565, 11070.535, 16085.1275, 9283.562, 3558.62025, 4435.0942, 8547.6913, 6571.544, 2207.69745, 6753.0380000000005, 1880.07, 11658.11505, 10713.643999999998, 3659.3459999999995, 9182.17, 12129.61415, 3736.4647, 6748.5912, 11326.71487, 11365.952, 10085.846, 1977.815, 3366.6697, 7173.35995, 9391.346, 14410.9321, 2709.1119, 24915.04626, 12949.1554, 6666.243, 13143.86485, 4466.6214, 18806.14547, 10141.1362, 6123.5688, 8252.2843, 1712.227, 12430.95335, 9800.8882, 10579.711000000001, 8280.6227, 8527.532, 12244.531, 3410.324, 4058.71245, 26392.260290000002, 14394.39815, 6435.6237, 22192.43711, 5148.5526, 1136.3994, 8703.456, 6500.2359, 4837.5823, 3943.5954, 4399.731, 6185.3208, 7222.78625, 12485.8009, 12363.546999999999, 10156.7832, 2585.269, 1242.26, 9863.4718, 4766.022, 11244.3769, 7729.64575, 5438.7491, 26236.57997, 2104.1134, 8068.185, 2362.22905, 2352.96845, 3577.9990000000003, 3201.24515, 29186.48236, 10976.24575, 3500.6123, 2020.5523, 9541.69555, 9504.3103, 5385.3379, 8930.93455, 5375.0380000000005, 10264.4421, 6113.23105, 5469.0066, 1727.54, 10107.2206, 8310.83915, 1984.4533, 2457.502, 12146.971000000001, 9566.9909, 13112.6048, 10848.1343, 12231.6136, 9875.6804, 11264.541000000001, 12979.358, 1263.249, 10106.13425, 6664.68595, 2217.6012, 6781.3542, 10065.413, 4234.927, 9447.25035, 14007.222, 9583.8933, 3484.3309999999997, 8604.48365, 3757.8448, 8827.2099, 9910.35985, 11737.84884, 1627.28245, 8556.907, 3062.50825, 1906.35825, 14210.53595, 11833.7823, 17128.42608, 5031.26955, 7985.815, 5428.7277, 3925.7582, 2416.955, 3070.8087, 9095.06825, 11842.62375, 8062.764, 7050.642, 14319.031, 6933.24225, 27941.28758, 11150.78, 12797.20962, 7261.741, 10560.4917, 6986.696999999999, 7448.40395, 5934.3798, 9869.8102, 1146.7966, 9386.1613, 4350.5144, 6414.178000000001, 12741.16745, 1917.3184, 5209.57885, 13457.9608, 5662.225, 1252.407, 2731.9122, 7209.4918, 4266.1658, 4719.52405, 11848.141000000001, 7046.7222, 14313.8463, 2103.08, 1815.8759, 7731.85785, 28476.734989999997, 2136.88225, 1131.5066, 3309.7926, 9414.92, 6360.9936, 11013.7119, 4428.88785, 5584.3057, 1877.9294, 2842.76075, 3597.5959999999995, 7445.918000000001, 2680.9493, 1621.8827, 8219.2039, 12523.6048, 16069.08475, 6117.4945, 13393.756000000001, 5266.3656, 4719.73655, 11743.9341, 5377.4578, 7160.3303, 4402.233, 11657.7189, 6402.29135, 12622.1795, 1526.3120000000001, 12323.936000000002, 10072.05505, 9872.701, 2438.0552, 2974.1259999999997, 10601.63225, 14119.62, 11729.6795, 1875.344, 18218.16139, 10965.446000000002, 7151.092, 12269.68865, 5458.04645, 8782.469000000001, 6600.361, 1141.4451, 11576.13, 13129.60345, 4391.652, 8457.818000000001, 3392.3652, 5966.8874, 6849.026, 8891.1395, 2690.1138, 26140.3603, 6653.7886, 6282.235, 6311.951999999999, 3443.0640000000003, 2789.0574, 2585.85065, 4877.98105, 5272.1758, 1682.5970000000002, 11945.1327, 7243.8136, 10422.91665, 13555.0049, 13063.883, 2221.56445, 1634.5734, 2117.33885, 8688.85885, 4661.28635, 8125.7845, 12644.589, 4564.19145, 4846.92015, 7633.7206, 15170.069, 2639.0429, 14382.70905, 7626.993, 5257.50795, 2473.3341, 13041.921, 5245.2269, 13451.122, 13462.52, 5488.262, 4320.41085, 6250.435, 25333.33284, 2913.5690000000004, 12032.326000000001, 13470.8044, 6289.7549, 2927.0647, 6238.298000000001, 10096.97, 7348.142, 4673.3922, 12233.828000000001, 32108.662819999998, 8965.79575, 2304.0022, 9487.6442, 1121.8739, 9549.5651, 2217.46915, 1628.4709, 12982.8747, 11674.13, 7160.094, 6358.77645, 11534.87265, 4527.18295, 3875.7341, 12609.88702, 28468.91901, 2730.10785, 3353.284, 14474.675, 9500.57305, 26467.09737, 4746.344, 7518.02535, 3279.86855, 8596.8278, 10702.6424, 4992.3764, 2527.81865, 1759.338, 2322.6218, 7804.1605, 2902.9065, 9704.66805, 4889.0368, 25517.11363, 4500.33925, 16796.41194, 4915.05985, 7624.63, 8410.04685, 28340.18885, 4518.82625, 3378.91, 7144.86265, 10118.424, 5484.4673, 7986.47525, 7418.522, 13887.9685, 6551.7501, 5267.81815, 1972.95, 21232.182259999998, 8627.5411, 4433.3877, 4438.2634, 23241.47453, 9957.7216, 8269.044, 36580.28216, 8765.249, 5383.536, 12124.9924, 2709.24395, 3987.926, 12495.29085, 26018.95052, 8798.593, 1711.0268, 8569.8618, 2020.1770000000001, 21595.38229, 9850.431999999999, 6877.9801, 4137.5227, 12950.0712, 12094.478000000001, 2250.8352, 22493.65964, 1704.70015, 3161.454, 11394.06555, 7325.0482, 3594.17085, 8023.13545, 14394.5579, 9288.0267, 3353.4703, 10594.50155, 8277.523000000001, 17929.303369999998, 2480.9791, 4462.7218, 1981.5819, 11554.2236, 6548.19505, 5708.866999999999, 7045.499, 8978.1851, 5757.41345, 14349.8544, 10928.848999999998, 13974.45555, 1909.52745, 12096.6512, 13204.28565, 4562.8421, 8551.347, 2102.2647, 15161.5344, 11884.04858, 4454.40265, 5855.9025, 4076.4970000000003, 15019.76005, 10796.35025, 11353.2276, 9748.9106, 10577.087, 11286.5387, 3591.48, 11299.343, 4561.1885, 1674.6323, 23045.56616, 3227.1211, 11253.421, 3471.4096, 11363.2832, 20420.60465, 10338.9316, 8988.15875, 10493.9458, 2904.0879999999997, 8605.3615, 11512.405, 5312.16985, 2396.0959, 10807.4863, 9222.4026, 5693.4305, 8347.1643, 18903.49141, 14254.6082, 10214.636, 5836.5204, 14358.36437, 1728.8970000000002, 8582.3023, 3693.428, 20709.02034, 9991.03765, 19673.335730000003, 11085.5868, 7623.518, 3176.2877, 3704.3545, 9048.0273, 7954.517, 27117.99378, 6338.0756, 9630.396999999999, 11289.10925, 2261.5688, 10791.96, 5979.731, 2203.73595, 12235.8392, 5630.45785, 11015.1747, 7228.21565, 14426.07385, 2459.7201, 3989.841, 7727.2532, 5124.1887, 18963.171919999997, 2200.83085, 7153.5539, 5227.98875, 10982.5013, 4529.477, 4670.64, 6112.35295, 11093.6229, 6457.8434, 4433.9159, 2154.361, 6496.8859999999995, 2899.48935, 7650.77375, 2850.68375, 2632.992, 9447.3824, 8603.8234, 13844.7972, 13126.67745, 5327.40025, 13725.47184, 13019.16105, 8671.19125, 4134.08245, 18838.70366, 5699.8375, 6393.60345, 4934.705, 6198.7518, 8733.22925, 2055.3249, 9964.06, 5116.5004, 36910.60803, 12347.171999999999, 5373.36425, 23563.016180000002, 1702.4553, 10806.839, 3956.07145, 12890.05765, 5415.6612, 4058.1161, 7537.1639, 4718.20355, 6593.5083, 8442.667, 6858.4796, 4795.6568, 6640.54485, 7162.0122, 10594.2257, 11938.25595, 12479.70895, 11345.518999999998, 8515.7587, 2699.56835, 14449.8544, 12224.35085, 6985.50695, 3238.4357, 4296.2712, 3171.6149, 1135.9407, 5615.369000000001, 9101.798, 6059.173000000001, 1633.9618, 1241.565, 15828.821730000001, 4415.1588, 6474.013000000001, 11436.73815, 11305.93455, 30063.58055, 10197.7722, 4544.2348, 3277.1609999999996, 6770.1925, 7337.7480000000005, 10370.91255, 10704.47, 1880.487, 8615.3, 3292.52985, 3021.80915, 14478.33015, 4747.0529, 10959.33, 2741.948, 4357.04365, 4189.1131, 8283.6807, 1720.3537, 8534.6718, 3732.6251, 5472.4490000000005, 7147.4728, 7133.9025, 1515.3449, 9301.89355, 11931.12525, 1964.78, 1708.92575, 4340.4409, 5261.46945, 2710.82855, 3208.7870000000003, 2464.6188, 6875.960999999999, 6940.90985, 4571.41305, 4536.259, 11272.331390000001, 1731.6770000000001, 1163.4627, 19496.71917, 7201.70085, 5425.02335, 12981.3457, 4239.89265, 13143.33665, 7050.0213, 9377.9047, 22395.74424, 10325.206, 12629.1656, 10795.937329999999, 11411.685, 10600.5483, 2205.9808, 1629.8335, 2007.945]}],\n",
              "                        {\"coloraxis\": {\"colorbar\": {\"title\": {\"text\": \"children\"}}, \"colorscale\": [[0.0, \"#0d0887\"], [0.1111111111111111, \"#46039f\"], [0.2222222222222222, \"#7201a8\"], [0.3333333333333333, \"#9c179e\"], [0.4444444444444444, \"#bd3786\"], [0.5555555555555556, \"#d8576b\"], [0.6666666666666666, \"#ed7953\"], [0.7777777777777778, \"#fb9f3a\"], [0.8888888888888888, \"#fdca26\"], [1.0, \"#f0f921\"]]}, \"legend\": {\"tracegroupgap\": 0}, \"scene\": {\"domain\": {\"x\": [0.0, 1.0], \"y\": [0.0, 1.0]}, \"xaxis\": {\"title\": {\"text\": \"bmi\"}}, \"yaxis\": {\"title\": {\"text\": \"age\"}}, \"zaxis\": {\"title\": {\"text\": \"charges\"}}}, \"template\": {\"data\": {\"bar\": [{\"error_x\": {\"color\": \"#2a3f5f\"}, \"error_y\": {\"color\": \"#2a3f5f\"}, \"marker\": {\"line\": {\"color\": \"#E5ECF6\", \"width\": 0.5}}, \"type\": \"bar\"}], \"barpolar\": [{\"marker\": {\"line\": {\"color\": \"#E5ECF6\", \"width\": 0.5}}, \"type\": \"barpolar\"}], \"carpet\": [{\"aaxis\": {\"endlinecolor\": \"#2a3f5f\", \"gridcolor\": \"white\", \"linecolor\": \"white\", \"minorgridcolor\": \"white\", \"startlinecolor\": \"#2a3f5f\"}, \"baxis\": {\"endlinecolor\": \"#2a3f5f\", \"gridcolor\": \"white\", \"linecolor\": \"white\", \"minorgridcolor\": \"white\", \"startlinecolor\": \"#2a3f5f\"}, \"type\": \"carpet\"}], \"choropleth\": [{\"colorbar\": {\"outlinewidth\": 0, \"ticks\": \"\"}, \"type\": \"choropleth\"}], \"contour\": [{\"colorbar\": {\"outlinewidth\": 0, \"ticks\": \"\"}, \"colorscale\": [[0.0, \"#0d0887\"], [0.1111111111111111, \"#46039f\"], [0.2222222222222222, \"#7201a8\"], [0.3333333333333333, \"#9c179e\"], [0.4444444444444444, \"#bd3786\"], [0.5555555555555556, \"#d8576b\"], [0.6666666666666666, \"#ed7953\"], [0.7777777777777778, \"#fb9f3a\"], [0.8888888888888888, \"#fdca26\"], [1.0, \"#f0f921\"]], \"type\": \"contour\"}], \"contourcarpet\": [{\"colorbar\": {\"outlinewidth\": 0, \"ticks\": \"\"}, \"type\": \"contourcarpet\"}], \"heatmap\": [{\"colorbar\": {\"outlinewidth\": 0, \"ticks\": \"\"}, \"colorscale\": [[0.0, \"#0d0887\"], [0.1111111111111111, \"#46039f\"], [0.2222222222222222, \"#7201a8\"], [0.3333333333333333, \"#9c179e\"], [0.4444444444444444, \"#bd3786\"], [0.5555555555555556, \"#d8576b\"], [0.6666666666666666, \"#ed7953\"], [0.7777777777777778, \"#fb9f3a\"], [0.8888888888888888, \"#fdca26\"], [1.0, \"#f0f921\"]], \"type\": \"heatmap\"}], \"heatmapgl\": [{\"colorbar\": {\"outlinewidth\": 0, \"ticks\": \"\"}, \"colorscale\": [[0.0, \"#0d0887\"], [0.1111111111111111, \"#46039f\"], [0.2222222222222222, \"#7201a8\"], [0.3333333333333333, \"#9c179e\"], [0.4444444444444444, \"#bd3786\"], [0.5555555555555556, \"#d8576b\"], [0.6666666666666666, \"#ed7953\"], [0.7777777777777778, \"#fb9f3a\"], [0.8888888888888888, \"#fdca26\"], [1.0, \"#f0f921\"]], \"type\": \"heatmapgl\"}], \"histogram\": [{\"marker\": {\"colorbar\": {\"outlinewidth\": 0, \"ticks\": \"\"}}, \"type\": \"histogram\"}], \"histogram2d\": [{\"colorbar\": {\"outlinewidth\": 0, \"ticks\": \"\"}, \"colorscale\": [[0.0, \"#0d0887\"], [0.1111111111111111, \"#46039f\"], [0.2222222222222222, \"#7201a8\"], [0.3333333333333333, \"#9c179e\"], [0.4444444444444444, \"#bd3786\"], [0.5555555555555556, \"#d8576b\"], [0.6666666666666666, \"#ed7953\"], [0.7777777777777778, \"#fb9f3a\"], [0.8888888888888888, \"#fdca26\"], [1.0, \"#f0f921\"]], \"type\": \"histogram2d\"}], \"histogram2dcontour\": [{\"colorbar\": {\"outlinewidth\": 0, \"ticks\": \"\"}, \"colorscale\": [[0.0, \"#0d0887\"], [0.1111111111111111, \"#46039f\"], [0.2222222222222222, \"#7201a8\"], [0.3333333333333333, \"#9c179e\"], [0.4444444444444444, \"#bd3786\"], [0.5555555555555556, \"#d8576b\"], [0.6666666666666666, \"#ed7953\"], [0.7777777777777778, \"#fb9f3a\"], [0.8888888888888888, \"#fdca26\"], [1.0, \"#f0f921\"]], \"type\": \"histogram2dcontour\"}], \"mesh3d\": [{\"colorbar\": {\"outlinewidth\": 0, \"ticks\": \"\"}, \"type\": \"mesh3d\"}], \"parcoords\": [{\"line\": {\"colorbar\": {\"outlinewidth\": 0, \"ticks\": \"\"}}, \"type\": \"parcoords\"}], \"pie\": [{\"automargin\": true, \"type\": \"pie\"}], \"scatter\": [{\"marker\": {\"colorbar\": {\"outlinewidth\": 0, \"ticks\": \"\"}}, \"type\": \"scatter\"}], \"scatter3d\": [{\"line\": {\"colorbar\": {\"outlinewidth\": 0, \"ticks\": \"\"}}, \"marker\": {\"colorbar\": {\"outlinewidth\": 0, \"ticks\": \"\"}}, \"type\": \"scatter3d\"}], \"scattercarpet\": [{\"marker\": {\"colorbar\": {\"outlinewidth\": 0, \"ticks\": \"\"}}, \"type\": \"scattercarpet\"}], \"scattergeo\": [{\"marker\": {\"colorbar\": {\"outlinewidth\": 0, \"ticks\": \"\"}}, \"type\": \"scattergeo\"}], \"scattergl\": [{\"marker\": {\"colorbar\": {\"outlinewidth\": 0, \"ticks\": \"\"}}, \"type\": \"scattergl\"}], \"scattermapbox\": [{\"marker\": {\"colorbar\": {\"outlinewidth\": 0, \"ticks\": \"\"}}, \"type\": \"scattermapbox\"}], \"scatterpolar\": [{\"marker\": {\"colorbar\": {\"outlinewidth\": 0, \"ticks\": \"\"}}, \"type\": \"scatterpolar\"}], \"scatterpolargl\": [{\"marker\": {\"colorbar\": {\"outlinewidth\": 0, \"ticks\": \"\"}}, \"type\": \"scatterpolargl\"}], \"scatterternary\": [{\"marker\": {\"colorbar\": {\"outlinewidth\": 0, \"ticks\": \"\"}}, \"type\": \"scatterternary\"}], \"surface\": [{\"colorbar\": {\"outlinewidth\": 0, \"ticks\": \"\"}, \"colorscale\": [[0.0, \"#0d0887\"], [0.1111111111111111, \"#46039f\"], [0.2222222222222222, \"#7201a8\"], [0.3333333333333333, \"#9c179e\"], [0.4444444444444444, \"#bd3786\"], [0.5555555555555556, \"#d8576b\"], [0.6666666666666666, \"#ed7953\"], [0.7777777777777778, \"#fb9f3a\"], [0.8888888888888888, \"#fdca26\"], [1.0, \"#f0f921\"]], \"type\": \"surface\"}], \"table\": [{\"cells\": {\"fill\": {\"color\": \"#EBF0F8\"}, \"line\": {\"color\": \"white\"}}, \"header\": {\"fill\": {\"color\": \"#C8D4E3\"}, \"line\": {\"color\": \"white\"}}, \"type\": \"table\"}]}, \"layout\": {\"annotationdefaults\": {\"arrowcolor\": \"#2a3f5f\", \"arrowhead\": 0, \"arrowwidth\": 1}, \"coloraxis\": {\"colorbar\": {\"outlinewidth\": 0, \"ticks\": \"\"}}, \"colorscale\": {\"diverging\": [[0, \"#8e0152\"], [0.1, \"#c51b7d\"], [0.2, \"#de77ae\"], [0.3, \"#f1b6da\"], [0.4, \"#fde0ef\"], [0.5, \"#f7f7f7\"], [0.6, \"#e6f5d0\"], [0.7, \"#b8e186\"], [0.8, \"#7fbc41\"], [0.9, \"#4d9221\"], [1, \"#276419\"]], \"sequential\": [[0.0, \"#0d0887\"], [0.1111111111111111, \"#46039f\"], [0.2222222222222222, \"#7201a8\"], [0.3333333333333333, \"#9c179e\"], [0.4444444444444444, \"#bd3786\"], [0.5555555555555556, \"#d8576b\"], [0.6666666666666666, \"#ed7953\"], [0.7777777777777778, \"#fb9f3a\"], [0.8888888888888888, \"#fdca26\"], [1.0, \"#f0f921\"]], \"sequentialminus\": [[0.0, \"#0d0887\"], [0.1111111111111111, \"#46039f\"], [0.2222222222222222, \"#7201a8\"], [0.3333333333333333, \"#9c179e\"], [0.4444444444444444, \"#bd3786\"], [0.5555555555555556, \"#d8576b\"], [0.6666666666666666, \"#ed7953\"], [0.7777777777777778, \"#fb9f3a\"], [0.8888888888888888, \"#fdca26\"], [1.0, \"#f0f921\"]]}, \"colorway\": [\"#636efa\", \"#EF553B\", \"#00cc96\", \"#ab63fa\", \"#FFA15A\", \"#19d3f3\", \"#FF6692\", \"#B6E880\", \"#FF97FF\", \"#FECB52\"], \"font\": {\"color\": \"#2a3f5f\"}, \"geo\": {\"bgcolor\": \"white\", \"lakecolor\": \"white\", \"landcolor\": \"#E5ECF6\", \"showlakes\": true, \"showland\": true, \"subunitcolor\": \"white\"}, \"hoverlabel\": {\"align\": \"left\"}, \"hovermode\": \"closest\", \"mapbox\": {\"style\": \"light\"}, \"paper_bgcolor\": \"white\", \"plot_bgcolor\": \"#E5ECF6\", \"polar\": {\"angularaxis\": {\"gridcolor\": \"white\", \"linecolor\": \"white\", \"ticks\": \"\"}, \"bgcolor\": \"#E5ECF6\", \"radialaxis\": {\"gridcolor\": \"white\", \"linecolor\": \"white\", \"ticks\": \"\"}}, \"scene\": {\"xaxis\": {\"backgroundcolor\": \"#E5ECF6\", \"gridcolor\": \"white\", \"gridwidth\": 2, \"linecolor\": \"white\", \"showbackground\": true, \"ticks\": \"\", \"zerolinecolor\": \"white\"}, \"yaxis\": {\"backgroundcolor\": \"#E5ECF6\", \"gridcolor\": \"white\", \"gridwidth\": 2, \"linecolor\": \"white\", \"showbackground\": true, \"ticks\": \"\", \"zerolinecolor\": \"white\"}, \"zaxis\": {\"backgroundcolor\": \"#E5ECF6\", \"gridcolor\": \"white\", \"gridwidth\": 2, \"linecolor\": \"white\", \"showbackground\": true, \"ticks\": \"\", \"zerolinecolor\": \"white\"}}, \"shapedefaults\": {\"line\": {\"color\": \"#2a3f5f\"}}, \"ternary\": {\"aaxis\": {\"gridcolor\": \"white\", \"linecolor\": \"white\", \"ticks\": \"\"}, \"baxis\": {\"gridcolor\": \"white\", \"linecolor\": \"white\", \"ticks\": \"\"}, \"bgcolor\": \"#E5ECF6\", \"caxis\": {\"gridcolor\": \"white\", \"linecolor\": \"white\", \"ticks\": \"\"}}, \"title\": {\"x\": 0.05}, \"xaxis\": {\"automargin\": true, \"gridcolor\": \"white\", \"linecolor\": \"white\", \"ticks\": \"\", \"title\": {\"standoff\": 15}, \"zerolinecolor\": \"white\", \"zerolinewidth\": 2}, \"yaxis\": {\"automargin\": true, \"gridcolor\": \"white\", \"linecolor\": \"white\", \"ticks\": \"\", \"title\": {\"standoff\": 15}, \"zerolinecolor\": \"white\", \"zerolinewidth\": 2}}}, \"title\": {\"text\": \"Non-Smoker Medical Charges\"}},\n",
              "                        {\"responsive\": true}\n",
              "                    ).then(function(){\n",
              "                            \n",
              "var gd = document.getElementById('216fe89a-a9fd-4192-8ef5-cf0b27eb50a5');\n",
              "var x = new MutationObserver(function (mutations, observer) {{\n",
              "        var display = window.getComputedStyle(gd).display;\n",
              "        if (!display || display === 'none') {{\n",
              "            console.log([gd, 'removed!']);\n",
              "            Plotly.purge(gd);\n",
              "            observer.disconnect();\n",
              "        }}\n",
              "}});\n",
              "\n",
              "// Listen for the removal of the full notebook cells\n",
              "var notebookContainer = gd.closest('#notebook-container');\n",
              "if (notebookContainer) {{\n",
              "    x.observe(notebookContainer, {childList: true});\n",
              "}}\n",
              "\n",
              "// Listen for the clearing of the current output cell\n",
              "var outputEl = gd.closest('.output');\n",
              "if (outputEl) {{\n",
              "    x.observe(outputEl, {childList: true});\n",
              "}}\n",
              "\n",
              "                        })\n",
              "                };\n",
              "                \n",
              "            </script>\n",
              "        </div>\n",
              "</body>\n",
              "</html>"
            ]
          },
          "metadata": {
            "tags": []
          }
        }
      ]
    },
    {
      "cell_type": "markdown",
      "metadata": {
        "id": "fIX9WoMG6EXe"
      },
      "source": [
        "Multiple Features"
      ]
    },
    {
      "cell_type": "code",
      "metadata": {
        "id": "EeDFEXhc4s6n"
      },
      "source": [
        "features = non_smoker_df[['age', 'bmi', 'children']]\n",
        "targets = non_smoker_df['charges']"
      ],
      "execution_count": null,
      "outputs": []
    },
    {
      "cell_type": "code",
      "metadata": {
        "id": "tU7E4VzUg5zs"
      },
      "source": [
        "model = LinearRegression()\n",
        "model.fit(features, targets)\n",
        "model.predict(features)"
      ],
      "execution_count": null,
      "outputs": []
    },
    {
      "cell_type": "markdown",
      "metadata": {
        "id": "uzXqtysx7CNr"
      },
      "source": [
        "### Preprocessing Data\n",
        "- Feature Scalling\n",
        "- Encoding Catergorical values\n",
        "- Splitting Data: Creating Validation Set"
      ]
    },
    {
      "cell_type": "markdown",
      "metadata": {
        "id": "OqZMbmojS-is"
      },
      "source": [
        "Apply Feature Scalling with `StandardScaler` from `scikit-learn`\n",
        "\n"
      ]
    },
    {
      "cell_type": "markdown",
      "metadata": {
        "id": "wXQ6JMRenry7"
      },
      "source": [
        "Create a deep copy of `Medical_df` to store training data, which is encoded values"
      ]
    },
    {
      "cell_type": "code",
      "metadata": {
        "id": "eqRwryMXm_db"
      },
      "source": [
        "training_df = medical_df.copy(deep=True)"
      ],
      "execution_count": null,
      "outputs": []
    },
    {
      "cell_type": "code",
      "metadata": {
        "colab": {
          "base_uri": "https://localhost:8080/"
        },
        "id": "--lAoWm_TLUm",
        "outputId": "a364f51b-1585-4cba-e33a-341c7b5c2923"
      },
      "source": [
        "numeric_cols = ['age', 'bmi', 'children'] \n",
        "scaler = preprocessing.StandardScaler()\n",
        "\n",
        "# fit and transform numerical cols\n",
        "training_df[['ages', 'bmi', 'children']] = scaler.fit_transform(medical_df[numeric_cols])\n",
        "scaler.var_, scaler.mean_"
      ],
      "execution_count": null,
      "outputs": [
        {
          "output_type": "execute_result",
          "data": {
            "text/plain": [
              "(array([197.25385199,  37.16008997,   1.45212664]),\n",
              " array([39.20702541, 30.66339686,  1.09491779]))"
            ]
          },
          "metadata": {
            "tags": []
          },
          "execution_count": 115
        }
      ]
    },
    {
      "cell_type": "code",
      "metadata": {
        "id": "kPo5SoTOi64e"
      },
      "source": [
        "# label encoding sex and smoker columns\n",
        "label_encoder = preprocessing.OrdinalEncoder()\n",
        "training_df['sex'] = label_encoder.fit_transform(medical_df[['sex']])\n",
        "training_df['smoker'] = label_encoder.fit_transform(medical_df[['smoker']])"
      ],
      "execution_count": null,
      "outputs": []
    },
    {
      "cell_type": "code",
      "metadata": {
        "id": "vEeGlQ6rUQKK"
      },
      "source": [
        "# one-hot encoding region categorical values\n",
        "encoder = preprocessing.OneHotEncoder()\n",
        "encoded_regions = encoder.fit_transform(medical_df[['region']]).toarray()\n",
        "training_df[['northeast', 'northwest', 'southeast', 'southwest']] = encoded_regions\n",
        "# drop the encoded col\n",
        "training_df.drop(['region'], axis=1, inplace=True)"
      ],
      "execution_count": null,
      "outputs": []
    },
    {
      "cell_type": "code",
      "metadata": {
        "id": "JJVyZjipXiY4"
      },
      "source": [
        "# define the features and predict targets\n",
        "features = training_df.drop(['charges'], axis=1).values\n",
        "targets = training_df.charges.values"
      ],
      "execution_count": null,
      "outputs": []
    },
    {
      "cell_type": "markdown",
      "metadata": {
        "id": "dm4OnI_JpmnG"
      },
      "source": [
        "Creating Validation Set\n",
        "\n",
        "Using `train_test_split` from scikit-learn to split features and targets values into training dataset and test set, which will be used to evaluate model"
      ]
    },
    {
      "cell_type": "code",
      "metadata": {
        "id": "OLGeL5KlOWYM"
      },
      "source": [
        "# using 20 percent for validation\n",
        "features_train, features_test, targets_train, targets_test = train_test_split(features, targets, test_size=0.2)"
      ],
      "execution_count": null,
      "outputs": []
    },
    {
      "cell_type": "markdown",
      "metadata": {
        "id": "FBetZwiv1YDm"
      },
      "source": [
        "### Linear Regression Model with Scikit-Learn\n",
        "Create a linear regression model using scikit-learn libraries."
      ]
    },
    {
      "cell_type": "markdown",
      "metadata": {
        "id": "_fgczNUf1pax"
      },
      "source": [
        "we can use `help` on model method to access to its parameter information\n",
        "\n"
      ]
    },
    {
      "cell_type": "code",
      "metadata": {
        "id": "B7E8OWBj1Xib"
      },
      "source": [
        "model = LinearRegression()\n",
        "help(model.fit)"
      ],
      "execution_count": null,
      "outputs": []
    },
    {
      "cell_type": "markdown",
      "metadata": {
        "id": "AViuYg-mqGm4"
      },
      "source": [
        "Train the model with train dataset"
      ]
    },
    {
      "cell_type": "code",
      "metadata": {
        "id": "U-573tG76c2b"
      },
      "source": [
        "history = model.fit(features_train, targets_train)"
      ],
      "execution_count": null,
      "outputs": []
    },
    {
      "cell_type": "markdown",
      "metadata": {
        "id": "JvznmR14fImx"
      },
      "source": [
        "Model's coefficient/weights and intercept/bias"
      ]
    },
    {
      "cell_type": "code",
      "metadata": {
        "colab": {
          "base_uri": "https://localhost:8080/"
        },
        "id": "qEK5NJZXedbx",
        "outputId": "ba6e42c7-a0ad-4fd1-a9b8-6a290dd2f046"
      },
      "source": [
        "model.coef_, model.intercept_"
      ],
      "execution_count": null,
      "outputs": [
        {
          "output_type": "execute_result",
          "data": {
            "text/plain": [
              "(array([ 2.64133306e+02, -1.66849206e+02,  2.08449271e+03,  5.60075203e+02,\n",
              "         2.36897816e+04,  5.54831320e+02,  2.26929249e+02, -4.20779788e+02,\n",
              "        -3.60980780e+02,  1.88066058e+01]), -1800.782594175942)"
            ]
          },
          "metadata": {
            "tags": []
          },
          "execution_count": 133
        }
      ]
    },
    {
      "cell_type": "code",
      "metadata": {
        "colab": {
          "base_uri": "https://localhost:8080/",
          "height": 382
        },
        "id": "8M2NVa7mfUxt",
        "outputId": "0dd92bce-3e1d-4de8-bc9d-39aca9168acf"
      },
      "source": [
        "weight_df = pd.DataFrame({'Features': np.append(training_df.drop('charges', axis=1).columns, 'Bias'),\n",
        "                          'Weights': np.append(model.coef_, model.intercept_)})\n",
        "weight_df.sort_values(by='Weights', ascending=False)"
      ],
      "execution_count": null,
      "outputs": [
        {
          "output_type": "execute_result",
          "data": {
            "text/html": [
              "<div>\n",
              "<style scoped>\n",
              "    .dataframe tbody tr th:only-of-type {\n",
              "        vertical-align: middle;\n",
              "    }\n",
              "\n",
              "    .dataframe tbody tr th {\n",
              "        vertical-align: top;\n",
              "    }\n",
              "\n",
              "    .dataframe thead th {\n",
              "        text-align: right;\n",
              "    }\n",
              "</style>\n",
              "<table border=\"1\" class=\"dataframe\">\n",
              "  <thead>\n",
              "    <tr style=\"text-align: right;\">\n",
              "      <th></th>\n",
              "      <th>Features</th>\n",
              "      <th>Weights</th>\n",
              "    </tr>\n",
              "  </thead>\n",
              "  <tbody>\n",
              "    <tr>\n",
              "      <th>4</th>\n",
              "      <td>smoker</td>\n",
              "      <td>23689.781592</td>\n",
              "    </tr>\n",
              "    <tr>\n",
              "      <th>2</th>\n",
              "      <td>bmi</td>\n",
              "      <td>2084.492712</td>\n",
              "    </tr>\n",
              "    <tr>\n",
              "      <th>3</th>\n",
              "      <td>children</td>\n",
              "      <td>560.075203</td>\n",
              "    </tr>\n",
              "    <tr>\n",
              "      <th>5</th>\n",
              "      <td>northeast</td>\n",
              "      <td>554.831320</td>\n",
              "    </tr>\n",
              "    <tr>\n",
              "      <th>0</th>\n",
              "      <td>age</td>\n",
              "      <td>264.133306</td>\n",
              "    </tr>\n",
              "    <tr>\n",
              "      <th>6</th>\n",
              "      <td>northwest</td>\n",
              "      <td>226.929249</td>\n",
              "    </tr>\n",
              "    <tr>\n",
              "      <th>9</th>\n",
              "      <td>ages</td>\n",
              "      <td>18.806606</td>\n",
              "    </tr>\n",
              "    <tr>\n",
              "      <th>1</th>\n",
              "      <td>sex</td>\n",
              "      <td>-166.849206</td>\n",
              "    </tr>\n",
              "    <tr>\n",
              "      <th>8</th>\n",
              "      <td>southwest</td>\n",
              "      <td>-360.980780</td>\n",
              "    </tr>\n",
              "    <tr>\n",
              "      <th>7</th>\n",
              "      <td>southeast</td>\n",
              "      <td>-420.779788</td>\n",
              "    </tr>\n",
              "    <tr>\n",
              "      <th>10</th>\n",
              "      <td>Bias</td>\n",
              "      <td>-1800.782594</td>\n",
              "    </tr>\n",
              "  </tbody>\n",
              "</table>\n",
              "</div>"
            ],
            "text/plain": [
              "     Features       Weights\n",
              "4      smoker  23689.781592\n",
              "2         bmi   2084.492712\n",
              "3    children    560.075203\n",
              "5   northeast    554.831320\n",
              "0         age    264.133306\n",
              "6   northwest    226.929249\n",
              "9        ages     18.806606\n",
              "1         sex   -166.849206\n",
              "8   southwest   -360.980780\n",
              "7   southeast   -420.779788\n",
              "10       Bias  -1800.782594"
            ]
          },
          "metadata": {
            "tags": []
          },
          "execution_count": 134
        }
      ]
    },
    {
      "cell_type": "markdown",
      "metadata": {
        "id": "R6NryYJnrGD_"
      },
      "source": [
        "As indicate in the dataframe, smoking status, age and BMI are important features"
      ]
    },
    {
      "cell_type": "markdown",
      "metadata": {
        "id": "gzbA-nl5edru"
      },
      "source": [
        "Making prediction"
      ]
    },
    {
      "cell_type": "code",
      "metadata": {
        "id": "IZiRcC1W6jO8"
      },
      "source": [
        "train_pred = model.predict(features_train)\n",
        "test_pred = model.predict(features_test)"
      ],
      "execution_count": null,
      "outputs": []
    },
    {
      "cell_type": "markdown",
      "metadata": {
        "id": "2g_M_iER6XPg"
      },
      "source": [
        "### Model Evaluation"
      ]
    },
    {
      "cell_type": "markdown",
      "metadata": {
        "id": "3BkMXt10Btkk"
      },
      "source": [
        "Loss Function\n",
        "\n",
        "\n",
        "> **Root mean squared error (RMSE)** is used to caluclate the loss of linear prediction\n",
        "\n"
      ]
    },
    {
      "cell_type": "code",
      "metadata": {
        "id": "dOj3JtES6ZSc"
      },
      "source": [
        "from sklearn.model_selection import cross_val_score\n",
        "from sklearn.metrics import mean_squared_error as MSE"
      ],
      "execution_count": null,
      "outputs": []
    },
    {
      "cell_type": "code",
      "metadata": {
        "colab": {
          "base_uri": "https://localhost:8080/"
        },
        "id": "wNIogfHF6r22",
        "outputId": "f2473938-4174-43c5-baea-4d89f7bd0a22"
      },
      "source": [
        "cross_val_score(model, features_train, targets_train, cv=3)"
      ],
      "execution_count": null,
      "outputs": [
        {
          "output_type": "execute_result",
          "data": {
            "text/plain": [
              "array([0.67545891, 0.7768933 , 0.77533127])"
            ]
          },
          "metadata": {
            "tags": []
          },
          "execution_count": 139
        }
      ]
    },
    {
      "cell_type": "code",
      "metadata": {
        "colab": {
          "base_uri": "https://localhost:8080/"
        },
        "id": "gb1W5Yvi9yKa",
        "outputId": "7572108e-effa-4f11-d381-e3ce432f5b2e"
      },
      "source": [
        "# compute the loss for train dataset and test dataset\n",
        "train_loss = np.sqrt(MSE(targets_train, train_pred))\n",
        "test_loss = np.sqrt(MSE(targets_test, test_pred))\n",
        "print(f'Train Loss: {train_loss}, Test Loss: {test_loss}')"
      ],
      "execution_count": null,
      "outputs": [
        {
          "output_type": "stream",
          "text": [
            "Train Loss: 6040.923639158533, Test Loss: 6053.9930015752025\n"
          ],
          "name": "stdout"
        }
      ]
    }
  ]
}