{
  "nbformat": 4,
  "nbformat_minor": 0,
  "metadata": {
    "colab": {
      "name": "Objects_Tracking_w/OpenCV.ipynb",
      "provenance": [],
      "authorship_tag": "ABX9TyMz7IgAZ8tBqO1zYafDM4BF",
      "include_colab_link": true
    },
    "kernelspec": {
      "name": "python3",
      "display_name": "Python 3"
    },
    "language_info": {
      "name": "python"
    }
  },
  "cells": [
    {
      "cell_type": "markdown",
      "metadata": {
        "id": "view-in-github",
        "colab_type": "text"
      },
      "source": [
        "<a href=\"https://colab.research.google.com/github/Satorumi/Machine-Learning/blob/main/Objects_Tracking_w_OpenCV.ipynb\" target=\"_parent\"><img src=\"https://colab.research.google.com/assets/colab-badge.svg\" alt=\"Open In Colab\"/></a>"
      ]
    },
    {
      "cell_type": "markdown",
      "metadata": {
        "id": "QeR6zFiyet3J"
      },
      "source": [
        "#### Object tracking\n",
        "\n"
      ]
    },
    {
      "cell_type": "code",
      "metadata": {
        "colab": {
          "base_uri": "https://localhost:8080/"
        },
        "id": "YjaiizjUe4Gi",
        "outputId": "13b545d2-31f1-4e16-c622-b7a5eeb488ee"
      },
      "source": [
        "!pip install opencv-contrib-python"
      ],
      "execution_count": null,
      "outputs": [
        {
          "output_type": "stream",
          "text": [
            "Requirement already satisfied: opencv-contrib-python in /usr/local/lib/python3.7/dist-packages (4.1.2.30)\n",
            "Requirement already satisfied: numpy>=1.14.5 in /usr/local/lib/python3.7/dist-packages (from opencv-contrib-python) (1.19.5)\n"
          ],
          "name": "stdout"
        }
      ]
    },
    {
      "cell_type": "code",
      "metadata": {
        "id": "5rouItAfetI6"
      },
      "source": [
        "import cv2 as cv\n",
        "import num\n",
        "from imutils.video import FPS"
      ],
      "execution_count": null,
      "outputs": []
    },
    {
      "cell_type": "markdown",
      "metadata": {
        "id": "UGQI00BstStE"
      },
      "source": [
        "#####Setup"
      ]
    },
    {
      "cell_type": "code",
      "metadata": {
        "id": "DPsC99_ueykk"
      },
      "source": [
        "# set up camera\n",
        "cap = cv.VideoCapture(0)\n",
        "\n",
        "# using cv2 tracker\n",
        "# a list of 7 OpenCV trackers\n",
        "OpenCV_Object_Trackers = {\n",
        "\t\t1: cv2.TrackerCSRT_create,\n",
        "\t\t2: cv2.TrackerKCF_create,\n",
        "\t\t3: cv2.TrackerBoosting_create,\n",
        "\t\t4: cv2.TrackerMIL_create,\n",
        "\t\t5: cv2.TrackerTLD_create,\n",
        "\t\t6: cv2.TrackerMedianFlow_create,\n",
        "\t\t7: cv2.TrackerMOSSE_create\n",
        "}"
      ],
      "execution_count": null,
      "outputs": []
    },
    {
      "cell_type": "markdown",
      "metadata": {
        "id": "pgjUwLKDs8NO"
      },
      "source": [
        "####Single Object\n",
        "\n",
        "ref: https://www.pyimagesearch.com/2018/07/30/opencv-object-tracking/"
      ]
    },
    {
      "cell_type": "code",
      "metadata": {
        "id": "xPczy0V7gc5b"
      },
      "source": [
        "while True:\n",
        "  success, frame = cap.read()\n",
        "  fps = FPS().start() # set fps\n",
        "\n",
        "  # get the user to select obj to track\n",
        "  if cv.waitKey(1) & 0xff == ord('s'): # press s to select obj and tracker\n",
        "    bbox = cv.selectROI('Image', frame, False) # record the bbox which will be update\n",
        "\n",
        "    # select a type of tracker\n",
        "    tracker = OpenCV_Object_Trackers[7]()\n",
        "    # initilize tracker\n",
        "    tracker.init(frame, bbox) # pass in initial bounding box and img\n",
        "\n",
        "  if tracker.init() is not None:\n",
        "    # update the tracking process to obj variable\n",
        "    success, bbox = tracker.update(frame)\n",
        "    if success: # if the track is updated\n",
        "      x, y, w, h = int(val) for val in bbox # get values\n",
        "      # draw a rectangle\n",
        "      cv.rectangle(frame, (x, y), (x + w, y + h), 0, 255, 0), 1)\n",
        "\n",
        "    # retrieve info\n",
        "    info = [\n",
        "          (\"Tracker\", OpenCV_Object_Trackers[7]),\n",
        "          (\"Progress\", \"Tracking\" if success else \"Lost Track\"),\n",
        "          (\"FPS\", fps.fps())\n",
        "        ]\n",
        "\n",
        "    # display the info on screen\n",
        "    for index, (key, val) in enumerate(info):\n",
        "      text = f'{key}: {val}'\n",
        "      cv.putText(frame, text, (10, H - ((i * 20) + 20)), cv.FONT_HERSHEY_COMPLEX, 0.7, (0,0,255), 2)\n",
        "\n",
        "\n",
        "  # update fps \n",
        "  fps.update()\n",
        "\tfps.stop()\n",
        "  cv.imshow('Frame', frame)\n",
        "\n",
        "  if cv.waitKey(1) & 0xff == ord('q'): # press q to quit\n",
        "    break"
      ],
      "execution_count": null,
      "outputs": []
    },
    {
      "cell_type": "markdown",
      "metadata": {
        "id": "iX6FChy-tI_w"
      },
      "source": [
        "####Multiple Objects\n",
        "\n",
        "ref: https://learnopencv.com/multitracker-multiple-object-tracking-using-opencv-c-python/"
      ]
    },
    {
      "cell_type": "code",
      "metadata": {
        "id": "_iIZ4u28uNiS"
      },
      "source": [
        "bboxes = [] # store all objs bbox\n",
        "colors = [] # color for each obj\n"
      ],
      "execution_count": null,
      "outputs": []
    },
    {
      "cell_type": "code",
      "metadata": {
        "id": "l2awF_cxjHP7"
      },
      "source": [
        "while True:\n",
        "  success, frame = cap.read()\n",
        "\n",
        "  # press s to select object\n",
        "  if cv.waitKey(1) & 0xff == ord('s'):\n",
        "    bbox = cv.selectROI('MultiTracker', frame, False)\n",
        "    # generate random color for each obj\n",
        "    colors.append((randint(0, 255), randint(0, 255), randint(0, 255)))\n",
        "    # add the bbox to list\n",
        "    bboxes.append(bbox)\n",
        "\n",
        "    multiTracker = cv2.MultiTracker_create()\n",
        "    for bbox in bboxes:\n",
        "      # create a tracker for each obj\n",
        "      multiTracker.add(OpenCV_Object_Trackers[7](), frame, bbox)\n",
        "\n",
        "  if bboxes: # if not None\n",
        "  # updating tracker\n",
        "    success, boxes = multiTracker.update(frame)\n",
        "    if success:\n",
        "      for index, box in enumerate(boxes): # loop trhough every bbox\n",
        "        x, y, w, h = int(val) for val in box\n",
        "        # draw the obj with its color\n",
        "        cv2.rectangle(frame, (x,y), (x+w, y+h), colors[index], 2, 1)\n",
        "\n",
        "      \n",
        "    info = [\n",
        "          (\"Tracker\", OpenCV_Object_Trackers[7]),\n",
        "          (\"Progress\", \"Tracking\" if success else \"Lost Track\"),\n",
        "          (\"FPS\", fps.fps()),\n",
        "          ('Number of Objects', len(bboxes))\n",
        "        ]\n",
        "    # displat info\n",
        "    for index, (key, val) in enumerate(info):\n",
        "      text = f'{key}: {val}'\n",
        "      cv.putText(frame, text, (10, H - ((i * 20) + 20)), cv.FONT_HERSHEY_COMPLEX, 0.7, (0,0,255), 2)\n",
        "\n",
        "\n",
        "  cv.imshow('Frame', frame)\n",
        "\n",
        "  if cv.waitKey(1) & 0xff == ord('q'): # press q to quit\n",
        "    break"
      ],
      "execution_count": null,
      "outputs": []
    }
  ]
}