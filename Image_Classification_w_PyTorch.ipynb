{
  "nbformat": 4,
  "nbformat_minor": 0,
  "metadata": {
    "colab": {
      "name": "Image_Classification_w/PyTorch.ipynb",
      "provenance": [],
      "authorship_tag": "ABX9TyNBrZ6Xs0Jp43WnwTdWHEvX",
      "include_colab_link": true
    },
    "kernelspec": {
      "display_name": "Python 3",
      "name": "python3"
    },
    "language_info": {
      "name": "python"
    },
    "widgets": {
      "application/vnd.jupyter.widget-state+json": {
        "1b4206076afc4da184d4f17021aec1b0": {
          "model_module": "@jupyter-widgets/controls",
          "model_name": "HBoxModel",
          "state": {
            "_dom_classes": [],
            "_model_module": "@jupyter-widgets/controls",
            "_model_module_version": "1.5.0",
            "_model_name": "HBoxModel",
            "_view_count": null,
            "_view_module": "@jupyter-widgets/controls",
            "_view_module_version": "1.5.0",
            "_view_name": "HBoxView",
            "box_style": "",
            "children": [
              "IPY_MODEL_172e0645f7364028bae75d7cf44f9319",
              "IPY_MODEL_6aab7d1796ba4b498858a41b56b52233"
            ],
            "layout": "IPY_MODEL_bb8db96dddff495c9746bf1a6e5ed290"
          }
        },
        "172e0645f7364028bae75d7cf44f9319": {
          "model_module": "@jupyter-widgets/controls",
          "model_name": "FloatProgressModel",
          "state": {
            "_dom_classes": [],
            "_model_module": "@jupyter-widgets/controls",
            "_model_module_version": "1.5.0",
            "_model_name": "FloatProgressModel",
            "_view_count": null,
            "_view_module": "@jupyter-widgets/controls",
            "_view_module_version": "1.5.0",
            "_view_name": "ProgressView",
            "bar_style": "success",
            "description": "",
            "description_tooltip": null,
            "layout": "IPY_MODEL_955d856abf5e4d459e8da7f51310348c",
            "max": 26421880,
            "min": 0,
            "orientation": "horizontal",
            "style": "IPY_MODEL_0afd1329daea437c89a17cefa2e7526a",
            "value": 26421880
          }
        },
        "6aab7d1796ba4b498858a41b56b52233": {
          "model_module": "@jupyter-widgets/controls",
          "model_name": "HTMLModel",
          "state": {
            "_dom_classes": [],
            "_model_module": "@jupyter-widgets/controls",
            "_model_module_version": "1.5.0",
            "_model_name": "HTMLModel",
            "_view_count": null,
            "_view_module": "@jupyter-widgets/controls",
            "_view_module_version": "1.5.0",
            "_view_name": "HTMLView",
            "description": "",
            "description_tooltip": null,
            "layout": "IPY_MODEL_bd50a4f9d61b4a2c908a34142605ba5f",
            "placeholder": "​",
            "style": "IPY_MODEL_1144cc6bce434871be9e760de345d430",
            "value": " 26422272/? [01:49&lt;00:00, 240392.19it/s]"
          }
        },
        "bb8db96dddff495c9746bf1a6e5ed290": {
          "model_module": "@jupyter-widgets/base",
          "model_name": "LayoutModel",
          "state": {
            "_model_module": "@jupyter-widgets/base",
            "_model_module_version": "1.2.0",
            "_model_name": "LayoutModel",
            "_view_count": null,
            "_view_module": "@jupyter-widgets/base",
            "_view_module_version": "1.2.0",
            "_view_name": "LayoutView",
            "align_content": null,
            "align_items": null,
            "align_self": null,
            "border": null,
            "bottom": null,
            "display": null,
            "flex": null,
            "flex_flow": null,
            "grid_area": null,
            "grid_auto_columns": null,
            "grid_auto_flow": null,
            "grid_auto_rows": null,
            "grid_column": null,
            "grid_gap": null,
            "grid_row": null,
            "grid_template_areas": null,
            "grid_template_columns": null,
            "grid_template_rows": null,
            "height": null,
            "justify_content": null,
            "justify_items": null,
            "left": null,
            "margin": null,
            "max_height": null,
            "max_width": null,
            "min_height": null,
            "min_width": null,
            "object_fit": null,
            "object_position": null,
            "order": null,
            "overflow": null,
            "overflow_x": null,
            "overflow_y": null,
            "padding": null,
            "right": null,
            "top": null,
            "visibility": null,
            "width": null
          }
        },
        "955d856abf5e4d459e8da7f51310348c": {
          "model_module": "@jupyter-widgets/base",
          "model_name": "LayoutModel",
          "state": {
            "_model_module": "@jupyter-widgets/base",
            "_model_module_version": "1.2.0",
            "_model_name": "LayoutModel",
            "_view_count": null,
            "_view_module": "@jupyter-widgets/base",
            "_view_module_version": "1.2.0",
            "_view_name": "LayoutView",
            "align_content": null,
            "align_items": null,
            "align_self": null,
            "border": null,
            "bottom": null,
            "display": null,
            "flex": null,
            "flex_flow": null,
            "grid_area": null,
            "grid_auto_columns": null,
            "grid_auto_flow": null,
            "grid_auto_rows": null,
            "grid_column": null,
            "grid_gap": null,
            "grid_row": null,
            "grid_template_areas": null,
            "grid_template_columns": null,
            "grid_template_rows": null,
            "height": null,
            "justify_content": null,
            "justify_items": null,
            "left": null,
            "margin": null,
            "max_height": null,
            "max_width": null,
            "min_height": null,
            "min_width": null,
            "object_fit": null,
            "object_position": null,
            "order": null,
            "overflow": null,
            "overflow_x": null,
            "overflow_y": null,
            "padding": null,
            "right": null,
            "top": null,
            "visibility": null,
            "width": null
          }
        },
        "0afd1329daea437c89a17cefa2e7526a": {
          "model_module": "@jupyter-widgets/controls",
          "model_name": "ProgressStyleModel",
          "state": {
            "_model_module": "@jupyter-widgets/controls",
            "_model_module_version": "1.5.0",
            "_model_name": "ProgressStyleModel",
            "_view_count": null,
            "_view_module": "@jupyter-widgets/base",
            "_view_module_version": "1.2.0",
            "_view_name": "StyleView",
            "bar_color": null,
            "description_width": "initial"
          }
        },
        "bd50a4f9d61b4a2c908a34142605ba5f": {
          "model_module": "@jupyter-widgets/base",
          "model_name": "LayoutModel",
          "state": {
            "_model_module": "@jupyter-widgets/base",
            "_model_module_version": "1.2.0",
            "_model_name": "LayoutModel",
            "_view_count": null,
            "_view_module": "@jupyter-widgets/base",
            "_view_module_version": "1.2.0",
            "_view_name": "LayoutView",
            "align_content": null,
            "align_items": null,
            "align_self": null,
            "border": null,
            "bottom": null,
            "display": null,
            "flex": null,
            "flex_flow": null,
            "grid_area": null,
            "grid_auto_columns": null,
            "grid_auto_flow": null,
            "grid_auto_rows": null,
            "grid_column": null,
            "grid_gap": null,
            "grid_row": null,
            "grid_template_areas": null,
            "grid_template_columns": null,
            "grid_template_rows": null,
            "height": null,
            "justify_content": null,
            "justify_items": null,
            "left": null,
            "margin": null,
            "max_height": null,
            "max_width": null,
            "min_height": null,
            "min_width": null,
            "object_fit": null,
            "object_position": null,
            "order": null,
            "overflow": null,
            "overflow_x": null,
            "overflow_y": null,
            "padding": null,
            "right": null,
            "top": null,
            "visibility": null,
            "width": null
          }
        },
        "1144cc6bce434871be9e760de345d430": {
          "model_module": "@jupyter-widgets/controls",
          "model_name": "DescriptionStyleModel",
          "state": {
            "_model_module": "@jupyter-widgets/controls",
            "_model_module_version": "1.5.0",
            "_model_name": "DescriptionStyleModel",
            "_view_count": null,
            "_view_module": "@jupyter-widgets/base",
            "_view_module_version": "1.2.0",
            "_view_name": "StyleView",
            "description_width": ""
          }
        },
        "c1ee1e2d9a1644719ac2d7cb2e66eb97": {
          "model_module": "@jupyter-widgets/controls",
          "model_name": "HBoxModel",
          "state": {
            "_dom_classes": [],
            "_model_module": "@jupyter-widgets/controls",
            "_model_module_version": "1.5.0",
            "_model_name": "HBoxModel",
            "_view_count": null,
            "_view_module": "@jupyter-widgets/controls",
            "_view_module_version": "1.5.0",
            "_view_name": "HBoxView",
            "box_style": "",
            "children": [
              "IPY_MODEL_840cedc8dcd84d45a5e8b7cdbc09e2cd",
              "IPY_MODEL_84b50f2e488d4aa39d1b7618636947ee"
            ],
            "layout": "IPY_MODEL_6063ecddb7d24c68913ecc036fe8274b"
          }
        },
        "840cedc8dcd84d45a5e8b7cdbc09e2cd": {
          "model_module": "@jupyter-widgets/controls",
          "model_name": "FloatProgressModel",
          "state": {
            "_dom_classes": [],
            "_model_module": "@jupyter-widgets/controls",
            "_model_module_version": "1.5.0",
            "_model_name": "FloatProgressModel",
            "_view_count": null,
            "_view_module": "@jupyter-widgets/controls",
            "_view_module_version": "1.5.0",
            "_view_name": "ProgressView",
            "bar_style": "success",
            "description": "",
            "description_tooltip": null,
            "layout": "IPY_MODEL_da05d8b832b3452682d61be4e9fa9adb",
            "max": 29515,
            "min": 0,
            "orientation": "horizontal",
            "style": "IPY_MODEL_b5d1c46fc620417f927b751c1ab0249f",
            "value": 29515
          }
        },
        "84b50f2e488d4aa39d1b7618636947ee": {
          "model_module": "@jupyter-widgets/controls",
          "model_name": "HTMLModel",
          "state": {
            "_dom_classes": [],
            "_model_module": "@jupyter-widgets/controls",
            "_model_module_version": "1.5.0",
            "_model_name": "HTMLModel",
            "_view_count": null,
            "_view_module": "@jupyter-widgets/controls",
            "_view_module_version": "1.5.0",
            "_view_name": "HTMLView",
            "description": "",
            "description_tooltip": null,
            "layout": "IPY_MODEL_e1719257446b4c458837e0f29060123b",
            "placeholder": "​",
            "style": "IPY_MODEL_4a5144d8903e4019924518ae8b395057",
            "value": " 29696/? [00:00&lt;00:00, 53161.21it/s]"
          }
        },
        "6063ecddb7d24c68913ecc036fe8274b": {
          "model_module": "@jupyter-widgets/base",
          "model_name": "LayoutModel",
          "state": {
            "_model_module": "@jupyter-widgets/base",
            "_model_module_version": "1.2.0",
            "_model_name": "LayoutModel",
            "_view_count": null,
            "_view_module": "@jupyter-widgets/base",
            "_view_module_version": "1.2.0",
            "_view_name": "LayoutView",
            "align_content": null,
            "align_items": null,
            "align_self": null,
            "border": null,
            "bottom": null,
            "display": null,
            "flex": null,
            "flex_flow": null,
            "grid_area": null,
            "grid_auto_columns": null,
            "grid_auto_flow": null,
            "grid_auto_rows": null,
            "grid_column": null,
            "grid_gap": null,
            "grid_row": null,
            "grid_template_areas": null,
            "grid_template_columns": null,
            "grid_template_rows": null,
            "height": null,
            "justify_content": null,
            "justify_items": null,
            "left": null,
            "margin": null,
            "max_height": null,
            "max_width": null,
            "min_height": null,
            "min_width": null,
            "object_fit": null,
            "object_position": null,
            "order": null,
            "overflow": null,
            "overflow_x": null,
            "overflow_y": null,
            "padding": null,
            "right": null,
            "top": null,
            "visibility": null,
            "width": null
          }
        },
        "da05d8b832b3452682d61be4e9fa9adb": {
          "model_module": "@jupyter-widgets/base",
          "model_name": "LayoutModel",
          "state": {
            "_model_module": "@jupyter-widgets/base",
            "_model_module_version": "1.2.0",
            "_model_name": "LayoutModel",
            "_view_count": null,
            "_view_module": "@jupyter-widgets/base",
            "_view_module_version": "1.2.0",
            "_view_name": "LayoutView",
            "align_content": null,
            "align_items": null,
            "align_self": null,
            "border": null,
            "bottom": null,
            "display": null,
            "flex": null,
            "flex_flow": null,
            "grid_area": null,
            "grid_auto_columns": null,
            "grid_auto_flow": null,
            "grid_auto_rows": null,
            "grid_column": null,
            "grid_gap": null,
            "grid_row": null,
            "grid_template_areas": null,
            "grid_template_columns": null,
            "grid_template_rows": null,
            "height": null,
            "justify_content": null,
            "justify_items": null,
            "left": null,
            "margin": null,
            "max_height": null,
            "max_width": null,
            "min_height": null,
            "min_width": null,
            "object_fit": null,
            "object_position": null,
            "order": null,
            "overflow": null,
            "overflow_x": null,
            "overflow_y": null,
            "padding": null,
            "right": null,
            "top": null,
            "visibility": null,
            "width": null
          }
        },
        "b5d1c46fc620417f927b751c1ab0249f": {
          "model_module": "@jupyter-widgets/controls",
          "model_name": "ProgressStyleModel",
          "state": {
            "_model_module": "@jupyter-widgets/controls",
            "_model_module_version": "1.5.0",
            "_model_name": "ProgressStyleModel",
            "_view_count": null,
            "_view_module": "@jupyter-widgets/base",
            "_view_module_version": "1.2.0",
            "_view_name": "StyleView",
            "bar_color": null,
            "description_width": "initial"
          }
        },
        "e1719257446b4c458837e0f29060123b": {
          "model_module": "@jupyter-widgets/base",
          "model_name": "LayoutModel",
          "state": {
            "_model_module": "@jupyter-widgets/base",
            "_model_module_version": "1.2.0",
            "_model_name": "LayoutModel",
            "_view_count": null,
            "_view_module": "@jupyter-widgets/base",
            "_view_module_version": "1.2.0",
            "_view_name": "LayoutView",
            "align_content": null,
            "align_items": null,
            "align_self": null,
            "border": null,
            "bottom": null,
            "display": null,
            "flex": null,
            "flex_flow": null,
            "grid_area": null,
            "grid_auto_columns": null,
            "grid_auto_flow": null,
            "grid_auto_rows": null,
            "grid_column": null,
            "grid_gap": null,
            "grid_row": null,
            "grid_template_areas": null,
            "grid_template_columns": null,
            "grid_template_rows": null,
            "height": null,
            "justify_content": null,
            "justify_items": null,
            "left": null,
            "margin": null,
            "max_height": null,
            "max_width": null,
            "min_height": null,
            "min_width": null,
            "object_fit": null,
            "object_position": null,
            "order": null,
            "overflow": null,
            "overflow_x": null,
            "overflow_y": null,
            "padding": null,
            "right": null,
            "top": null,
            "visibility": null,
            "width": null
          }
        },
        "4a5144d8903e4019924518ae8b395057": {
          "model_module": "@jupyter-widgets/controls",
          "model_name": "DescriptionStyleModel",
          "state": {
            "_model_module": "@jupyter-widgets/controls",
            "_model_module_version": "1.5.0",
            "_model_name": "DescriptionStyleModel",
            "_view_count": null,
            "_view_module": "@jupyter-widgets/base",
            "_view_module_version": "1.2.0",
            "_view_name": "StyleView",
            "description_width": ""
          }
        },
        "935baf4b4e444fd58b69f200daf179af": {
          "model_module": "@jupyter-widgets/controls",
          "model_name": "HBoxModel",
          "state": {
            "_dom_classes": [],
            "_model_module": "@jupyter-widgets/controls",
            "_model_module_version": "1.5.0",
            "_model_name": "HBoxModel",
            "_view_count": null,
            "_view_module": "@jupyter-widgets/controls",
            "_view_module_version": "1.5.0",
            "_view_name": "HBoxView",
            "box_style": "",
            "children": [
              "IPY_MODEL_bb10985ec20a498b8f54062595047be1",
              "IPY_MODEL_d414f13cf343422d8dd93fad3067802d"
            ],
            "layout": "IPY_MODEL_01df64b69d98483383170490967fb1df"
          }
        },
        "bb10985ec20a498b8f54062595047be1": {
          "model_module": "@jupyter-widgets/controls",
          "model_name": "FloatProgressModel",
          "state": {
            "_dom_classes": [],
            "_model_module": "@jupyter-widgets/controls",
            "_model_module_version": "1.5.0",
            "_model_name": "FloatProgressModel",
            "_view_count": null,
            "_view_module": "@jupyter-widgets/controls",
            "_view_module_version": "1.5.0",
            "_view_name": "ProgressView",
            "bar_style": "success",
            "description": "",
            "description_tooltip": null,
            "layout": "IPY_MODEL_d7c820e7e4434a13968bbb7b7fbf9b52",
            "max": 4422102,
            "min": 0,
            "orientation": "horizontal",
            "style": "IPY_MODEL_ab848df3587c43a1a763145f83c77f3d",
            "value": 4422102
          }
        },
        "d414f13cf343422d8dd93fad3067802d": {
          "model_module": "@jupyter-widgets/controls",
          "model_name": "HTMLModel",
          "state": {
            "_dom_classes": [],
            "_model_module": "@jupyter-widgets/controls",
            "_model_module_version": "1.5.0",
            "_model_name": "HTMLModel",
            "_view_count": null,
            "_view_module": "@jupyter-widgets/controls",
            "_view_module_version": "1.5.0",
            "_view_name": "HTMLView",
            "description": "",
            "description_tooltip": null,
            "layout": "IPY_MODEL_658f4a4737f14aefad74ae176746a1c9",
            "placeholder": "​",
            "style": "IPY_MODEL_e5015a6ee6404fd79b72d94487842dfd",
            "value": " 4422656/? [01:46&lt;00:00, 41381.84it/s]"
          }
        },
        "01df64b69d98483383170490967fb1df": {
          "model_module": "@jupyter-widgets/base",
          "model_name": "LayoutModel",
          "state": {
            "_model_module": "@jupyter-widgets/base",
            "_model_module_version": "1.2.0",
            "_model_name": "LayoutModel",
            "_view_count": null,
            "_view_module": "@jupyter-widgets/base",
            "_view_module_version": "1.2.0",
            "_view_name": "LayoutView",
            "align_content": null,
            "align_items": null,
            "align_self": null,
            "border": null,
            "bottom": null,
            "display": null,
            "flex": null,
            "flex_flow": null,
            "grid_area": null,
            "grid_auto_columns": null,
            "grid_auto_flow": null,
            "grid_auto_rows": null,
            "grid_column": null,
            "grid_gap": null,
            "grid_row": null,
            "grid_template_areas": null,
            "grid_template_columns": null,
            "grid_template_rows": null,
            "height": null,
            "justify_content": null,
            "justify_items": null,
            "left": null,
            "margin": null,
            "max_height": null,
            "max_width": null,
            "min_height": null,
            "min_width": null,
            "object_fit": null,
            "object_position": null,
            "order": null,
            "overflow": null,
            "overflow_x": null,
            "overflow_y": null,
            "padding": null,
            "right": null,
            "top": null,
            "visibility": null,
            "width": null
          }
        },
        "d7c820e7e4434a13968bbb7b7fbf9b52": {
          "model_module": "@jupyter-widgets/base",
          "model_name": "LayoutModel",
          "state": {
            "_model_module": "@jupyter-widgets/base",
            "_model_module_version": "1.2.0",
            "_model_name": "LayoutModel",
            "_view_count": null,
            "_view_module": "@jupyter-widgets/base",
            "_view_module_version": "1.2.0",
            "_view_name": "LayoutView",
            "align_content": null,
            "align_items": null,
            "align_self": null,
            "border": null,
            "bottom": null,
            "display": null,
            "flex": null,
            "flex_flow": null,
            "grid_area": null,
            "grid_auto_columns": null,
            "grid_auto_flow": null,
            "grid_auto_rows": null,
            "grid_column": null,
            "grid_gap": null,
            "grid_row": null,
            "grid_template_areas": null,
            "grid_template_columns": null,
            "grid_template_rows": null,
            "height": null,
            "justify_content": null,
            "justify_items": null,
            "left": null,
            "margin": null,
            "max_height": null,
            "max_width": null,
            "min_height": null,
            "min_width": null,
            "object_fit": null,
            "object_position": null,
            "order": null,
            "overflow": null,
            "overflow_x": null,
            "overflow_y": null,
            "padding": null,
            "right": null,
            "top": null,
            "visibility": null,
            "width": null
          }
        },
        "ab848df3587c43a1a763145f83c77f3d": {
          "model_module": "@jupyter-widgets/controls",
          "model_name": "ProgressStyleModel",
          "state": {
            "_model_module": "@jupyter-widgets/controls",
            "_model_module_version": "1.5.0",
            "_model_name": "ProgressStyleModel",
            "_view_count": null,
            "_view_module": "@jupyter-widgets/base",
            "_view_module_version": "1.2.0",
            "_view_name": "StyleView",
            "bar_color": null,
            "description_width": "initial"
          }
        },
        "658f4a4737f14aefad74ae176746a1c9": {
          "model_module": "@jupyter-widgets/base",
          "model_name": "LayoutModel",
          "state": {
            "_model_module": "@jupyter-widgets/base",
            "_model_module_version": "1.2.0",
            "_model_name": "LayoutModel",
            "_view_count": null,
            "_view_module": "@jupyter-widgets/base",
            "_view_module_version": "1.2.0",
            "_view_name": "LayoutView",
            "align_content": null,
            "align_items": null,
            "align_self": null,
            "border": null,
            "bottom": null,
            "display": null,
            "flex": null,
            "flex_flow": null,
            "grid_area": null,
            "grid_auto_columns": null,
            "grid_auto_flow": null,
            "grid_auto_rows": null,
            "grid_column": null,
            "grid_gap": null,
            "grid_row": null,
            "grid_template_areas": null,
            "grid_template_columns": null,
            "grid_template_rows": null,
            "height": null,
            "justify_content": null,
            "justify_items": null,
            "left": null,
            "margin": null,
            "max_height": null,
            "max_width": null,
            "min_height": null,
            "min_width": null,
            "object_fit": null,
            "object_position": null,
            "order": null,
            "overflow": null,
            "overflow_x": null,
            "overflow_y": null,
            "padding": null,
            "right": null,
            "top": null,
            "visibility": null,
            "width": null
          }
        },
        "e5015a6ee6404fd79b72d94487842dfd": {
          "model_module": "@jupyter-widgets/controls",
          "model_name": "DescriptionStyleModel",
          "state": {
            "_model_module": "@jupyter-widgets/controls",
            "_model_module_version": "1.5.0",
            "_model_name": "DescriptionStyleModel",
            "_view_count": null,
            "_view_module": "@jupyter-widgets/base",
            "_view_module_version": "1.2.0",
            "_view_name": "StyleView",
            "description_width": ""
          }
        },
        "a1c4826b64cf467dbe9c63a07cc0a707": {
          "model_module": "@jupyter-widgets/controls",
          "model_name": "HBoxModel",
          "state": {
            "_dom_classes": [],
            "_model_module": "@jupyter-widgets/controls",
            "_model_module_version": "1.5.0",
            "_model_name": "HBoxModel",
            "_view_count": null,
            "_view_module": "@jupyter-widgets/controls",
            "_view_module_version": "1.5.0",
            "_view_name": "HBoxView",
            "box_style": "",
            "children": [
              "IPY_MODEL_f6135c2324294d78a37c5609d943ded4",
              "IPY_MODEL_9989d2a39a9a42e4b41a8b012532014f"
            ],
            "layout": "IPY_MODEL_65ed78308141461d9e09f9c8761f4b5b"
          }
        },
        "f6135c2324294d78a37c5609d943ded4": {
          "model_module": "@jupyter-widgets/controls",
          "model_name": "FloatProgressModel",
          "state": {
            "_dom_classes": [],
            "_model_module": "@jupyter-widgets/controls",
            "_model_module_version": "1.5.0",
            "_model_name": "FloatProgressModel",
            "_view_count": null,
            "_view_module": "@jupyter-widgets/controls",
            "_view_module_version": "1.5.0",
            "_view_name": "ProgressView",
            "bar_style": "success",
            "description": "",
            "description_tooltip": null,
            "layout": "IPY_MODEL_ebc6ab7e4ed7479fb068be2fce66e03e",
            "max": 5148,
            "min": 0,
            "orientation": "horizontal",
            "style": "IPY_MODEL_99dcc6a73dbd41c481edc4cec178a644",
            "value": 5148
          }
        },
        "9989d2a39a9a42e4b41a8b012532014f": {
          "model_module": "@jupyter-widgets/controls",
          "model_name": "HTMLModel",
          "state": {
            "_dom_classes": [],
            "_model_module": "@jupyter-widgets/controls",
            "_model_module_version": "1.5.0",
            "_model_name": "HTMLModel",
            "_view_count": null,
            "_view_module": "@jupyter-widgets/controls",
            "_view_module_version": "1.5.0",
            "_view_name": "HTMLView",
            "description": "",
            "description_tooltip": null,
            "layout": "IPY_MODEL_d82697803a624d4ead812f8e231281ee",
            "placeholder": "​",
            "style": "IPY_MODEL_4d85bbfbfbc547fcac7eb8ee04b63147",
            "value": " 6144/? [00:49&lt;00:00, 123.62it/s]"
          }
        },
        "65ed78308141461d9e09f9c8761f4b5b": {
          "model_module": "@jupyter-widgets/base",
          "model_name": "LayoutModel",
          "state": {
            "_model_module": "@jupyter-widgets/base",
            "_model_module_version": "1.2.0",
            "_model_name": "LayoutModel",
            "_view_count": null,
            "_view_module": "@jupyter-widgets/base",
            "_view_module_version": "1.2.0",
            "_view_name": "LayoutView",
            "align_content": null,
            "align_items": null,
            "align_self": null,
            "border": null,
            "bottom": null,
            "display": null,
            "flex": null,
            "flex_flow": null,
            "grid_area": null,
            "grid_auto_columns": null,
            "grid_auto_flow": null,
            "grid_auto_rows": null,
            "grid_column": null,
            "grid_gap": null,
            "grid_row": null,
            "grid_template_areas": null,
            "grid_template_columns": null,
            "grid_template_rows": null,
            "height": null,
            "justify_content": null,
            "justify_items": null,
            "left": null,
            "margin": null,
            "max_height": null,
            "max_width": null,
            "min_height": null,
            "min_width": null,
            "object_fit": null,
            "object_position": null,
            "order": null,
            "overflow": null,
            "overflow_x": null,
            "overflow_y": null,
            "padding": null,
            "right": null,
            "top": null,
            "visibility": null,
            "width": null
          }
        },
        "ebc6ab7e4ed7479fb068be2fce66e03e": {
          "model_module": "@jupyter-widgets/base",
          "model_name": "LayoutModel",
          "state": {
            "_model_module": "@jupyter-widgets/base",
            "_model_module_version": "1.2.0",
            "_model_name": "LayoutModel",
            "_view_count": null,
            "_view_module": "@jupyter-widgets/base",
            "_view_module_version": "1.2.0",
            "_view_name": "LayoutView",
            "align_content": null,
            "align_items": null,
            "align_self": null,
            "border": null,
            "bottom": null,
            "display": null,
            "flex": null,
            "flex_flow": null,
            "grid_area": null,
            "grid_auto_columns": null,
            "grid_auto_flow": null,
            "grid_auto_rows": null,
            "grid_column": null,
            "grid_gap": null,
            "grid_row": null,
            "grid_template_areas": null,
            "grid_template_columns": null,
            "grid_template_rows": null,
            "height": null,
            "justify_content": null,
            "justify_items": null,
            "left": null,
            "margin": null,
            "max_height": null,
            "max_width": null,
            "min_height": null,
            "min_width": null,
            "object_fit": null,
            "object_position": null,
            "order": null,
            "overflow": null,
            "overflow_x": null,
            "overflow_y": null,
            "padding": null,
            "right": null,
            "top": null,
            "visibility": null,
            "width": null
          }
        },
        "99dcc6a73dbd41c481edc4cec178a644": {
          "model_module": "@jupyter-widgets/controls",
          "model_name": "ProgressStyleModel",
          "state": {
            "_model_module": "@jupyter-widgets/controls",
            "_model_module_version": "1.5.0",
            "_model_name": "ProgressStyleModel",
            "_view_count": null,
            "_view_module": "@jupyter-widgets/base",
            "_view_module_version": "1.2.0",
            "_view_name": "StyleView",
            "bar_color": null,
            "description_width": "initial"
          }
        },
        "d82697803a624d4ead812f8e231281ee": {
          "model_module": "@jupyter-widgets/base",
          "model_name": "LayoutModel",
          "state": {
            "_model_module": "@jupyter-widgets/base",
            "_model_module_version": "1.2.0",
            "_model_name": "LayoutModel",
            "_view_count": null,
            "_view_module": "@jupyter-widgets/base",
            "_view_module_version": "1.2.0",
            "_view_name": "LayoutView",
            "align_content": null,
            "align_items": null,
            "align_self": null,
            "border": null,
            "bottom": null,
            "display": null,
            "flex": null,
            "flex_flow": null,
            "grid_area": null,
            "grid_auto_columns": null,
            "grid_auto_flow": null,
            "grid_auto_rows": null,
            "grid_column": null,
            "grid_gap": null,
            "grid_row": null,
            "grid_template_areas": null,
            "grid_template_columns": null,
            "grid_template_rows": null,
            "height": null,
            "justify_content": null,
            "justify_items": null,
            "left": null,
            "margin": null,
            "max_height": null,
            "max_width": null,
            "min_height": null,
            "min_width": null,
            "object_fit": null,
            "object_position": null,
            "order": null,
            "overflow": null,
            "overflow_x": null,
            "overflow_y": null,
            "padding": null,
            "right": null,
            "top": null,
            "visibility": null,
            "width": null
          }
        },
        "4d85bbfbfbc547fcac7eb8ee04b63147": {
          "model_module": "@jupyter-widgets/controls",
          "model_name": "DescriptionStyleModel",
          "state": {
            "_model_module": "@jupyter-widgets/controls",
            "_model_module_version": "1.5.0",
            "_model_name": "DescriptionStyleModel",
            "_view_count": null,
            "_view_module": "@jupyter-widgets/base",
            "_view_module_version": "1.2.0",
            "_view_name": "StyleView",
            "description_width": ""
          }
        }
      }
    }
  },
  "cells": [
    {
      "cell_type": "markdown",
      "metadata": {
        "id": "view-in-github",
        "colab_type": "text"
      },
      "source": [
        "<a href=\"https://colab.research.google.com/github/Satorumi/Machine-Learning/blob/main/Image_Classification_w_PyTorch.ipynb\" target=\"_parent\"><img src=\"https://colab.research.google.com/assets/colab-badge.svg\" alt=\"Open In Colab\"/></a>"
      ]
    },
    {
      "cell_type": "markdown",
      "metadata": {
        "id": "SztVu92jz0mH"
      },
      "source": [
        "# **Basic Image Classification with PyTorch**\n",
        "Using PyTorch FashionMNIST and apply Neural Networks and Convolutional Networks models.\n",
        "ref: \n",
        "- https://pytorch.org/tutorials/recipes/recipes/defining_a_neural_network.html\n",
        "- https://youtu.be/GIsg-ZUy0MY"
      ]
    },
    {
      "cell_type": "markdown",
      "metadata": {
        "id": "ZVPgmhRzy4KA"
      },
      "source": [
        "#### Import Dependencies"
      ]
    },
    {
      "cell_type": "code",
      "metadata": {
        "id": "CvNAPMzn68fS"
      },
      "source": [
        "import torch\n",
        "import torchvision\n",
        "from torch.utils.data import Dataset\n",
        "from torch.utils.data.dataloader import DataLoader\n",
        "from torchvision import datasets\n",
        "import torch.nn as nn\n",
        "import torch.nn.functional as F\n",
        "import matplotlib.pyplot as plt\n",
        "from torchvision.transforms import ToTensor\n",
        "import torchvision.transforms as transforms \n",
        "import torch.onnx as onnx\n",
        "import torchvision.models as models"
      ],
      "execution_count": null,
      "outputs": []
    },
    {
      "cell_type": "markdown",
      "metadata": {
        "id": "TpKlhCMby-GT"
      },
      "source": [
        "Load in Dataset"
      ]
    },
    {
      "cell_type": "code",
      "metadata": {
        "colab": {
          "base_uri": "https://localhost:8080/",
          "height": 556,
          "referenced_widgets": [
            "1b4206076afc4da184d4f17021aec1b0",
            "172e0645f7364028bae75d7cf44f9319",
            "6aab7d1796ba4b498858a41b56b52233",
            "bb8db96dddff495c9746bf1a6e5ed290",
            "955d856abf5e4d459e8da7f51310348c",
            "0afd1329daea437c89a17cefa2e7526a",
            "bd50a4f9d61b4a2c908a34142605ba5f",
            "1144cc6bce434871be9e760de345d430",
            "c1ee1e2d9a1644719ac2d7cb2e66eb97",
            "840cedc8dcd84d45a5e8b7cdbc09e2cd",
            "84b50f2e488d4aa39d1b7618636947ee",
            "6063ecddb7d24c68913ecc036fe8274b",
            "da05d8b832b3452682d61be4e9fa9adb",
            "b5d1c46fc620417f927b751c1ab0249f",
            "e1719257446b4c458837e0f29060123b",
            "4a5144d8903e4019924518ae8b395057",
            "935baf4b4e444fd58b69f200daf179af",
            "bb10985ec20a498b8f54062595047be1",
            "d414f13cf343422d8dd93fad3067802d",
            "01df64b69d98483383170490967fb1df",
            "d7c820e7e4434a13968bbb7b7fbf9b52",
            "ab848df3587c43a1a763145f83c77f3d",
            "658f4a4737f14aefad74ae176746a1c9",
            "e5015a6ee6404fd79b72d94487842dfd",
            "a1c4826b64cf467dbe9c63a07cc0a707",
            "f6135c2324294d78a37c5609d943ded4",
            "9989d2a39a9a42e4b41a8b012532014f",
            "65ed78308141461d9e09f9c8761f4b5b",
            "ebc6ab7e4ed7479fb068be2fce66e03e",
            "99dcc6a73dbd41c481edc4cec178a644",
            "d82697803a624d4ead812f8e231281ee",
            "4d85bbfbfbc547fcac7eb8ee04b63147"
          ]
        },
        "id": "td2M_VEUjnhN",
        "outputId": "2240e71b-7879-4886-c307-eeaaedcff5e0"
      },
      "source": [
        "# getting train and test data and transform to tensor obj\n",
        "train_data = datasets.FashionMNIST(root='data', train=True, download=True, transform=ToTensor())\n",
        "test_data = datasets.FashionMNIST(root='data', train=False, download=True, transform=ToTensor())"
      ],
      "execution_count": null,
      "outputs": [
        {
          "output_type": "stream",
          "text": [
            "Downloading http://fashion-mnist.s3-website.eu-central-1.amazonaws.com/train-images-idx3-ubyte.gz\n",
            "Downloading http://fashion-mnist.s3-website.eu-central-1.amazonaws.com/train-images-idx3-ubyte.gz to data/FashionMNIST/raw/train-images-idx3-ubyte.gz\n"
          ],
          "name": "stdout"
        },
        {
          "output_type": "display_data",
          "data": {
            "application/vnd.jupyter.widget-view+json": {
              "model_id": "1b4206076afc4da184d4f17021aec1b0",
              "version_major": 2,
              "version_minor": 0
            },
            "text/plain": [
              "HBox(children=(FloatProgress(value=0.0, max=26421880.0), HTML(value='')))"
            ]
          },
          "metadata": {
            "tags": []
          }
        },
        {
          "output_type": "stream",
          "text": [
            "\n",
            "Extracting data/FashionMNIST/raw/train-images-idx3-ubyte.gz to data/FashionMNIST/raw\n",
            "\n",
            "Downloading http://fashion-mnist.s3-website.eu-central-1.amazonaws.com/train-labels-idx1-ubyte.gz\n",
            "Downloading http://fashion-mnist.s3-website.eu-central-1.amazonaws.com/train-labels-idx1-ubyte.gz to data/FashionMNIST/raw/train-labels-idx1-ubyte.gz\n"
          ],
          "name": "stdout"
        },
        {
          "output_type": "display_data",
          "data": {
            "application/vnd.jupyter.widget-view+json": {
              "model_id": "c1ee1e2d9a1644719ac2d7cb2e66eb97",
              "version_major": 2,
              "version_minor": 0
            },
            "text/plain": [
              "HBox(children=(FloatProgress(value=0.0, max=29515.0), HTML(value='')))"
            ]
          },
          "metadata": {
            "tags": []
          }
        },
        {
          "output_type": "stream",
          "text": [
            "\n",
            "Extracting data/FashionMNIST/raw/train-labels-idx1-ubyte.gz to data/FashionMNIST/raw\n",
            "\n",
            "Downloading http://fashion-mnist.s3-website.eu-central-1.amazonaws.com/t10k-images-idx3-ubyte.gz\n",
            "Downloading http://fashion-mnist.s3-website.eu-central-1.amazonaws.com/t10k-images-idx3-ubyte.gz to data/FashionMNIST/raw/t10k-images-idx3-ubyte.gz\n"
          ],
          "name": "stdout"
        },
        {
          "output_type": "display_data",
          "data": {
            "application/vnd.jupyter.widget-view+json": {
              "model_id": "935baf4b4e444fd58b69f200daf179af",
              "version_major": 2,
              "version_minor": 0
            },
            "text/plain": [
              "HBox(children=(FloatProgress(value=0.0, max=4422102.0), HTML(value='')))"
            ]
          },
          "metadata": {
            "tags": []
          }
        },
        {
          "output_type": "stream",
          "text": [
            "\n",
            "Extracting data/FashionMNIST/raw/t10k-images-idx3-ubyte.gz to data/FashionMNIST/raw\n",
            "\n",
            "Downloading http://fashion-mnist.s3-website.eu-central-1.amazonaws.com/t10k-labels-idx1-ubyte.gz\n",
            "Downloading http://fashion-mnist.s3-website.eu-central-1.amazonaws.com/t10k-labels-idx1-ubyte.gz to data/FashionMNIST/raw/t10k-labels-idx1-ubyte.gz\n"
          ],
          "name": "stdout"
        },
        {
          "output_type": "display_data",
          "data": {
            "application/vnd.jupyter.widget-view+json": {
              "model_id": "a1c4826b64cf467dbe9c63a07cc0a707",
              "version_major": 2,
              "version_minor": 0
            },
            "text/plain": [
              "HBox(children=(FloatProgress(value=0.0, max=5148.0), HTML(value='')))"
            ]
          },
          "metadata": {
            "tags": []
          }
        },
        {
          "output_type": "stream",
          "text": [
            "\n",
            "Extracting data/FashionMNIST/raw/t10k-labels-idx1-ubyte.gz to data/FashionMNIST/raw\n",
            "\n"
          ],
          "name": "stdout"
        },
        {
          "output_type": "stream",
          "text": [
            "/usr/local/lib/python3.7/dist-packages/torchvision/datasets/mnist.py:498: UserWarning: The given NumPy array is not writeable, and PyTorch does not support non-writeable tensors. This means you can write to the underlying (supposedly non-writeable) NumPy array using the tensor. You may want to copy the array to protect its data or make it writeable before converting it to a tensor. This type of warning will be suppressed for the rest of this program. (Triggered internally at  /pytorch/torch/csrc/utils/tensor_numpy.cpp:180.)\n",
            "  return torch.from_numpy(parsed.astype(m[2], copy=False)).view(*s)\n"
          ],
          "name": "stderr"
        }
      ]
    },
    {
      "cell_type": "code",
      "metadata": {
        "colab": {
          "base_uri": "https://localhost:8080/"
        },
        "id": "sR4b-KB9md0t",
        "outputId": "5a1cabfb-cc5b-4382-f96c-4c5e893519c0"
      },
      "source": [
        "class_name = train_data.classes # the class name\n",
        "class_index = train_data.class_to_idx # dict contain class_name : index\n",
        "len(class_name)"
      ],
      "execution_count": null,
      "outputs": [
        {
          "output_type": "execute_result",
          "data": {
            "text/plain": [
              "10"
            ]
          },
          "metadata": {
            "tags": []
          },
          "execution_count": 3
        }
      ]
    },
    {
      "cell_type": "markdown",
      "metadata": {
        "id": "xtxDDdMSr3U1"
      },
      "source": [
        "####Explore and Visualize Dataset"
      ]
    },
    {
      "cell_type": "code",
      "metadata": {
        "colab": {
          "base_uri": "https://localhost:8080/",
          "height": 434
        },
        "id": "ona5IsqUlUnJ",
        "outputId": "55cb17e2-d78a-4512-a41e-7f8c4a0e2605"
      },
      "source": [
        "# display some data\n",
        "plt.figure(figsize=(8, 8))\n",
        "for i in range(3):\n",
        "  sample_idx = torch.randint(len(train_data), size=(1,)).item() # get a random index\n",
        "  img, label = train_data[sample_idx]\n",
        "  plt.subplot(1, 3, i+1)\n",
        "  # pixel range from 0 -1 so use gray cmap\n",
        "  plt.imshow(img.squeeze(), cmap=\"gray\") # change the img shape\n",
        "  plt.axis(\"off\")\n",
        "  plt.title(class_name[label])\n",
        "  plt.grid(False)\n",
        "  plt.show()"
      ],
      "execution_count": null,
      "outputs": [
        {
          "output_type": "display_data",
          "data": {
            "image/png": "[encoded data removed]",
            "text/plain": [
              "<Figure size 576x576 with 1 Axes>"
            ]
          },
          "metadata": {
            "tags": []
          }
        },
        {
          "output_type": "display_data",
          "data": {
            "image/png": "[encoded data removed]",
            "text/plain": [
              "<Figure size 432x288 with 1 Axes>"
            ]
          },
          "metadata": {
            "tags": []
          }
        },
        {
          "output_type": "display_data",
          "data": {
            "image/png": "[encoded data removed]",
            "text/plain": [
              "<Figure size 432x288 with 1 Axes>"
            ]
          },
          "metadata": {
            "tags": []
          }
        }
      ]
    },
    {
      "cell_type": "markdown",
      "metadata": {
        "id": "8Eid60Rmt8gO"
      },
      "source": [
        "###Preparing your data for training with DataLoaders"
      ]
    },
    {
      "cell_type": "code",
      "metadata": {
        "colab": {
          "base_uri": "https://localhost:8080/"
        },
        "id": "IWdu_TdEt4wZ",
        "outputId": "cb3c64d5-b98f-467c-a563-32938e5a784c"
      },
      "source": [
        "# using dataloader\n",
        "train_dataloader = DataLoader(train_data, batch_size=64, shuffle=True)\n",
        "test_dataloader = DataLoader(test_data, batch_size=64, shuffle=True)\n",
        "\n",
        "# iter through dataloader obj\n",
        "train_img, train_labels =  next(iter(train_dataloader))\n",
        "\n",
        "# display an example from dataloader\n",
        "img = train_img[0].squeeze()\n",
        "label = class_name[train_labels[0].item()]\n",
        "plt.imshow(img, cmap= 'gray')\n",
        "plt.title(label)\n",
        "plt.axis('off')\n",
        "plt.show()"
      ],
      "execution_count": null,
      "outputs": [
        {
          "output_type": "display_data",
          "data": {
            "image/png": "[encoded data removed]",
            "text/plain": [
              "<Figure size 432x288 with 1 Axes>"
            ]
          },
          "metadata": {
            "tags": []
          }
        }
      ]
    },
    {
      "cell_type": "markdown",
      "metadata": {
        "id": "vN9-_Frzak98"
      },
      "source": [
        "Img Shape"
      ]
    },
    {
      "cell_type": "code",
      "metadata": {
        "colab": {
          "base_uri": "https://localhost:8080/"
        },
        "id": "gQmViyqKEnGt",
        "outputId": "3c1774f7-cd38-4b0d-c579-baf30862cb70"
      },
      "source": [
        "train_img[0].shape # color channel, width, height"
      ],
      "execution_count": null,
      "outputs": [
        {
          "output_type": "execute_result",
          "data": {
            "text/plain": [
              "torch.Size([1, 28, 28])"
            ]
          },
          "metadata": {
            "tags": []
          },
          "execution_count": 35
        }
      ]
    },
    {
      "cell_type": "markdown",
      "metadata": {
        "id": "hgtASJHnTxh3"
      },
      "source": [
        "#####Data Augmentation\n",
        "Randomized data augmentations: We will apply randomly chosen transformations for training dataset"
      ]
    },
    {
      "cell_type": "code",
      "metadata": {
        "id": "kOqVsMtGT2qC"
      },
      "source": [
        "transformation = transforms.Compose([transforms.RandomCrop(30, padding=4, padding_mode='reflect'),\n",
        "                transforms.RandomHorizontalFlip()])"
      ],
      "execution_count": null,
      "outputs": []
    },
    {
      "cell_type": "code",
      "metadata": {
        "id": "ftN1FpRdWxtE"
      },
      "source": [
        "for batch, (imgs, labels) in train_dataloader:\n",
        "  imgs = transformation(imgs)"
      ],
      "execution_count": null,
      "outputs": []
    },
    {
      "cell_type": "markdown",
      "metadata": {
        "id": "CSSIo-n1Exc9"
      },
      "source": [
        "###Build and Train Model"
      ]
    },
    {
      "cell_type": "markdown",
      "metadata": {
        "id": "udMK9buLGTF6"
      },
      "source": [
        "#### Neural Network Model\n",
        " Define neural network by subclassing nn.Module, and initialize the neural network hidden layers. Every nn.Module subclass implements the operations on input data in the forward method."
      ]
    },
    {
      "cell_type": "code",
      "metadata": {
        "id": "1OVNZnELFwmx"
      },
      "source": [
        "# define a custom model\n",
        "class NeuralNetwork(nn.Module):\n",
        "  def __init__(self):\n",
        "    super().__init__()\n",
        "    self.flatten = nn.Flatten() # input layer to flatten img\n",
        "    self.Sequential = nn.Sequential(\n",
        "        nn.Linear(28*28, 512),\n",
        "        nn.ReLU(),\n",
        "        nn.Linear(512, 512),\n",
        "        nn.ReLU(),\n",
        "        nn.Linear(512, len(class_name)), # output layer with output = len(class)\n",
        "        nn.ReLU()\n",
        "    )\n",
        "\n",
        "  def forward(self, x):\n",
        "    x = self.flatten(x)\n",
        "    logits = self.Sequential(x)\n",
        "    return logits"
      ],
      "execution_count": null,
      "outputs": []
    },
    {
      "cell_type": "markdown",
      "metadata": {
        "id": "hoQI385XI2OR"
      },
      "source": [
        "Get device for Training"
      ]
    },
    {
      "cell_type": "code",
      "metadata": {
        "id": "UMU9GlcCzVbq"
      },
      "source": [
        "# check if gpu is available, if not not use cpu\n",
        "device = 'cuda' if torch.cuda.is_available() else 'cpu'"
      ],
      "execution_count": null,
      "outputs": []
    },
    {
      "cell_type": "code",
      "metadata": {
        "id": "VgG6MJ7WExnZ"
      },
      "source": [
        "model = NeuralNetwork().to(device) # use predefined device to train"
      ],
      "execution_count": null,
      "outputs": []
    },
    {
      "cell_type": "code",
      "metadata": {
        "colab": {
          "base_uri": "https://localhost:8080/",
          "height": 167
        },
        "id": "fy_C55rkJyDa",
        "outputId": "cd709c80-d315-40ec-9599-33d4f5b4623c"
      },
      "source": [
        "model.named_parameters # models parameters"
      ],
      "execution_count": null,
      "outputs": [
        {
          "output_type": "error",
          "ename": "NameError",
          "evalue": "ignored",
          "traceback": [
            "\u001b[0;31m---------------------------------------------------------------------------\u001b[0m",
            "\u001b[0;31mNameError\u001b[0m                                 Traceback (most recent call last)",
            "\u001b[0;32m<ipython-input-84-dd10ecc4c5af>\u001b[0m in \u001b[0;36m<module>\u001b[0;34m()\u001b[0m\n\u001b[0;32m----> 1\u001b[0;31m \u001b[0mmodel\u001b[0m\u001b[0;34m.\u001b[0m\u001b[0mnamed_parameters\u001b[0m \u001b[0;31m# models parameters\u001b[0m\u001b[0;34m\u001b[0m\u001b[0;34m\u001b[0m\u001b[0m\n\u001b[0m",
            "\u001b[0;31mNameError\u001b[0m: name 'model' is not defined"
          ]
        }
      ]
    },
    {
      "cell_type": "markdown",
      "metadata": {
        "id": "BlTqC8dMK4fn"
      },
      "source": [
        "Define Hyperparameters"
      ]
    },
    {
      "cell_type": "code",
      "metadata": {
        "id": "VFsL-pYdK8BX"
      },
      "source": [
        "learning_rate = 1e-3\n",
        "batch_size = 64\n",
        "epochs = 12"
      ],
      "execution_count": null,
      "outputs": []
    },
    {
      "cell_type": "code",
      "metadata": {
        "id": "9qAoqhC2LEoc"
      },
      "source": [
        "loss_function = nn.CrossEntropyLoss()"
      ],
      "execution_count": null,
      "outputs": []
    },
    {
      "cell_type": "markdown",
      "metadata": {
        "id": "Xk3VKeCOLSVc"
      },
      "source": [
        "Optimizer"
      ]
    },
    {
      "cell_type": "code",
      "metadata": {
        "id": "ZnQBRoWGLTbn"
      },
      "source": [
        "# set up SGD optimizer\n",
        "# pass in model parameters\n",
        "optimizer = torch.optim.SGD(model.parameters(), lr=learning_rate)"
      ],
      "execution_count": null,
      "outputs": []
    },
    {
      "cell_type": "markdown",
      "metadata": {
        "id": "Kw6zX2tgL0Hr"
      },
      "source": [
        "Model Training "
      ]
    },
    {
      "cell_type": "code",
      "metadata": {
        "id": "rpZvYPrNL1sa"
      },
      "source": [
        "def fit(dataloader, model, loss_function, optimizer):\n",
        "  data_size = len(dataloader.dataset)\n",
        "  num_batches = len(dataloader)\n",
        "  train_loss, correct = 0, 0\n",
        "\n",
        "  for batch, (features, labels) in enumerate(dataloader):\n",
        "    pred = model(features) # predict on features\n",
        "    # compute the loss\n",
        "    loss = loss_function(pred, labels)\n",
        "\n",
        "    train_loss += loss_function(pred, labels).item()\n",
        "    correct += (pred.argmax(1)==labels).type(torch.float).sum().item()\n",
        "\n",
        "    # backpropagation\n",
        "    optimizer.zero_grad() # reset grad\n",
        "    # compute derivative\n",
        "    loss.backward() \n",
        "    optimizer.step()\n",
        "\n",
        "    if batch % 150 == 0:\n",
        "      loss, cur_batch = loss.item(), (batch+1) * len(features)\n",
        "      print(f\"Train Loss: {loss:>7f}  [{cur_batch:>5d}/{data_size:>5d}]\")\n",
        "\n",
        "  train_loss = train_loss / num_batches\n",
        "  accuracy = correct / data_size * 100\n",
        "\n",
        "  return train_loss, accuracy\n",
        "\n",
        "def valid(dataloader, model, loss_function):\n",
        "    data_size = len(dataloader.dataset)\n",
        "    num_batches = len(dataloader)\n",
        "    test_loss, correct = 0, 0\n",
        "\n",
        "    with torch.no_grad(): # Disabling Gradient Tracking\n",
        "      for batch, (features, labels) in enumerate(dataloader):\n",
        "        pred = model(features)\n",
        "        # apply loss function\n",
        "        test_loss += loss_function(pred, labels).item()\n",
        "        # compute number of correct answer\n",
        "        correct += (pred.argmax(1)==labels).type(torch.float).sum().item()\n",
        "        \n",
        "    \n",
        "    # compute average loss and accuracy\n",
        "    test_loss = test_loss / num_batches\n",
        "    accuracy = correct / data_size * 100 # percent of acc\n",
        "\n",
        "    print(f'Accuracy: {accuracy:>0.1f}%, Average Test Loss: {test_loss:>8f} \\n')\n",
        "     \n",
        "    return test_loss, accuracy"
      ],
      "execution_count": null,
      "outputs": []
    },
    {
      "cell_type": "code",
      "metadata": {
        "id": "L12NOsjVT9Bn"
      },
      "source": [
        "history = {'val loss' : [], 'val acc': [], 'train loss': [], 'train acc': []}\n",
        "for epoch in range(epochs):\n",
        "  print(f'Epoch {epoch+1}\\n-------------------------------')\n",
        "  train_loss, train_acc = fit(train_dataloader, model, loss_function, optimizer)\n",
        "  test_loss, test_acc = valid(test_dataloader, model, loss_function)\n",
        "  history['val loss'].append(test_loss)\n",
        "  history['val acc'].append(test_acc)\n",
        "  history['train loss'].append(train_loss)\n",
        "  history['train acc'].append(train_acc)"
      ],
      "execution_count": null,
      "outputs": []
    },
    {
      "cell_type": "markdown",
      "metadata": {
        "id": "LELNXJ9cay-Q"
      },
      "source": [
        "Visualize result"
      ]
    },
    {
      "cell_type": "code",
      "metadata": {
        "colab": {
          "base_uri": "https://localhost:8080/",
          "height": 531
        },
        "id": "LIi3FSndayl0",
        "outputId": "7a953a76-ab6b-459b-ba75-94fde76494ea"
      },
      "source": [
        "val_loss = history['val loss']\n",
        "val_acc = history['val acc']\n",
        "\n",
        "train_loss = history['train loss']\n",
        "train_acc = history['train acc']\n",
        "\n",
        "epoch_range = range(epochs)\n",
        "\n",
        "plt.figure(figsize=(8,8))\n",
        "\n",
        "# Loss\n",
        "plt.subplot(1, 2, 1)\n",
        "plt.title('Validation and Training Loss')\n",
        "plt.plot(epoch_range, val_loss)\n",
        "plt.plot(epoch_range, train_loss)\n",
        "plt.ylabel('Loss')\n",
        "plt.xlabel('epochs')\n",
        "plt.legend(['Validation', 'Training'],loc='lower left')\n",
        "\n",
        "# Accuracy\n",
        "plt.subplot(1, 2, 2)\n",
        "plt.title('Validation and Training Accuracy')\n",
        "plt.plot(epoch_range, val_acc)\n",
        "plt.plot(epoch_range, train_acc)\n",
        "plt.ylabel('Accuracy')\n",
        "plt.xlabel('epochs')\n",
        "plt.legend(['Validation', 'Training'], loc='upper left')"
      ],
      "execution_count": null,
      "outputs": [
        {
          "output_type": "execute_result",
          "data": {
            "text/plain": [
              "<matplotlib.legend.Legend at 0x7f9652072890>"
            ]
          },
          "metadata": {
            "tags": []
          },
          "execution_count": 35
        },
        {
          "output_type": "display_data",
          "data": {
            "image/png": "[encoded data removed]",
            "text/plain": [
              "<Figure size 576x576 with 2 Axes>"
            ]
          },
          "metadata": {
            "tags": []
          }
        }
      ]
    },
    {
      "cell_type": "markdown",
      "metadata": {
        "id": "E4j1bLlH0gCD"
      },
      "source": [
        "#### Convolutional Network"
      ]
    },
    {
      "cell_type": "code",
      "metadata": {
        "id": "xOsnVwQH0WEe"
      },
      "source": [
        "class Net(nn.Module):\n",
        "  def __init__(self):\n",
        "    super().__init__()\n",
        "    # define conv layers\n",
        "    # first conv input layers\n",
        "\n",
        "    self.cnn_layers = nn.Sequential(\n",
        "            nn.Conv2d(1, 4, kernel_size=3, padding=1), # same padding\n",
        "            # Batch normalization\n",
        "            nn.BatchNorm2d(4),\n",
        "            nn.ReLU(),\n",
        "\n",
        "            nn.Conv2d(4, 64, kernel_size=3, stride=1, padding=1),\n",
        "            nn.ReLU(),\n",
        "            nn.BatchNorm2d(64),\n",
        "            nn.MaxPool2d(2, 2),\n",
        "\n",
        "            nn.Conv2d(64, 64, kernel_size=2, stride=1, padding=1),           \n",
        "            nn.ReLU(),\n",
        "            nn.BatchNorm2d(64),\n",
        "            nn.MaxPool2d(2, 2),\n",
        "            # residual blocks\n",
        "            nn.Conv2d(64, 16, 2),\n",
        "            nn.ReLU(),\n",
        "            nn.Conv2d(64, 16, 2),\n",
        "            nn.ReLU(),          \n",
        "            nn.Dropout2d(0.2),\n",
        "\n",
        "            nn.Flatten(), # output shape of 64 x 576\n",
        "            nn.Linear(576, 64),\n",
        "            nn.ReLU(),\n",
        "            nn.Linear(64, 10))\n",
        "\n",
        "  def forward(self, X):\n",
        "    #X = torch.flatten(X, 1) # flatten all dimensions except batch\n",
        "    return self.cnn_layers(X)"
      ],
      "execution_count": null,
      "outputs": []
    },
    {
      "cell_type": "markdown",
      "metadata": {
        "id": "02bPfK0UIS5V"
      },
      "source": [
        "Define CNN model"
      ]
    },
    {
      "cell_type": "code",
      "metadata": {
        "colab": {
          "base_uri": "https://localhost:8080/"
        },
        "id": "WMgzVhMdIQnh",
        "outputId": "0c448892-f7b6-4d4e-8c9b-3767d1a56b5f"
      },
      "source": [
        "cnn_model = Net()\n",
        "cnn_model.parameters"
      ],
      "execution_count": null,
      "outputs": [
        {
          "output_type": "execute_result",
          "data": {
            "text/plain": [
              "<bound method Module.parameters of Net(\n",
              "  (cnn_layers): Sequential(\n",
              "    (0): Conv2d(1, 4, kernel_size=(3, 3), stride=(1, 1), padding=(1, 1))\n",
              "    (1): BatchNorm2d(4, eps=1e-05, momentum=0.1, affine=True, track_running_stats=True)\n",
              "    (2): ReLU()\n",
              "    (3): Conv2d(4, 64, kernel_size=(3, 3), stride=(1, 1), padding=(1, 1))\n",
              "    (4): ReLU()\n",
              "    (5): MaxPool2d(kernel_size=2, stride=2, padding=0, dilation=1, ceil_mode=False)\n",
              "    (6): Conv2d(64, 64, kernel_size=(2, 2), stride=(1, 1), padding=(1, 1))\n",
              "    (7): ReLU()\n",
              "    (8): MaxPool2d(kernel_size=2, stride=2, padding=0, dilation=1, ceil_mode=False)\n",
              "    (9): Conv2d(64, 16, kernel_size=(2, 2), stride=(1, 1))\n",
              "    (10): Dropout2d(p=0.25, inplace=False)\n",
              "    (11): Flatten(start_dim=1, end_dim=-1)\n",
              "    (12): Linear(in_features=576, out_features=64, bias=True)\n",
              "    (13): ReLU()\n",
              "    (14): Linear(in_features=64, out_features=10, bias=True)\n",
              "  )\n",
              ")>"
            ]
          },
          "metadata": {
            "tags": []
          },
          "execution_count": 232
        }
      ]
    },
    {
      "cell_type": "markdown",
      "metadata": {
        "id": "5ohn6-2dMAdy"
      },
      "source": [
        "Define Optimizer, Hyperparameters and Loss function\n",
        "- **Learning Rate Scheduler**: use a learning rate scheduler, which will change the learning rate after every batch of training\n",
        "Learn more: https://sgugger.github.io/the-1cycle-policy.html\n",
        "- **Weight Decay**: regularization technique, prevent weight from exceeding limit by adding additional term to the loss function\n",
        "Learn more: https://towardsdatascience.com/this-thing-called-weight-decay-a7cd4bcfccab\n",
        "- **Gradient clipping**: limit the values of gradients to a small range\n",
        "Learn more: https://towardsdatascience.com/what-is-gradient-clipping-b8e815cdfb48"
      ]
    },
    {
      "cell_type": "code",
      "metadata": {
        "id": "D-pgADbdMG-R"
      },
      "source": [
        "# hyperparameters\n",
        "max_lr = 0.01\n",
        "grad_clip = 0.1\n",
        "weight_decay = 1e-4\n",
        "epochs = 12\n",
        "\n",
        "# define adam optimizer\n",
        "optimizer = torch.optim.Adam(cnn_model.parameters(), \n",
        "                          max_lr, weight_decay=weight_decay)\n",
        "            \n",
        "loss_function = nn.CrossEntropyLoss()\n",
        "\n",
        "# setting an learning rate scheduler\n",
        "lr_scheduler = torch.optim.lr_scheduler.OneCycleLR(optimizer, max_lr, \n",
        "                      epochs, steps_per_epochs=len(train_dataloader))"
      ],
      "execution_count": null,
      "outputs": []
    },
    {
      "cell_type": "markdown",
      "metadata": {
        "id": "oa4X0NauMlWs"
      },
      "source": [
        "Checking device"
      ]
    },
    {
      "cell_type": "code",
      "metadata": {
        "id": "68K0WbgZMkrI"
      },
      "source": [
        "device = 'cuda' if torch.cuda.is_available() else 'cpu'"
      ],
      "execution_count": null,
      "outputs": []
    },
    {
      "cell_type": "code",
      "metadata": {
        "colab": {
          "base_uri": "https://localhost:8080/"
        },
        "id": "9ZN9sAftNCfr",
        "outputId": "013f286d-164e-451d-92b5-61914bdce311"
      },
      "source": [
        "cnn_model.to(device)"
      ],
      "execution_count": null,
      "outputs": [
        {
          "output_type": "execute_result",
          "data": {
            "text/plain": [
              "Net(\n",
              "  (cnn_layers): Sequential(\n",
              "    (0): Conv2d(1, 4, kernel_size=(3, 3), stride=(1, 1), padding=(1, 1))\n",
              "    (1): BatchNorm2d(4, eps=1e-05, momentum=0.1, affine=True, track_running_stats=True)\n",
              "    (2): ReLU()\n",
              "    (3): Conv2d(4, 64, kernel_size=(3, 3), stride=(1, 1), padding=(1, 1))\n",
              "    (4): ReLU()\n",
              "    (5): MaxPool2d(kernel_size=2, stride=2, padding=0, dilation=1, ceil_mode=False)\n",
              "    (6): Conv2d(64, 64, kernel_size=(2, 2), stride=(1, 1), padding=(1, 1))\n",
              "    (7): ReLU()\n",
              "    (8): MaxPool2d(kernel_size=2, stride=2, padding=0, dilation=1, ceil_mode=False)\n",
              "    (9): Conv2d(64, 16, kernel_size=(2, 2), stride=(1, 1))\n",
              "    (10): Dropout2d(p=0.25, inplace=False)\n",
              "    (11): Flatten(start_dim=1, end_dim=-1)\n",
              "    (12): Linear(in_features=576, out_features=64, bias=True)\n",
              "    (13): ReLU()\n",
              "    (14): Linear(in_features=64, out_features=10, bias=True)\n",
              "  )\n",
              ")"
            ]
          },
          "metadata": {
            "tags": []
          },
          "execution_count": 235
        }
      ]
    },
    {
      "cell_type": "markdown",
      "metadata": {
        "id": "vbH5gQXNOCCI"
      },
      "source": [
        "Training Process"
      ]
    },
    {
      "cell_type": "code",
      "metadata": {
        "id": "rUQ5PRWQNpzV"
      },
      "source": [
        "# training function\n",
        "def fit(dataloader, model, loss_function, optimizer):\n",
        "  data_size = len(dataloader.dataset)\n",
        "  num_batches = len(dataloader)\n",
        "  train_loss, correct = 0, 0\n",
        "  lrs = [] # keep track of used learning rates\n",
        "\n",
        "  for batch, (features, labels) in enumerate(dataloader):\n",
        "    # backpropagation\n",
        "    optimizer.zero_grad() # reset grad\n",
        "    \n",
        "    pred = model(features) # predict on features\n",
        "    # compute the loss\n",
        "    loss = loss_function(pred, labels)\n",
        "\n",
        "    # apply gradient clipping\n",
        "    nn.utils.clip_grad_value_(model.parameters(), grad_clip)\n",
        "\n",
        "    # geting train_loss and correct answers\n",
        "    train_loss += loss.item()\n",
        "    correct += (pred.argmax(1)==labels).type(torch.float).sum().item()\n",
        "\n",
        "    \n",
        "    # compute derivative\n",
        "    loss.backward() \n",
        "    optimizer.step()\n",
        "\n",
        "    # record and update lr scheduler\n",
        "    lrs.append(get_lr(optimizer))\n",
        "    lr_scheduler.step()\n",
        "\n",
        "\n",
        "    if batch % 150 == 0: # print the current dataset every 150 mini-batches\n",
        "      loss, cur_batch = loss.item(), (batch+1) * len(features)\n",
        "      print(f\"Train Loss: {loss:>7f}  [{cur_batch:>5d}/{data_size:>5d}]\")\n",
        "\n",
        "  train_loss = train_loss / num_batches\n",
        "  accuracy = correct / data_size * 100\n",
        "\n",
        "  return train_loss, accuracy, lrs\n",
        "\n",
        "# valid function on test set\n",
        "def valid(dataloader, model, loss_function):\n",
        "    data_size = len(dataloader.dataset)\n",
        "    num_batches = len(dataloader)\n",
        "    test_loss, correct = 0, 0\n",
        "\n",
        "    with torch.no_grad(): # Disabling Gradient Tracking\n",
        "      for batch, (features, labels) in enumerate(dataloader):\n",
        "        pred = model(features)\n",
        "        # apply loss function\n",
        "        test_loss += loss_function(pred, labels).item()\n",
        "        # compute number of correct answer\n",
        "        correct += (pred.argmax(1)==labels).type(torch.float).sum().item()\n",
        "        \n",
        "    \n",
        "    # compute average loss and accuracy\n",
        "    test_loss = test_loss / num_batches\n",
        "    accuracy = correct / data_size * 100 # percent of acc\n",
        "\n",
        "    print(f'Accuracy: {accuracy:>0.1f}%, Average Test Loss: {test_loss:>8f} \\n')\n",
        "     \n",
        "    return test_loss, accuracy"
      ],
      "execution_count": null,
      "outputs": []
    },
    {
      "cell_type": "code",
      "metadata": {
        "colab": {
          "base_uri": "https://localhost:8080/"
        },
        "id": "LWoq39fEPcnG",
        "outputId": "9f29f0ed-b696-4686-816a-d295ffbc5f11"
      },
      "source": [
        "history = {'val loss' : [], 'val acc': [], 'train loss': [], 'train acc': []}\n",
        "for epoch in range(epochs):\n",
        "  print(f'Epoch {epoch+1}\\n-------------------------------')\n",
        "  train_loss, train_acc = fit(train_dataloader, cnn_model, loss_function, optimizer)\n",
        "  test_loss, test_acc = valid(test_dataloader, cnn_model, loss_function)\n",
        "  history['val loss'].append(test_loss)\n",
        "  history['val acc'].append(test_acc)\n",
        "  history['train loss'].append(train_loss)\n",
        "  history['train acc'].append(train_acc)"
      ],
      "execution_count": null,
      "outputs": [
        {
          "output_type": "stream",
          "text": [
            "Epoch 1\n",
            "-------------------------------\n",
            "Train Loss: 2.302414  [   64/60000]\n",
            "Train Loss: 0.928816  [ 9664/60000]\n",
            "Train Loss: 0.578070  [19264/60000]\n",
            "Train Loss: 0.694910  [28864/60000]\n",
            "Train Loss: 0.649428  [38464/60000]\n",
            "Train Loss: 0.516781  [48064/60000]\n",
            "Train Loss: 0.388054  [57664/60000]\n",
            "Accuracy: 80.8%, Average Test Loss: 0.526238 \n",
            "\n",
            "Epoch 2\n",
            "-------------------------------\n",
            "Train Loss: 0.618342  [   64/60000]\n",
            "Train Loss: 0.260554  [ 9664/60000]\n",
            "Train Loss: 0.453352  [19264/60000]\n",
            "Train Loss: 0.624965  [28864/60000]\n",
            "Train Loss: 0.561555  [38464/60000]\n",
            "Train Loss: 0.338181  [48064/60000]\n",
            "Train Loss: 0.377954  [57664/60000]\n",
            "Accuracy: 82.9%, Average Test Loss: 0.469649 \n",
            "\n",
            "Epoch 3\n",
            "-------------------------------\n",
            "Train Loss: 0.491724  [   64/60000]\n",
            "Train Loss: 0.349231  [ 9664/60000]\n",
            "Train Loss: 0.265805  [19264/60000]\n",
            "Train Loss: 0.429011  [28864/60000]\n",
            "Train Loss: 0.382899  [38464/60000]\n",
            "Train Loss: 0.553368  [48064/60000]\n",
            "Train Loss: 0.428290  [57664/60000]\n",
            "Accuracy: 84.5%, Average Test Loss: 0.428238 \n",
            "\n",
            "Epoch 4\n",
            "-------------------------------\n",
            "Train Loss: 0.435628  [   64/60000]\n",
            "Train Loss: 0.394487  [ 9664/60000]\n",
            "Train Loss: 0.434992  [19264/60000]\n",
            "Train Loss: 0.517330  [28864/60000]\n",
            "Train Loss: 0.533198  [38464/60000]\n",
            "Train Loss: 0.417682  [48064/60000]\n",
            "Train Loss: 0.197534  [57664/60000]\n",
            "Accuracy: 85.5%, Average Test Loss: 0.404120 \n",
            "\n",
            "Epoch 5\n",
            "-------------------------------\n",
            "Train Loss: 0.323606  [   64/60000]\n",
            "Train Loss: 0.335477  [ 9664/60000]\n",
            "Train Loss: 0.625159  [19264/60000]\n",
            "Train Loss: 0.349800  [28864/60000]\n",
            "Train Loss: 0.408191  [38464/60000]\n",
            "Train Loss: 0.476456  [48064/60000]\n",
            "Train Loss: 0.219918  [57664/60000]\n",
            "Accuracy: 86.1%, Average Test Loss: 0.385856 \n",
            "\n",
            "Epoch 6\n",
            "-------------------------------\n",
            "Train Loss: 0.302532  [   64/60000]\n",
            "Train Loss: 0.307345  [ 9664/60000]\n",
            "Train Loss: 0.378257  [19264/60000]\n",
            "Train Loss: 0.608373  [28864/60000]\n",
            "Train Loss: 0.289053  [38464/60000]\n",
            "Train Loss: 0.339128  [48064/60000]\n",
            "Train Loss: 0.409628  [57664/60000]\n",
            "Accuracy: 86.6%, Average Test Loss: 0.370690 \n",
            "\n",
            "Epoch 7\n",
            "-------------------------------\n",
            "Train Loss: 0.276528  [   64/60000]\n",
            "Train Loss: 0.294212  [ 9664/60000]\n",
            "Train Loss: 0.299845  [19264/60000]\n",
            "Train Loss: 0.267713  [28864/60000]\n",
            "Train Loss: 0.284982  [38464/60000]\n",
            "Train Loss: 0.379733  [48064/60000]\n",
            "Train Loss: 0.361007  [57664/60000]\n",
            "Accuracy: 87.2%, Average Test Loss: 0.363051 \n",
            "\n",
            "Epoch 8\n",
            "-------------------------------\n",
            "Train Loss: 0.501743  [   64/60000]\n",
            "Train Loss: 0.249446  [ 9664/60000]\n",
            "Train Loss: 0.340965  [19264/60000]\n",
            "Train Loss: 0.449875  [28864/60000]\n",
            "Train Loss: 0.262567  [38464/60000]\n",
            "Train Loss: 0.231469  [48064/60000]\n",
            "Train Loss: 0.270813  [57664/60000]\n",
            "Accuracy: 87.5%, Average Test Loss: 0.354908 \n",
            "\n",
            "Epoch 9\n",
            "-------------------------------\n",
            "Train Loss: 0.246248  [   64/60000]\n",
            "Train Loss: 0.321701  [ 9664/60000]\n",
            "Train Loss: 0.254674  [19264/60000]\n",
            "Train Loss: 0.485175  [28864/60000]\n",
            "Train Loss: 0.188950  [38464/60000]\n",
            "Train Loss: 0.382849  [48064/60000]\n",
            "Train Loss: 0.385813  [57664/60000]\n",
            "Accuracy: 87.5%, Average Test Loss: 0.350289 \n",
            "\n",
            "Epoch 10\n",
            "-------------------------------\n",
            "Train Loss: 0.302670  [   64/60000]\n",
            "Train Loss: 0.294236  [ 9664/60000]\n",
            "Train Loss: 0.416850  [19264/60000]\n",
            "Train Loss: 0.266634  [28864/60000]\n",
            "Train Loss: 0.260014  [38464/60000]\n",
            "Train Loss: 0.251323  [48064/60000]\n",
            "Train Loss: 0.400926  [57664/60000]\n",
            "Accuracy: 88.1%, Average Test Loss: 0.336218 \n",
            "\n",
            "Epoch 11\n",
            "-------------------------------\n",
            "Train Loss: 0.265361  [   64/60000]\n",
            "Train Loss: 0.220885  [ 9664/60000]\n",
            "Train Loss: 0.376853  [19264/60000]\n",
            "Train Loss: 0.369215  [28864/60000]\n",
            "Train Loss: 0.144750  [38464/60000]\n",
            "Train Loss: 0.300658  [48064/60000]\n",
            "Train Loss: 0.288105  [57664/60000]\n",
            "Accuracy: 87.7%, Average Test Loss: 0.341640 \n",
            "\n",
            "Epoch 12\n",
            "-------------------------------\n",
            "Train Loss: 0.302455  [   64/60000]\n",
            "Train Loss: 0.295148  [ 9664/60000]\n",
            "Train Loss: 0.321318  [19264/60000]\n",
            "Train Loss: 0.175376  [28864/60000]\n",
            "Train Loss: 0.183564  [38464/60000]\n",
            "Train Loss: 0.264321  [48064/60000]\n",
            "Train Loss: 0.210204  [57664/60000]\n",
            "Accuracy: 88.7%, Average Test Loss: 0.321518 \n",
            "\n"
          ],
          "name": "stdout"
        }
      ]
    },
    {
      "cell_type": "markdown",
      "metadata": {
        "id": "l188Q8oty0Es"
      },
      "source": [
        "Visualize Result"
      ]
    },
    {
      "cell_type": "code",
      "metadata": {
        "colab": {
          "base_uri": "https://localhost:8080/",
          "height": 531
        },
        "id": "bnyBqrV11Hqp",
        "outputId": "160d36e0-69d5-4c57-b91e-b542b6504c8b"
      },
      "source": [
        "val_loss = history['val loss']\n",
        "val_acc = history['val acc']\n",
        "\n",
        "train_loss = history['train loss']\n",
        "train_acc = history['train acc']\n",
        "\n",
        "epoch_range = range(epochs)\n",
        "\n",
        "plt.figure(figsize=(8,8))\n",
        "\n",
        "# Loss\n",
        "plt.subplot(1, 2, 1)\n",
        "plt.title('Validation and Training Loss')\n",
        "plt.plot(epoch_range, val_loss)\n",
        "plt.plot(epoch_range, train_loss)\n",
        "plt.ylabel('Loss')\n",
        "plt.xlabel('epochs')\n",
        "plt.legend(['Validation', 'Training'],loc='lower left')\n",
        "\n",
        "# Accuracy\n",
        "plt.subplot(1, 2, 2)\n",
        "plt.title('Validation and Training Accuracy')\n",
        "plt.plot(epoch_range, val_acc)\n",
        "plt.plot(epoch_range, train_acc)\n",
        "plt.ylabel('Accuracy')\n",
        "plt.xlabel('epochs')\n",
        "plt.legend(['Validation', 'Training'], loc='upper left')"
      ],
      "execution_count": null,
      "outputs": [
        {
          "output_type": "execute_result",
          "data": {
            "text/plain": [
              "<matplotlib.legend.Legend at 0x7f8f75269e50>"
            ]
          },
          "metadata": {
            "tags": []
          },
          "execution_count": 238
        },
        {
          "output_type": "display_data",
          "data": {
            "image/png": "[encoded data removed]",
            "text/plain": [
              "<Figure size 576x576 with 2 Axes>"
            ]
          },
          "metadata": {
            "tags": [],
            "needs_background": "light"
          }
        }
      ]
    },
    {
      "cell_type": "markdown",
      "metadata": {
        "id": "CLxHauuwVrP5"
      },
      "source": [
        "###Save and Load the Model"
      ]
    },
    {
      "cell_type": "code",
      "metadata": {
        "id": "HesJt_xAVnLQ"
      },
      "source": [
        "torch.save(model.state_dict(), 'mode.pth')\n",
        "models.load_state_dict(torch.load('model.pth'))\n",
        "model.eval()"
      ],
      "execution_count": null,
      "outputs": []
    }
  ]
}