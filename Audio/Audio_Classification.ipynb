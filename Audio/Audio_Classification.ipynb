{
  "nbformat": 4,
  "nbformat_minor": 0,
  "metadata": {
    "colab": {
      "name": "Audio_Classification.ipynb",
      "provenance": [],
      "mount_file_id": "1_bjef1X5NV5AI7m3G5C7XYuzXEncxAbg",
      "authorship_tag": "ABX9TyNOVkxkxzfLKNdhRcmt/osb",
      "include_colab_link": true
    },
    "kernelspec": {
      "name": "python3",
      "display_name": "Python 3"
    },
    "language_info": {
      "name": "python"
    }
  },
  "cells": [
    {
      "cell_type": "markdown",
      "metadata": {
        "id": "view-in-github",
        "colab_type": "text"
      },
      "source": [
        "<a href=\"https://colab.research.google.com/github/Satorumi/Machine-Learning/blob/main/Audio/Audio_Classification.ipynb\" target=\"_parent\"><img src=\"https://colab.research.google.com/assets/colab-badge.svg\" alt=\"Open In Colab\"/></a>"
      ]
    },
    {
      "cell_type": "markdown",
      "metadata": {
        "id": "xp5FM6YM8Dbx"
      },
      "source": [
        "# Audio classification\n",
        "### Types of audio classification\n",
        "**Acoustic data classification:** \n",
        "- Classification that identifies where an audio signal was recorded (e.g. restaurants, schools, homes, offices, streets, etc. \n",
        "- Use of acoustic data classification inbuilding and maintaining of sound libraries for audio multimedia, ecosystem monitoring.\n",
        "\n",
        "**Environmental sound classification:** \n",
        "- For example, recognizing urban sound samples such as car horns, roadwork, sirens, human voices, etc. This is used in security systems to detect sounds like breaking glass.\n",
        "\n",
        "**Music classification:** \n",
        "- Classifying music based on factors such as genre or instruments played. - Organizing audio libraries by genre, improving recommendation algorithms, and discovering trends and listener preferences.\n",
        "\n",
        "**Natural language utterance classification:** \n",
        "- This is the classification of natural language recordings based on language spoken, dialect, semantics, or other language features, classification of human speech. \n",
        "- Chatbots and virtual assistants, machine translation and text to speech applications."
      ]
    },
    {
      "cell_type": "code",
      "metadata": {
        "id": "79LXgvXNu1ET"
      },
      "source": [
        "import pandas as pd\n",
        "import numpy as np\n",
        "import librosa.display as ld\n",
        "import librosa"
      ],
      "execution_count": 1,
      "outputs": []
    },
    {
      "cell_type": "code",
      "metadata": {
        "id": "bL2EmlPmzvsf"
      },
      "source": [
        "import matplotlib.pyplot as plt\n",
        "import seaborn as sns\n",
        "\n",
        "palette = sns.cubehelix_palette(start=.5, rot=-.5)\n",
        "sns.set_palette(palette=palette)\n",
        "sns.set_style(\"whitegrid\")\n",
        "plt.rcParams['figure.figsize'] = (15, 7)\n",
        "%matplotlib inline"
      ],
      "execution_count": 2,
      "outputs": []
    },
    {
      "cell_type": "code",
      "metadata": {
        "id": "EFA5KYu97o7I",
        "colab": {
          "base_uri": "https://localhost:8080/",
          "height": 206
        },
        "outputId": "7b8aa8fe-0a89-4310-f082-a17ccb128ea1"
      },
      "source": [
        "dataset = pd.read_pickle('/content/drive/MyDrive/analyzed_esc50.pkl')\n",
        "dataset.head()"
      ],
      "execution_count": 3,
      "outputs": [
        {
          "output_type": "execute_result",
          "data": {
            "text/html": [
              "<div>\n",
              "<style scoped>\n",
              "    .dataframe tbody tr th:only-of-type {\n",
              "        vertical-align: middle;\n",
              "    }\n",
              "\n",
              "    .dataframe tbody tr th {\n",
              "        vertical-align: top;\n",
              "    }\n",
              "\n",
              "    .dataframe thead th {\n",
              "        text-align: right;\n",
              "    }\n",
              "</style>\n",
              "<table border=\"1\" class=\"dataframe\">\n",
              "  <thead>\n",
              "    <tr style=\"text-align: right;\">\n",
              "      <th></th>\n",
              "      <th>filename</th>\n",
              "      <th>category</th>\n",
              "      <th>audio</th>\n",
              "    </tr>\n",
              "  </thead>\n",
              "  <tbody>\n",
              "    <tr>\n",
              "      <th>0</th>\n",
              "      <td>1-100032-A-0.wav</td>\n",
              "      <td>dog</td>\n",
              "      <td>[0.0, 0.0, 0.0, 0.0, 0.0, 0.0, 0.0, 0.0, 0.0, ...</td>\n",
              "    </tr>\n",
              "    <tr>\n",
              "      <th>1</th>\n",
              "      <td>1-100038-A-14.wav</td>\n",
              "      <td>chirping_birds</td>\n",
              "      <td>[-0.029419238, -0.13688716, -0.08337966, -0.03...</td>\n",
              "    </tr>\n",
              "    <tr>\n",
              "      <th>2</th>\n",
              "      <td>1-100210-A-36.wav</td>\n",
              "      <td>vacuum_cleaner</td>\n",
              "      <td>[-0.006616091, -0.011910033, -0.0030402767, -0...</td>\n",
              "    </tr>\n",
              "    <tr>\n",
              "      <th>3</th>\n",
              "      <td>1-100210-B-36.wav</td>\n",
              "      <td>vacuum_cleaner</td>\n",
              "      <td>[0.37941363, 0.29618832, 0.17503375, 0.7082076...</td>\n",
              "    </tr>\n",
              "    <tr>\n",
              "      <th>4</th>\n",
              "      <td>1-101296-A-19.wav</td>\n",
              "      <td>thunderstorm</td>\n",
              "      <td>[-0.0003722518, -0.00077188, 0.0002965101, 0.0...</td>\n",
              "    </tr>\n",
              "  </tbody>\n",
              "</table>\n",
              "</div>"
            ],
            "text/plain": [
              "            filename  ...                                              audio\n",
              "0   1-100032-A-0.wav  ...  [0.0, 0.0, 0.0, 0.0, 0.0, 0.0, 0.0, 0.0, 0.0, ...\n",
              "1  1-100038-A-14.wav  ...  [-0.029419238, -0.13688716, -0.08337966, -0.03...\n",
              "2  1-100210-A-36.wav  ...  [-0.006616091, -0.011910033, -0.0030402767, -0...\n",
              "3  1-100210-B-36.wav  ...  [0.37941363, 0.29618832, 0.17503375, 0.7082076...\n",
              "4  1-101296-A-19.wav  ...  [-0.0003722518, -0.00077188, 0.0002965101, 0.0...\n",
              "\n",
              "[5 rows x 3 columns]"
            ]
          },
          "metadata": {},
          "execution_count": 3
        }
      ]
    },
    {
      "cell_type": "code",
      "metadata": {
        "id": "Nb1-zawf7vR9",
        "colab": {
          "base_uri": "https://localhost:8080/"
        },
        "outputId": "d933a778-a94d-40cd-9cfe-d5163bbdee61"
      },
      "source": [
        "dataset.info()"
      ],
      "execution_count": 4,
      "outputs": [
        {
          "output_type": "stream",
          "name": "stdout",
          "text": [
            "<class 'pandas.core.frame.DataFrame'>\n",
            "RangeIndex: 2000 entries, 0 to 1999\n",
            "Data columns (total 3 columns):\n",
            " #   Column    Non-Null Count  Dtype \n",
            "---  ------    --------------  ----- \n",
            " 0   filename  2000 non-null   object\n",
            " 1   category  2000 non-null   object\n",
            " 2   audio     2000 non-null   object\n",
            "dtypes: object(3)\n",
            "memory usage: 47.0+ KB\n"
          ]
        }
      ]
    },
    {
      "cell_type": "code",
      "metadata": {
        "colab": {
          "base_uri": "https://localhost:8080/"
        },
        "id": "6Yq_Zy6Ow3i6",
        "outputId": "d9fc0629-0bb1-4fab-a64e-453ee0a7c7d6"
      },
      "source": [
        "dataset.audio[0]"
      ],
      "execution_count": 5,
      "outputs": [
        {
          "output_type": "execute_result",
          "data": {
            "text/plain": [
              "array([0., 0., 0., ..., 0., 0., 0.], dtype=float32)"
            ]
          },
          "metadata": {},
          "execution_count": 5
        }
      ]
    },
    {
      "cell_type": "markdown",
      "metadata": {
        "id": "T27KPu5575BH"
      },
      "source": [
        "### Data Preperation"
      ]
    },
    {
      "cell_type": "code",
      "metadata": {
        "id": "Ie7JadnsF32b",
        "colab": {
          "base_uri": "https://localhost:8080/"
        },
        "outputId": "2b36125f-e04f-41bb-ff1d-37232078ff38"
      },
      "source": [
        "classes = dataset['category'].unique()\n",
        "len(classes)"
      ],
      "execution_count": 6,
      "outputs": [
        {
          "output_type": "execute_result",
          "data": {
            "text/plain": [
              "50"
            ]
          },
          "metadata": {},
          "execution_count": 6
        }
      ]
    },
    {
      "cell_type": "markdown",
      "metadata": {
        "id": "5Ag559wWr5DA"
      },
      "source": [
        "#### Extracting MFCCs for each audio\n",
        "> Apply Normalization"
      ]
    },
    {
      "cell_type": "code",
      "metadata": {
        "id": "FA9-RjQsgheS"
      },
      "source": [
        "from sklearn.preprocessing import minmax_scale as normalize"
      ],
      "execution_count": 7,
      "outputs": []
    },
    {
      "cell_type": "code",
      "metadata": {
        "colab": {
          "base_uri": "https://localhost:8080/",
          "height": 295
        },
        "id": "tuQgC7qYh8-t",
        "outputId": "6f00289e-90d3-4cb0-c276-2e52b2e43403"
      },
      "source": [
        "f, ax = plt.subplots()\n",
        "\n",
        "mfccs = librosa.feature.mfcc(dataset.audio[8], n_mfcc=32)\n",
        "scaled_mfccs = normalize(mfccs, axis=1)\n",
        "ld.specshow(scaled_mfccs, x_axis='time', ax=ax)\n",
        "ax.set_title(f'Scaled MFFCCs {scaled_mfccs.shape}');"
      ],
      "execution_count": 8,
      "outputs": [
        {
          "output_type": "display_data",
          "data": {
            "image/png": "[encoded data removed]",
            "text/plain": [
              "<Figure size 432x288 with 1 Axes>"
            ]
          },
          "metadata": {
            "needs_background": "light"
          }
        }
      ]
    },
    {
      "cell_type": "code",
      "metadata": {
        "id": "HeOk2rA1boCv"
      },
      "source": [
        "features_config = {'sampling_rate': 22050,\n",
        "                   'n_mfcc': 32,\n",
        "                   'audio_length': 22050 * 5,\n",
        "                   'mfcc_shape': (32, 216)\n",
        "                   }"
      ],
      "execution_count": 9,
      "outputs": []
    },
    {
      "cell_type": "code",
      "metadata": {
        "id": "KDln0lRkO-I7"
      },
      "source": [
        "X = np.empty(shape=(dataset.shape[0], *features_config['mfcc_shape']))\n",
        "for i, y in enumerate(dataset.audio.values):\n",
        "  x = librosa.feature.mfcc(y, features_config['sampling_rate'], n_mfcc=features_config['n_mfcc'])\n",
        "  x = normalize(x)\n",
        "  X[i] = x"
      ],
      "execution_count": 10,
      "outputs": []
    },
    {
      "cell_type": "code",
      "metadata": {
        "id": "NN1gEWy-RaiN"
      },
      "source": [
        "X = X.reshape((*X.shape, 1))"
      ],
      "execution_count": 11,
      "outputs": []
    },
    {
      "cell_type": "markdown",
      "metadata": {
        "id": "Toykqx1V99sw"
      },
      "source": [
        "#### Encoding classes"
      ]
    },
    {
      "cell_type": "code",
      "metadata": {
        "id": "i_hhvRf7-ID-"
      },
      "source": [
        "from sklearn.preprocessing import LabelEncoder"
      ],
      "execution_count": 12,
      "outputs": []
    },
    {
      "cell_type": "code",
      "metadata": {
        "id": "5sLjjulj-D_B",
        "colab": {
          "base_uri": "https://localhost:8080/"
        },
        "outputId": "510d6db4-b527-41c1-ec82-9c579343bd72"
      },
      "source": [
        "encoder = LabelEncoder()\n",
        "y = encoder.fit_transform(dataset['category'].values)\n",
        "y.shape"
      ],
      "execution_count": 13,
      "outputs": [
        {
          "output_type": "execute_result",
          "data": {
            "text/plain": [
              "(2000,)"
            ]
          },
          "metadata": {},
          "execution_count": 13
        }
      ]
    },
    {
      "cell_type": "markdown",
      "metadata": {
        "id": "CjayGpl679e1"
      },
      "source": [
        "#### Data Splitting"
      ]
    },
    {
      "cell_type": "code",
      "metadata": {
        "id": "vaWt8f0G96bT"
      },
      "source": [
        "from sklearn.model_selection import train_test_split"
      ],
      "execution_count": 14,
      "outputs": []
    },
    {
      "cell_type": "code",
      "metadata": {
        "id": "HFfDrCJD7836",
        "colab": {
          "base_uri": "https://localhost:8080/"
        },
        "outputId": "def0dcd9-0677-4fd7-cd20-332841da4527"
      },
      "source": [
        "X_train, X_val, y_train, y_val = train_test_split(X, y, test_size=.15, random_state=42)\n",
        "\n",
        "X_train.shape, y_train.shape"
      ],
      "execution_count": 15,
      "outputs": [
        {
          "output_type": "execute_result",
          "data": {
            "text/plain": [
              "((1700, 32, 216, 1), (1700,))"
            ]
          },
          "metadata": {},
          "execution_count": 15
        }
      ]
    },
    {
      "cell_type": "markdown",
      "metadata": {
        "id": "Ob2bIMloFzfZ"
      },
      "source": [
        "### Model "
      ]
    },
    {
      "cell_type": "code",
      "metadata": {
        "id": "A9Ftf9W9GGSE"
      },
      "source": [
        "import tensorflow as tf\n",
        "from tensorflow import keras\n",
        "from tensorflow.keras.layers import *"
      ],
      "execution_count": 16,
      "outputs": []
    },
    {
      "cell_type": "markdown",
      "metadata": {
        "id": "omV4fTZxe0FK"
      },
      "source": [
        "#### 2D Convolutional Network"
      ]
    },
    {
      "cell_type": "code",
      "metadata": {
        "id": "BJfegXnNF16k"
      },
      "source": [
        "input_shape = X.shape[1:]\n",
        "\n",
        "model = keras.Sequential([\n",
        "                  Input(shape=input_shape),\n",
        "\n",
        "                  Conv2D(16, kernel_size=(3,3), padding='same'),\n",
        "                  BatchNormalization(),\n",
        "                  Activation('relu'),\n",
        "                  MaxPool2D(pool_size=(2,2)), # output 16 x 108 x 16\n",
        "\n",
        "                  Conv2D(32, kernel_size=(3, 3), padding='same'),\n",
        "                  BatchNormalization(),\n",
        "                  Activation('relu'),\n",
        "                  MaxPool2D(pool_size=(2,2)), # output 8 x 56 x 32\n",
        "\n",
        "                  Conv2D(64, kernel_size=(3, 3), padding='same'),\n",
        "                  BatchNormalization(),\n",
        "                  Activation('relu'),\n",
        "                  MaxPool2D(pool_size=(2,2)), # output 4 x 28 x 64\n",
        "\n",
        "                  Conv2D(128, kernel_size=(3, 3), padding='same'),\n",
        "                  BatchNormalization(),\n",
        "                  Activation('relu'),\n",
        "                  MaxPool2D(pool_size=(2,2)), # output 2 x 14 x 128\n",
        "\n",
        "                  Flatten(),\n",
        "                  Dense(1024, activation='relu'),\n",
        "                  Dense(512, activation='relu'),\n",
        "                  Dense(len(classes), activation='softmax')\n",
        "  ])"
      ],
      "execution_count": 23,
      "outputs": []
    },
    {
      "cell_type": "code",
      "metadata": {
        "id": "TW7YJojGVCyY"
      },
      "source": [
        "lr = 3e-5\n",
        "loss = 'sparse_categorical_crossentropy'\n",
        "metrics = ['accuracy']\n",
        "model.compile(optimizer=keras.optimizers.Adam(learning_rate=lr), loss=loss, metrics=metrics)"
      ],
      "execution_count": 24,
      "outputs": []
    },
    {
      "cell_type": "code",
      "metadata": {
        "id": "92YT7I6YVWfy",
        "colab": {
          "base_uri": "https://localhost:8080/"
        },
        "outputId": "70aa2e9b-0fce-435d-94ae-2c1aaeb2f1c1"
      },
      "source": [
        "epochs = 12\n",
        "batch_size = 12\n",
        "tf.config.run_functions_eagerly(True)\n",
        "history = model.fit(X_train, y_train, batch_size=batch_size, epochs=epochs, validation_data=(X_val, y_val))"
      ],
      "execution_count": 25,
      "outputs": [
        {
          "output_type": "stream",
          "name": "stderr",
          "text": [
            "/usr/local/lib/python3.7/dist-packages/tensorflow/python/data/ops/dataset_ops.py:4212: UserWarning: Even though the `tf.config.experimental_run_functions_eagerly` option is set, this option does not apply to tf.data functions. To force eager execution of tf.data functions, please use `tf.data.experimental.enable_debug_mode()`.\n",
            "  \"Even though the `tf.config.experimental_run_functions_eagerly` \"\n"
          ]
        },
        {
          "output_type": "stream",
          "name": "stdout",
          "text": [
            "Epoch 1/12\n",
            "142/142 [==============================] - 31s 219ms/step - loss: 3.6361 - accuracy: 0.0735 - val_loss: 3.9218 - val_accuracy: 0.0200\n",
            "Epoch 2/12\n",
            "142/142 [==============================] - 31s 217ms/step - loss: 3.0444 - accuracy: 0.1935 - val_loss: 3.9575 - val_accuracy: 0.0267\n",
            "Epoch 3/12\n",
            "142/142 [==============================] - 31s 218ms/step - loss: 2.7356 - accuracy: 0.2629 - val_loss: 3.6898 - val_accuracy: 0.0500\n",
            "Epoch 4/12\n",
            "142/142 [==============================] - 32s 226ms/step - loss: 2.4603 - accuracy: 0.3453 - val_loss: 3.0826 - val_accuracy: 0.1533\n",
            "Epoch 5/12\n",
            "142/142 [==============================] - 32s 226ms/step - loss: 2.2068 - accuracy: 0.3900 - val_loss: 2.7238 - val_accuracy: 0.2500\n",
            "Epoch 6/12\n",
            "142/142 [==============================] - 32s 228ms/step - loss: 1.9794 - accuracy: 0.4582 - val_loss: 2.5656 - val_accuracy: 0.2833\n",
            "Epoch 7/12\n",
            "142/142 [==============================] - 31s 218ms/step - loss: 1.7959 - accuracy: 0.5182 - val_loss: 2.4427 - val_accuracy: 0.3200\n",
            "Epoch 8/12\n",
            "142/142 [==============================] - 32s 226ms/step - loss: 1.6286 - accuracy: 0.5618 - val_loss: 2.3812 - val_accuracy: 0.3333\n",
            "Epoch 9/12\n",
            "142/142 [==============================] - 32s 227ms/step - loss: 1.4685 - accuracy: 0.6153 - val_loss: 2.2773 - val_accuracy: 0.3667\n",
            "Epoch 10/12\n",
            "142/142 [==============================] - 32s 226ms/step - loss: 1.3450 - accuracy: 0.6506 - val_loss: 2.2311 - val_accuracy: 0.4000\n",
            "Epoch 11/12\n",
            "142/142 [==============================] - 32s 227ms/step - loss: 1.2194 - accuracy: 0.6965 - val_loss: 2.3103 - val_accuracy: 0.3533\n",
            "Epoch 12/12\n",
            "142/142 [==============================] - 32s 225ms/step - loss: 1.1270 - accuracy: 0.7141 - val_loss: 2.1497 - val_accuracy: 0.3700\n"
          ]
        }
      ]
    },
    {
      "cell_type": "code",
      "metadata": {
        "id": "PorB8Ntx-nrI"
      },
      "source": [
        "def visualize_performance(history, metric):\n",
        "  plt.title(f'Model {metric}')\n",
        "  plt.plot(history[metric])\n",
        "  plt.plot(history['val_'+ metric], '')\n",
        "  plt.xlabel(\"Epochs\")\n",
        "  plt.ylabel(metric)\n",
        "  plt.legend(['train_' + metric, 'val_' + metric])\n",
        "  plt.title(f'Model {metric}')"
      ],
      "execution_count": 26,
      "outputs": []
    },
    {
      "cell_type": "code",
      "metadata": {
        "colab": {
          "base_uri": "https://localhost:8080/",
          "height": 513
        },
        "id": "us5L2vQa-4TV",
        "outputId": "c242fd61-9479-4d10-e09c-d85aac1f9416"
      },
      "source": [
        "plt.figure(figsize=(8, 8))\n",
        "plt.subplot(1, 2, 1)\n",
        "visualize_performance(history.history, 'loss')\n",
        "plt.subplot(1, 2, 2)\n",
        "visualize_performance(history.history, 'accuracy')"
      ],
      "execution_count": 28,
      "outputs": [
        {
          "output_type": "display_data",
          "data": {
            "image/png": "[encoded data removed]",
            "text/plain": [
              "<Figure size 576x576 with 2 Axes>"
            ]
          },
          "metadata": {
            "needs_background": "light"
          }
        }
      ]
    },
    {
      "cell_type": "code",
      "metadata": {
        "id": "eFcn-3wsVnrK"
      },
      "source": [
        "# https://www.kdnuggets.com/2020/02/audio-data-analysis-deep-learning-python-part-1.html"
      ],
      "execution_count": 29,
      "outputs": []
    }
  ]
}